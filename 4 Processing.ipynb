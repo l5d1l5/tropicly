{
 "cells": [
  {
   "cell_type": "markdown",
   "metadata": {},
   "source": [
    "# Processing"
   ]
  },
  {
   "cell_type": "markdown",
   "metadata": {},
   "source": [
    "## Preparation"
   ]
  },
  {
   "cell_type": "code",
   "execution_count": 2,
   "metadata": {
    "collapsed": true
   },
   "outputs": [],
   "source": [
    "import numpy as np\n",
    "from collections import namedtuple\n",
    "from src.decorators import benchmark\n",
    "from src.structures import DefaultOrderedDict"
   ]
  },
  {
   "cell_type": "markdown",
   "metadata": {},
   "source": [
    "## Spatial harmonization"
   ]
  },
  {
   "cell_type": "code",
   "execution_count": 53,
   "metadata": {},
   "outputs": [],
   "source": [
    "# TODO should it work inplace?\n",
    "def binary_jaccard(arr1, arr2, return_matrix=False):\n",
    "    \"\"\"\n",
    "    Calculates the jaccard index of two equal sized binary arrays or vectors.\n",
    "    If return_matrix is set to true the method provides the jaccard index\n",
    "    and the necessary calculation matrix as a named tuple.\n",
    "    \n",
    "    :param arr1: numpy.ndarray, list, tuple\n",
    "    :param arr2: numpy.ndarray, list, tuple\n",
    "    :param return_matrix: boolean, optional\n",
    "    :return: float OR (float, namedtuple)\n",
    "    \"\"\"\n",
    "    A, B = np.array(arr1, dtype=np.int8), np.array(arr2, dtype=np.int8)\n",
    "    \n",
    "    if np.sum(np.logical_or(A<0,A>1)) != 0 or np.sum(np.logical_or(B<0,B>1)) != 0:\n",
    "        raise ValueError('Attributes should contain only binary attributes!')\n",
    "  \n",
    "    C = A + B\n",
    "    a = (B - C) + B\n",
    "    b = (A - C) + A\n",
    "    \n",
    "    # Total number of attributes where A == 1 and B == 1\n",
    "    m11 = np.sum(C==2)\n",
    "    # Total number of attributes where A == 1 and B == 0\n",
    "    m10 = np.sum(a==-1)\n",
    "    # Total number of attributes where A == 0 and B == 1\n",
    "    m01 = np.sum(b==-1)\n",
    "    \n",
    "    jaccard = m11 / (m10 + m01 + m11)\n",
    "    \n",
    "    if return_matrix:\n",
    "        Matrix = namedtuple('Matrix', 'm11 m10 m01 m00')\n",
    "        return jaccard, Matrix(m11, m10, m01, 0)\n",
    "    return jaccard\n",
    "\n",
    "def simple_matching_coefficient(arr1, arr2, return_matrix=False):\n",
    "    \"\"\"\n",
    "    :param arr1: numpy.ndarray, list, tuple\n",
    "    :param arr2: numpy.ndarray, list, tuple\n",
    "    :param return_matrix: boolean, optional\n",
    "    :return: float OR (float, namedtuple)\n",
    "    \"\"\"\n",
    "    _, matrix = binary_jaccard(arr1, arr2, True)\n",
    "    A = np.array(arr1, dtype=np.int8)\n",
    "    \n",
    "    # Total number of attributes where A == 0 and B == 0\n",
    "    m00 = A.size - sum(matrix)\n",
    "    \n",
    "    smc = (matrix.m11 + m00) / A.size\n",
    "\n",
    "    if return_matrix:\n",
    "        matrix = matrix._replace(m00=m00)\n",
    "        return smc, matrix\n",
    "    return smc"
   ]
  }
 ],
 "metadata": {
  "kernelspec": {
   "display_name": "Python 3",
   "language": "python",
   "name": "python3"
  },
  "language_info": {
   "codemirror_mode": {
    "name": "ipython",
    "version": 3
   },
   "file_extension": ".py",
   "mimetype": "text/x-python",
   "name": "python",
   "nbconvert_exporter": "python",
   "pygments_lexer": "ipython3",
   "version": "3.5.2"
  },
  "latex_envs": {
   "LaTeX_envs_menu_present": true,
   "autocomplete": true,
   "bibliofile": "lit.bib",
   "cite_by": "apalike",
   "current_citInitial": 1,
   "eqLabelWithNumbers": true,
   "eqNumInitial": 1,
   "hotkeys": {
    "equation": "Ctrl-E",
    "itemize": "Ctrl-I"
   },
   "labels_anchors": false,
   "latex_user_defs": false,
   "report_style_numbering": false,
   "user_envs_cfg": false
  },
  "toc": {
   "nav_menu": {},
   "number_sections": true,
   "sideBar": true,
   "skip_h1_title": false,
   "toc_cell": false,
   "toc_position": {},
   "toc_section_display": "block",
   "toc_window_display": false
  }
 },
 "nbformat": 4,
 "nbformat_minor": 2
}
