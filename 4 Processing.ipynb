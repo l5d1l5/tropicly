{
 "cells": [
  {
   "cell_type": "markdown",
   "metadata": {},
   "source": [
    "# Processing"
   ]
  },
  {
   "cell_type": "markdown",
   "metadata": {},
   "source": [
    "## Preparation"
   ]
  },
  {
   "cell_type": "code",
   "execution_count": 1,
   "metadata": {
    "collapsed": true
   },
   "outputs": [],
   "source": [
    "import numpy as np\n",
    "from collections import namedtuple\n",
    "from src.decorators import benchmark\n",
    "from src.structures import DefaultOrderedDict"
   ]
  },
  {
   "cell_type": "markdown",
   "metadata": {},
   "source": [
    "## Spatial harmonization\n",
    "Workflow\n",
    "- initial\n",
    "    - select forest (class value 20) from dataset gl30 - 2010\n",
    "    - recode values to binary format 20 = 1, 0 = 0\n",
    "    - select forest (class value 0 - 100) from hansen tree cover 2000\n",
    "    - recode values to binary format 1 - 100 = 1, 0 = 0\n",
    "    - calculate Jaccard Index with chen and hansen\n",
    "- looping\n",
    "    - select forest (0 + 10) - 100 from hansen tree cover 2000\n",
    "    - recode values to binary format (0 + 10) - 100 = 1, 0 = 0\n",
    "    - calculate Jaccard Index with chen and hansen\n",
    "    - do till 30 or Jaccard Index is max\n",
    "Potential Images\n",
    "- world agreement map with different \n",
    "    - compare chen and hansen treccover in one image\n",
    "    - sum of both dataset\n",
    "    - 2 = agreement, 1 = disagreement"
   ]
  },
  {
   "cell_type": "code",
   "execution_count": 2,
   "metadata": {
    "collapsed": true
   },
   "outputs": [],
   "source": [
    "# TODO should it work inplace? Benchmark memory occupation! \n",
    "def binary_jaccard(arr1, arr2, return_matrix=False):\n",
    "    \"\"\"\n",
    "    Calculates the Jaccard Index (JI) of two equal sized binary arrays or vectors.\n",
    "    If return_matrix is set to true the method provides the JI and the necessary \n",
    "    calculation matrix as a named tuple.\n",
    "    \n",
    "    :param arr1, arr2: numpy.ndarray, list, tuple\n",
    "        Both array alike objects sized in equal dimensions should contain exclusively \n",
    "        binary data (1,0). \n",
    "    :param return_matrix: boolean\n",
    "        Optional, a boolean value determining the return of the calculation matrix. \n",
    "    :return: float OR (float, namedtuple)\n",
    "        Defaultly, the method returns only the JI if, return_matrix is set to true the \n",
    "        method returns the JI and the computation matrix.\n",
    "        The Matrix contains the following attributes:\n",
    "        m11 = total number of attributes where arr1 == 1 and arr2 == 1\n",
    "        m10 = total number of attributes where arr1 == 1 and arr2 == 0\n",
    "        m01 = total number of attributes where arr1 == 0 and arr2 == 1\n",
    "        m00 = not required, set to 0\n",
    "    \"\"\"\n",
    "    A, B = np.array(arr1, dtype=np.int8), np.array(arr2, dtype=np.int8)\n",
    "    \n",
    "    if np.sum(np.logical_or(A<0,A>1)) != 0 or np.sum(np.logical_or(B<0,B>1)) != 0:\n",
    "        raise ValueError('Attributes should contain only binary attributes!')\n",
    "  \n",
    "    C = A + B\n",
    "    a = (B - C) + B\n",
    "    b = (A - C) + A\n",
    "    \n",
    "    # Total number of attributes where A == 1 and B == 1\n",
    "    m11 = np.sum(C==2)\n",
    "    # Total number of attributes where A == 1 and B == 0\n",
    "    m10 = np.sum(a==-1)\n",
    "    # Total number of attributes where A == 0 and B == 1\n",
    "    m01 = np.sum(b==-1)\n",
    "    \n",
    "    jaccard = m11 / (m10 + m01 + m11)\n",
    "    \n",
    "    if return_matrix:\n",
    "        Matrix = namedtuple('Matrix', 'm11 m10 m01 m00')\n",
    "        return jaccard, Matrix(m11, m10, m01, 0)\n",
    "    return jaccard\n",
    "\n",
    "# TODO should it work inplace? Benchmark memory occupation! \n",
    "def simple_matching_coefficient(arr1, arr2, return_matrix=False):\n",
    "    \"\"\"\n",
    "    Calculates the Simple Matching Coefficient (SMC) of two equal sized arrays or vectors.\n",
    "    If return_matrix is set to true the method provides the SMC and the necessary calculation \n",
    "    matrix as a named tuple.\n",
    "    \n",
    "    :param arr1, arr2: numpy.ndarray, list, tuple\n",
    "        Both array alike objects sized in equal dimensions should contain exclusively \n",
    "        binary data (1,0).\n",
    "    :param return_matrix: boolean\n",
    "        Optional, a boolean value determining the return of the calculation matrix.\n",
    "    :return: float OR (float, namedtuple)\n",
    "        Defaultly, the method returns only the SMC, if return_matrix is\n",
    "        set to true the method returns the SMC and the computation matrix.\n",
    "        The Matrix contains the following attributes:\n",
    "        m11 = total number of attributes where arr1 == 1 and arr2 == 1\n",
    "        m10 = total number of attributes where arr1 == 1 and arr2 == 0\n",
    "        m01 = total number of attributes where arr1 == 0 and arr2 == 1\n",
    "        m00 = total number of attributes where arr1 == 0 and arr2 == 0\n",
    "    \"\"\"\n",
    "    _, matrix = binary_jaccard(arr1, arr2, True)\n",
    "    A = np.array(arr1, dtype=np.int8)\n",
    "    \n",
    "    # Total number of attributes where A == 0 and B == 0\n",
    "    m00 = A.size - sum(matrix)\n",
    "    \n",
    "    smc = (matrix.m11 + m00) / A.size\n",
    "\n",
    "    if return_matrix:\n",
    "        matrix = matrix._replace(m00=m00)\n",
    "        return smc, matrix\n",
    "    return smc"
   ]
  }
 ],
 "metadata": {
  "kernelspec": {
   "display_name": "Python 3",
   "language": "python",
   "name": "python3"
  },
  "language_info": {
   "codemirror_mode": {
    "name": "ipython",
    "version": 3
   },
   "file_extension": ".py",
   "mimetype": "text/x-python",
   "name": "python",
   "nbconvert_exporter": "python",
   "pygments_lexer": "ipython3",
   "version": "3.5.2"
  },
  "latex_envs": {
   "LaTeX_envs_menu_present": true,
   "autocomplete": true,
   "bibliofile": "lit.bib",
   "cite_by": "apalike",
   "current_citInitial": 1,
   "eqLabelWithNumbers": true,
   "eqNumInitial": 1,
   "hotkeys": {
    "equation": "Ctrl-E",
    "itemize": "Ctrl-I"
   },
   "labels_anchors": false,
   "latex_user_defs": false,
   "report_style_numbering": false,
   "user_envs_cfg": false
  },
  "toc": {
   "nav_menu": {},
   "number_sections": true,
   "sideBar": true,
   "skip_h1_title": false,
   "toc_cell": false,
   "toc_position": {},
   "toc_section_display": "block",
   "toc_window_display": false
  }
 },
 "nbformat": 4,
 "nbformat_minor": 2
}
