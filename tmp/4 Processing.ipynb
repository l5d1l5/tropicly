{
 "cells": [
  {
   "cell_type": "markdown",
   "metadata": {},
   "source": [
    "# Processing"
   ]
  },
  {
   "cell_type": "markdown",
   "metadata": {},
   "source": [
    "## Preparation"
   ]
  },
  {
   "cell_type": "code",
   "execution_count": 2,
   "metadata": {
    "collapsed": true
   },
   "outputs": [],
   "source": [
    "import rasterio\n",
    "import queue\n",
    "import numpy as np\n",
    "import pandas as pd\n",
    "import geopandas as gpd\n",
    "from pathlib import Path\n",
    "import threading\n",
    "from IPython.display import clear_output\n",
    "from collections import Counter, namedtuple\n",
    "from src.utils import get_data_dir, benchmark_context\n",
    "\n",
    "\n",
    "# Convenient access to data directory, is a namedtuple with folder names as attributes\n",
    "DIRS = get_data_dir(str(Path('data').resolve()))\n",
    "\n",
    "# Many functions of the processing pipeline are multi-threaded this attribute controls\n",
    "# max number of threads\n",
    "THREADLIMIT = 12\n",
    "\n",
    "WGS84 = {'init': 'epsg:4326'}\n",
    "\n",
    "\n",
    "def read_raster(item):\n",
    "    \"\"\"\n",
    "    Helper method to return a raster file as a opened instance of\n",
    "    rasterio.io.DatasetReader in read mode.\n",
    "    \n",
    "    :param item: str, pathlib.Path or rasterio.io.DatasetReader\n",
    "        Should be the path to the raster file on filesystem as a string\n",
    "        or pathlib.Path object. If item is a instance of DatasetReader\n",
    "        the function returns immediately.\n",
    "    :return: rasterio.io.DatasetReader\n",
    "        Retruns an instance of rasterio.io.DatasetReader in read mode.\n",
    "    \"\"\"\n",
    "    if isinstance(item, rasterio.io.DatasetReader):\n",
    "        return item\n",
    "    else:\n",
    "        try:\n",
    "            path = str(item)  # Cast pathlib.Path to string\n",
    "            return rasterio.open(path, 'r')\n",
    "        except:\n",
    "            msg = 'Attr {}, Type {} is not a valid raster file'.format(item, type(item))\n",
    "            raise ValueError(msg)\n",
    "\n",
    "\n",
    "def binary_jaccard(arr1, arr2, return_matrix=False):\n",
    "    \"\"\"\n",
    "    Calculates the Jaccard Index (JI) of two equal sized binary arrays or vectors.\n",
    "    If return_matrix is set to true the method provides the JI and the necessary \n",
    "    calculation matrix as a named tuple. Attention, this method does not work in-place!\n",
    "    \n",
    "    :param arr1, arr2: numpy.ndarray, list, tuple\n",
    "        Both array alike objects sized in equal dimensions should contain exclusively \n",
    "        binary data (1,0). \n",
    "    :param return_matrix: boolean\n",
    "        Optional, a boolean value determining the return of the calculation matrix. \n",
    "    :return: float OR (float, namedtuple(m11, m01, m10, m00))\n",
    "        Defaultly, the method returns only the JI if, return_matrix is set to true the \n",
    "        method returns the JI and the computation matrix.\n",
    "        The Matrix contains the following attributes:\n",
    "        m11 = total number of attributes where arr1 == 1 and arr2 == 1\n",
    "        m10 = total number of attributes where arr1 == 1 and arr2 == 0\n",
    "        m01 = total number of attributes where arr1 == 0 and arr2 == 1\n",
    "        m00 = not required, set to 0\n",
    "    \"\"\"\n",
    "    A, B = np.array(arr1, dtype=np.int8), np.array(arr2, dtype=np.int8)\n",
    "    \n",
    "    if np.sum(np.logical_or(A<0,A>1)) != 0 or np.sum(np.logical_or(B<0,B>1)) != 0:\n",
    "        raise ValueError('Attributes should contain only binary values')\n",
    "  \n",
    "    C = A + B\n",
    "    a = (B - C) + B  # a = (A - C) + A, m10 = a == 1\n",
    "    b = (A - C) + A  # b = (B - C) + B, m01 = b == 1\n",
    "\n",
    "    # Total number of attributes where A == 1 and B == 1\n",
    "    m11 = np.sum(C==2)\n",
    "    # Total number of attributes where A == 1 and B == 0\n",
    "    m10 = np.sum(a==-1)\n",
    "    # Total number of attributes where A == 0 and B == 1\n",
    "    m01 = np.sum(b==-1)\n",
    "    \n",
    "    jaccard = m11 / (m10 + m01 + m11)\n",
    "    \n",
    "    if return_matrix:\n",
    "        Matrix = namedtuple('Matrix', 'm11 m10 m01 m00')\n",
    "        return jaccard, Matrix(m11, m10, m01, 0)\n",
    "    return jaccard\n",
    "\n",
    "\n",
    "def simple_matching_coefficient(arr1, arr2, return_matrix=False):\n",
    "    \"\"\"\n",
    "    Calculates the Simple Matching Coefficient (SMC) of two equal sized arrays or vectors.\n",
    "    If return_matrix is set to true the method provides the SMC and the necessary calculation \n",
    "    matrix as a named tuple. Attention, this method does not work in-place!\n",
    "    \n",
    "    :param arr1, arr2: numpy.ndarray, list, tuple\n",
    "        Both array alike objects sized in equal dimensions should contain exclusively \n",
    "        binary data (1,0).\n",
    "    :param return_matrix: boolean\n",
    "        Optional, a boolean value determining the return of the calculation matrix.\n",
    "    :return: float OR (float, namedtuple(m11, m01, m10, m00))\n",
    "        Defaultly, the method returns only the SMC, if return_matrix is\n",
    "        set to true the method returns the SMC and the computation matrix.\n",
    "        The Matrix contains the following attributes:\n",
    "        m11 = total number of attributes where arr1 == 1 and arr2 == 1\n",
    "        m10 = total number of attributes where arr1 == 1 and arr2 == 0\n",
    "        m01 = total number of attributes where arr1 == 0 and arr2 == 1\n",
    "        m00 = total number of attributes where arr1 == 0 and arr2 == 0\n",
    "    \"\"\"\n",
    "    _, matrix = binary_jaccard(arr1, arr2, True)\n",
    "    A = np.array(arr1, dtype=np.int8)\n",
    "    \n",
    "    # Total number of attributes where A == 0 and B == 0\n",
    "    m00 = A.size - sum(matrix)\n",
    "    \n",
    "    smc = (matrix.m11 + m00) / A.size\n",
    "\n",
    "    if return_matrix:\n",
    "        matrix = matrix._replace(m00=m00)\n",
    "        return smc, matrix\n",
    "    return smc"
   ]
  },
  {
   "cell_type": "markdown",
   "metadata": {},
   "source": [
    "## Class harmonization"
   ]
  },
  {
   "cell_type": "code",
   "execution_count": 3,
   "metadata": {
    "scrolled": true
   },
   "outputs": [
    {
     "name": "stdout",
     "output_type": "stream",
     "text": [
      "99.6551724137931% of 100%\n"
     ]
    }
   ],
   "source": [
    "def worker(gl30, cover, queue, *args):\n",
    "    r1 = read_raster(gl30)\n",
    "    r2 = read_raster(cover)\n",
    "    \n",
    "    d1 = r1.read(1)\n",
    "    d2 = r2.read(1)\n",
    "    \n",
    "    r1.close()\n",
    "    r2.close()\n",
    "    \n",
    "    d1[d1==20] = 1\n",
    "    d1[d1==50] = 1\n",
    "    d1[d1!=1] = 0\n",
    "    \n",
    "    tmp = d2.copy()\n",
    "    \n",
    "    args = list(args)\n",
    "    for i in [0, 10, 20, 30]:\n",
    "        tmp[d2<=i] = 0\n",
    "        tmp[d2>i] = 1\n",
    "\n",
    "        args.append(binary_jaccard(d1, tmp))\n",
    "        args.append(simple_matching_coefficient(d1, tmp))\n",
    "   \n",
    "    queue.put(args)\n",
    "\n",
    "\n",
    "mask = gpd.read_file(str(DIRS.masks / 'final_region_mask.shp'))\n",
    "q = queue.Queue()\n",
    "threads = []\n",
    "for idx, val in mask.iterrows():\n",
    "    if len(threads) == 4:\n",
    "        [thread.join() for thread in threads]\n",
    "        threads = []\n",
    "        clear_output()\n",
    "        print('{}% of 100%'.format(((idx+1)/len(mask))*100))\n",
    "    \n",
    "    thread = threading.Thread(target=worker, args=(DIRS.proc/val.gl30_00, DIRS.proc/val.cover, q, val.key, val.index_righ))\n",
    "    thread.start()\n",
    "    threads.append(thread)"
   ]
  },
  {
   "cell_type": "code",
   "execution_count": 4,
   "metadata": {
    "collapsed": true
   },
   "outputs": [],
   "source": [
    "vals = []\n",
    "while not q.empty():\n",
    "    vals.append(q.get())\n",
    "\n",
    "df = pd.DataFrame(vals)\n",
    "df.columns = ['tile', 'region', 'jc0', 'smc0', 'jc10', 'smc10', 'jc20', 'smc20', 'jc30', 'smc30']\n",
    "df.to_csv(DIRS.ana/'class_harmon_wet.csv', float_format='%.4f')"
   ]
  }
 ],
 "metadata": {
  "kernelspec": {
   "display_name": "Python 3",
   "language": "python",
   "name": "python3"
  },
  "language_info": {
   "codemirror_mode": {
    "name": "ipython",
    "version": 3
   },
   "file_extension": ".py",
   "mimetype": "text/x-python",
   "name": "python",
   "nbconvert_exporter": "python",
   "pygments_lexer": "ipython3",
   "version": "3.5.2"
  },
  "latex_envs": {
   "LaTeX_envs_menu_present": true,
   "autocomplete": true,
   "bibliofile": "lit.bib",
   "cite_by": "apalike",
   "current_citInitial": 1,
   "eqLabelWithNumbers": true,
   "eqNumInitial": 1,
   "hotkeys": {
    "equation": "Ctrl-E",
    "itemize": "Ctrl-I"
   },
   "labels_anchors": false,
   "latex_user_defs": false,
   "report_style_numbering": false,
   "user_envs_cfg": false
  },
  "toc": {
   "nav_menu": {},
   "number_sections": true,
   "sideBar": true,
   "skip_h1_title": false,
   "toc_cell": false,
   "toc_position": {},
   "toc_section_display": "block",
   "toc_window_display": false
  }
 },
 "nbformat": 4,
 "nbformat_minor": 2
}
