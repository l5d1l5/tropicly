{
 "cells": [
  {
   "cell_type": "markdown",
   "metadata": {},
   "source": [
    "# Preprocessing"
   ]
  },
  {
   "cell_type": "markdown",
   "metadata": {},
   "source": [
    "## Preparation"
   ]
  },
  {
   "cell_type": "code",
   "execution_count": 53,
   "metadata": {
    "collapsed": true
   },
   "outputs": [],
   "source": [
    "%matplotlib inline\n",
    "import os\n",
    "import pyproj\n",
    "import shapely\n",
    "import rasterio\n",
    "import numpy as np\n",
    "import pandas as pd\n",
    "import geopandas as gpd\n",
    "import affine\n",
    "from pathlib import Path\n",
    "from src.utils import get_data_dir\n",
    "from collections import namedtuple\n",
    "from src.structures import DefaultOrderedDict\n",
    "from rasterio import warp, merge"
   ]
  },
  {
   "cell_type": "code",
   "execution_count": 3,
   "metadata": {},
   "outputs": [
    {
     "data": {
      "text/plain": [
       "Directories(gl_10=PosixPath('/home/tobi/Documents/Master/code/python/Master/data/core/gl30/gl_10'), core=PosixPath('/home/tobi/Documents/Master/code/python/Master/data/core'), america2=PosixPath('/home/tobi/Documents/Master/code/python/Master/data/tmp/meeting_06_11_2017/america2'), africa2=PosixPath('/home/tobi/Documents/Master/code/python/Master/data/tmp/meeting_06_11_2017/africa2'), meeting_06_11_2017=PosixPath('/home/tobi/Documents/Master/code/python/Master/data/tmp/meeting_06_11_2017'), masks=PosixPath('/home/tobi/Documents/Master/code/python/Master/data/auxiliary/masks'), data=PosixPath('/home/tobi/Documents/Master/code/python/Master/data'), esvd=PosixPath('/home/tobi/Documents/Master/code/python/Master/data/core/esvd'), gl_00=PosixPath('/home/tobi/Documents/Master/code/python/Master/data/core/gl30/gl_00'), auxiliary=PosixPath('/home/tobi/Documents/Master/code/python/Master/data/auxiliary'), gl30=PosixPath('/home/tobi/Documents/Master/code/python/Master/data/core/gl30'), tmp=PosixPath('/home/tobi/Documents/Master/code/python/Master/data/tmp'), gfc=PosixPath('/home/tobi/Documents/Master/code/python/Master/data/core/gfc'), america1=PosixPath('/home/tobi/Documents/Master/code/python/Master/data/tmp/meeting_06_11_2017/america1'), africa1=PosixPath('/home/tobi/Documents/Master/code/python/Master/data/tmp/meeting_06_11_2017/africa1'))"
      ]
     },
     "execution_count": 3,
     "metadata": {},
     "output_type": "execute_result"
    }
   ],
   "source": [
    "dirs = get_data_dir(str(Path('data').resolve()))\n",
    "dirs"
   ]
  },
  {
   "cell_type": "markdown",
   "metadata": {},
   "source": [
    "## GFC mask"
   ]
  },
  {
   "cell_type": "code",
   "execution_count": 16,
   "metadata": {},
   "outputs": [],
   "source": [
    "gfc_files = sorted(dirs.gfc.glob('*.tif'))"
   ]
  },
  {
   "cell_type": "code",
   "execution_count": 20,
   "metadata": {},
   "outputs": [
    {
     "data": {
      "text/plain": [
       "0      POLYGON ((-0.0001388888888982365 0.00013888888...\n",
       "1      POLYGON ((9.999861111111102 0.0001388888888840...\n",
       "2      POLYGON ((-10.0001388888889 0.0001388888888840...\n",
       "3      POLYGON ((19.9998611111111 0.00013888888888402...\n",
       "4      POLYGON ((-20.0001388888889 0.0001388888888840...\n",
       "5      POLYGON ((29.9998611111111 0.00013888888888402...\n",
       "6      POLYGON ((-30.0001388888889 0.0001388888888840...\n",
       "7      POLYGON ((39.9998611111111 0.00013888888888402...\n",
       "8      POLYGON ((-40.0001388888889 0.0001388888888840...\n",
       "9      POLYGON ((49.9998611111111 0.00013888888888402...\n",
       "10     POLYGON ((-50.0001388888889 0.0001388888888840...\n",
       "11     POLYGON ((59.9998611111111 0.00013888888888402...\n",
       "12     POLYGON ((-60.0001388888889 0.0001388888888840...\n",
       "13     POLYGON ((69.9998611111111 0.00013888888888402...\n",
       "14     POLYGON ((-70.0001388888889 0.0001388888888840...\n",
       "15     POLYGON ((79.9998611111111 0.00013888888888402...\n",
       "16     POLYGON ((-80.0001388888889 0.0001388888888840...\n",
       "17     POLYGON ((89.9998611111111 0.00013888888888402...\n",
       "18     POLYGON ((-90.0001388888889 0.0001388888888840...\n",
       "19     POLYGON ((99.9998611111111 0.00013888888888402...\n",
       "20     POLYGON ((-100.0001388888889 0.000138888888884...\n",
       "21     POLYGON ((109.9998611111111 0.0001388888888840...\n",
       "22     POLYGON ((-110.0001388888889 0.000138888888884...\n",
       "23     POLYGON ((119.9998611111111 0.0001388888888840...\n",
       "24     POLYGON ((-120.0001388888889 0.000138888888884...\n",
       "25     POLYGON ((129.9998611111111 0.0001388888888840...\n",
       "26     POLYGON ((-130.0001388888889 0.000138888888884...\n",
       "27     POLYGON ((139.9998611111111 0.0001388888888840...\n",
       "28     POLYGON ((-140.0001388888889 0.000138888888884...\n",
       "29     POLYGON ((149.9998611111111 0.0001388888888840...\n",
       "                             ...                        \n",
       "186    POLYGON ((-30.0001388888889 30.00013888888888,...\n",
       "187    POLYGON ((39.9998611111111 30.00013888888888, ...\n",
       "188    POLYGON ((-40.0001388888889 30.00013888888888,...\n",
       "189    POLYGON ((49.9998611111111 30.00013888888888, ...\n",
       "190    POLYGON ((-50.0001388888889 30.00013888888888,...\n",
       "191    POLYGON ((59.9998611111111 30.00013888888888, ...\n",
       "192    POLYGON ((-60.0001388888889 30.00013888888888,...\n",
       "193    POLYGON ((69.9998611111111 30.00013888888888, ...\n",
       "194    POLYGON ((-70.0001388888889 30.00013888888888,...\n",
       "195    POLYGON ((79.9998611111111 30.00013888888888, ...\n",
       "196    POLYGON ((-80.0001388888889 30.00013888888888,...\n",
       "197    POLYGON ((89.9998611111111 30.00013888888888, ...\n",
       "198    POLYGON ((-90.0001388888889 30.00013888888888,...\n",
       "199    POLYGON ((99.9998611111111 30.00013888888888, ...\n",
       "200    POLYGON ((-100.0001388888889 30.00013888888888...\n",
       "201    POLYGON ((109.9998611111111 30.00013888888888,...\n",
       "202    POLYGON ((-110.0001388888889 30.00013888888888...\n",
       "203    POLYGON ((119.9998611111111 30.00013888888888,...\n",
       "204    POLYGON ((-120.0001388888889 30.00013888888888...\n",
       "205    POLYGON ((129.9998611111111 30.00013888888888,...\n",
       "206    POLYGON ((-130.0001388888889 30.00013888888888...\n",
       "207    POLYGON ((139.9998611111111 30.00013888888888,...\n",
       "208    POLYGON ((-140.0001388888889 30.00013888888888...\n",
       "209    POLYGON ((149.9998611111111 30.00013888888888,...\n",
       "210    POLYGON ((-150.0001388888889 30.00013888888888...\n",
       "211    POLYGON ((159.9998611111111 30.00013888888888,...\n",
       "212    POLYGON ((-160.0001388888889 30.00013888888888...\n",
       "213    POLYGON ((169.9998611111111 30.00013888888888,...\n",
       "214    POLYGON ((-170.0001388888889 30.00013888888888...\n",
       "215    POLYGON ((-180.0001388888889 30.00013888888888...\n",
       "Length: 216, dtype: object"
      ]
     },
     "execution_count": 20,
     "metadata": {},
     "output_type": "execute_result"
    }
   ],
   "source": [
    "def fetch_metadata(path: str)-> namedtuple:\n",
    "    Meta = namedtuple('Meta', 'bounds crs')    \n",
    "    with rasterio.open(path, 'r') as src:\n",
    "        bounds = src.bounds\n",
    "        crs = src.crs       \n",
    "    return Meta(bounds=bounds, crs=crs)\n",
    "\n",
    "\n",
    "def bounds_to_polygon(bounds: namedtuple) -> shapely.geometry.Polygon:\n",
    "    x_points = ['left', 'left', 'right', 'right']\n",
    "    y_points = ['top', 'bottom', 'bottom', 'top']    \n",
    "    polygon_bounds = [\n",
    "        (bounds.__getattribute__(x), bounds.__getattribute__(y))\n",
    "        for x, y in zip(x_points, y_points)\n",
    "    ]      \n",
    "    return shapely.geometry.Polygon(polygon_bounds)\n",
    "\n",
    "\n",
    "def reproject_bounds(bounds: namedtuple, source_crs: dict, target_crs: dict) -> namedtuple:\n",
    "    BoundingBox = namedtuple('BoundingBox', 'left bottom right top')\n",
    "    p1 = pyproj.Proj(**source_crs)\n",
    "    p2 = pyproj.Proj(**target_crs)\n",
    "    left, bottom = pyproj.transform(p1, p2, bounds.left, bounds.bottom)\n",
    "    right, top = pyproj.transform(p1, p2, bounds.right, bounds.top)\n",
    "    return BoundingBox(left, bottom, right, top)\n",
    "\n",
    "\n",
    "def geoseries(rasters: list, target_crs: dict) -> gpd.GeoSeries:\n",
    "    polygons = []\n",
    "    for raster in rasters:\n",
    "        bounds, crs = fetch_metadata(raster)\n",
    "        if crs != target_crs:\n",
    "            bounds = reproject_bounds(bounds, crs, target_crs)\n",
    "        polygon = bounds_to_polygon(bounds)\n",
    "        polygons.append(polygon)\n",
    "    geometry = gpd.GeoSeries(polygons)\n",
    "    geometry.crs = target_crs\n",
    "    return geometry\n",
    "\n",
    "\n",
    "def attributes(**kwargs):\n",
    "    pass\n",
    "    \n",
    "rasters = list(map(str, gfc_files))\n",
    "hansen_mask = geoseries(rasters[:int(len(rasters)/3)], {'init': 'epsg:4326'})\n",
    "hansen_mask\n",
    "#hansen_mask.to_file(os.path.join(dirs.masks, 'gfc_mask.shp'))"
   ]
  },
  {
   "cell_type": "markdown",
   "metadata": {},
   "source": [
    "## GL30 mask"
   ]
  },
  {
   "cell_type": "markdown",
   "metadata": {},
   "source": [
    "- edge tiles of gl30 have coordinate system issues, x overflows boundaries of applied coor system\n",
    "- result: in wgs84 polygon of a certain tile covers the entire globe"
   ]
  },
  {
   "cell_type": "markdown",
   "metadata": {},
   "source": [
    "## Raster alignment\n",
    "- store in files in a folder processed \n",
    "- reproject all files to wgs84 epsg4326 for convenience (entire gl30 dataset must be reprojected)\n",
    "- intersect gl30 mask with gfc mask\n",
    "- find gfc datasets covering a gl30 tile \n",
    "- merge them and crop them to the extent of gl30 tile"
   ]
  },
  {
   "cell_type": "code",
   "execution_count": 71,
   "metadata": {},
   "outputs": [
    {
     "name": "stdout",
     "output_type": "stream",
     "text": [
      "| 30.00, 0.00, 165406.44|\n",
      "| 0.00,-30.00, 10000615.00|\n",
      "| 0.00, 0.00, 1.00|\n",
      "(Affine(0.00027041676765106055, 0.0, -42.01695836575989,\n",
      "       0.0, -0.00027041676765106055, 0.00556409792285255), 22313, 18556)\n"
     ]
    }
   ],
   "source": [
    "gl30 = dirs.gl_10 / 's24_00_2010lc030.tif'\n",
    "with rasterio.open(str(gl30), 'r') as src:\n",
    "    aff = rasterio.warp.calculate_default_transform(src.crs, {'init': 'epsg:4326'}, src.width, src.height, *src.bounds)\n",
    "    print(src.transform)\n",
    "    print(aff)"
   ]
  },
  {
   "cell_type": "markdown",
   "metadata": {},
   "source": [
    "## Spatial harmonization\n",
    "Workflow\n",
    "- consider to use additional classes from gl30 wetlands or tundra\n",
    "- initial\n",
    "    - select forest (class value 20) from dataset gl30 - 2000\n",
    "    - recode values to binary format 20 = 1, 0 = 0\n",
    "    - select forest (class value 0 - 100) from hansen tree cover 2000\n",
    "    - recode values to binary format 1 - 100 = 1, 0 = 0\n",
    "    - calculate Jaccard Index with chen and hansen\n",
    "- looping\n",
    "    - select forest (0 + 10) - 100 from hansen tree cover 2000\n",
    "    - recode values to binary format (0 + 10) - 100 = 1, 0 = 0\n",
    "    - calculate Jaccard Index with chen and hansen\n",
    "    - do till 30 or Jaccard Index is max\n",
    "Potential Images\n",
    "- world agreement map with different \n",
    "    - compare chen and hansen treccover in one image\n",
    "    - sum of both dataset\n",
    "    - 2 = agreement, 1 = disagreement"
   ]
  },
  {
   "cell_type": "code",
   "execution_count": 14,
   "metadata": {
    "collapsed": true
   },
   "outputs": [],
   "source": [
    "# TODO should it work inplace? Benchmark memory occupation! Check equal dimensions \n",
    "def binary_jaccard(arr1, arr2, return_matrix=False):\n",
    "    \"\"\"\n",
    "    Calculates the Jaccard Index (JI) of two equal sized binary arrays or vectors.\n",
    "    If return_matrix is set to true the method provides the JI and the necessary \n",
    "    calculation matrix as a named tuple.\n",
    "    \n",
    "    :param arr1, arr2: numpy.ndarray, list, tuple\n",
    "        Both array alike objects sized in equal dimensions should contain exclusively \n",
    "        binary data (1,0). \n",
    "    :param return_matrix: boolean\n",
    "        Optional, a boolean value determining the return of the calculation matrix. \n",
    "    :return: float OR (float, namedtuple)\n",
    "        Defaultly, the method returns only the JI if, return_matrix is set to true the \n",
    "        method returns the JI and the computation matrix.\n",
    "        The Matrix contains the following attributes:\n",
    "        m11 = total number of attributes where arr1 == 1 and arr2 == 1\n",
    "        m10 = total number of attributes where arr1 == 1 and arr2 == 0\n",
    "        m01 = total number of attributes where arr1 == 0 and arr2 == 1\n",
    "        m00 = not required, set to 0\n",
    "    \"\"\"\n",
    "    A, B = np.array(arr1, dtype=np.int8), np.array(arr2, dtype=np.int8)\n",
    "    \n",
    "    if np.sum(np.logical_or(A<0,A>1)) != 0 or np.sum(np.logical_or(B<0,B>1)) != 0:\n",
    "        raise ValueError('Attributes should contain only binary values')\n",
    "  \n",
    "    C = A + B\n",
    "    a = (B - C) + B  # a = (A - C) + A, m10 = a == 1\n",
    "    b = (A - C) + A  # b = (B - C) + B, m01 = b == 1\n",
    "\n",
    "    # Total number of attributes where A == 1 and B == 1\n",
    "    m11 = np.sum(C==2)\n",
    "    # Total number of attributes where A == 1 and B == 0\n",
    "    m10 = np.sum(a==-1)\n",
    "    # Total number of attributes where A == 0 and B == 1\n",
    "    m01 = np.sum(b==-1)\n",
    "    \n",
    "    jaccard = m11 / (m10 + m01 + m11)\n",
    "    \n",
    "    if return_matrix:\n",
    "        Matrix = namedtuple('Matrix', 'm11 m10 m01 m00')\n",
    "        return jaccard, Matrix(m11, m10, m01, 0)\n",
    "    return jaccard\n",
    "\n",
    "# TODO should it work inplace? Benchmark memory occupation! \n",
    "def simple_matching_coefficient(arr1, arr2, return_matrix=False):\n",
    "    \"\"\"\n",
    "    Calculates the Simple Matching Coefficient (SMC) of two equal sized arrays or vectors.\n",
    "    If return_matrix is set to true the method provides the SMC and the necessary calculation \n",
    "    matrix as a named tuple.\n",
    "    \n",
    "    :param arr1, arr2: numpy.ndarray, list, tuple\n",
    "        Both array alike objects sized in equal dimensions should contain exclusively \n",
    "        binary data (1,0).\n",
    "    :param return_matrix: boolean\n",
    "        Optional, a boolean value determining the return of the calculation matrix.\n",
    "    :return: float OR (float, namedtuple)\n",
    "        Defaultly, the method returns only the SMC, if return_matrix is\n",
    "        set to true the method returns the SMC and the computation matrix.\n",
    "        The Matrix contains the following attributes:\n",
    "        m11 = total number of attributes where arr1 == 1 and arr2 == 1\n",
    "        m10 = total number of attributes where arr1 == 1 and arr2 == 0\n",
    "        m01 = total number of attributes where arr1 == 0 and arr2 == 1\n",
    "        m00 = total number of attributes where arr1 == 0 and arr2 == 0\n",
    "    \"\"\"\n",
    "    _, matrix = binary_jaccard(arr1, arr2, True)\n",
    "    A = np.array(arr1, dtype=np.int8)\n",
    "    \n",
    "    # Total number of attributes where A == 0 and B == 0\n",
    "    m00 = A.size - sum(matrix)\n",
    "    \n",
    "    smc = (matrix.m11 + m00) / A.size\n",
    "\n",
    "    if return_matrix:\n",
    "        matrix = matrix._replace(m00=m00)\n",
    "        return smc, matrix\n",
    "    return smc"
   ]
  },
  {
   "cell_type": "code",
   "execution_count": 21,
   "metadata": {},
   "outputs": [
    {
     "name": "stdout",
     "output_type": "stream",
     "text": [
      "('Hansen_GFC2013_lossyear_00N_040W.tif', 'Hansen_GFC2013_treecover2000_00N_040W.tif')\n",
      "6459322\n",
      "('Hansen_GFC2013_lossyear_00N_050W.tif', 'Hansen_GFC2013_treecover2000_00N_050W.tif')\n",
      "58532941\n",
      "('Hansen_GFC2013_lossyear_00N_060W.tif', 'Hansen_GFC2013_treecover2000_00N_060W.tif')\n",
      "66095218\n",
      "('Hansen_GFC2013_lossyear_10S_060W.tif', 'Hansen_GFC2013_treecover2000_10S_060W.tif')\n",
      "76557728\n"
     ]
    }
   ],
   "source": [
    "# find tile with the most deforested pixels\n",
    "latin_america = hansen_mask.cx[-120:-40,:]\n",
    "africa = hansen_mask.cx[-30:50,:]\n",
    "asia = hansen_mask.cx[60:180,:]\n",
    "\n",
    "maxele = 0\n",
    "relevant = ''\n",
    "for items in zip(latin_america.prop1, latin_america.prop2):\n",
    "    loss, cover = items\n",
    "    with rasterio.open(os.path.join(dirs.gfc, loss), 'r') as src:\n",
    "        data = src.read(1)\n",
    "        tmp = np.sum(np.logical_and(data>0, data<11))\n",
    "        if tmp > maxele:\n",
    "            maxele = tmp\n",
    "            relevant = items\n",
    "            print(relevant)\n",
    "            print(tmp)"
   ]
  },
  {
   "cell_type": "markdown",
   "metadata": {},
   "source": [
    "Asia = ('Hansen_GFC2013_lossyear_10N_100E.tif', 'Hansen_GFC2013_treecover2000_10N_100E.tif') 41781778, N48_0<br>\n",
    "Africa = ('Hansen_GFC2013_lossyear_00N_020E.tif', 'Hansen_GFC2013_treecover2000_00N_020E.tif') 26827468, S35_5, S35_0<br>\n",
    "Latin america = ('Hansen_GFC2013_lossyear_10S_060W.tif', 'Hansen_GFC2013_treecover2000_10S_060W.tif') 76557728, S21_15, S21_10"
   ]
  },
  {
   "cell_type": "code",
   "execution_count": 19,
   "metadata": {
    "scrolled": true
   },
   "outputs": [
    {
     "name": "stdout",
     "output_type": "stream",
     "text": [
      "gl30_america_1_binary.tif <-> gfc_america_1_binary_all.tif: JI = 0.678, SMC = 0.772\n",
      "gl30_america_1_binary.tif <-> gfc_america_1_binary_10.tif: JI = 0.690, SMC = 0.784\n",
      "gl30_america_1_binary.tif <-> gfc_america_1_binary_20.tif: JI = 0.701, SMC = 0.795\n",
      "gl30_america_2_binary.tif <-> gfc_america_2_binary_all.tif: JI = 0.387, SMC = 0.632\n",
      "gl30_america_2_binary.tif <-> gfc_america_2_binary_10.tif: JI = 0.402, SMC = 0.656\n",
      "gl30_america_2_binary.tif <-> gfc_america_2_binary_20.tif: JI = 0.417, SMC = 0.677\n",
      "gl30_africa_1_binary.tif <-> gfc_africa_1_binary_all.tif: JI = 0.737, SMC = 0.748\n",
      "gl30_africa_1_binary.tif <-> gfc_africa_1_binary_10.tif: JI = 0.744, SMC = 0.757\n",
      "gl30_africa_1_binary.tif <-> gfc_africa_1_binary_20.tif: JI = 0.797, SMC = 0.821\n",
      "gl30_africa_2_binary.tif <-> gfc_africa_2_binary_all.tif: JI = 0.426, SMC = 0.507\n",
      "gl30_africa_2_binary.tif <-> gfc_africa_2_binary_10.tif: JI = 0.427, SMC = 0.510\n",
      "gl30_africa_2_binary.tif <-> gfc_africa_2_binary_20.tif: JI = 0.461, SMC = 0.581\n"
     ]
    }
   ],
   "source": [
    "# agreement map\n",
    "def agreement_map(arr1, arr2):\n",
    "    return arr1 + arr2\n",
    "\n",
    "chen_files = 'gl30_america_1_binary.tif gl30_america_2_binary.tif gl30_africa_1_binary.tif gl30_africa_2_binary.tif'.split()\n",
    "gfc_ids = ['all', '10', '20']\n",
    "for chen_handle in zip([dirs.america1, dirs.america2, dirs.africa1, dirs.africa2], chen_files):\n",
    "    path, chen_name = chen_handle\n",
    "    with rasterio.open('/'.join(chen_handle), 'r') as chen:\n",
    "        chen_data = chen.read(1)\n",
    "        for gfc_id in gfc_ids:\n",
    "            gfc_name = 'gfc_%s_%s_binary_%s.tif' % (chen_name.split('_')[1], chen_name.split('_')[2], gfc_id)\n",
    "            with rasterio.open(os.path.join(path, gfc_name), 'r') as gfc:\n",
    "                gfc_data = gfc.read(1)\n",
    "                ji = binary_jaccard(chen_data, gfc_data)\n",
    "                smc = simple_matching_coefficient(chen_data, gfc_data)\n",
    "                agree_name = 'agree_%s_%s_%s.tif' % (chen_name.split('_')[1], chen_name.split('_')[2], gfc_id)\n",
    "                print('{} <-> {}: JI = {:.3f}, SMC = {:.3f}'.format(chen_name, gfc_name, ji, smc))\n",
    "                agree_data = gfc_data + chen_data\n",
    "                with rasterio.open(os.path.join(path, agree_name), 'w', **gfc.profile) as dst:\n",
    "                    dst.write(agree_data, 1)"
   ]
  },
  {
   "cell_type": "markdown",
   "metadata": {},
   "source": [
    "![America](img/america.png)\n",
    "![Africa](img/africa.png)"
   ]
  }
 ],
 "metadata": {
  "kernelspec": {
   "display_name": "Python 3",
   "language": "python",
   "name": "python3"
  },
  "language_info": {
   "codemirror_mode": {
    "name": "ipython",
    "version": 3
   },
   "file_extension": ".py",
   "mimetype": "text/x-python",
   "name": "python",
   "nbconvert_exporter": "python",
   "pygments_lexer": "ipython3",
   "version": "3.5.2"
  },
  "latex_envs": {
   "LaTeX_envs_menu_present": true,
   "autocomplete": true,
   "bibliofile": "lit.bib",
   "cite_by": "apalike",
   "current_citInitial": 1,
   "eqLabelWithNumbers": true,
   "eqNumInitial": 1,
   "hotkeys": {
    "equation": "Ctrl-E",
    "itemize": "Ctrl-I"
   },
   "labels_anchors": false,
   "latex_user_defs": false,
   "report_style_numbering": false,
   "user_envs_cfg": false
  },
  "toc": {
   "nav_menu": {},
   "number_sections": true,
   "sideBar": true,
   "skip_h1_title": false,
   "toc_cell": false,
   "toc_position": {},
   "toc_section_display": "block",
   "toc_window_display": false
  }
 },
 "nbformat": 4,
 "nbformat_minor": 1
}
