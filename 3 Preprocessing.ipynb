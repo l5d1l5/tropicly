{
 "cells": [
  {
   "cell_type": "code",
   "execution_count": 1,
   "metadata": {
    "collapsed": true
   },
   "outputs": [],
   "source": [
    "import os\n",
    "import rasterio\n",
    "import shapely\n",
    "import pyproj\n",
    "import threading\n",
    "import pandas as pd\n",
    "import geopandas as gpd\n",
    "from collections import namedtuple, defaultdict, OrderedDict"
   ]
  },
  {
   "cell_type": "code",
   "execution_count": 2,
   "metadata": {},
   "outputs": [
    {
     "name": "stdout",
     "output_type": "stream",
     "text": [
      "Directories(data='data', auxiliary='data/auxiliary', core='data/core', gl30='data/core/gl30', masks='data/auxiliary/masks', gfc='data/core/gfc', gc='data/core/gc')\n"
     ]
    }
   ],
   "source": [
    "cache_folders = {\n",
    "    os.path.split(root)[-1]: root\n",
    "    for root, dirs, files in os.walk('data')\n",
    "}\n",
    "\n",
    "Directories = namedtuple('Directories', cache_folders.keys())\n",
    "dirs = Directories(**cache_folders)\n",
    "\n",
    "print(dirs)"
   ]
  },
  {
   "cell_type": "markdown",
   "metadata": {},
   "source": [
    "# GFC mask"
   ]
  },
  {
   "cell_type": "code",
   "execution_count": 3,
   "metadata": {
    "collapsed": true
   },
   "outputs": [],
   "source": [
    "gfc_files = sorted(os.listdir(dirs.gfc))\n",
    "sub = int(len(gfc_files) / 3)\n",
    "gain, lossyear, treecover = gfc_files[0:sub], gfc_files[sub:2*sub], gfc_files[2*sub:3*sub]\n",
    "gfc_files = list(zip(gain, lossyear, treecover))"
   ]
  },
  {
   "cell_type": "code",
   "execution_count": 32,
   "metadata": {
    "collapsed": true
   },
   "outputs": [],
   "source": [
    "class OrderedDefaultListDict(OrderedDict):\n",
    "    # SOURCE https://stackoverflow.com/questions/6190331/can-i-do-an-ordered-default-dict-in-python#6190500\n",
    "    def __missing__(self, key):\n",
    "        self[key] = value = []\n",
    "        return value\n",
    "\n",
    "    \n",
    "def get_raster_meta(path: str)-> tuple:\n",
    "    Meta = namedtuple('Meta', 'bounds crs') \n",
    "    \n",
    "    with rasterio.open(path, 'r') as src:\n",
    "        bounds = src.bounds\n",
    "        crs = src.crs\n",
    "        \n",
    "    return Meta(bounds=bounds, crs=crs)\n",
    "\n",
    "\n",
    "def bounds_to_polygon(bounds: tuple)-> shapely.geometry.Polygon:\n",
    "    x_points = ['left', 'left', 'right', 'right']\n",
    "    y_points = ['top', 'bottom', 'bottom', 'top']\n",
    "    \n",
    "    polygon_bounds = [\n",
    "        (bounds.__getattribute__(x), bounds.__getattribute__(y))\n",
    "        for x, y in zip(x_points, y_points)\n",
    "    ]  \n",
    "    \n",
    "    return shapely.geometry.Polygon(polygon_bounds)\n",
    "\n",
    "\n",
    "def reproject_bounds(bounds: tuple, source_crs: dict, target_crs: dict)-> tuple:\n",
    "    BoundingBox = namedtuple('BoundingBox', 'left bottom right top')\n",
    "    p1 = pyproj.Proj(**source_crs)\n",
    "    p2 = pyproj.Proj(**target_crs)\n",
    "    left, bottom = pyproj.transform(p1, p2, bounds.left, bounds.bottom)\n",
    "    right, top = pyproj.transform(p1, p2, bounds.right, bounds.top)\n",
    "    return BoundingBox(left, bottom, right, top)\n",
    "\n",
    "\n",
    "def make_properties_table(raster_files)->pd.DataFrame:\n",
    "    # if raster_files contains tuples or lists of different size sort them in ascending order\n",
    "    tmp = OrderedDefaultListDict()\n",
    "    column_name = 'prop'\n",
    "   \n",
    "    for item in raster_files:\n",
    "        if isinstance(item, str):\n",
    "            tmp[column_name + '1'].append(item)\n",
    "            # implement fill with Nan if more then one key in dictionary\n",
    "        else:\n",
    "            for idx, value in enumerate(item):\n",
    "                tmp[column_name + str(idx)].append(value)\n",
    "\n",
    "    return pd.DataFrame(tmp)\n",
    "\n",
    "\n",
    "def tile_index(path_to: str, raster_files: list, target_crs: dict)->gpd.GeoDataFrame:\n",
    "    # REFACTOR put raster_files to args and properties should be provided as a extra list\n",
    "    polygons = []\n",
    "    \n",
    "    for item in raster_files:\n",
    "        if isinstance(item, str):\n",
    "            raster = os.path.join(path_to, item)\n",
    "        else:\n",
    "            raster = os.path.join(path_to, item[0])           \n",
    "        bounds, crs = get_raster_meta(raster)        \n",
    "        if crs != target_crs:\n",
    "            bounds = reproject_bounds(bounds, crs, target_crs)\n",
    "        polygons.append(bounds_to_polygon(bounds))\n",
    "    \n",
    "    properties = make_properties_table(raster_files)\n",
    "    geometry = gpd.GeoSeries(polygons)\n",
    "    layer = gpd.GeoDataFrame(properties, geometry=geometry)\n",
    "    layer.crs = target_crs    \n",
    "    return layer\n",
    "\n",
    "\n",
    "layer = tile_index(dirs.gfc, gfc_files, {'init': 'epsg:4326'})\n",
    "layer.to_file(os.path.join(dirs.masks, 'gfc_mask.shp'))"
   ]
  },
  {
   "cell_type": "markdown",
   "metadata": {},
   "source": [
    "# GL30 mask"
   ]
  },
  {
   "cell_type": "code",
   "execution_count": 6,
   "metadata": {},
   "outputs": [],
   "source": [
    "gl30_files = sorted(os.listdir(dirs.gl30))"
   ]
  },
  {
   "cell_type": "code",
   "execution_count": 34,
   "metadata": {},
   "outputs": [],
   "source": [
    "layer = tile_index(dirs.gl30, gl30_files, {'init': 'epsg:4326'})\n",
    "layer.to_file(os.path.join(dirs.data, 'gfc_mask.shp'))"
   ]
  },
  {
   "cell_type": "markdown",
   "metadata": {},
   "source": [
    "edge tiles have coordinate system issues -> x/long coords overflow bounding box of applied coordinate system"
   ]
  },
  {
   "cell_type": "code",
   "execution_count": 50,
   "metadata": {},
   "outputs": [
    {
     "name": "stdout",
     "output_type": "stream",
     "text": [
      "Meta(bounds=BoundingBox(left=165406.4430837062, bottom=-601.0131174263079, right=834586.4430837199, top=554038.9868832752), crs=CRS({'init': 'epsg:32601'}))\n",
      "BoundingBox(left=203394.629525, bottom=-601.0131174263079, right=834586.4430837199, top=554038.9868832752)\n",
      "BoundingBox(left=-179.6645501420702, bottom=-0.005431635641659461, right=-173.9831051386183, top=5.005478418984218)\n",
      "Meta(bounds=BoundingBox(left=176734.03821238442, bottom=1657719.0263254964, right=823264.038233795, top=2214909.026326404), crs=CRS({'init': 'epsg:32602'}))\n",
      "BoundingBox(left=-174.0053601744084, bottom=14.974692376549765, right=-167.91075246245728, top=20.00401663536249)\n"
     ]
    }
   ],
   "source": [
    "BoundingBox = namedtuple('BoundingBox', 'left bottom right top')\n",
    "meta = get_raster_meta(os.path.join(dirs.gl30, 'n01_00_2010lc030.tif'))\n",
    "meta2 = get_raster_meta(os.path.join(dirs.gl30, 'n02_15_2010lc030.tif'))\n",
    "tmp = BoundingBox(203394.629525, meta.bounds.bottom, meta.bounds.right, meta.bounds.top)\n",
    "bounds = reproject_bounds(tmp, meta.crs, {'init': 'epsg:4326'})\n",
    "bounds2 = reproject_bounds(meta2.bounds, meta2.crs, {'init': 'epsg:4326'})\n",
    "print(meta)\n",
    "print(tmp)\n",
    "print(bounds)\n",
    "print(meta2)\n",
    "print(bounds2)"
   ]
  }
 ],
 "metadata": {
  "kernelspec": {
   "display_name": "Python 3",
   "language": "python",
   "name": "python3"
  },
  "language_info": {
   "codemirror_mode": {
    "name": "ipython",
    "version": 3
   },
   "file_extension": ".py",
   "mimetype": "text/x-python",
   "name": "python",
   "nbconvert_exporter": "python",
   "pygments_lexer": "ipython3",
   "version": "3.5.2"
  },
  "toc": {
   "nav_menu": {},
   "number_sections": true,
   "sideBar": true,
   "skip_h1_title": false,
   "toc_cell": false,
   "toc_position": {},
   "toc_section_display": "block",
   "toc_window_display": false
  }
 },
 "nbformat": 4,
 "nbformat_minor": 1
}
