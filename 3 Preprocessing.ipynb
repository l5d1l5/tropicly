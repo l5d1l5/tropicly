{
 "cells": [
  {
   "cell_type": "markdown",
   "metadata": {},
   "source": [
    "# Preprocessing"
   ]
  },
  {
   "cell_type": "markdown",
   "metadata": {},
   "source": [
    "## Preparation"
   ]
  },
  {
   "cell_type": "code",
   "execution_count": 6,
   "metadata": {
    "collapsed": true
   },
   "outputs": [],
   "source": [
    "%matplotlib inline\n",
    "import os\n",
    "import re\n",
    "import pyproj\n",
    "import shapely\n",
    "import rasterio\n",
    "import threading\n",
    "import numpy as np\n",
    "import pandas as pd\n",
    "import geopandas as gpd\n",
    "from collections import namedtuple\n",
    "from src.decorators import benchmark\n",
    "from src.structures import DefaultOrderedDict"
   ]
  },
  {
   "cell_type": "code",
   "execution_count": 3,
   "metadata": {},
   "outputs": [
    {
     "name": "stdout",
     "output_type": "stream",
     "text": [
      "Directories(gfc='data/core/gfc', data='data', core='data/core', gc='data/core/gc', gl_10='data/core/gl30/gl_10', auxiliary='data/auxiliary', gl30='data/core/gl30', gl_00='data/core/gl30/gl_00', masks='data/auxiliary/masks')\n"
     ]
    }
   ],
   "source": [
    "cache_folders = {\n",
    "    os.path.split(root)[-1]: root\n",
    "    for root, dirs, files in os.walk('data')\n",
    "}\n",
    "\n",
    "Directories = namedtuple('Directories', cache_folders.keys())\n",
    "dirs = Directories(**cache_folders)\n",
    "\n",
    "print(dirs)"
   ]
  },
  {
   "cell_type": "markdown",
   "metadata": {},
   "source": [
    "# GFC mask"
   ]
  },
  {
   "cell_type": "code",
   "execution_count": 4,
   "metadata": {
    "collapsed": true
   },
   "outputs": [],
   "source": [
    "gfc_files = sorted(os.listdir(dirs.gfc))\n",
    "sub = int(len(gfc_files) / 3)\n",
    "gain, lossyear, treecover = gfc_files[0:sub], gfc_files[sub:2*sub], gfc_files[2*sub:3*sub]\n",
    "gfc_files = list(zip(gain, lossyear, treecover))"
   ]
  },
  {
   "cell_type": "code",
   "execution_count": 8,
   "metadata": {
    "collapsed": true
   },
   "outputs": [],
   "source": [
    "def get_raster_meta(path: str)-> tuple:\n",
    "    Meta = namedtuple('Meta', 'bounds crs') \n",
    "    \n",
    "    with rasterio.open(path, 'r') as src:\n",
    "        bounds = src.bounds\n",
    "        crs = src.crs\n",
    "        \n",
    "    return Meta(bounds=bounds, crs=crs)\n",
    "\n",
    "\n",
    "def bounds_to_polygon(bounds: tuple) -> shapely.geometry.Polygon:\n",
    "    x_points = ['left', 'left', 'right', 'right']\n",
    "    y_points = ['top', 'bottom', 'bottom', 'top']\n",
    "    \n",
    "    polygon_bounds = [\n",
    "        (bounds.__getattribute__(x), bounds.__getattribute__(y))\n",
    "        for x, y in zip(x_points, y_points)\n",
    "    ]  \n",
    "    \n",
    "    return shapely.geometry.Polygon(polygon_bounds)\n",
    "\n",
    "\n",
    "def reproject_bounds(bounds: tuple, source_crs: dict, target_crs: dict) -> tuple:\n",
    "    BoundingBox = namedtuple('BoundingBox', 'left bottom right top')\n",
    "    p1 = pyproj.Proj(**source_crs)\n",
    "    p2 = pyproj.Proj(**target_crs)\n",
    "    left, bottom = pyproj.transform(p1, p2, bounds.left, bounds.bottom)\n",
    "    right, top = pyproj.transform(p1, p2, bounds.right, bounds.top)\n",
    "    return BoundingBox(left, bottom, right, top)\n",
    "\n",
    "\n",
    "def make_properties_table(raster_files) -> pd.DataFrame:\n",
    "    # if raster_files contains tuples or lists of different size sort them in ascending order\n",
    "    tmp = DefaultOrderedDict(list)\n",
    "    column_name = 'prop'\n",
    "   \n",
    "    for item in raster_files:\n",
    "        if isinstance(item, str):\n",
    "            tmp[column_name + '1'].append(item)\n",
    "            # implement fill with Nan if more then one key in dictionary\n",
    "        else:\n",
    "            for idx, value in enumerate(item):\n",
    "                tmp[column_name + str(idx)].append(value)\n",
    "\n",
    "    return pd.DataFrame(tmp)\n",
    "\n",
    "\n",
    "def tile_index(path_to: str, raster_files: list, target_crs: dict) -> gpd.GeoDataFrame:\n",
    "    # REFACTOR put raster_files to args and properties should be provided as a extra list\n",
    "    polygons = []\n",
    "    \n",
    "    for item in raster_files:\n",
    "        if isinstance(item, str):\n",
    "            raster = os.path.join(path_to, item)\n",
    "        else:\n",
    "            raster = os.path.join(path_to, item[0])           \n",
    "        bounds, crs = get_raster_meta(raster)        \n",
    "        if crs != target_crs:\n",
    "            bounds = reproject_bounds(bounds, crs, target_crs)\n",
    "        polygons.append(bounds_to_polygon(bounds))\n",
    "    \n",
    "    properties = make_properties_table(raster_files)\n",
    "    geometry = gpd.GeoSeries(polygons)\n",
    "    layer = gpd.GeoDataFrame(properties, geometry=geometry)\n",
    "    layer.crs = target_crs    \n",
    "    return layer\n",
    "\n",
    "\n",
    "hansen_mask = tile_index(dirs.gfc, gfc_files, {'init': 'epsg:4326'})\n",
    "hansen_mask.to_file(os.path.join(dirs.masks, 'gfc_mask.shp'))"
   ]
  },
  {
   "cell_type": "markdown",
   "metadata": {},
   "source": [
    "# GL30 mask"
   ]
  },
  {
   "cell_type": "code",
   "execution_count": 5,
   "metadata": {
    "collapsed": true
   },
   "outputs": [],
   "source": [
    "gl30_files = sorted(os.listdir(dirs.gl30))"
   ]
  },
  {
   "cell_type": "code",
   "execution_count": 6,
   "metadata": {
    "collapsed": true
   },
   "outputs": [],
   "source": [
    "layer = tile_index(dirs.gl30, gl30_files, {'init': 'epsg:4326'})\n",
    "layer.to_file(os.path.join(dirs.data, 'gfc_mask.shp'))"
   ]
  },
  {
   "cell_type": "markdown",
   "metadata": {},
   "source": [
    "edge tiles have coordinate system issues -> x/long coords overflow bounding box of applied coordinate system"
   ]
  },
  {
   "cell_type": "code",
   "execution_count": 50,
   "metadata": {},
   "outputs": [
    {
     "name": "stdout",
     "output_type": "stream",
     "text": [
      "Meta(bounds=BoundingBox(left=165406.4430837062, bottom=-601.0131174263079, right=834586.4430837199, top=554038.9868832752), crs=CRS({'init': 'epsg:32601'}))\n",
      "BoundingBox(left=203394.629525, bottom=-601.0131174263079, right=834586.4430837199, top=554038.9868832752)\n",
      "BoundingBox(left=-179.6645501420702, bottom=-0.005431635641659461, right=-173.9831051386183, top=5.005478418984218)\n",
      "Meta(bounds=BoundingBox(left=176734.03821238442, bottom=1657719.0263254964, right=823264.038233795, top=2214909.026326404), crs=CRS({'init': 'epsg:32602'}))\n",
      "BoundingBox(left=-174.0053601744084, bottom=14.974692376549765, right=-167.91075246245728, top=20.00401663536249)\n"
     ]
    }
   ],
   "source": [
    "BoundingBox = namedtuple('BoundingBox', 'left bottom right top')\n",
    "meta = get_raster_meta(os.path.join(dirs.gl30, 'n01_00_2010lc030.tif'))\n",
    "meta2 = get_raster_meta(os.path.join(dirs.gl30, 'n02_15_2010lc030.tif'))\n",
    "tmp = BoundingBox(203394.629525, meta.bounds.bottom, meta.bounds.right, meta.bounds.top)\n",
    "bounds = reproject_bounds(tmp, meta.crs, {'init': 'epsg:4326'})\n",
    "bounds2 = reproject_bounds(meta2.bounds, meta2.crs, {'init': 'epsg:4326'})\n",
    "print(meta)\n",
    "print(tmp)\n",
    "print(bounds)\n",
    "print(meta2)\n",
    "print(bounds2)"
   ]
  },
  {
   "cell_type": "markdown",
   "metadata": {},
   "source": [
    "# Spatial harmonization\n",
    "Workflow\n",
    "- initial\n",
    "    - select forest (class value 20) from dataset gl30 - 2000\n",
    "    - recode values to binary format 20 = 1, 0 = 0\n",
    "    - select forest (class value 0 - 100) from hansen tree cover 2000\n",
    "    - recode values to binary format 1 - 100 = 1, 0 = 0\n",
    "    - calculate Jaccard Index with chen and hansen\n",
    "- looping\n",
    "    - select forest (0 + 10) - 100 from hansen tree cover 2000\n",
    "    - recode values to binary format (0 + 10) - 100 = 1, 0 = 0\n",
    "    - calculate Jaccard Index with chen and hansen\n",
    "    - do till 30 or Jaccard Index is max\n",
    "Potential Images\n",
    "- world agreement map with different \n",
    "    - compare chen and hansen treccover in one image\n",
    "    - sum of both dataset\n",
    "    - 2 = agreement, 1 = disagreement"
   ]
  },
  {
   "cell_type": "code",
   "execution_count": 1,
   "metadata": {
    "collapsed": true
   },
   "outputs": [],
   "source": [
    "# TODO should it work inplace? Benchmark memory occupation! Check equal dimensions \n",
    "def binary_jaccard(arr1, arr2, return_matrix=False):\n",
    "    \"\"\"\n",
    "    Calculates the Jaccard Index (JI) of two equal sized binary arrays or vectors.\n",
    "    If return_matrix is set to true the method provides the JI and the necessary \n",
    "    calculation matrix as a named tuple.\n",
    "    \n",
    "    :param arr1, arr2: numpy.ndarray, list, tuple\n",
    "        Both array alike objects sized in equal dimensions should contain exclusively \n",
    "        binary data (1,0). \n",
    "    :param return_matrix: boolean\n",
    "        Optional, a boolean value determining the return of the calculation matrix. \n",
    "    :return: float OR (float, namedtuple)\n",
    "        Defaultly, the method returns only the JI if, return_matrix is set to true the \n",
    "        method returns the JI and the computation matrix.\n",
    "        The Matrix contains the following attributes:\n",
    "        m11 = total number of attributes where arr1 == 1 and arr2 == 1\n",
    "        m10 = total number of attributes where arr1 == 1 and arr2 == 0\n",
    "        m01 = total number of attributes where arr1 == 0 and arr2 == 1\n",
    "        m00 = not required, set to 0\n",
    "    \"\"\"\n",
    "    A, B = np.array(arr1, dtype=np.int8), np.array(arr2, dtype=np.int8)\n",
    "    \n",
    "    if np.sum(np.logical_or(A<0,A>1)) != 0 or np.sum(np.logical_or(B<0,B>1)) != 0:\n",
    "        raise ValueError('Attributes should contain only binary values')\n",
    "  \n",
    "    C = A + B\n",
    "    a = (B - C) + B  # a = (A - C) + A, m10 = a == 1\n",
    "    b = (A - C) + A  # b = (B - C) + B, m01 = b == 1\n",
    "\n",
    "    # Total number of attributes where A == 1 and B == 1\n",
    "    m11 = np.sum(C==2)\n",
    "    # Total number of attributes where A == 1 and B == 0\n",
    "    m10 = np.sum(a==-1)\n",
    "    # Total number of attributes where A == 0 and B == 1\n",
    "    m01 = np.sum(b==-1)\n",
    "    \n",
    "    jaccard = m11 / (m10 + m01 + m11)\n",
    "    \n",
    "    if return_matrix:\n",
    "        Matrix = namedtuple('Matrix', 'm11 m10 m01 m00')\n",
    "        return jaccard, Matrix(m11, m10, m01, 0)\n",
    "    return jaccard\n",
    "\n",
    "# TODO should it work inplace? Benchmark memory occupation! \n",
    "def simple_matching_coefficient(arr1, arr2, return_matrix=False):\n",
    "    \"\"\"\n",
    "    Calculates the Simple Matching Coefficient (SMC) of two equal sized arrays or vectors.\n",
    "    If return_matrix is set to true the method provides the SMC and the necessary calculation \n",
    "    matrix as a named tuple.\n",
    "    \n",
    "    :param arr1, arr2: numpy.ndarray, list, tuple\n",
    "        Both array alike objects sized in equal dimensions should contain exclusively \n",
    "        binary data (1,0).\n",
    "    :param return_matrix: boolean\n",
    "        Optional, a boolean value determining the return of the calculation matrix.\n",
    "    :return: float OR (float, namedtuple)\n",
    "        Defaultly, the method returns only the SMC, if return_matrix is\n",
    "        set to true the method returns the SMC and the computation matrix.\n",
    "        The Matrix contains the following attributes:\n",
    "        m11 = total number of attributes where arr1 == 1 and arr2 == 1\n",
    "        m10 = total number of attributes where arr1 == 1 and arr2 == 0\n",
    "        m01 = total number of attributes where arr1 == 0 and arr2 == 1\n",
    "        m00 = total number of attributes where arr1 == 0 and arr2 == 0\n",
    "    \"\"\"\n",
    "    _, matrix = binary_jaccard(arr1, arr2, True)\n",
    "    A = np.array(arr1, dtype=np.int8)\n",
    "    \n",
    "    # Total number of attributes where A == 0 and B == 0\n",
    "    m00 = A.size - sum(matrix)\n",
    "    \n",
    "    smc = (matrix.m11 + m00) / A.size\n",
    "\n",
    "    if return_matrix:\n",
    "        matrix = matrix._replace(m00=m00)\n",
    "        return smc, matrix\n",
    "    return smc"
   ]
  },
  {
   "cell_type": "code",
   "execution_count": 9,
   "metadata": {},
   "outputs": [],
   "source": [
    "latin_america = hansen_mask.cx[,]"
   ]
  }
 ],
 "metadata": {
  "kernelspec": {
   "display_name": "Python 3",
   "language": "python",
   "name": "python3"
  },
  "language_info": {
   "codemirror_mode": {
    "name": "ipython",
    "version": 3
   },
   "file_extension": ".py",
   "mimetype": "text/x-python",
   "name": "python",
   "nbconvert_exporter": "python",
   "pygments_lexer": "ipython3",
   "version": "3.5.2"
  },
  "latex_envs": {
   "LaTeX_envs_menu_present": true,
   "autocomplete": true,
   "bibliofile": "lit.bib",
   "cite_by": "apalike",
   "current_citInitial": 1,
   "eqLabelWithNumbers": true,
   "eqNumInitial": 1,
   "hotkeys": {
    "equation": "Ctrl-E",
    "itemize": "Ctrl-I"
   },
   "labels_anchors": false,
   "latex_user_defs": false,
   "report_style_numbering": false,
   "user_envs_cfg": false
  },
  "toc": {
   "nav_menu": {},
   "number_sections": true,
   "sideBar": true,
   "skip_h1_title": false,
   "toc_cell": false,
   "toc_position": {},
   "toc_section_display": "block",
   "toc_window_display": false
  }
 },
 "nbformat": 4,
 "nbformat_minor": 1
}
