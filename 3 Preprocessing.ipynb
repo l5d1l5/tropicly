{
 "cells": [
  {
   "cell_type": "code",
   "execution_count": 14,
   "metadata": {
    "collapsed": true
   },
   "outputs": [],
   "source": [
    "import os\n",
    "import re\n",
    "import fiona\n",
    "import rasterio\n",
    "import shapely\n",
    "import threading\n",
    "import pyproj\n",
    "import pandas as pd\n",
    "import geopandas as gpd\n",
    "from collections import namedtuple, defaultdict"
   ]
  },
  {
   "cell_type": "code",
   "execution_count": 2,
   "metadata": {},
   "outputs": [
    {
     "name": "stdout",
     "output_type": "stream",
     "text": [
      "Directories(data='data', core='data/core', gc='data/core/gc', masks='data/masks', gfc='data/core/gfc', auxiliary='data/auxiliary', gl30='data/core/gl30')\n"
     ]
    }
   ],
   "source": [
    "cache_folders = {\n",
    "    os.path.split(root)[-1]: root\n",
    "    for root, dirs, files in os.walk('data')\n",
    "}\n",
    "\n",
    "Directories = namedtuple('Directories', cache_folders.keys())\n",
    "dirs = Directories(**cache_folders)\n",
    "\n",
    "print(dirs)"
   ]
  },
  {
   "cell_type": "markdown",
   "metadata": {},
   "source": [
    "# GFC mask"
   ]
  },
  {
   "cell_type": "code",
   "execution_count": 3,
   "metadata": {
    "collapsed": true
   },
   "outputs": [],
   "source": [
    "regex = re.compile(r'(?P<id>\\d{2}(?:N|S)_\\d{3}(?:W|E))', re.VERBOSE | re.IGNORECASE)\n",
    "\n",
    "gfc_files = defaultdict(list)\n",
    "for item in os.listdir(dirs.gfc):\n",
    "    match = regex.search(item).group('id')\n",
    "    gfc_files[match].append(item)\n",
    "    if len(gfc_files[match]) == 3:\n",
    "        gfc_files[match] = sorted(gfc_files[match])"
   ]
  },
  {
   "cell_type": "code",
   "execution_count": 53,
   "metadata": {},
   "outputs": [],
   "source": [
    "def get_raster_meta(path):\n",
    "    with rasterio.open(path, 'r') as src:\n",
    "        bounds = src.bounds\n",
    "        crs = src.crs\n",
    "    return crs, bounds\n",
    "\n",
    "\n",
    "def bounds_to_polygon(bounds):\n",
    "    x_points = ['left', 'left', 'right', 'right']\n",
    "    y_points = ['top', 'bottom', 'bottom', 'top']\n",
    "\n",
    "    polygon_bounds = [\n",
    "        (bounds.__getattribute__(x), bounds.__getattribute__(y))\n",
    "        for x, y in zip(x_points, y_points)\n",
    "    ]\n",
    "    return shapely.geometry.Polygon(polygon_bounds)\n",
    "\n",
    "\n",
    "def reproject_bounds(bounds, crs):\n",
    "    pass\n",
    "\n",
    "\n",
    "properties = {'id': [], 'gain': [], 'loss': [], 'cover': []}\n",
    "polygons = []\n",
    "for key, value in gfc_files.items():\n",
    "    crs, bounds = get_raster_meta(dirs.gfc + os.sep + value[0])\n",
    "    polygons.append(bounds_to_polygon(bounds))\n",
    "    properties['id'].append(key)\n",
    "    properties['gain'].append(value[0])\n",
    "    properties['loss'].append(value[1])\n",
    "    properties['cover'].append(value[2])\n",
    "\n",
    "df = pd.DataFrame(properties)\n",
    "gs = gpd.GeoSeries(polygons)\n",
    "layer = gpd.GeoDataFrame(df, geometry=gs)\n",
    "layer.crs = {'init': 'epsg:4326'}\n",
    "layer.to_file('data/test.shp')"
   ]
  }
 ],
 "metadata": {
  "kernelspec": {
   "display_name": "Python 3",
   "language": "python",
   "name": "python3"
  },
  "language_info": {
   "codemirror_mode": {
    "name": "ipython",
    "version": 3
   },
   "file_extension": ".py",
   "mimetype": "text/x-python",
   "name": "python",
   "nbconvert_exporter": "python",
   "pygments_lexer": "ipython3",
   "version": "3.5.2"
  },
  "toc": {
   "nav_menu": {},
   "number_sections": true,
   "sideBar": true,
   "skip_h1_title": false,
   "toc_cell": false,
   "toc_position": {},
   "toc_section_display": "block",
   "toc_window_display": false
  }
 },
 "nbformat": 4,
 "nbformat_minor": 1
}
