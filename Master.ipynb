{
 "cells": [
  {
   "cell_type": "markdown",
   "metadata": {},
   "source": [
    "##### Prerequisites"
   ]
  },
  {
   "cell_type": "markdown",
   "metadata": {},
   "source": [
    "##### Abstract"
   ]
  },
  {
   "cell_type": "markdown",
   "metadata": {},
   "source": [
    "# Introduction"
   ]
  },
  {
   "cell_type": "markdown",
   "metadata": {},
   "source": [
    "# Data and methods"
   ]
  },
  {
   "cell_type": "code",
   "execution_count": 1,
   "metadata": {},
   "outputs": [
    {
     "data": {
      "text/html": [
       "\n",
       "    <div class=\"bk-root\">\n",
       "        <a href=\"https://bokeh.pydata.org\" target=\"_blank\" class=\"bk-logo bk-logo-small bk-logo-notebook\"></a>\n",
       "        <span id=\"9cad41b4-75c3-4338-bb42-cbea8283a915\">Loading BokehJS ...</span>\n",
       "    </div>"
      ]
     },
     "metadata": {},
     "output_type": "display_data"
    },
    {
     "data": {
      "application/javascript": [
       "\n",
       "(function(root) {\n",
       "  function now() {\n",
       "    return new Date();\n",
       "  }\n",
       "\n",
       "  var force = true;\n",
       "\n",
       "  if (typeof (root._bokeh_onload_callbacks) === \"undefined\" || force === true) {\n",
       "    root._bokeh_onload_callbacks = [];\n",
       "    root._bokeh_is_loading = undefined;\n",
       "  }\n",
       "\n",
       "  var JS_MIME_TYPE = 'application/javascript';\n",
       "  var HTML_MIME_TYPE = 'text/html';\n",
       "  var EXEC_MIME_TYPE = 'application/vnd.bokehjs_exec.v0+json';\n",
       "  var CLASS_NAME = 'output_bokeh rendered_html';\n",
       "\n",
       "  /**\n",
       "   * Render data to the DOM node\n",
       "   */\n",
       "  function render(props, node) {\n",
       "    var script = document.createElement(\"script\");\n",
       "    node.appendChild(script);\n",
       "  }\n",
       "\n",
       "  /**\n",
       "   * Handle when an output is cleared or removed\n",
       "   */\n",
       "  function handleClearOutput(event, handle) {\n",
       "    var cell = handle.cell;\n",
       "\n",
       "    var id = cell.output_area._bokeh_element_id;\n",
       "    var server_id = cell.output_area._bokeh_server_id;\n",
       "    // Clean up Bokeh references\n",
       "    if (id !== undefined) {\n",
       "      Bokeh.index[id].model.document.clear();\n",
       "      delete Bokeh.index[id];\n",
       "    }\n",
       "\n",
       "    if (server_id !== undefined) {\n",
       "      // Clean up Bokeh references\n",
       "      var cmd = \"from bokeh.io.state import curstate; print(curstate().uuid_to_server['\" + server_id + \"'].get_sessions()[0].document.roots[0]._id)\";\n",
       "      cell.notebook.kernel.execute(cmd, {\n",
       "        iopub: {\n",
       "          output: function(msg) {\n",
       "            var element_id = msg.content.text.trim();\n",
       "            Bokeh.index[element_id].model.document.clear();\n",
       "            delete Bokeh.index[element_id];\n",
       "          }\n",
       "        }\n",
       "      });\n",
       "      // Destroy server and session\n",
       "      var cmd = \"import bokeh.io.notebook as ion; ion.destroy_server('\" + server_id + \"')\";\n",
       "      cell.notebook.kernel.execute(cmd);\n",
       "    }\n",
       "  }\n",
       "\n",
       "  /**\n",
       "   * Handle when a new output is added\n",
       "   */\n",
       "  function handleAddOutput(event, handle) {\n",
       "    var output_area = handle.output_area;\n",
       "    var output = handle.output;\n",
       "\n",
       "    // limit handleAddOutput to display_data with EXEC_MIME_TYPE content only\n",
       "    if ((output.output_type != \"display_data\") || (!output.data.hasOwnProperty(EXEC_MIME_TYPE))) {\n",
       "      return\n",
       "    }\n",
       "\n",
       "    var toinsert = output_area.element.find(\".\" + CLASS_NAME.split(' ')[0]);\n",
       "\n",
       "    if (output.metadata[EXEC_MIME_TYPE][\"id\"] !== undefined) {\n",
       "      toinsert[0].firstChild.textContent = output.data[JS_MIME_TYPE];\n",
       "      // store reference to embed id on output_area\n",
       "      output_area._bokeh_element_id = output.metadata[EXEC_MIME_TYPE][\"id\"];\n",
       "    }\n",
       "    if (output.metadata[EXEC_MIME_TYPE][\"server_id\"] !== undefined) {\n",
       "      var bk_div = document.createElement(\"div\");\n",
       "      bk_div.innerHTML = output.data[HTML_MIME_TYPE];\n",
       "      var script_attrs = bk_div.children[0].attributes;\n",
       "      for (var i = 0; i < script_attrs.length; i++) {\n",
       "        toinsert[0].firstChild.setAttribute(script_attrs[i].name, script_attrs[i].value);\n",
       "      }\n",
       "      // store reference to server id on output_area\n",
       "      output_area._bokeh_server_id = output.metadata[EXEC_MIME_TYPE][\"server_id\"];\n",
       "    }\n",
       "  }\n",
       "\n",
       "  function register_renderer(events, OutputArea) {\n",
       "\n",
       "    function append_mime(data, metadata, element) {\n",
       "      // create a DOM node to render to\n",
       "      var toinsert = this.create_output_subarea(\n",
       "        metadata,\n",
       "        CLASS_NAME,\n",
       "        EXEC_MIME_TYPE\n",
       "      );\n",
       "      this.keyboard_manager.register_events(toinsert);\n",
       "      // Render to node\n",
       "      var props = {data: data, metadata: metadata[EXEC_MIME_TYPE]};\n",
       "      render(props, toinsert[0]);\n",
       "      element.append(toinsert);\n",
       "      return toinsert\n",
       "    }\n",
       "\n",
       "    /* Handle when an output is cleared or removed */\n",
       "    events.on('clear_output.CodeCell', handleClearOutput);\n",
       "    events.on('delete.Cell', handleClearOutput);\n",
       "\n",
       "    /* Handle when a new output is added */\n",
       "    events.on('output_added.OutputArea', handleAddOutput);\n",
       "\n",
       "    /**\n",
       "     * Register the mime type and append_mime function with output_area\n",
       "     */\n",
       "    OutputArea.prototype.register_mime_type(EXEC_MIME_TYPE, append_mime, {\n",
       "      /* Is output safe? */\n",
       "      safe: true,\n",
       "      /* Index of renderer in `output_area.display_order` */\n",
       "      index: 0\n",
       "    });\n",
       "  }\n",
       "\n",
       "  // register the mime type if in Jupyter Notebook environment and previously unregistered\n",
       "  if (root.Jupyter !== undefined) {\n",
       "    var events = require('base/js/events');\n",
       "    var OutputArea = require('notebook/js/outputarea').OutputArea;\n",
       "\n",
       "    if (OutputArea.prototype.mime_types().indexOf(EXEC_MIME_TYPE) == -1) {\n",
       "      register_renderer(events, OutputArea);\n",
       "    }\n",
       "  }\n",
       "\n",
       "  \n",
       "  if (typeof (root._bokeh_timeout) === \"undefined\" || force === true) {\n",
       "    root._bokeh_timeout = Date.now() + 5000;\n",
       "    root._bokeh_failed_load = false;\n",
       "  }\n",
       "\n",
       "  var NB_LOAD_WARNING = {'data': {'text/html':\n",
       "     \"<div style='background-color: #fdd'>\\n\"+\n",
       "     \"<p>\\n\"+\n",
       "     \"BokehJS does not appear to have successfully loaded. If loading BokehJS from CDN, this \\n\"+\n",
       "     \"may be due to a slow or bad network connection. Possible fixes:\\n\"+\n",
       "     \"</p>\\n\"+\n",
       "     \"<ul>\\n\"+\n",
       "     \"<li>re-rerun `output_notebook()` to attempt to load from CDN again, or</li>\\n\"+\n",
       "     \"<li>use INLINE resources instead, as so:</li>\\n\"+\n",
       "     \"</ul>\\n\"+\n",
       "     \"<code>\\n\"+\n",
       "     \"from bokeh.resources import INLINE\\n\"+\n",
       "     \"output_notebook(resources=INLINE)\\n\"+\n",
       "     \"</code>\\n\"+\n",
       "     \"</div>\"}};\n",
       "\n",
       "  function display_loaded() {\n",
       "    var el = document.getElementById(\"9cad41b4-75c3-4338-bb42-cbea8283a915\");\n",
       "    if (el != null) {\n",
       "      el.textContent = \"BokehJS is loading...\";\n",
       "    }\n",
       "    if (root.Bokeh !== undefined) {\n",
       "      if (el != null) {\n",
       "        el.textContent = \"BokehJS \" + root.Bokeh.version + \" successfully loaded.\";\n",
       "      }\n",
       "    } else if (Date.now() < root._bokeh_timeout) {\n",
       "      setTimeout(display_loaded, 100)\n",
       "    }\n",
       "  }\n",
       "\n",
       "\n",
       "  function run_callbacks() {\n",
       "    try {\n",
       "      root._bokeh_onload_callbacks.forEach(function(callback) { callback() });\n",
       "    }\n",
       "    finally {\n",
       "      delete root._bokeh_onload_callbacks\n",
       "    }\n",
       "    console.info(\"Bokeh: all callbacks have finished\");\n",
       "  }\n",
       "\n",
       "  function load_libs(js_urls, callback) {\n",
       "    root._bokeh_onload_callbacks.push(callback);\n",
       "    if (root._bokeh_is_loading > 0) {\n",
       "      console.log(\"Bokeh: BokehJS is being loaded, scheduling callback at\", now());\n",
       "      return null;\n",
       "    }\n",
       "    if (js_urls == null || js_urls.length === 0) {\n",
       "      run_callbacks();\n",
       "      return null;\n",
       "    }\n",
       "    console.log(\"Bokeh: BokehJS not loaded, scheduling load and callback at\", now());\n",
       "    root._bokeh_is_loading = js_urls.length;\n",
       "    for (var i = 0; i < js_urls.length; i++) {\n",
       "      var url = js_urls[i];\n",
       "      var s = document.createElement('script');\n",
       "      s.src = url;\n",
       "      s.async = false;\n",
       "      s.onreadystatechange = s.onload = function() {\n",
       "        root._bokeh_is_loading--;\n",
       "        if (root._bokeh_is_loading === 0) {\n",
       "          console.log(\"Bokeh: all BokehJS libraries loaded\");\n",
       "          run_callbacks()\n",
       "        }\n",
       "      };\n",
       "      s.onerror = function() {\n",
       "        console.warn(\"failed to load library \" + url);\n",
       "      };\n",
       "      console.log(\"Bokeh: injecting script tag for BokehJS library: \", url);\n",
       "      document.getElementsByTagName(\"head\")[0].appendChild(s);\n",
       "    }\n",
       "  };var element = document.getElementById(\"9cad41b4-75c3-4338-bb42-cbea8283a915\");\n",
       "  if (element == null) {\n",
       "    console.log(\"Bokeh: ERROR: autoload.js configured with elementid '9cad41b4-75c3-4338-bb42-cbea8283a915' but no matching script tag was found. \")\n",
       "    return false;\n",
       "  }\n",
       "\n",
       "  var js_urls = [\"https://cdn.pydata.org/bokeh/release/bokeh-0.12.13.min.js\", \"https://cdn.pydata.org/bokeh/release/bokeh-widgets-0.12.13.min.js\", \"https://cdn.pydata.org/bokeh/release/bokeh-tables-0.12.13.min.js\", \"https://cdn.pydata.org/bokeh/release/bokeh-gl-0.12.13.min.js\"];\n",
       "\n",
       "  var inline_js = [\n",
       "    function(Bokeh) {\n",
       "      Bokeh.set_log_level(\"info\");\n",
       "    },\n",
       "    \n",
       "    function(Bokeh) {\n",
       "      \n",
       "    },\n",
       "    function(Bokeh) {\n",
       "      console.log(\"Bokeh: injecting CSS: https://cdn.pydata.org/bokeh/release/bokeh-0.12.13.min.css\");\n",
       "      Bokeh.embed.inject_css(\"https://cdn.pydata.org/bokeh/release/bokeh-0.12.13.min.css\");\n",
       "      console.log(\"Bokeh: injecting CSS: https://cdn.pydata.org/bokeh/release/bokeh-widgets-0.12.13.min.css\");\n",
       "      Bokeh.embed.inject_css(\"https://cdn.pydata.org/bokeh/release/bokeh-widgets-0.12.13.min.css\");\n",
       "      console.log(\"Bokeh: injecting CSS: https://cdn.pydata.org/bokeh/release/bokeh-tables-0.12.13.min.css\");\n",
       "      Bokeh.embed.inject_css(\"https://cdn.pydata.org/bokeh/release/bokeh-tables-0.12.13.min.css\");\n",
       "    }\n",
       "  ];\n",
       "\n",
       "  function run_inline_js() {\n",
       "    \n",
       "    if ((root.Bokeh !== undefined) || (force === true)) {\n",
       "      for (var i = 0; i < inline_js.length; i++) {\n",
       "        inline_js[i].call(root, root.Bokeh);\n",
       "      }if (force === true) {\n",
       "        display_loaded();\n",
       "      }} else if (Date.now() < root._bokeh_timeout) {\n",
       "      setTimeout(run_inline_js, 100);\n",
       "    } else if (!root._bokeh_failed_load) {\n",
       "      console.log(\"Bokeh: BokehJS failed to load within specified timeout.\");\n",
       "      root._bokeh_failed_load = true;\n",
       "    } else if (force !== true) {\n",
       "      var cell = $(document.getElementById(\"9cad41b4-75c3-4338-bb42-cbea8283a915\")).parents('.cell').data().cell;\n",
       "      cell.output_area.append_execute_result(NB_LOAD_WARNING)\n",
       "    }\n",
       "\n",
       "  }\n",
       "\n",
       "  if (root._bokeh_is_loading === 0) {\n",
       "    console.log(\"Bokeh: BokehJS loaded, going straight to plotting\");\n",
       "    run_inline_js();\n",
       "  } else {\n",
       "    load_libs(js_urls, function() {\n",
       "      console.log(\"Bokeh: BokehJS plotting callback run at\", now());\n",
       "      run_inline_js();\n",
       "    });\n",
       "  }\n",
       "}(window));"
      ],
      "application/vnd.bokehjs_load.v0+json": "\n(function(root) {\n  function now() {\n    return new Date();\n  }\n\n  var force = true;\n\n  if (typeof (root._bokeh_onload_callbacks) === \"undefined\" || force === true) {\n    root._bokeh_onload_callbacks = [];\n    root._bokeh_is_loading = undefined;\n  }\n\n  \n\n  \n  if (typeof (root._bokeh_timeout) === \"undefined\" || force === true) {\n    root._bokeh_timeout = Date.now() + 5000;\n    root._bokeh_failed_load = false;\n  }\n\n  var NB_LOAD_WARNING = {'data': {'text/html':\n     \"<div style='background-color: #fdd'>\\n\"+\n     \"<p>\\n\"+\n     \"BokehJS does not appear to have successfully loaded. If loading BokehJS from CDN, this \\n\"+\n     \"may be due to a slow or bad network connection. Possible fixes:\\n\"+\n     \"</p>\\n\"+\n     \"<ul>\\n\"+\n     \"<li>re-rerun `output_notebook()` to attempt to load from CDN again, or</li>\\n\"+\n     \"<li>use INLINE resources instead, as so:</li>\\n\"+\n     \"</ul>\\n\"+\n     \"<code>\\n\"+\n     \"from bokeh.resources import INLINE\\n\"+\n     \"output_notebook(resources=INLINE)\\n\"+\n     \"</code>\\n\"+\n     \"</div>\"}};\n\n  function display_loaded() {\n    var el = document.getElementById(\"9cad41b4-75c3-4338-bb42-cbea8283a915\");\n    if (el != null) {\n      el.textContent = \"BokehJS is loading...\";\n    }\n    if (root.Bokeh !== undefined) {\n      if (el != null) {\n        el.textContent = \"BokehJS \" + root.Bokeh.version + \" successfully loaded.\";\n      }\n    } else if (Date.now() < root._bokeh_timeout) {\n      setTimeout(display_loaded, 100)\n    }\n  }\n\n\n  function run_callbacks() {\n    try {\n      root._bokeh_onload_callbacks.forEach(function(callback) { callback() });\n    }\n    finally {\n      delete root._bokeh_onload_callbacks\n    }\n    console.info(\"Bokeh: all callbacks have finished\");\n  }\n\n  function load_libs(js_urls, callback) {\n    root._bokeh_onload_callbacks.push(callback);\n    if (root._bokeh_is_loading > 0) {\n      console.log(\"Bokeh: BokehJS is being loaded, scheduling callback at\", now());\n      return null;\n    }\n    if (js_urls == null || js_urls.length === 0) {\n      run_callbacks();\n      return null;\n    }\n    console.log(\"Bokeh: BokehJS not loaded, scheduling load and callback at\", now());\n    root._bokeh_is_loading = js_urls.length;\n    for (var i = 0; i < js_urls.length; i++) {\n      var url = js_urls[i];\n      var s = document.createElement('script');\n      s.src = url;\n      s.async = false;\n      s.onreadystatechange = s.onload = function() {\n        root._bokeh_is_loading--;\n        if (root._bokeh_is_loading === 0) {\n          console.log(\"Bokeh: all BokehJS libraries loaded\");\n          run_callbacks()\n        }\n      };\n      s.onerror = function() {\n        console.warn(\"failed to load library \" + url);\n      };\n      console.log(\"Bokeh: injecting script tag for BokehJS library: \", url);\n      document.getElementsByTagName(\"head\")[0].appendChild(s);\n    }\n  };var element = document.getElementById(\"9cad41b4-75c3-4338-bb42-cbea8283a915\");\n  if (element == null) {\n    console.log(\"Bokeh: ERROR: autoload.js configured with elementid '9cad41b4-75c3-4338-bb42-cbea8283a915' but no matching script tag was found. \")\n    return false;\n  }\n\n  var js_urls = [\"https://cdn.pydata.org/bokeh/release/bokeh-0.12.13.min.js\", \"https://cdn.pydata.org/bokeh/release/bokeh-widgets-0.12.13.min.js\", \"https://cdn.pydata.org/bokeh/release/bokeh-tables-0.12.13.min.js\", \"https://cdn.pydata.org/bokeh/release/bokeh-gl-0.12.13.min.js\"];\n\n  var inline_js = [\n    function(Bokeh) {\n      Bokeh.set_log_level(\"info\");\n    },\n    \n    function(Bokeh) {\n      \n    },\n    function(Bokeh) {\n      console.log(\"Bokeh: injecting CSS: https://cdn.pydata.org/bokeh/release/bokeh-0.12.13.min.css\");\n      Bokeh.embed.inject_css(\"https://cdn.pydata.org/bokeh/release/bokeh-0.12.13.min.css\");\n      console.log(\"Bokeh: injecting CSS: https://cdn.pydata.org/bokeh/release/bokeh-widgets-0.12.13.min.css\");\n      Bokeh.embed.inject_css(\"https://cdn.pydata.org/bokeh/release/bokeh-widgets-0.12.13.min.css\");\n      console.log(\"Bokeh: injecting CSS: https://cdn.pydata.org/bokeh/release/bokeh-tables-0.12.13.min.css\");\n      Bokeh.embed.inject_css(\"https://cdn.pydata.org/bokeh/release/bokeh-tables-0.12.13.min.css\");\n    }\n  ];\n\n  function run_inline_js() {\n    \n    if ((root.Bokeh !== undefined) || (force === true)) {\n      for (var i = 0; i < inline_js.length; i++) {\n        inline_js[i].call(root, root.Bokeh);\n      }if (force === true) {\n        display_loaded();\n      }} else if (Date.now() < root._bokeh_timeout) {\n      setTimeout(run_inline_js, 100);\n    } else if (!root._bokeh_failed_load) {\n      console.log(\"Bokeh: BokehJS failed to load within specified timeout.\");\n      root._bokeh_failed_load = true;\n    } else if (force !== true) {\n      var cell = $(document.getElementById(\"9cad41b4-75c3-4338-bb42-cbea8283a915\")).parents('.cell').data().cell;\n      cell.output_area.append_execute_result(NB_LOAD_WARNING)\n    }\n\n  }\n\n  if (root._bokeh_is_loading === 0) {\n    console.log(\"Bokeh: BokehJS loaded, going straight to plotting\");\n    run_inline_js();\n  } else {\n    load_libs(js_urls, function() {\n      console.log(\"Bokeh: BokehJS plotting callback run at\", now());\n      run_inline_js();\n    });\n  }\n}(window));"
     },
     "metadata": {},
     "output_type": "display_data"
    }
   ],
   "source": [
    "import os\n",
    "import re\n",
    "import queue\n",
    "import zipfile\n",
    "import logging\n",
    "import threading\n",
    "import multiprocessing\n",
    "\n",
    "import numpy as np\n",
    "import pandas as pd\n",
    "import geopandas as gpd\n",
    "\n",
    "from src.utils import *\n",
    "from pathlib import Path\n",
    "from affine import Affine\n",
    "from bokeh.transform import jitter\n",
    "from bokeh.layouts import gridplot\n",
    "from collections import defaultdict\n",
    "from IPython.display import clear_output\n",
    "from bokeh.models import HoverTool, FactorRange\n",
    "from bokeh.plotting import output_notebook, show, figure, ColumnDataSource\n",
    "\n",
    "\n",
    "directories = \"\"\"\n",
    "data\n",
    "data.log\n",
    "data.tmp\n",
    "data.ana\n",
    "data.driv\n",
    "data.proc\n",
    "data.core\n",
    "data.core.ifl\n",
    "data.core.gfc\n",
    "data.core.soil\n",
    "data.core.gl30\n",
    "data.core.esvd\n",
    "data.core.biomass\n",
    "data.auxiliary\n",
    "data.auxiliary.masks\n",
    "\"\"\"\n",
    "\n",
    "for item in directories.split():\n",
    "    path = os.sep.join(item.split('.'))\n",
    "    try:\n",
    "        os.mkdir(path)\n",
    "    except OSError:\n",
    "        pass\n",
    "\n",
    "# Convenient access to data directory, is a namedtuple with folder names as attributes\n",
    "DIRS = get_data_dir(str(Path('data').resolve()))\n",
    "    \n",
    "# init Logging\n",
    "formater = logging.Formatter('%(asctime)s %(levelname)s: %(message)s', '%d/%m/%y %H:%M:%S')\n",
    "handler = logging.FileHandler(str(DIRS.log / 'utils.log'), 'a+')\n",
    "handler.setLevel(logging.DEBUG)\n",
    "handler.setFormatter(formater)\n",
    "\n",
    "# LOGGER.setLevel(logging.DEBUG)\n",
    "# LOGGER.addHandler(handler)\n",
    "\n",
    "# Many functions of the processing pipeline are multi-threaded this attribute controls\n",
    "# max number of threads\n",
    "THREADLIMIT = 12\n",
    "\n",
    "SPOOF_AGENT = {'headers': {'User-Agent': \"Mozilla/5.0 (X11; U; Linux i686) Gecko/20071127 Firefox/2.0.0.11\"}}\n",
    "\n",
    "WGS84 = {'init': 'epsg:4326'}\n",
    "\n",
    "# force bokeh plot output to jupyter notebook\n",
    "output_notebook()\n",
    "\n",
    "def callback(msg, ratio):\n",
    "    clear_output()\n",
    "    print(msg.format(ratio))"
   ]
  },
  {
   "cell_type": "markdown",
   "metadata": {},
   "source": [
    "## Data"
   ]
  },
  {
   "cell_type": "markdown",
   "metadata": {},
   "source": [
    "### Core data"
   ]
  },
  {
   "cell_type": "markdown",
   "metadata": {},
   "source": [
    "#### Global Forest Change\n",
    "[**Global Forest Change 2000-2012 Version 1.0**](https://earthenginepartners.appspot.com/science-2013-global-forest/download_v1.0.html) (GFC) is the first high resolution dataset that provides a comprehensive view on the annual global forest cover change between 2000 and 2012 \\cite{Hansen2013, Li2017}. The initial GFC dataset released by Hansen et al. is extended by recent releases which encompass the annual forest cover changes between [2000-2013 (Version 1.1)](https://earthenginepartners.appspot.com/science-2013-global-forest/download_v1.1.html), [2000-2014 (Version 1.2)](https://earthenginepartners.appspot.com/science-2013-global-forest/download_v1.2.html), [2000-2015 (Version 1.3)](https://earthenginepartners.appspot.com/science-2013-global-forest/download_v1.3.html) and [2000-2016 (Version 1.4)](https://earthenginepartners.appspot.com/science-2013-global-forest/download_v1.4.html) respectively. All versions of this dataset has in common, that they are derived from growing season imagery captured by the remote sensing satellite Landsat 7 Enhanced Thematic Mapper Plus (ETM+) at a spatial resolution of 30 meters per pixel \\cite{Hansen2013a}. On the satellite imagery a time-series spectral metrics analysis is applied to gather the global forest extent at 2000 as well as the annual forest loss and gain. Hence, GFC comprises three independent data layers  tree cover, annually forest loss and  forest gain divided into 10x10 degree tiles by the geodetic coordinate system *World Geodetic System 1984* (EPSG:4326). Furthermore, across the provided layers the pixel data is coded in unsigned 8 bit integers. Hansen et al. defined trees as all vegetation taller than 5 meters for their study. Forest loss is defined as a stand displacement disturbance leading from a forest state to a non forest-state. To compute this losses \n",
    "\n",
    "[Global Forest Watch](http://www.globalforestwatch.org/) interactive map\n",
    "\n",
    "- Flow general what is gfc then detailed info monitoring method, details of the different layers, how certain is the info\n",
    "- trees defined as all vegetation higher than 5 meters Hansen2013, Hansen2013a\n",
    "- forest loss defined as a stand displacement disturbance (> x% crown cover to 0% crown cover)  Hansen2013, Hansen2013a\n",
    "- monitored by a reference percent tree cover stratum Hansen2013, Hansen2013a\n",
    "- forest degeneration for example selective removals btw. all impacts on forest which are not lead to a non forest state are not considered Hansen2013a\n",
    "- term forest refer to tree cover Hansen2013a\n",
    "- gain is the inverse of loss e.g. the change of a non forest state to forest (crown cover densities >50%)\n",
    "- Forest loss detection is less uncertain then gain detection (loss is more reliable) Li2017\n",
    "- Gain is a more gradual and ecological complex process, signal is more difficult to detect Li2017\n",
    "- Li2017 compares 4 different forest cover change products on their performance to estimate loss and gain patterns in china\n",
    "- at the end show a example picture of the data\n",
    "\n",
    "\n",
    "\\cite{Hansen2013}\n",
    "\\cite{Hansen2013a}\n",
    "\\cite{Tropek2014}\n",
    "\\cite{Bellot2014}\n",
    "\\cite{Li2017}\n",
    "\\cite{Li2017a}"
   ]
  },
  {
   "cell_type": "markdown",
   "metadata": {},
   "source": [
    "![Hansen preview](img/hansen_preview.png)"
   ]
  },
  {
   "cell_type": "code",
   "execution_count": null,
   "metadata": {
    "collapsed": true
   },
   "outputs": [],
   "source": [
    "# data source URL\n",
    "head = 'http://commondatastorage.googleapis.com/earthenginepartners-hansen/GFC2013/'\n",
    "# files to download from source url\n",
    "tails = 'treecover2000.txt gain.txt lossyear.txt'.split()\n",
    "\n",
    "data_urls = []\n",
    "for tail in tails:\n",
    "    content = download(head + tail)\n",
    "    data_urls += content.decode('utf-8').splitlines()\n",
    "\n",
    "threads = []\n",
    "for url in data_urls:\n",
    "    lat_lon = re.search(r'(\\d{2}\\w_\\d{3}\\w)(?=\\.tif)', url).groups()[0]\n",
    "    lat = orientation_to_int(lat_lon.split('_')[0])\n",
    "    if -20 <= lat <= 30:\n",
    "        path = str(DIRS.gfc / url.split('/')[-1])\n",
    "        threads.append(threading.Thread(target=download_worker, args=(url, path)))\n",
    "\n",
    "execute_concurrent(threads, THREADLIMIT, 'Downloaded {} of 100 %', callback=callback)"
   ]
  },
  {
   "cell_type": "markdown",
   "metadata": {},
   "source": [
    "#### GlobalLand30\n",
    "[GlobLand30](http://www.globallandcover.com/GLC30Download/index.aspx) (GL30)"
   ]
  },
  {
   "cell_type": "markdown",
   "metadata": {},
   "source": [
    "![Chen preview](img/chen_preview.png)"
   ]
  },
  {
   "cell_type": "markdown",
   "metadata": {},
   "source": [
    "#### Aboveground live woody biomass density\n",
    "[Aboveground Live Woody Biomass Density](http://data.globalforestwatch.org/datasets/8f93a6f94a414f9588ce4657a39c59ff_1) (LWBD)"
   ]
  },
  {
   "cell_type": "code",
   "execution_count": null,
   "metadata": {
    "collapsed": true
   },
   "outputs": [],
   "source": [
    "url = 'http://data.globalforestwatch.org/datasets/8f93a6f94a414f9588ce4657a39c59ff_1.geojson'\n",
    "path = str(DIRS.masks / 'biomass.geojson')\n",
    "\n",
    "content = download(url)\n",
    "write_binary(content, path)\n",
    "\n",
    "biomass_mask = gpd.read_file(path)\n",
    "to_download = list(biomass_mask.download) + list(biomass_mask.confidence) \n",
    "\n",
    "threads = []\n",
    "for url in to_download:\n",
    "    path = str(DIRS.biomass / url.split('/')[-1])\n",
    "    threads.append(\n",
    "        threading.Thread(target=download_worker, args=(url, path), kwargs=SPOOF_AGENT)\n",
    "    )\n",
    "\n",
    "execute_concurrent(threads, THREADLIMIT, msg='Donwloaded {} % of 100 %', callback=callback)"
   ]
  },
  {
   "cell_type": "markdown",
   "metadata": {},
   "source": [
    "#### Global soil organic carbon map\n",
    "[The Global Soil Organic Carbon Map](http://www.fao.org/world-soil-day/global-soil-organic-carbon-map/en/) (GSOCmap)"
   ]
  },
  {
   "cell_type": "code",
   "execution_count": null,
   "metadata": {
    "collapsed": true
   },
   "outputs": [],
   "source": [
    "# Download broken fix it please\n",
    "url = 'https://unfao-my.sharepoint.com/personal/guillermo_olmedo_fao_org/_layouts/15/guestaccess.aspx?docid=059b0b724d08a42e4931c35cff99a15c1&authkey=AcRgiPkRQvm_kuJb-K0-e2o&e=e70096969c4e4ce084d2ee1d1ca8bc44'\n",
    "\n",
    "content = download(url, **SPOOF_AGENT)\n",
    "write_binary(content, str(DIRS.soil / 'GSOCmap.tif'))"
   ]
  },
  {
   "cell_type": "markdown",
   "metadata": {},
   "source": [
    "#### Ecosystem service valuation database\n",
    "[Ecosystem Service Valuation Database](https://www.es-partnership.org/services/data-knowledge-sharing/ecosystem-service-valuation-database/) (ESVD)"
   ]
  },
  {
   "cell_type": "code",
   "execution_count": null,
   "metadata": {
    "collapsed": true
   },
   "outputs": [],
   "source": [
    "url = 'https://www.es-partnership.org/wp-content/uploads/2016/06/ESVD-TEEB-database.xls'\n",
    "\n",
    "content = download(url, **SPOOF_AGENT)\n",
    "write_binary(content, str(DIRS.esvd / url.split('/')[-1]))"
   ]
  },
  {
   "cell_type": "markdown",
   "metadata": {},
   "source": [
    "#### Intact Forest Landscapes\n",
    "[Intact Forest Landscapes](http://intactforests.org/index.html) (IFL2000)"
   ]
  },
  {
   "cell_type": "code",
   "execution_count": null,
   "metadata": {
    "collapsed": true
   },
   "outputs": [],
   "source": [
    "url = 'http://intactforests.org/shp/IFL_2000.zip'\n",
    "\n",
    "content = download(url, **SPOOF_AGENT)\n",
    "write_binary(content, str(DIRS.ifl / url.split('/')[-1]))\n",
    "\n",
    "zipfile.ZipFile(str(DIRS.ifl / url.split('/')[-1])).extractall(str(DIRS.ifl))\n",
    "os.remove(str(DIRS.ifl / url.split('/')[-1]))"
   ]
  },
  {
   "cell_type": "markdown",
   "metadata": {},
   "source": [
    "### Auxiliary data"
   ]
  },
  {
   "cell_type": "markdown",
   "metadata": {},
   "source": [
    "[Natural Earth Data](http://www.naturalearthdata.com/)"
   ]
  },
  {
   "cell_type": "code",
   "execution_count": null,
   "metadata": {
    "collapsed": true
   },
   "outputs": [],
   "source": [
    "url = 'http://www.naturalearthdata.com/http//www.naturalearthdata.com/download/10m/cultural/ne_10m_populated_places.zip'\n",
    "\n",
    "content = download(url, **SPOOF_AGENT)\n",
    "write_binary(content, str(DIRS.masks / url.split('/')[-1]))\n",
    "\n",
    "zipfile.ZipFile(str(DIRS.masks / url.split('/')[-1])).extractall(str(DIRS.masks))\n",
    "os.remove(str(DIRS.masks / url.split('/')[-1]))\n",
    "\n",
    "url = 'http://www.naturalearthdata.com/http//www.naturalearthdata.com/download/10m/cultural/ne_10m_admin_0_countries.zip'\n",
    "\n",
    "content = download(url, **SPOOF_AGENT)\n",
    "write_binary(content, str(DIRS.masks / url.split('/')[-1]))\n",
    "\n",
    "zipfile.ZipFile(str(DIRS.masks / url.split('/')[-1])).extractall(str(DIRS.masks))\n",
    "os.remove(str(DIRS.masks / url.split('/')[-1]))"
   ]
  },
  {
   "cell_type": "markdown",
   "metadata": {},
   "source": [
    "## Methods"
   ]
  },
  {
   "cell_type": "markdown",
   "metadata": {},
   "source": [
    "### Preprocessing"
   ]
  },
  {
   "cell_type": "markdown",
   "metadata": {},
   "source": [
    "#### Masking"
   ]
  },
  {
   "cell_type": "code",
   "execution_count": null,
   "metadata": {
    "collapsed": true
   },
   "outputs": [],
   "source": [
    "# GFC mask\n",
    "gfc = sorted(DIRS.gfc.glob('*.tif'))\n",
    "\n",
    "data_len = int(len(gfc)/3)\n",
    "\n",
    "kwargs = {\n",
    "    'gain': [i.name for i in gfc[:data_len]],\n",
    "    'loss': [i.name for i in gfc[data_len:2*data_len]],\n",
    "    'cover': [i.name for i in gfc[2*data_len:]],\n",
    "}\n",
    "\n",
    "gfc_mask = tile_index(gfc[:data_len], WGS84, **kwargs)\n",
    "gfc_mask.to_file(str(DIRS.masks / 'gfc_mask.shp'))\n",
    "gfc_mask.head()"
   ]
  },
  {
   "cell_type": "code",
   "execution_count": 2,
   "metadata": {},
   "outputs": [
    {
     "data": {
      "text/html": [
       "<div>\n",
       "<style>\n",
       "    .dataframe thead tr:only-child th {\n",
       "        text-align: right;\n",
       "    }\n",
       "\n",
       "    .dataframe thead th {\n",
       "        text-align: left;\n",
       "    }\n",
       "\n",
       "    .dataframe tbody tr th {\n",
       "        vertical-align: top;\n",
       "    }\n",
       "</style>\n",
       "<table border=\"1\" class=\"dataframe\">\n",
       "  <thead>\n",
       "    <tr style=\"text-align: right;\">\n",
       "      <th></th>\n",
       "      <th>gl30_00</th>\n",
       "      <th>gl30_10</th>\n",
       "      <th>key</th>\n",
       "      <th>geometry</th>\n",
       "    </tr>\n",
       "  </thead>\n",
       "  <tbody>\n",
       "    <tr>\n",
       "      <th>0</th>\n",
       "      <td>n02_15_2000lc030.tif</td>\n",
       "      <td>n02_15_2010lc030.tif</td>\n",
       "      <td>n02_15</td>\n",
       "      <td>POLYGON ((-174.0053601744084 20.00401663536249...</td>\n",
       "    </tr>\n",
       "    <tr>\n",
       "      <th>1</th>\n",
       "      <td>n03_05_2000lc030.tif</td>\n",
       "      <td>n03_05_2010lc030.tif</td>\n",
       "      <td>n03_05</td>\n",
       "      <td>POLYGON ((-168.0054833302891 10.00519024901941...</td>\n",
       "    </tr>\n",
       "    <tr>\n",
       "      <th>2</th>\n",
       "      <td>n03_20_2000lc030.tif</td>\n",
       "      <td>n03_20_2010lc030.tif</td>\n",
       "      <td>n03_20</td>\n",
       "      <td>POLYGON ((-168.0051433812486 25.00312959291788...</td>\n",
       "    </tr>\n",
       "    <tr>\n",
       "      <th>3</th>\n",
       "      <td>n04_00_2000lc030.tif</td>\n",
       "      <td>n04_00_2010lc030.tif</td>\n",
       "      <td>n04_00</td>\n",
       "      <td>POLYGON ((-162.0055192236557 5.005478418984219...</td>\n",
       "    </tr>\n",
       "    <tr>\n",
       "      <th>4</th>\n",
       "      <td>n04_05_2000lc030.tif</td>\n",
       "      <td>n04_05_2010lc030.tif</td>\n",
       "      <td>n04_05</td>\n",
       "      <td>POLYGON ((-162.0054833302891 10.0051902490194,...</td>\n",
       "    </tr>\n",
       "  </tbody>\n",
       "</table>\n",
       "</div>"
      ],
      "text/plain": [
       "                gl30_00               gl30_10     key  \\\n",
       "0  n02_15_2000lc030.tif  n02_15_2010lc030.tif  n02_15   \n",
       "1  n03_05_2000lc030.tif  n03_05_2010lc030.tif  n03_05   \n",
       "2  n03_20_2000lc030.tif  n03_20_2010lc030.tif  n03_20   \n",
       "3  n04_00_2000lc030.tif  n04_00_2010lc030.tif  n04_00   \n",
       "4  n04_05_2000lc030.tif  n04_05_2010lc030.tif  n04_05   \n",
       "\n",
       "                                            geometry  \n",
       "0  POLYGON ((-174.0053601744084 20.00401663536249...  \n",
       "1  POLYGON ((-168.0054833302891 10.00519024901941...  \n",
       "2  POLYGON ((-168.0051433812486 25.00312959291788...  \n",
       "3  POLYGON ((-162.0055192236557 5.005478418984219...  \n",
       "4  POLYGON ((-162.0054833302891 10.0051902490194,...  "
      ]
     },
     "execution_count": 2,
     "metadata": {},
     "output_type": "execute_result"
    }
   ],
   "source": [
    "# GL30 mask\n",
    "gl30 = sorted(DIRS.gl30.glob('*.tif'), key=lambda key: (key.name[7:11], key.name[0:6]))\n",
    "\n",
    "exclude = 'n01_00 s01_00 s01_10 s01_15 s01_20 s60_00 s60_05 s60_10 s60_15 n53_00'.split()\n",
    "gl30 = [item for item in gl30 if item.name[0:6] not in exclude]\n",
    "data_len = int(len(gl30)/2)\n",
    "\n",
    "kwargs = {\n",
    "    'gl30_00': [i.name for i in gl30[:data_len]],\n",
    "    'gl30_10': [i.name for i in gl30[data_len:]],\n",
    "    'key': [i.name[0:6] for i in gl30[:data_len]]\n",
    "}\n",
    "\n",
    "gl30_mask = tile_index(gl30[data_len:], WGS84, **kwargs)\n",
    "gl30_mask.to_file(str(DIRS.masks / 'gl30_mask.shp'))\n",
    "gl30_mask.head()"
   ]
  },
  {
   "cell_type": "code",
   "execution_count": null,
   "metadata": {
    "collapsed": true
   },
   "outputs": [],
   "source": [
    "# Biomass mask\n",
    "biomass = gpd.read_file(str(DIRS.masks / 'biomass.geojson'))\n",
    "biomass_mask = biomass.drop(biomass.columns[[0, 1, 4, 5]], axis=1)\n",
    "biomass_mask.rename(columns={'download': 'biomass'}, inplace=True)\n",
    "\n",
    "for idx, row in biomass_mask.iterrows():\n",
    "    biomass = row.biomass.split('/')[-1]\n",
    "    confidence = row.confidence.split('/')[-1]\n",
    "    \n",
    "    biomass_mask.at[idx, 'biomass'] = biomass\n",
    "    biomass_mask.at[idx, 'confidence'] = confidence\n",
    "\n",
    "biomass_mask.to_file(str(DIRS.masks / 'biomass_mask.shp'))\n",
    "biomass_mask.head()"
   ]
  },
  {
   "cell_type": "markdown",
   "metadata": {},
   "source": [
    "#### Raster alignment"
   ]
  },
  {
   "cell_type": "code",
   "execution_count": null,
   "metadata": {
    "collapsed": true
   },
   "outputs": [],
   "source": [
    "gl30_mask = gpd.read_file(str(DIRS.masks / 'gl30_mask.shp'))\n",
    "gfc_mask = gpd.read_file(str(DIRS.masks / 'gfc_mask.shp'))\n",
    "biomass_mask = gpd.read_file(str(DIRS.masks / 'biomass_mask.shp'))\n",
    "\n",
    "intersect = gpd.overlay(gfc_mask, gl30_mask, how='intersection')\n",
    "intersect = gpd.overlay(intersect, biomass_mask, how='intersection')\n",
    "\n",
    "threads = []\n",
    "for key, values in intersect.groupby(by='key', sort=False):\n",
    "    to_reproject = [\n",
    "        str(DIRS.gl30 / name)\n",
    "        for name in list(*zip(set(values.gl30_10), set(values.gl30_00)))\n",
    "    ]\n",
    "    to_reproject.append(str(DIRS.soil / 'GSOCmapV1.1.tif'))\n",
    "    to_merge = [\n",
    "        [str(DIRS.gfc / name) for name in set(values.cover)],\n",
    "        [str(DIRS.gfc / name) for name in set(values.loss)],\n",
    "        [str(DIRS.gfc / name) for name in set(values.gain)],\n",
    "        [str(DIRS.biomass / name) for name in set(values.biomass)],\n",
    "        [str(DIRS.biomass / name) for name in set(values.confidence)],\n",
    "    ]\n",
    "    generic_name = '{}.tif'.format(key)\n",
    "    \n",
    "    threads.append(\n",
    "        threading.Thread(target=alignment_worker,\n",
    "                         args=(to_reproject, WGS84, to_merge, str(DIRS.proc), generic_name))\n",
    "    )\n",
    "    \n",
    "execute_concurrent(threads, THREADLIMIT, msg='Aligned {} % of 100 %', callback=callback)"
   ]
  },
  {
   "cell_type": "markdown",
   "metadata": {},
   "source": [
    "#### Cropping and masking"
   ]
  },
  {
   "cell_type": "code",
   "execution_count": null,
   "metadata": {
    "collapsed": true
   },
   "outputs": [],
   "source": [
    "files = defaultdict(list)\n",
    "regex = re.compile(r'.*(?P<key>(?:n|s)\\d{2}_\\d{2}).*', re.I)\n",
    "\n",
    "for path in DIRS.proc.glob('*.tif'):\n",
    "    match = regex.match(str(path))\n",
    "    files[match.group('key')].append(path)\n",
    "    files[match.group('key')] = sorted(files[match.group('key')])\n",
    "\n",
    "threads = []\n",
    "features = []\n",
    "polygons = []\n",
    "for key, values in files.items():   \n",
    "    bounds, profile = fetch_metadata(values[0], 'bounds', 'profile')\n",
    "    bounds = round_bounds(bounds)\n",
    "\n",
    "    threads.append(\n",
    "        threading.Thread(target=clip_worker, args=(values, bounds, profile, str(DIRS.proc),))\n",
    "    )\n",
    "    \n",
    "    key = int_to_orient(bounds.left, bounds.top)\n",
    "    feature = dict([dispatch_name('{0[0]}_{0[1]}'.format(item.name.split('_')), key, idx)\n",
    "                    for idx, item in enumerate(values)])\n",
    "    feature['key'] = key\n",
    "    features.append(feature)\n",
    "    polygons.append(polygon_from(bounds))\n",
    "    \n",
    "execute_concurrent(threads, THREADLIMIT, msg='Cropped {} % of 100 %', callback=callback)\n",
    "\n",
    "geometry = gpd.GeoSeries(polygons)\n",
    "df = pd.DataFrame(features)\n",
    "layer = gpd.GeoDataFrame(df, geometry=geometry)\n",
    "layer.crs = WGS84\n",
    "\n",
    "layer.to_file(str(DIRS.masks / 'final_mask.shp'))"
   ]
  },
  {
   "cell_type": "code",
   "execution_count": null,
   "metadata": {
    "collapsed": true
   },
   "outputs": [],
   "source": [
    "countries = gpd.read_file(str(DIRS.masks / 'ne_10m_admin_0_countries.shp'))\n",
    "tiles = gpd.read_file(str(DIRS.masks / 'final_mask.shp'))\n",
    "tiles.crs = WGS84\n",
    "\n",
    "aoi = countries.cx[:,-23:23]\n",
    "aoi = aoi[['REGION_UN', 'geometry']]\n",
    "continents = aoi.dissolve(by='REGION_UN')\n",
    "\n",
    "layer = gpd.sjoin(tiles, continents, how='left', op='intersects')\n",
    "layer.to_file(str(DIRS.masks / 'final_region_mask.shp'))"
   ]
  },
  {
   "cell_type": "markdown",
   "metadata": {},
   "source": [
    "#### Class harmonization"
   ]
  },
  {
   "cell_type": "code",
   "execution_count": null,
   "metadata": {
    "collapsed": true
   },
   "outputs": [],
   "source": [
    "mask = gpd.read_file(str(DIRS.masks / 'final_region_mask.shp'))\n",
    "q = queue.Queue()\n",
    "\n",
    "threads = [\n",
    "    threading.Thread(target=harmonization_worker,\n",
    "                     args=(DIRS.proc/val.gl30_00, DIRS.proc/val.cover, q, val.key, val.index_righ))\n",
    "    for idx, val in mask.iterrows()\n",
    "]\n",
    "\n",
    "execute_concurrent(threads, THREADLIMIT, msg='Harmonization {} % of 100 %', callback=callback)"
   ]
  },
  {
   "cell_type": "code",
   "execution_count": null,
   "metadata": {
    "collapsed": true
   },
   "outputs": [],
   "source": [
    "vals = []\n",
    "while not q.empty():\n",
    "    vals.append(q.get())\n",
    "\n",
    "df = pd.DataFrame(vals)\n",
    "df.columns = ['tile', 'region', 'jc0', 'smc0', 'jc10', 'smc10', 'jc20', 'smc20', 'jc30', 'smc30']\n",
    "df.to_csv(DIRS.ana/'class_harmon_wet.csv', float_format='%.4f')"
   ]
  },
  {
   "cell_type": "markdown",
   "metadata": {},
   "source": [
    "### Processing"
   ]
  },
  {
   "cell_type": "markdown",
   "metadata": {},
   "source": [
    "#### Deforestation drivers"
   ]
  },
  {
   "cell_type": "code",
   "execution_count": 2,
   "metadata": {},
   "outputs": [
    {
     "name": "stdout",
     "output_type": "stream",
     "text": [
      "Driver assignment 100.0 % of 100 %\n"
     ]
    }
   ],
   "source": [
    "mask = gpd.read_file(str(DIRS.masks/'final_region_mask.shp'))\n",
    "\n",
    "threads = []\n",
    "for idx, row in mask.iterrows():\n",
    "    treecover = DIRS.proc/row.cover\n",
    "    landcover = DIRS.proc/row.gl30_10\n",
    "    loss = DIRS.proc/row.loss\n",
    "    gain = DIRS.proc/row.gain\n",
    "    \n",
    "    thread = threading.Thread(target=assignment_worker, \n",
    "                              args=(treecover, loss, gain, landcover, row.key, DIRS.driv))\n",
    "    threads.append(thread)\n",
    "    \n",
    "execute_concurrent(threads, THREADLIMIT, msg='Driver assignment {} % of 100 %', callback=callback)"
   ]
  },
  {
   "cell_type": "code",
   "execution_count": null,
   "metadata": {},
   "outputs": [
    {
     "name": "stdout",
     "output_type": "stream",
     "text": [
      "Reclassification 50.9 % of 100 %\n"
     ]
    }
   ],
   "source": [
    "processes = []\n",
    "for item in DIRS.driv.glob('driver_gain*.tif'):\n",
    "    name = 'reclass_' + item.name\n",
    "    \n",
    "    process = multiprocessing.Process(target=reclassification_worker, args=(item, DIRS.driv/name))\n",
    "    processes.append(process)\n",
    "\n",
    "execute_concurrent(processes, THREADLIMIT, msg='Reclassification {} % of 100 %', callback=callback)"
   ]
  },
  {
   "cell_type": "markdown",
   "metadata": {},
   "source": [
    "# Results"
   ]
  },
  {
   "cell_type": "markdown",
   "metadata": {},
   "source": [
    "## Preprocessing"
   ]
  },
  {
   "cell_type": "markdown",
   "metadata": {},
   "source": [
    "#### Class harmonization"
   ]
  },
  {
   "cell_type": "code",
   "execution_count": 3,
   "metadata": {
    "collapsed": true
   },
   "outputs": [],
   "source": [
    "src = pd.read_csv(str(DIRS.ana / 'class_harmon_wet.csv'))\n",
    "\n",
    "# initial data clean up\n",
    "src.rename(columns=lambda x: x.upper() if x[:2] == 'jc' else x, inplace=True)\n",
    "src.drop('smc0 smc10 smc20 smc30'.split(), axis=1, inplace=True)\n",
    "src.drop(src.columns[0], axis=1, inplace=True)\n",
    "src.dropna(axis=0, how='any', inplace=True)\n",
    "\n",
    "# scatterplot data prep\n",
    "melted = src.melt(id_vars='tile region'.split(), var_name='jc_class', value_name='score')\n",
    "melted['colors'] = '#ffffff'\n",
    "melted.loc[melted['jc_class'] == 'JC0', 'colors'] = '#e66101'\n",
    "melted.loc[melted['jc_class'] == 'JC10', 'colors'] = '#fdb863'\n",
    "melted.loc[melted['jc_class'] == 'JC20', 'colors'] = '#b2abd2'\n",
    "melted.loc[melted['jc_class'] == 'JC30', 'colors'] = '#5e3c99'\n",
    "melted.sort_values(by=['region', 'jc_class'], ascending=[True, True], inplace=True)\n",
    "\n",
    "# boxplot data prep\n",
    "frames = []\n",
    "for key, df in src.groupby('region'):\n",
    "    boxplot = df.quantile(q=(0.25, 0.5, 0.75)).T\n",
    "    boxplot.columns = ['q1', 'q2', 'q3']\n",
    "    boxplot['iqr'] = boxplot.q3 - boxplot.q1\n",
    "    boxplot['tukey_lower_whisker'] = boxplot.q1 - 1.5 * boxplot.iqr\n",
    "    boxplot['tukey_upper_whisker'] = boxplot.q3 + 1.5 * boxplot.iqr\n",
    "    boxplot['q_lower_whisker'] = df.quantile(q=0.025)\n",
    "    boxplot['q_upper_whisker'] = df.quantile(q=0.975)\n",
    "    boxplot['min_whisker'] = df.min()\n",
    "    boxplot['max_whisker'] = df.max()\n",
    "    boxplot['means'] = df.mean()\n",
    "    boxplot['region'] = pd.unique(df.region)[0]\n",
    "\n",
    "    frames.append(boxplot)\n",
    "\n",
    "box = pd.concat(frames)"
   ]
  },
  {
   "cell_type": "code",
   "execution_count": 4,
   "metadata": {},
   "outputs": [
    {
     "data": {
      "text/html": [
       "\n",
       "<div class=\"bk-root\">\n",
       "    <div class=\"bk-plotdiv\" id=\"ea879ae2-1820-4c7e-b8d1-8f91f032e497\"></div>\n",
       "</div>"
      ]
     },
     "metadata": {},
     "output_type": "display_data"
    },
    {
     "data": {
      "application/javascript": [
       "(function(root) {\n",
       "  function embed_document(root) {\n",
       "    \n",
       "  var docs_json = {\"cb12436f-5794-42b4-b620-510eef8dd013\":{\"roots\":{\"references\":[{\"attributes\":{\"fill_alpha\":{\"value\":0.1},\"fill_color\":{\"value\":\"#1f77b4\"},\"line_alpha\":{\"value\":0.1},\"line_color\":{\"value\":\"#1f77b4\"},\"size\":{\"units\":\"screen\",\"value\":10},\"x\":{\"field\":\"x\"},\"y\":{\"field\":\"means\"}},\"id\":\"4f6069b2-32d1-46fb-b287-612175c25c87\",\"type\":\"X\"},{\"attributes\":{\"children\":[{\"id\":\"ad72f4c1-0451-4545-92b0-3da17b359b4f\",\"subtype\":\"Figure\",\"type\":\"Plot\"}]},\"id\":\"a5d06aa4-add5-48ba-a8f8-46b30df39bc6\",\"type\":\"Row\"},{\"attributes\":{\"data_source\":{\"id\":\"fc31d974-36d9-4081-860c-61f2d70f6e25\",\"type\":\"ColumnDataSource\"},\"glyph\":{\"id\":\"3b19010f-dee6-4c6a-90ab-abd30e5bedce\",\"type\":\"Segment\"},\"hover_glyph\":null,\"muted_glyph\":null,\"nonselection_glyph\":{\"id\":\"fafea44d-7a58-4f76-bb55-00c3be76f80c\",\"type\":\"Segment\"},\"selection_glyph\":null,\"view\":{\"id\":\"fdfa8179-b80f-4652-a15f-e319bc7277a9\",\"type\":\"CDSView\"}},\"id\":\"570178fc-b15d-45d8-a29f-303fe698ab63\",\"type\":\"GlyphRenderer\"},{\"attributes\":{\"data_source\":{\"id\":\"fc31d974-36d9-4081-860c-61f2d70f6e25\",\"type\":\"ColumnDataSource\"},\"glyph\":{\"id\":\"4d546738-4308-4de1-b971-a13e0f1d6af0\",\"type\":\"VBar\"},\"hover_glyph\":null,\"muted_glyph\":null,\"nonselection_glyph\":{\"id\":\"f5f8e207-0e99-40e6-87ee-cdee43b453e6\",\"type\":\"VBar\"},\"selection_glyph\":null,\"view\":{\"id\":\"1e1f8339-0ce3-4e05-8bd9-18daaa3db2cc\",\"type\":\"CDSView\"}},\"id\":\"188864be-554f-4e24-aa64-618fd04d657c\",\"type\":\"GlyphRenderer\"},{\"attributes\":{\"data_source\":{\"id\":\"fc31d974-36d9-4081-860c-61f2d70f6e25\",\"type\":\"ColumnDataSource\"},\"glyph\":{\"id\":\"11733d9c-f922-446f-a057-2cd9f131e2e2\",\"type\":\"Segment\"},\"hover_glyph\":null,\"muted_glyph\":null,\"nonselection_glyph\":{\"id\":\"ec2bbd5a-c31a-4968-aeb3-ad606b94f6d0\",\"type\":\"Segment\"},\"selection_glyph\":null,\"view\":{\"id\":\"4d30b845-0136-4fe6-8414-1e85e6ddbf9c\",\"type\":\"CDSView\"}},\"id\":\"95778222-f7ed-42e2-a564-9d7866109230\",\"type\":\"GlyphRenderer\"},{\"attributes\":{},\"id\":\"166c8596-42a1-4ed4-bbc6-3966a64638bd\",\"type\":\"CategoricalScale\"},{\"attributes\":{\"bottom\":{\"field\":\"q1\"},\"fill_alpha\":{\"value\":0.7},\"fill_color\":{\"value\":\"#f7f7f7\"},\"top\":{\"field\":\"q2\"},\"width\":{\"value\":0.7},\"x\":{\"field\":\"x\"}},\"id\":\"4d546738-4308-4de1-b971-a13e0f1d6af0\",\"type\":\"VBar\"},{\"attributes\":{\"source\":{\"id\":\"fc31d974-36d9-4081-860c-61f2d70f6e25\",\"type\":\"ColumnDataSource\"}},\"id\":\"078ce9bc-521c-42b7-b1f6-8c6485c9ed35\",\"type\":\"CDSView\"},{\"attributes\":{\"below\":[{\"id\":\"301e1048-99a2-42f7-89a2-5bb8e66c5228\",\"type\":\"CategoricalAxis\"}],\"left\":[{\"id\":\"800cb7fe-fd98-47bb-bc2c-98ae3baca851\",\"type\":\"LinearAxis\"}],\"plot_height\":300,\"plot_width\":950,\"renderers\":[{\"id\":\"301e1048-99a2-42f7-89a2-5bb8e66c5228\",\"type\":\"CategoricalAxis\"},{\"id\":\"2f15453a-8979-4660-9b9b-d4248fc45cf3\",\"type\":\"Grid\"},{\"id\":\"800cb7fe-fd98-47bb-bc2c-98ae3baca851\",\"type\":\"LinearAxis\"},{\"id\":\"7dd6c772-440e-41dc-a052-5b4fc29f6c12\",\"type\":\"Grid\"},{\"id\":\"8d0501b3-5e5f-4b00-a235-d91e7630d79a\",\"type\":\"BoxAnnotation\"},{\"id\":\"188864be-554f-4e24-aa64-618fd04d657c\",\"type\":\"GlyphRenderer\"},{\"id\":\"8831b3d1-85d3-4a8d-a95a-9d5d2d7bae7e\",\"type\":\"GlyphRenderer\"},{\"id\":\"f7af8595-c203-4c63-b723-9b7fc0e408ec\",\"type\":\"GlyphRenderer\"},{\"id\":\"0e894f05-f252-4801-9251-65e5a3b44848\",\"type\":\"GlyphRenderer\"},{\"id\":\"95778222-f7ed-42e2-a564-9d7866109230\",\"type\":\"GlyphRenderer\"},{\"id\":\"570178fc-b15d-45d8-a29f-303fe698ab63\",\"type\":\"GlyphRenderer\"},{\"id\":\"6b77b66f-06a2-444a-98af-95ca6fa71069\",\"type\":\"GlyphRenderer\"}],\"title\":{\"id\":\"52f2a6f9-c4ec-4432-9f78-28a78f48a9af\",\"type\":\"Title\"},\"toolbar\":{\"id\":\"78c33c19-77a2-49e8-bc72-7fb54bfbafa7\",\"type\":\"Toolbar\"},\"toolbar_location\":null,\"x_range\":{\"id\":\"0f216329-eaaa-4cf2-86dd-7941a60add57\",\"type\":\"FactorRange\"},\"x_scale\":{\"id\":\"166c8596-42a1-4ed4-bbc6-3966a64638bd\",\"type\":\"CategoricalScale\"},\"y_range\":{\"id\":\"6bf5c5f0-1612-40c8-8d20-b7e89f92aaf3\",\"type\":\"DataRange1d\"},\"y_scale\":{\"id\":\"deadd5f8-5ce1-4d71-b1af-fcb3d5f0c7bc\",\"type\":\"LinearScale\"}},\"id\":\"e27467d9-e45b-4972-97dc-b878078d2f97\",\"subtype\":\"Figure\",\"type\":\"Plot\"},{\"attributes\":{\"callback\":null,\"column_names\":[\"q1\",\"lw\",\"iqr\",\"x\",\"means\",\"q2\",\"q3\",\"uw\"],\"data\":{\"iqr\":{\"__ndarray__\":\"rfpcbcX+4D/AOSNKe4PjP7lrCfmgZ+Q/vJaQD3o24j9xPQrXo3DaP2N/2T15WNg/yOU/pN++1z+dxCCwcmjYPyjChqdXytI/EjY8vVKW0z92eqUsQxzVPwHeAgmKH9c/XEI+6Nms0j+sHFpkO9/TPzB3LSEf9NQ/LiEf9GxW1T9DHOviNhrrP8/3U+OlG+s/Bs4ZUdob6z9eS8gHPRvrP377OnDOiNo/I9v5fmq81D/ChqdXyjLcP9g9eVioNd0/\",\"dtype\":\"float64\",\"shape\":[24]},\"lw\":[0.0,0.0,0.0,0.0,0.0,0.0,0.0,0.0,0.0,0.0,0.0,0.0,0.5268,0.5558,0.5765,0.5775,0.0,0.0,0.0,0.0,0.0,0.0,0.0,0.0],\"means\":{\"__ndarray__\":\"wvZyqM0j2D9mS1/21rHXPxrDohZi/tQ/hODoPD+b0z9ge2ZJgJrjP4XrUbgepeM/L4uJzceV4z+kFHR7SYPjP3POt/ofy+Q/ekaNOR6Q5D9/b3ZBpETkP4VAGBuQ5OM/idUMltc36T8rYussjXLpPzPqlmyeX+k/T0Zvy1od6T9X8aQRECrfP0HK8X7/T98/F8bFl1sJ3z/RuM5LovXeP56OxwxUxtc/YwtBDkqY2T/1oQvqW+bYP8pPqn06Htc/\",\"dtype\":\"float64\",\"shape\":[24]},\"q1\":{\"__ndarray__\":\"YOXQItv5tj8g0m9fB86JP2IyVTAqqSM/AAAAAAAAAACJH2PuWkLbP9V46SYxCN0/4L4OnDOi3T/XNO84RUfdP7wFEhQ/xuE/i/1l9+Rh4T8LRiV1AprgP799HThnRN8/AU2EDU+v5D8ep+hILv/jP4/k8h/Sb+M/6gQ0ETY84z8AAAAAAAAAAAAAAAAAAAAAAAAAAAAAAAAAAAAAAAAAAMP1KFyPws0/dy0hH/Rs0j+5/If029fBP0a28/3UeLk/\",\"dtype\":\"float64\",\"shape\":[24]},\"q2\":{\"__ndarray__\":\"UdobfGEy1T/l0CLb+X7WPwTnjCjtDc4/EhQ/xty1xD/o2az6XG3lP94CCYofY+U/UPwYc9cS5T+KsOHplbLkP2UZ4lgXt+c/rkfhehSu5z9Cz2bV52rnP1HaG3xhMuc/w9MrZRni6j8p7Q2+MJnqPyNKe4MvTOo/FK5H4XoU6j/eAgmKH2PnP7Kd76fGS+g//If029eB5j/2Bl+YTBXmPz2bVZ+rrdQ/p3nHKTqS1z8XSFD8GHPfP662Yn/ZPd0/\",\"dtype\":\"float64\",\"shape\":[24]},\"q3\":{\"__ndarray__\":\"WRe30QDe4z8J+aBns+rjPwxxrIvbaOQ/vJaQD3o24j99rrZif9nqPxx8YTJVsOo/VFInoImw6j+6/If029fqP9Bm1edqK+s/lBgEVg4t6z9GA3gLJCjrP+AtkKD4Mes/L26jAbwF7j90tRX7y+7tPyegibDh6e0/gZVDi2zn7T9DHOviNhrrP8/3U+OlG+s/Bs4ZUdob6z9eS8gHPRvrPzC7Jw8LteQ/TYQNT6+U4z+PwvUoXI/iP7UV+8vuyeE/\",\"dtype\":\"float64\",\"shape\":[24]},\"uw\":[0.9725,0.9727,0.9727,0.9735,0.9936,0.9936,0.9936,0.9935,0.9785,0.9784,0.978,0.9773,0.9811,0.9815,0.9819,0.9821,0.9753,0.9749,0.974,0.9732,0.6547,0.7315,0.7345,0.6938],\"x\":[[\"Africa\",\"JC0\"],[\"Africa\",\"JC10\"],[\"Africa\",\"JC20\"],[\"Africa\",\"JC30\"],[\"Americas\",\"JC0\"],[\"Americas\",\"JC10\"],[\"Americas\",\"JC20\"],[\"Americas\",\"JC30\"],[\"Asia\",\"JC0\"],[\"Asia\",\"JC10\"],[\"Asia\",\"JC20\"],[\"Asia\",\"JC30\"],[\"Europe\",\"JC0\"],[\"Europe\",\"JC10\"],[\"Europe\",\"JC20\"],[\"Europe\",\"JC30\"],[\"Oceania\",\"JC0\"],[\"Oceania\",\"JC10\"],[\"Oceania\",\"JC20\"],[\"Oceania\",\"JC30\"],[\"Seven seas (open ocean)\",\"JC0\"],[\"Seven seas (open ocean)\",\"JC10\"],[\"Seven seas (open ocean)\",\"JC20\"],[\"Seven seas (open ocean)\",\"JC30\"]]}},\"id\":\"fc31d974-36d9-4081-860c-61f2d70f6e25\",\"type\":\"ColumnDataSource\"},{\"attributes\":{},\"id\":\"6be2f10b-49e5-4915-a5b4-64e65f9005b2\",\"type\":\"ResetTool\"},{\"attributes\":{\"callback\":null,\"tooltips\":[[\"Region/Class\",\"@x\"],[\"Q1\",\"@q1\"],[\"Q2\",\"@q2\"],[\"Q3\",\"@q3\"],[\"IQR\",\"@iqr\"],[\"lWhisker\",\"@lw\"],[\"uWhisker\",\"@uw\"],[\"Mean\",\"@means\"]]},\"id\":\"b02d0f16-3b88-44cb-ab2c-649d5f821f16\",\"type\":\"HoverTool\"},{\"attributes\":{\"source\":{\"id\":\"fc31d974-36d9-4081-860c-61f2d70f6e25\",\"type\":\"ColumnDataSource\"}},\"id\":\"5ab14bfb-6c2c-4b0f-86b2-ed44cf45cb2f\",\"type\":\"CDSView\"},{\"attributes\":{\"x0\":{\"field\":\"x\"},\"x1\":{\"field\":\"x\"},\"y0\":{\"field\":\"lw\"},\"y1\":{\"field\":\"q1\"}},\"id\":\"11733d9c-f922-446f-a057-2cd9f131e2e2\",\"type\":\"Segment\"},{\"attributes\":{},\"id\":\"21646265-1e89-4adf-a2e0-a117cb481ebb\",\"type\":\"BasicTickFormatter\"},{\"attributes\":{\"axis_label\":\"Jaccard score\",\"formatter\":{\"id\":\"21646265-1e89-4adf-a2e0-a117cb481ebb\",\"type\":\"BasicTickFormatter\"},\"plot\":{\"id\":\"ad72f4c1-0451-4545-92b0-3da17b359b4f\",\"subtype\":\"Figure\",\"type\":\"Plot\"},\"ticker\":{\"id\":\"06393590-403a-47d7-bedf-aea23bec7f5c\",\"type\":\"BasicTicker\"}},\"id\":\"7f74e5d4-aa0a-4f67-adf7-f1a5337f2cf7\",\"type\":\"LinearAxis\"},{\"attributes\":{\"data_source\":{\"id\":\"fc31d974-36d9-4081-860c-61f2d70f6e25\",\"type\":\"ColumnDataSource\"},\"glyph\":{\"id\":\"4cc5d3a7-f855-40c8-b436-ede1c5fd680a\",\"type\":\"Rect\"},\"hover_glyph\":null,\"muted_glyph\":null,\"nonselection_glyph\":{\"id\":\"5f1f4ba8-0474-4bf1-b573-d89ab55aa734\",\"type\":\"Rect\"},\"selection_glyph\":null,\"view\":{\"id\":\"e86b9fee-6f38-4e0e-85f9-2a41c68cfcf0\",\"type\":\"CDSView\"}},\"id\":\"0e894f05-f252-4801-9251-65e5a3b44848\",\"type\":\"GlyphRenderer\"},{\"attributes\":{},\"id\":\"06393590-403a-47d7-bedf-aea23bec7f5c\",\"type\":\"BasicTicker\"},{\"attributes\":{\"fill_color\":{\"value\":\"#1f77b4\"},\"height\":{\"units\":\"data\",\"value\":0.001},\"width\":{\"units\":\"data\",\"value\":0.2},\"x\":{\"field\":\"x\"},\"y\":{\"field\":\"uw\"}},\"id\":\"4cc5d3a7-f855-40c8-b436-ede1c5fd680a\",\"type\":\"Rect\"},{\"attributes\":{\"children\":[{\"id\":\"ce89cd0c-1345-457d-b3f1-3e9c7953fb9c\",\"type\":\"ToolbarBox\"},{\"id\":\"7697ec6c-629b-43ce-9f5b-1c1ea095e839\",\"type\":\"Column\"}]},\"id\":\"72c49315-d8f9-40fa-a3c6-4ffc5e6f61bc\",\"type\":\"Column\"},{\"attributes\":{\"fill_alpha\":{\"value\":0.1},\"fill_color\":{\"value\":\"#1f77b4\"},\"height\":{\"units\":\"data\",\"value\":0.001},\"line_alpha\":{\"value\":0.1},\"line_color\":{\"value\":\"#1f77b4\"},\"width\":{\"units\":\"data\",\"value\":0.2},\"x\":{\"field\":\"x\"},\"y\":{\"field\":\"uw\"}},\"id\":\"5f1f4ba8-0474-4bf1-b573-d89ab55aa734\",\"type\":\"Rect\"},{\"attributes\":{},\"id\":\"deadd5f8-5ce1-4d71-b1af-fcb3d5f0c7bc\",\"type\":\"LinearScale\"},{\"attributes\":{\"below\":[{\"id\":\"05fd6fc3-0ee4-4357-9eb9-b147317685b4\",\"type\":\"CategoricalAxis\"}],\"left\":[{\"id\":\"7f74e5d4-aa0a-4f67-adf7-f1a5337f2cf7\",\"type\":\"LinearAxis\"}],\"plot_width\":950,\"renderers\":[{\"id\":\"05fd6fc3-0ee4-4357-9eb9-b147317685b4\",\"type\":\"CategoricalAxis\"},{\"id\":\"730d26d7-92db-46d7-9a4f-79437bd58b56\",\"type\":\"Grid\"},{\"id\":\"7f74e5d4-aa0a-4f67-adf7-f1a5337f2cf7\",\"type\":\"LinearAxis\"},{\"id\":\"9e331cd4-d1a5-4940-9cbb-820a2e6faabe\",\"type\":\"Grid\"},{\"id\":\"25ca16bf-9f17-44b9-967d-e316bf8e001a\",\"type\":\"BoxAnnotation\"},{\"id\":\"84fc8ae6-b79a-4523-950d-ef0ef7ed4c32\",\"type\":\"GlyphRenderer\"}],\"title\":{\"id\":\"f6a9e2d3-c7f4-4c3b-91c4-94396723a9ac\",\"type\":\"Title\"},\"toolbar\":{\"id\":\"95f4a4ea-4938-4a00-b6ee-3e9cd3a76dab\",\"type\":\"Toolbar\"},\"toolbar_location\":null,\"x_range\":{\"id\":\"0f216329-eaaa-4cf2-86dd-7941a60add57\",\"type\":\"FactorRange\"},\"x_scale\":{\"id\":\"ebc712e9-910f-4070-9c9a-94223d17abd8\",\"type\":\"CategoricalScale\"},\"y_range\":{\"id\":\"6bf5c5f0-1612-40c8-8d20-b7e89f92aaf3\",\"type\":\"DataRange1d\"},\"y_scale\":{\"id\":\"0832dda5-5562-4092-bca8-43387c23c4ab\",\"type\":\"LinearScale\"}},\"id\":\"ad72f4c1-0451-4545-92b0-3da17b359b4f\",\"subtype\":\"Figure\",\"type\":\"Plot\"},{\"attributes\":{\"data_source\":{\"id\":\"fc31d974-36d9-4081-860c-61f2d70f6e25\",\"type\":\"ColumnDataSource\"},\"glyph\":{\"id\":\"e645cc00-af8d-4dbc-a3f2-fe6b45bb3ce7\",\"type\":\"X\"},\"hover_glyph\":null,\"muted_glyph\":null,\"nonselection_glyph\":{\"id\":\"4f6069b2-32d1-46fb-b287-612175c25c87\",\"type\":\"X\"},\"selection_glyph\":null,\"view\":{\"id\":\"078ce9bc-521c-42b7-b1f6-8c6485c9ed35\",\"type\":\"CDSView\"}},\"id\":\"6b77b66f-06a2-444a-98af-95ca6fa71069\",\"type\":\"GlyphRenderer\"},{\"attributes\":{\"x0\":{\"field\":\"x\"},\"x1\":{\"field\":\"x\"},\"y0\":{\"field\":\"q3\"},\"y1\":{\"field\":\"uw\"}},\"id\":\"3b19010f-dee6-4c6a-90ab-abd30e5bedce\",\"type\":\"Segment\"},{\"attributes\":{},\"id\":\"a14665f0-60d5-4a63-b627-f942bd19a0cd\",\"type\":\"SaveTool\"},{\"attributes\":{\"data_source\":{\"id\":\"9222868d-d731-43c1-8536-f68267d52493\",\"type\":\"ColumnDataSource\"},\"glyph\":{\"id\":\"43171a0c-3833-4f85-a913-8d9fc2e1b390\",\"type\":\"X\"},\"hover_glyph\":null,\"muted_glyph\":null,\"nonselection_glyph\":{\"id\":\"408c425c-b70a-47d1-84fe-14bebc84ecf9\",\"type\":\"X\"},\"selection_glyph\":null,\"view\":{\"id\":\"9d1db1ee-05a4-4742-88ac-22575b25cb12\",\"type\":\"CDSView\"}},\"id\":\"84fc8ae6-b79a-4523-950d-ef0ef7ed4c32\",\"type\":\"GlyphRenderer\"},{\"attributes\":{\"overlay\":{\"id\":\"8d0501b3-5e5f-4b00-a235-d91e7630d79a\",\"type\":\"BoxAnnotation\"}},\"id\":\"d4c7a6d9-e9ec-4af5-9572-8c21ce9eccb6\",\"type\":\"BoxZoomTool\"},{\"attributes\":{},\"id\":\"348ab57d-3bd7-41a1-8249-c9adb19de302\",\"type\":\"PanTool\"},{\"attributes\":{\"fill_alpha\":{\"value\":0.1},\"fill_color\":{\"value\":\"#1f77b4\"},\"height\":{\"units\":\"data\",\"value\":0.001},\"line_alpha\":{\"value\":0.1},\"line_color\":{\"value\":\"#1f77b4\"},\"width\":{\"units\":\"data\",\"value\":0.2},\"x\":{\"field\":\"x\"},\"y\":{\"field\":\"lw\"}},\"id\":\"3455a414-eba9-4886-af01-85f06b0d8a61\",\"type\":\"Rect\"},{\"attributes\":{\"bottom\":{\"field\":\"q2\"},\"fill_alpha\":{\"value\":0.1},\"fill_color\":{\"value\":\"#1f77b4\"},\"line_alpha\":{\"value\":0.1},\"line_color\":{\"value\":\"#1f77b4\"},\"top\":{\"field\":\"q3\"},\"width\":{\"value\":0.7},\"x\":{\"field\":\"x\"}},\"id\":\"10c1b0a0-75b9-470d-876d-7f92f8f2ab79\",\"type\":\"VBar\"},{\"attributes\":{\"children\":[{\"id\":\"a5d06aa4-add5-48ba-a8f8-46b30df39bc6\",\"type\":\"Row\"},{\"id\":\"d2c450a9-b48c-49ba-969b-c6c5dbc72f0b\",\"type\":\"Row\"}]},\"id\":\"7697ec6c-629b-43ce-9f5b-1c1ea095e839\",\"type\":\"Column\"},{\"attributes\":{\"source\":{\"id\":\"fc31d974-36d9-4081-860c-61f2d70f6e25\",\"type\":\"ColumnDataSource\"}},\"id\":\"e86b9fee-6f38-4e0e-85f9-2a41c68cfcf0\",\"type\":\"CDSView\"},{\"attributes\":{\"source\":{\"id\":\"fc31d974-36d9-4081-860c-61f2d70f6e25\",\"type\":\"ColumnDataSource\"}},\"id\":\"1e1f8339-0ce3-4e05-8bd9-18daaa3db2cc\",\"type\":\"CDSView\"},{\"attributes\":{\"source\":{\"id\":\"fc31d974-36d9-4081-860c-61f2d70f6e25\",\"type\":\"ColumnDataSource\"}},\"id\":\"60886fb3-f0e2-42f5-914e-5da784b77d22\",\"type\":\"CDSView\"},{\"attributes\":{\"plot\":null,\"text\":\"\"},\"id\":\"52f2a6f9-c4ec-4432-9f78-28a78f48a9af\",\"type\":\"Title\"},{\"attributes\":{\"fill_color\":{\"field\":\"colors\"},\"line_color\":{\"field\":\"colors\"},\"x\":{\"field\":\"x\",\"transform\":{\"id\":\"3e701d87-77eb-449c-84f8-6e89686ad22d\",\"type\":\"Jitter\"}},\"y\":{\"field\":\"y\"}},\"id\":\"43171a0c-3833-4f85-a913-8d9fc2e1b390\",\"type\":\"X\"},{\"attributes\":{},\"id\":\"b26f58cf-090e-4953-b643-18849459d543\",\"type\":\"CategoricalTickFormatter\"},{\"attributes\":{\"children\":[{\"id\":\"e27467d9-e45b-4972-97dc-b878078d2f97\",\"subtype\":\"Figure\",\"type\":\"Plot\"}]},\"id\":\"d2c450a9-b48c-49ba-969b-c6c5dbc72f0b\",\"type\":\"Row\"},{\"attributes\":{},\"id\":\"81e6f879-c1aa-4166-aa8c-c31d425ba7c9\",\"type\":\"BasicTicker\"},{\"attributes\":{\"axis_label\":\"Region/Class\",\"formatter\":{\"id\":\"b26f58cf-090e-4953-b643-18849459d543\",\"type\":\"CategoricalTickFormatter\"},\"plot\":{\"id\":\"ad72f4c1-0451-4545-92b0-3da17b359b4f\",\"subtype\":\"Figure\",\"type\":\"Plot\"},\"ticker\":{\"id\":\"f5955855-a77a-4b46-814b-39733a8daedf\",\"type\":\"CategoricalTicker\"}},\"id\":\"05fd6fc3-0ee4-4357-9eb9-b147317685b4\",\"type\":\"CategoricalAxis\"},{\"attributes\":{},\"id\":\"b5db6cd7-2bc6-4188-a0ef-638b5b1dd770\",\"type\":\"WheelZoomTool\"},{\"attributes\":{\"source\":{\"id\":\"9222868d-d731-43c1-8536-f68267d52493\",\"type\":\"ColumnDataSource\"}},\"id\":\"9d1db1ee-05a4-4742-88ac-22575b25cb12\",\"type\":\"CDSView\"},{\"attributes\":{\"fill_color\":{\"value\":\"#ef8a62\"},\"line_color\":{\"value\":\"#ef8a62\"},\"size\":{\"units\":\"screen\",\"value\":10},\"x\":{\"field\":\"x\"},\"y\":{\"field\":\"means\"}},\"id\":\"e645cc00-af8d-4dbc-a3f2-fe6b45bb3ce7\",\"type\":\"X\"},{\"attributes\":{\"active_drag\":\"auto\",\"active_inspect\":\"auto\",\"active_scroll\":\"auto\",\"active_tap\":\"auto\",\"tools\":[{\"id\":\"03cf66a1-257e-459a-82c6-4183ffb880bf\",\"type\":\"HoverTool\"},{\"id\":\"3255b2b1-9eca-4628-bee7-e46e8bad576f\",\"type\":\"PanTool\"},{\"id\":\"b5db6cd7-2bc6-4188-a0ef-638b5b1dd770\",\"type\":\"WheelZoomTool\"},{\"id\":\"eadfb11a-0e84-4ff5-a607-dbcea85fbb2b\",\"type\":\"SaveTool\"},{\"id\":\"581fa346-9f44-4b24-b2fc-5fe9455b2532\",\"type\":\"ResetTool\"},{\"id\":\"e2f7a695-674a-4687-85fc-166ee092464b\",\"type\":\"BoxZoomTool\"}]},\"id\":\"95f4a4ea-4938-4a00-b6ee-3e9cd3a76dab\",\"type\":\"Toolbar\"},{\"attributes\":{\"data_source\":{\"id\":\"fc31d974-36d9-4081-860c-61f2d70f6e25\",\"type\":\"ColumnDataSource\"},\"glyph\":{\"id\":\"812dbe4f-c1e0-4e3e-86de-66d0f3ef6673\",\"type\":\"VBar\"},\"hover_glyph\":null,\"muted_glyph\":null,\"nonselection_glyph\":{\"id\":\"10c1b0a0-75b9-470d-876d-7f92f8f2ab79\",\"type\":\"VBar\"},\"selection_glyph\":null,\"view\":{\"id\":\"60886fb3-f0e2-42f5-914e-5da784b77d22\",\"type\":\"CDSView\"}},\"id\":\"8831b3d1-85d3-4a8d-a95a-9d5d2d7bae7e\",\"type\":\"GlyphRenderer\"},{\"attributes\":{},\"id\":\"c8d416f1-d5b4-4e9b-be14-ec567e89e861\",\"type\":\"CategoricalTickFormatter\"},{\"attributes\":{\"fill_color\":{\"value\":\"#1f77b4\"},\"height\":{\"units\":\"data\",\"value\":0.001},\"width\":{\"units\":\"data\",\"value\":0.2},\"x\":{\"field\":\"x\"},\"y\":{\"field\":\"lw\"}},\"id\":\"1c5bcbf3-51f6-4b0f-9de8-add4e9869883\",\"type\":\"Rect\"},{\"attributes\":{\"bottom\":{\"field\":\"q1\"},\"fill_alpha\":{\"value\":0.1},\"fill_color\":{\"value\":\"#1f77b4\"},\"line_alpha\":{\"value\":0.1},\"line_color\":{\"value\":\"#1f77b4\"},\"top\":{\"field\":\"q2\"},\"width\":{\"value\":0.7},\"x\":{\"field\":\"x\"}},\"id\":\"f5f8e207-0e99-40e6-87ee-cdee43b453e6\",\"type\":\"VBar\"},{\"attributes\":{},\"id\":\"7a70435c-d06c-4b70-8eee-88bdbbc62afd\",\"type\":\"CategoricalTicker\"},{\"attributes\":{\"callback\":null,\"column_names\":[\"x\",\"y\",\"colors\",\"id\"],\"data\":{\"colors\":[\"#e66101\",\"#e66101\",\"#e66101\",\"#e66101\",\"#e66101\",\"#e66101\",\"#e66101\",\"#e66101\",\"#e66101\",\"#e66101\",\"#e66101\",\"#e66101\",\"#e66101\",\"#e66101\",\"#e66101\",\"#e66101\",\"#e66101\",\"#e66101\",\"#e66101\",\"#e66101\",\"#e66101\",\"#e66101\",\"#e66101\",\"#e66101\",\"#e66101\",\"#e66101\",\"#e66101\",\"#e66101\",\"#e66101\",\"#e66101\",\"#e66101\",\"#e66101\",\"#e66101\",\"#e66101\",\"#e66101\",\"#e66101\",\"#e66101\",\"#e66101\",\"#e66101\",\"#e66101\",\"#e66101\",\"#e66101\",\"#e66101\",\"#e66101\",\"#e66101\",\"#e66101\",\"#e66101\",\"#e66101\",\"#e66101\",\"#e66101\",\"#e66101\",\"#e66101\",\"#e66101\",\"#e66101\",\"#e66101\",\"#e66101\",\"#e66101\",\"#e66101\",\"#e66101\",\"#e66101\",\"#e66101\",\"#e66101\",\"#e66101\",\"#e66101\",\"#e66101\",\"#e66101\",\"#e66101\",\"#e66101\",\"#e66101\",\"#e66101\",\"#e66101\",\"#e66101\",\"#e66101\",\"#e66101\",\"#e66101\",\"#e66101\",\"#e66101\",\"#e66101\",\"#e66101\",\"#e66101\",\"#e66101\",\"#e66101\",\"#e66101\",\"#e66101\",\"#e66101\",\"#e66101\",\"#e66101\",\"#e66101\",\"#e66101\",\"#e66101\",\"#e66101\",\"#e66101\",\"#e66101\",\"#e66101\",\"#e66101\",\"#fdb863\",\"#fdb863\",\"#fdb863\",\"#fdb863\",\"#fdb863\",\"#fdb863\",\"#fdb863\",\"#fdb863\",\"#fdb863\",\"#fdb863\",\"#fdb863\",\"#fdb863\",\"#fdb863\",\"#fdb863\",\"#fdb863\",\"#fdb863\",\"#fdb863\",\"#fdb863\",\"#fdb863\",\"#fdb863\",\"#fdb863\",\"#fdb863\",\"#fdb863\",\"#fdb863\",\"#fdb863\",\"#fdb863\",\"#fdb863\",\"#fdb863\",\"#fdb863\",\"#fdb863\",\"#fdb863\",\"#fdb863\",\"#fdb863\",\"#fdb863\",\"#fdb863\",\"#fdb863\",\"#fdb863\",\"#fdb863\",\"#fdb863\",\"#fdb863\",\"#fdb863\",\"#fdb863\",\"#fdb863\",\"#fdb863\",\"#fdb863\",\"#fdb863\",\"#fdb863\",\"#fdb863\",\"#fdb863\",\"#fdb863\",\"#fdb863\",\"#fdb863\",\"#fdb863\",\"#fdb863\",\"#fdb863\",\"#fdb863\",\"#fdb863\",\"#fdb863\",\"#fdb863\",\"#fdb863\",\"#fdb863\",\"#fdb863\",\"#fdb863\",\"#fdb863\",\"#fdb863\",\"#fdb863\",\"#fdb863\",\"#fdb863\",\"#fdb863\",\"#fdb863\",\"#fdb863\",\"#fdb863\",\"#fdb863\",\"#fdb863\",\"#fdb863\",\"#fdb863\",\"#fdb863\",\"#fdb863\",\"#fdb863\",\"#fdb863\",\"#fdb863\",\"#fdb863\",\"#fdb863\",\"#fdb863\",\"#fdb863\",\"#fdb863\",\"#fdb863\",\"#fdb863\",\"#fdb863\",\"#fdb863\",\"#fdb863\",\"#fdb863\",\"#fdb863\",\"#fdb863\",\"#fdb863\",\"#b2abd2\",\"#b2abd2\",\"#b2abd2\",\"#b2abd2\",\"#b2abd2\",\"#b2abd2\",\"#b2abd2\",\"#b2abd2\",\"#b2abd2\",\"#b2abd2\",\"#b2abd2\",\"#b2abd2\",\"#b2abd2\",\"#b2abd2\",\"#b2abd2\",\"#b2abd2\",\"#b2abd2\",\"#b2abd2\",\"#b2abd2\",\"#b2abd2\",\"#b2abd2\",\"#b2abd2\",\"#b2abd2\",\"#b2abd2\",\"#b2abd2\",\"#b2abd2\",\"#b2abd2\",\"#b2abd2\",\"#b2abd2\",\"#b2abd2\",\"#b2abd2\",\"#b2abd2\",\"#b2abd2\",\"#b2abd2\",\"#b2abd2\",\"#b2abd2\",\"#b2abd2\",\"#b2abd2\",\"#b2abd2\",\"#b2abd2\",\"#b2abd2\",\"#b2abd2\",\"#b2abd2\",\"#b2abd2\",\"#b2abd2\",\"#b2abd2\",\"#b2abd2\",\"#b2abd2\",\"#b2abd2\",\"#b2abd2\",\"#b2abd2\",\"#b2abd2\",\"#b2abd2\",\"#b2abd2\",\"#b2abd2\",\"#b2abd2\",\"#b2abd2\",\"#b2abd2\",\"#b2abd2\",\"#b2abd2\",\"#b2abd2\",\"#b2abd2\",\"#b2abd2\",\"#b2abd2\",\"#b2abd2\",\"#b2abd2\",\"#b2abd2\",\"#b2abd2\",\"#b2abd2\",\"#b2abd2\",\"#b2abd2\",\"#b2abd2\",\"#b2abd2\",\"#b2abd2\",\"#b2abd2\",\"#b2abd2\",\"#b2abd2\",\"#b2abd2\",\"#b2abd2\",\"#b2abd2\",\"#b2abd2\",\"#b2abd2\",\"#b2abd2\",\"#b2abd2\",\"#b2abd2\",\"#b2abd2\",\"#b2abd2\",\"#b2abd2\",\"#b2abd2\",\"#b2abd2\",\"#b2abd2\",\"#b2abd2\",\"#b2abd2\",\"#b2abd2\",\"#b2abd2\",\"#5e3c99\",\"#5e3c99\",\"#5e3c99\",\"#5e3c99\",\"#5e3c99\",\"#5e3c99\",\"#5e3c99\",\"#5e3c99\",\"#5e3c99\",\"#5e3c99\",\"#5e3c99\",\"#5e3c99\",\"#5e3c99\",\"#5e3c99\",\"#5e3c99\",\"#5e3c99\",\"#5e3c99\",\"#5e3c99\",\"#5e3c99\",\"#5e3c99\",\"#5e3c99\",\"#5e3c99\",\"#5e3c99\",\"#5e3c99\",\"#5e3c99\",\"#5e3c99\",\"#5e3c99\",\"#5e3c99\",\"#5e3c99\",\"#5e3c99\",\"#5e3c99\",\"#5e3c99\",\"#5e3c99\",\"#5e3c99\",\"#5e3c99\",\"#5e3c99\",\"#5e3c99\",\"#5e3c99\",\"#5e3c99\",\"#5e3c99\",\"#5e3c99\",\"#5e3c99\",\"#5e3c99\",\"#5e3c99\",\"#5e3c99\",\"#5e3c99\",\"#5e3c99\",\"#5e3c99\",\"#5e3c99\",\"#5e3c99\",\"#5e3c99\",\"#5e3c99\",\"#5e3c99\",\"#5e3c99\",\"#5e3c99\",\"#5e3c99\",\"#5e3c99\",\"#5e3c99\",\"#5e3c99\",\"#5e3c99\",\"#5e3c99\",\"#5e3c99\",\"#5e3c99\",\"#5e3c99\",\"#5e3c99\",\"#5e3c99\",\"#5e3c99\",\"#5e3c99\",\"#5e3c99\",\"#5e3c99\",\"#5e3c99\",\"#5e3c99\",\"#5e3c99\",\"#5e3c99\",\"#5e3c99\",\"#5e3c99\",\"#5e3c99\",\"#5e3c99\",\"#5e3c99\",\"#5e3c99\",\"#5e3c99\",\"#5e3c99\",\"#5e3c99\",\"#5e3c99\",\"#5e3c99\",\"#5e3c99\",\"#5e3c99\",\"#5e3c99\",\"#5e3c99\",\"#5e3c99\",\"#5e3c99\",\"#5e3c99\",\"#5e3c99\",\"#5e3c99\",\"#5e3c99\",\"#e66101\",\"#e66101\",\"#e66101\",\"#e66101\",\"#e66101\",\"#e66101\",\"#e66101\",\"#e66101\",\"#e66101\",\"#e66101\",\"#e66101\",\"#e66101\",\"#e66101\",\"#e66101\",\"#e66101\",\"#e66101\",\"#e66101\",\"#e66101\",\"#e66101\",\"#e66101\",\"#e66101\",\"#e66101\",\"#e66101\",\"#e66101\",\"#e66101\",\"#e66101\",\"#e66101\",\"#e66101\",\"#e66101\",\"#e66101\",\"#e66101\",\"#e66101\",\"#e66101\",\"#e66101\",\"#e66101\",\"#e66101\",\"#e66101\",\"#e66101\",\"#e66101\",\"#e66101\",\"#e66101\",\"#e66101\",\"#e66101\",\"#e66101\",\"#e66101\",\"#e66101\",\"#e66101\",\"#e66101\",\"#e66101\",\"#e66101\",\"#e66101\",\"#e66101\",\"#e66101\",\"#e66101\",\"#e66101\",\"#e66101\",\"#e66101\",\"#e66101\",\"#e66101\",\"#e66101\",\"#e66101\",\"#e66101\",\"#e66101\",\"#e66101\",\"#e66101\",\"#e66101\",\"#e66101\",\"#e66101\",\"#e66101\",\"#e66101\",\"#e66101\",\"#e66101\",\"#e66101\",\"#e66101\",\"#e66101\",\"#e66101\",\"#e66101\",\"#e66101\",\"#e66101\",\"#e66101\",\"#fdb863\",\"#fdb863\",\"#fdb863\",\"#fdb863\",\"#fdb863\",\"#fdb863\",\"#fdb863\",\"#fdb863\",\"#fdb863\",\"#fdb863\",\"#fdb863\",\"#fdb863\",\"#fdb863\",\"#fdb863\",\"#fdb863\",\"#fdb863\",\"#fdb863\",\"#fdb863\",\"#fdb863\",\"#fdb863\",\"#fdb863\",\"#fdb863\",\"#fdb863\",\"#fdb863\",\"#fdb863\",\"#fdb863\",\"#fdb863\",\"#fdb863\",\"#fdb863\",\"#fdb863\",\"#fdb863\",\"#fdb863\",\"#fdb863\",\"#fdb863\",\"#fdb863\",\"#fdb863\",\"#fdb863\",\"#fdb863\",\"#fdb863\",\"#fdb863\",\"#fdb863\",\"#fdb863\",\"#fdb863\",\"#fdb863\",\"#fdb863\",\"#fdb863\",\"#fdb863\",\"#fdb863\",\"#fdb863\",\"#fdb863\",\"#fdb863\",\"#fdb863\",\"#fdb863\",\"#fdb863\",\"#fdb863\",\"#fdb863\",\"#fdb863\",\"#fdb863\",\"#fdb863\",\"#fdb863\",\"#fdb863\",\"#fdb863\",\"#fdb863\",\"#fdb863\",\"#fdb863\",\"#fdb863\",\"#fdb863\",\"#fdb863\",\"#fdb863\",\"#fdb863\",\"#fdb863\",\"#fdb863\",\"#fdb863\",\"#fdb863\",\"#fdb863\",\"#fdb863\",\"#fdb863\",\"#fdb863\",\"#fdb863\",\"#fdb863\",\"#b2abd2\",\"#b2abd2\",\"#b2abd2\",\"#b2abd2\",\"#b2abd2\",\"#b2abd2\",\"#b2abd2\",\"#b2abd2\",\"#b2abd2\",\"#b2abd2\",\"#b2abd2\",\"#b2abd2\",\"#b2abd2\",\"#b2abd2\",\"#b2abd2\",\"#b2abd2\",\"#b2abd2\",\"#b2abd2\",\"#b2abd2\",\"#b2abd2\",\"#b2abd2\",\"#b2abd2\",\"#b2abd2\",\"#b2abd2\",\"#b2abd2\",\"#b2abd2\",\"#b2abd2\",\"#b2abd2\",\"#b2abd2\",\"#b2abd2\",\"#b2abd2\",\"#b2abd2\",\"#b2abd2\",\"#b2abd2\",\"#b2abd2\",\"#b2abd2\",\"#b2abd2\",\"#b2abd2\",\"#b2abd2\",\"#b2abd2\",\"#b2abd2\",\"#b2abd2\",\"#b2abd2\",\"#b2abd2\",\"#b2abd2\",\"#b2abd2\",\"#b2abd2\",\"#b2abd2\",\"#b2abd2\",\"#b2abd2\",\"#b2abd2\",\"#b2abd2\",\"#b2abd2\",\"#b2abd2\",\"#b2abd2\",\"#b2abd2\",\"#b2abd2\",\"#b2abd2\",\"#b2abd2\",\"#b2abd2\",\"#b2abd2\",\"#b2abd2\",\"#b2abd2\",\"#b2abd2\",\"#b2abd2\",\"#b2abd2\",\"#b2abd2\",\"#b2abd2\",\"#b2abd2\",\"#b2abd2\",\"#b2abd2\",\"#b2abd2\",\"#b2abd2\",\"#b2abd2\",\"#b2abd2\",\"#b2abd2\",\"#b2abd2\",\"#b2abd2\",\"#b2abd2\",\"#b2abd2\",\"#5e3c99\",\"#5e3c99\",\"#5e3c99\",\"#5e3c99\",\"#5e3c99\",\"#5e3c99\",\"#5e3c99\",\"#5e3c99\",\"#5e3c99\",\"#5e3c99\",\"#5e3c99\",\"#5e3c99\",\"#5e3c99\",\"#5e3c99\",\"#5e3c99\",\"#5e3c99\",\"#5e3c99\",\"#5e3c99\",\"#5e3c99\",\"#5e3c99\",\"#5e3c99\",\"#5e3c99\",\"#5e3c99\",\"#5e3c99\",\"#5e3c99\",\"#5e3c99\",\"#5e3c99\",\"#5e3c99\",\"#5e3c99\",\"#5e3c99\",\"#5e3c99\",\"#5e3c99\",\"#5e3c99\",\"#5e3c99\",\"#5e3c99\",\"#5e3c99\",\"#5e3c99\",\"#5e3c99\",\"#5e3c99\",\"#5e3c99\",\"#5e3c99\",\"#5e3c99\",\"#5e3c99\",\"#5e3c99\",\"#5e3c99\",\"#5e3c99\",\"#5e3c99\",\"#5e3c99\",\"#5e3c99\",\"#5e3c99\",\"#5e3c99\",\"#5e3c99\",\"#5e3c99\",\"#5e3c99\",\"#5e3c99\",\"#5e3c99\",\"#5e3c99\",\"#5e3c99\",\"#5e3c99\",\"#5e3c99\",\"#5e3c99\",\"#5e3c99\",\"#5e3c99\",\"#5e3c99\",\"#5e3c99\",\"#5e3c99\",\"#5e3c99\",\"#5e3c99\",\"#5e3c99\",\"#5e3c99\",\"#5e3c99\",\"#5e3c99\",\"#5e3c99\",\"#5e3c99\",\"#5e3c99\",\"#5e3c99\",\"#5e3c99\",\"#5e3c99\",\"#5e3c99\",\"#5e3c99\",\"#e66101\",\"#e66101\",\"#e66101\",\"#e66101\",\"#e66101\",\"#e66101\",\"#e66101\",\"#e66101\",\"#e66101\",\"#e66101\",\"#e66101\",\"#e66101\",\"#e66101\",\"#e66101\",\"#e66101\",\"#e66101\",\"#e66101\",\"#e66101\",\"#e66101\",\"#e66101\",\"#e66101\",\"#e66101\",\"#e66101\",\"#e66101\",\"#e66101\",\"#e66101\",\"#e66101\",\"#e66101\",\"#e66101\",\"#e66101\",\"#e66101\",\"#e66101\",\"#e66101\",\"#e66101\",\"#e66101\",\"#e66101\",\"#e66101\",\"#e66101\",\"#e66101\",\"#e66101\",\"#e66101\",\"#e66101\",\"#e66101\",\"#e66101\",\"#e66101\",\"#e66101\",\"#e66101\",\"#e66101\",\"#e66101\",\"#e66101\",\"#e66101\",\"#e66101\",\"#e66101\",\"#e66101\",\"#e66101\",\"#e66101\",\"#e66101\",\"#e66101\",\"#e66101\",\"#e66101\",\"#e66101\",\"#e66101\",\"#e66101\",\"#e66101\",\"#e66101\",\"#e66101\",\"#e66101\",\"#fdb863\",\"#fdb863\",\"#fdb863\",\"#fdb863\",\"#fdb863\",\"#fdb863\",\"#fdb863\",\"#fdb863\",\"#fdb863\",\"#fdb863\",\"#fdb863\",\"#fdb863\",\"#fdb863\",\"#fdb863\",\"#fdb863\",\"#fdb863\",\"#fdb863\",\"#fdb863\",\"#fdb863\",\"#fdb863\",\"#fdb863\",\"#fdb863\",\"#fdb863\",\"#fdb863\",\"#fdb863\",\"#fdb863\",\"#fdb863\",\"#fdb863\",\"#fdb863\",\"#fdb863\",\"#fdb863\",\"#fdb863\",\"#fdb863\",\"#fdb863\",\"#fdb863\",\"#fdb863\",\"#fdb863\",\"#fdb863\",\"#fdb863\",\"#fdb863\",\"#fdb863\",\"#fdb863\",\"#fdb863\",\"#fdb863\",\"#fdb863\",\"#fdb863\",\"#fdb863\",\"#fdb863\",\"#fdb863\",\"#fdb863\",\"#fdb863\",\"#fdb863\",\"#fdb863\",\"#fdb863\",\"#fdb863\",\"#fdb863\",\"#fdb863\",\"#fdb863\",\"#fdb863\",\"#fdb863\",\"#fdb863\",\"#fdb863\",\"#fdb863\",\"#fdb863\",\"#fdb863\",\"#fdb863\",\"#fdb863\",\"#b2abd2\",\"#b2abd2\",\"#b2abd2\",\"#b2abd2\",\"#b2abd2\",\"#b2abd2\",\"#b2abd2\",\"#b2abd2\",\"#b2abd2\",\"#b2abd2\",\"#b2abd2\",\"#b2abd2\",\"#b2abd2\",\"#b2abd2\",\"#b2abd2\",\"#b2abd2\",\"#b2abd2\",\"#b2abd2\",\"#b2abd2\",\"#b2abd2\",\"#b2abd2\",\"#b2abd2\",\"#b2abd2\",\"#b2abd2\",\"#b2abd2\",\"#b2abd2\",\"#b2abd2\",\"#b2abd2\",\"#b2abd2\",\"#b2abd2\",\"#b2abd2\",\"#b2abd2\",\"#b2abd2\",\"#b2abd2\",\"#b2abd2\",\"#b2abd2\",\"#b2abd2\",\"#b2abd2\",\"#b2abd2\",\"#b2abd2\",\"#b2abd2\",\"#b2abd2\",\"#b2abd2\",\"#b2abd2\",\"#b2abd2\",\"#b2abd2\",\"#b2abd2\",\"#b2abd2\",\"#b2abd2\",\"#b2abd2\",\"#b2abd2\",\"#b2abd2\",\"#b2abd2\",\"#b2abd2\",\"#b2abd2\",\"#b2abd2\",\"#b2abd2\",\"#b2abd2\",\"#b2abd2\",\"#b2abd2\",\"#b2abd2\",\"#b2abd2\",\"#b2abd2\",\"#b2abd2\",\"#b2abd2\",\"#b2abd2\",\"#b2abd2\",\"#5e3c99\",\"#5e3c99\",\"#5e3c99\",\"#5e3c99\",\"#5e3c99\",\"#5e3c99\",\"#5e3c99\",\"#5e3c99\",\"#5e3c99\",\"#5e3c99\",\"#5e3c99\",\"#5e3c99\",\"#5e3c99\",\"#5e3c99\",\"#5e3c99\",\"#5e3c99\",\"#5e3c99\",\"#5e3c99\",\"#5e3c99\",\"#5e3c99\",\"#5e3c99\",\"#5e3c99\",\"#5e3c99\",\"#5e3c99\",\"#5e3c99\",\"#5e3c99\",\"#5e3c99\",\"#5e3c99\",\"#5e3c99\",\"#5e3c99\",\"#5e3c99\",\"#5e3c99\",\"#5e3c99\",\"#5e3c99\",\"#5e3c99\",\"#5e3c99\",\"#5e3c99\",\"#5e3c99\",\"#5e3c99\",\"#5e3c99\",\"#5e3c99\",\"#5e3c99\",\"#5e3c99\",\"#5e3c99\",\"#5e3c99\",\"#5e3c99\",\"#5e3c99\",\"#5e3c99\",\"#5e3c99\",\"#5e3c99\",\"#5e3c99\",\"#5e3c99\",\"#5e3c99\",\"#5e3c99\",\"#5e3c99\",\"#5e3c99\",\"#5e3c99\",\"#5e3c99\",\"#5e3c99\",\"#5e3c99\",\"#5e3c99\",\"#5e3c99\",\"#5e3c99\",\"#5e3c99\",\"#5e3c99\",\"#5e3c99\",\"#5e3c99\",\"#e66101\",\"#e66101\",\"#e66101\",\"#e66101\",\"#e66101\",\"#e66101\",\"#e66101\",\"#e66101\",\"#e66101\",\"#fdb863\",\"#fdb863\",\"#fdb863\",\"#fdb863\",\"#fdb863\",\"#fdb863\",\"#fdb863\",\"#fdb863\",\"#fdb863\",\"#b2abd2\",\"#b2abd2\",\"#b2abd2\",\"#b2abd2\",\"#b2abd2\",\"#b2abd2\",\"#b2abd2\",\"#b2abd2\",\"#b2abd2\",\"#5e3c99\",\"#5e3c99\",\"#5e3c99\",\"#5e3c99\",\"#5e3c99\",\"#5e3c99\",\"#5e3c99\",\"#5e3c99\",\"#5e3c99\",\"#e66101\",\"#e66101\",\"#e66101\",\"#e66101\",\"#e66101\",\"#e66101\",\"#e66101\",\"#e66101\",\"#e66101\",\"#e66101\",\"#e66101\",\"#e66101\",\"#e66101\",\"#e66101\",\"#e66101\",\"#e66101\",\"#e66101\",\"#e66101\",\"#e66101\",\"#e66101\",\"#e66101\",\"#e66101\",\"#e66101\",\"#e66101\",\"#e66101\",\"#e66101\",\"#fdb863\",\"#fdb863\",\"#fdb863\",\"#fdb863\",\"#fdb863\",\"#fdb863\",\"#fdb863\",\"#fdb863\",\"#fdb863\",\"#fdb863\",\"#fdb863\",\"#fdb863\",\"#fdb863\",\"#fdb863\",\"#fdb863\",\"#fdb863\",\"#fdb863\",\"#fdb863\",\"#fdb863\",\"#fdb863\",\"#fdb863\",\"#fdb863\",\"#fdb863\",\"#fdb863\",\"#fdb863\",\"#fdb863\",\"#b2abd2\",\"#b2abd2\",\"#b2abd2\",\"#b2abd2\",\"#b2abd2\",\"#b2abd2\",\"#b2abd2\",\"#b2abd2\",\"#b2abd2\",\"#b2abd2\",\"#b2abd2\",\"#b2abd2\",\"#b2abd2\",\"#b2abd2\",\"#b2abd2\",\"#b2abd2\",\"#b2abd2\",\"#b2abd2\",\"#b2abd2\",\"#b2abd2\",\"#b2abd2\",\"#b2abd2\",\"#b2abd2\",\"#b2abd2\",\"#b2abd2\",\"#b2abd2\",\"#5e3c99\",\"#5e3c99\",\"#5e3c99\",\"#5e3c99\",\"#5e3c99\",\"#5e3c99\",\"#5e3c99\",\"#5e3c99\",\"#5e3c99\",\"#5e3c99\",\"#5e3c99\",\"#5e3c99\",\"#5e3c99\",\"#5e3c99\",\"#5e3c99\",\"#5e3c99\",\"#5e3c99\",\"#5e3c99\",\"#5e3c99\",\"#5e3c99\",\"#5e3c99\",\"#5e3c99\",\"#5e3c99\",\"#5e3c99\",\"#5e3c99\",\"#5e3c99\",\"#e66101\",\"#e66101\",\"#e66101\",\"#e66101\",\"#e66101\",\"#fdb863\",\"#fdb863\",\"#fdb863\",\"#fdb863\",\"#fdb863\",\"#b2abd2\",\"#b2abd2\",\"#b2abd2\",\"#b2abd2\",\"#b2abd2\",\"#5e3c99\",\"#5e3c99\",\"#5e3c99\",\"#5e3c99\",\"#5e3c99\"],\"id\":[\"05N_048E\",\"05N_018E\",\"10S_054E\",\"00N_042E\",\"10N_018E\",\"05N_006W\",\"10N_006W\",\"20N_024W\",\"15S_012E\",\"15S_006E\",\"15N_018W\",\"15S_024E\",\"15N_048E\",\"05N_006E\",\"00N_036E\",\"10N_048E\",\"10N_012E\",\"20N_006E\",\"05S_006E\",\"15N_024E\",\"15S_054E\",\"15N_024W\",\"00N_024E\",\"20N_000E\",\"05S_042E\",\"05N_000E\",\"10N_030E\",\"15S_018E\",\"20N_030W\",\"15N_042E\",\"15N_006E\",\"10S_048E\",\"10N_024E\",\"15S_048E\",\"20S_012E\",\"20N_006W\",\"10S_024E\",\"20N_012W\",\"00N_000E\",\"10S_030E\",\"20N_024E\",\"25N_018E\",\"20N_018W\",\"05N_042E\",\"00N_012E\",\"10N_018W\",\"20N_030E\",\"15N_030E\",\"25N_036E\",\"15S_042E\",\"20S_024E\",\"20S_018E\",\"05N_030E\",\"05S_048E\",\"10N_036E\",\"20N_018E\",\"10N_000E\",\"15N_006W\",\"15N_012W\",\"10N_006E\",\"10N_012W\",\"25N_012E\",\"05N_024E\",\"15S_036E\",\"25N_018W\",\"10S_012E\",\"00N_018E\",\"15N_012E\",\"20S_030E\",\"05S_012E\",\"15N_018E\",\"00N_030E\",\"10S_018E\",\"10S_042E\",\"20S_054E\",\"20S_042E\",\"05N_012E\",\"05N_012W\",\"05S_030E\",\"05N_036E\",\"25N_006E\",\"10S_036E\",\"20S_048E\",\"15S_030E\",\"05S_024E\",\"25N_030E\",\"05S_018E\",\"20N_036E\",\"10N_042E\",\"00N_006E\",\"20N_012E\",\"15N_030W\",\"15N_036E\",\"05S_036E\",\"15N_000E\",\"05N_048E\",\"05N_018E\",\"10S_054E\",\"00N_042E\",\"10N_018E\",\"05N_006W\",\"10N_006W\",\"20N_024W\",\"15S_012E\",\"15S_006E\",\"15N_018W\",\"15S_024E\",\"15N_048E\",\"05N_006E\",\"00N_036E\",\"10N_048E\",\"10N_012E\",\"20N_006E\",\"05S_006E\",\"15N_024E\",\"15S_054E\",\"15N_024W\",\"00N_024E\",\"20N_000E\",\"05S_042E\",\"05N_000E\",\"10N_030E\",\"15S_018E\",\"20N_030W\",\"15N_042E\",\"15N_006E\",\"10S_048E\",\"10N_024E\",\"15S_048E\",\"20S_012E\",\"20N_006W\",\"10S_024E\",\"20N_012W\",\"00N_000E\",\"10S_030E\",\"20N_024E\",\"25N_018E\",\"20N_018W\",\"05N_042E\",\"00N_012E\",\"10N_018W\",\"20N_030E\",\"15N_030E\",\"25N_036E\",\"15S_042E\",\"20S_024E\",\"20S_018E\",\"05N_030E\",\"05S_048E\",\"10N_036E\",\"20N_018E\",\"10N_000E\",\"15N_006W\",\"15N_012W\",\"10N_006E\",\"10N_012W\",\"25N_012E\",\"05N_024E\",\"15S_036E\",\"25N_018W\",\"10S_012E\",\"00N_018E\",\"15N_012E\",\"20S_030E\",\"05S_012E\",\"15N_018E\",\"00N_030E\",\"10S_018E\",\"10S_042E\",\"20S_054E\",\"20S_042E\",\"05N_012E\",\"05N_012W\",\"05S_030E\",\"05N_036E\",\"25N_006E\",\"10S_036E\",\"20S_048E\",\"15S_030E\",\"05S_024E\",\"25N_030E\",\"05S_018E\",\"20N_036E\",\"10N_042E\",\"00N_006E\",\"20N_012E\",\"15N_030W\",\"15N_036E\",\"05S_036E\",\"15N_000E\",\"05N_048E\",\"05N_018E\",\"10S_054E\",\"00N_042E\",\"10N_018E\",\"05N_006W\",\"10N_006W\",\"20N_024W\",\"15S_012E\",\"15S_006E\",\"15N_018W\",\"15S_024E\",\"15N_048E\",\"05N_006E\",\"00N_036E\",\"10N_048E\",\"10N_012E\",\"20N_006E\",\"05S_006E\",\"15N_024E\",\"15S_054E\",\"15N_024W\",\"00N_024E\",\"20N_000E\",\"05S_042E\",\"05N_000E\",\"10N_030E\",\"15S_018E\",\"20N_030W\",\"15N_042E\",\"15N_006E\",\"10S_048E\",\"10N_024E\",\"15S_048E\",\"20S_012E\",\"20N_006W\",\"10S_024E\",\"20N_012W\",\"00N_000E\",\"10S_030E\",\"20N_024E\",\"25N_018E\",\"20N_018W\",\"05N_042E\",\"00N_012E\",\"10N_018W\",\"20N_030E\",\"15N_030E\",\"25N_036E\",\"15S_042E\",\"20S_024E\",\"20S_018E\",\"05N_030E\",\"05S_048E\",\"10N_036E\",\"20N_018E\",\"10N_000E\",\"15N_006W\",\"15N_012W\",\"10N_006E\",\"10N_012W\",\"25N_012E\",\"05N_024E\",\"15S_036E\",\"25N_018W\",\"10S_012E\",\"00N_018E\",\"15N_012E\",\"20S_030E\",\"05S_012E\",\"15N_018E\",\"00N_030E\",\"10S_018E\",\"10S_042E\",\"20S_054E\",\"20S_042E\",\"05N_012E\",\"05N_012W\",\"05S_030E\",\"05N_036E\",\"25N_006E\",\"10S_036E\",\"20S_048E\",\"15S_030E\",\"05S_024E\",\"25N_030E\",\"05S_018E\",\"20N_036E\",\"10N_042E\",\"00N_006E\",\"20N_012E\",\"15N_030W\",\"15N_036E\",\"05S_036E\",\"15N_000E\",\"05N_048E\",\"05N_018E\",\"10S_054E\",\"00N_042E\",\"10N_018E\",\"05N_006W\",\"10N_006W\",\"20N_024W\",\"15S_012E\",\"15S_006E\",\"15N_018W\",\"15S_024E\",\"15N_048E\",\"05N_006E\",\"00N_036E\",\"10N_048E\",\"10N_012E\",\"20N_006E\",\"05S_006E\",\"15N_024E\",\"15S_054E\",\"15N_024W\",\"00N_024E\",\"20N_000E\",\"05S_042E\",\"05N_000E\",\"10N_030E\",\"15S_018E\",\"20N_030W\",\"15N_042E\",\"15N_006E\",\"10S_048E\",\"10N_024E\",\"15S_048E\",\"20S_012E\",\"20N_006W\",\"10S_024E\",\"20N_012W\",\"00N_000E\",\"10S_030E\",\"20N_024E\",\"25N_018E\",\"20N_018W\",\"05N_042E\",\"00N_012E\",\"10N_018W\",\"20N_030E\",\"15N_030E\",\"25N_036E\",\"15S_042E\",\"20S_024E\",\"20S_018E\",\"05N_030E\",\"05S_048E\",\"10N_036E\",\"20N_018E\",\"10N_000E\",\"15N_006W\",\"15N_012W\",\"10N_006E\",\"10N_012W\",\"25N_012E\",\"05N_024E\",\"15S_036E\",\"25N_018W\",\"10S_012E\",\"00N_018E\",\"15N_012E\",\"20S_030E\",\"05S_012E\",\"15N_018E\",\"00N_030E\",\"10S_018E\",\"10S_042E\",\"20S_054E\",\"20S_042E\",\"05N_012E\",\"05N_012W\",\"05S_030E\",\"05N_036E\",\"25N_006E\",\"10S_036E\",\"20S_048E\",\"15S_030E\",\"05S_024E\",\"25N_030E\",\"05S_018E\",\"20N_036E\",\"10N_042E\",\"00N_006E\",\"20N_012E\",\"15N_030W\",\"15N_036E\",\"05S_036E\",\"15N_000E\",\"00N_060W\",\"05N_072W\",\"05S_048W\",\"10N_054W\",\"05S_072W\",\"20S_048W\",\"20S_042W\",\"15N_060W\",\"25N_102W\",\"25N_096W\",\"00N_036W\",\"25N_072W\",\"00N_078W\",\"20N_102W\",\"15S_066W\",\"25N_108W\",\"15N_084W\",\"20N_078W\",\"20S_054W\",\"20N_108W\",\"10N_090W\",\"05N_060W\",\"00N_090W\",\"15N_072W\",\"15S_060W\",\"25N_114W\",\"20N_066W\",\"20N_096W\",\"20N_090W\",\"00N_048W\",\"10S_060W\",\"10S_048W\",\"00N_042W\",\"20N_084W\",\"15N_096W\",\"15S_072W\",\"05N_054W\",\"05S_042W\",\"05S_054W\",\"05N_078W\",\"05N_066W\",\"15S_042W\",\"15N_114W\",\"00N_066W\",\"20N_114W\",\"25N_078W\",\"05S_084W\",\"20S_072W\",\"25N_084W\",\"10S_084W\",\"20S_066W\",\"20S_060W\",\"15N_066W\",\"05S_036W\",\"05N_084W\",\"10S_066W\",\"00N_054W\",\"10N_084W\",\"05N_096W\",\"00N_096W\",\"10N_078W\",\"15S_078W\",\"00N_084W\",\"05S_060W\",\"10S_078W\",\"15N_078W\",\"15N_090W\",\"10S_072W\",\"15S_054W\",\"20N_072W\",\"10N_066W\",\"00N_072W\",\"10S_042W\",\"10N_060W\",\"10N_072W\",\"25N_090W\",\"10S_054W\",\"15S_048W\",\"05S_078W\",\"05S_066W\",\"00N_060W\",\"05N_072W\",\"05S_048W\",\"10N_054W\",\"05S_072W\",\"20S_048W\",\"20S_042W\",\"15N_060W\",\"25N_102W\",\"25N_096W\",\"00N_036W\",\"25N_072W\",\"00N_078W\",\"20N_102W\",\"15S_066W\",\"25N_108W\",\"15N_084W\",\"20N_078W\",\"20S_054W\",\"20N_108W\",\"10N_090W\",\"05N_060W\",\"00N_090W\",\"15N_072W\",\"15S_060W\",\"25N_114W\",\"20N_066W\",\"20N_096W\",\"20N_090W\",\"00N_048W\",\"10S_060W\",\"10S_048W\",\"00N_042W\",\"20N_084W\",\"15N_096W\",\"15S_072W\",\"05N_054W\",\"05S_042W\",\"05S_054W\",\"05N_078W\",\"05N_066W\",\"15S_042W\",\"15N_114W\",\"00N_066W\",\"20N_114W\",\"25N_078W\",\"05S_084W\",\"20S_072W\",\"25N_084W\",\"10S_084W\",\"20S_066W\",\"20S_060W\",\"15N_066W\",\"05S_036W\",\"05N_084W\",\"10S_066W\",\"00N_054W\",\"10N_084W\",\"05N_096W\",\"00N_096W\",\"10N_078W\",\"15S_078W\",\"00N_084W\",\"05S_060W\",\"10S_078W\",\"15N_078W\",\"15N_090W\",\"10S_072W\",\"15S_054W\",\"20N_072W\",\"10N_066W\",\"00N_072W\",\"10S_042W\",\"10N_060W\",\"10N_072W\",\"25N_090W\",\"10S_054W\",\"15S_048W\",\"05S_078W\",\"05S_066W\",\"00N_060W\",\"05N_072W\",\"05S_048W\",\"10N_054W\",\"05S_072W\",\"20S_048W\",\"20S_042W\",\"15N_060W\",\"25N_102W\",\"25N_096W\",\"00N_036W\",\"25N_072W\",\"00N_078W\",\"20N_102W\",\"15S_066W\",\"25N_108W\",\"15N_084W\",\"20N_078W\",\"20S_054W\",\"20N_108W\",\"10N_090W\",\"05N_060W\",\"00N_090W\",\"15N_072W\",\"15S_060W\",\"25N_114W\",\"20N_066W\",\"20N_096W\",\"20N_090W\",\"00N_048W\",\"10S_060W\",\"10S_048W\",\"00N_042W\",\"20N_084W\",\"15N_096W\",\"15S_072W\",\"05N_054W\",\"05S_042W\",\"05S_054W\",\"05N_078W\",\"05N_066W\",\"15S_042W\",\"15N_114W\",\"00N_066W\",\"20N_114W\",\"25N_078W\",\"05S_084W\",\"20S_072W\",\"25N_084W\",\"10S_084W\",\"20S_066W\",\"20S_060W\",\"15N_066W\",\"05S_036W\",\"05N_084W\",\"10S_066W\",\"00N_054W\",\"10N_084W\",\"05N_096W\",\"00N_096W\",\"10N_078W\",\"15S_078W\",\"00N_084W\",\"05S_060W\",\"10S_078W\",\"15N_078W\",\"15N_090W\",\"10S_072W\",\"15S_054W\",\"20N_072W\",\"10N_066W\",\"00N_072W\",\"10S_042W\",\"10N_060W\",\"10N_072W\",\"25N_090W\",\"10S_054W\",\"15S_048W\",\"05S_078W\",\"05S_066W\",\"00N_060W\",\"05N_072W\",\"05S_048W\",\"10N_054W\",\"05S_072W\",\"20S_048W\",\"20S_042W\",\"15N_060W\",\"25N_102W\",\"25N_096W\",\"00N_036W\",\"25N_072W\",\"00N_078W\",\"20N_102W\",\"15S_066W\",\"25N_108W\",\"15N_084W\",\"20N_078W\",\"20S_054W\",\"20N_108W\",\"10N_090W\",\"05N_060W\",\"00N_090W\",\"15N_072W\",\"15S_060W\",\"25N_114W\",\"20N_066W\",\"20N_096W\",\"20N_090W\",\"00N_048W\",\"10S_060W\",\"10S_048W\",\"00N_042W\",\"20N_084W\",\"15N_096W\",\"15S_072W\",\"05N_054W\",\"05S_042W\",\"05S_054W\",\"05N_078W\",\"05N_066W\",\"15S_042W\",\"15N_114W\",\"00N_066W\",\"20N_114W\",\"25N_078W\",\"05S_084W\",\"20S_072W\",\"25N_084W\",\"10S_084W\",\"20S_066W\",\"20S_060W\",\"15N_066W\",\"05S_036W\",\"05N_084W\",\"10S_066W\",\"00N_054W\",\"10N_084W\",\"05N_096W\",\"00N_096W\",\"10N_078W\",\"15S_078W\",\"00N_084W\",\"05S_060W\",\"10S_078W\",\"15N_078W\",\"15N_090W\",\"10S_072W\",\"15S_054W\",\"20N_072W\",\"10N_066W\",\"00N_072W\",\"10S_042W\",\"10N_060W\",\"10N_072W\",\"25N_090W\",\"10S_054W\",\"15S_048W\",\"05S_078W\",\"05S_066W\",\"20N_084E\",\"10N_114E\",\"20N_114E\",\"05N_120E\",\"10S_120E\",\"15N_114E\",\"05N_096E\",\"05S_132E\",\"20N_090E\",\"20N_078E\",\"15N_048E\",\"15N_120E\",\"25N_108E\",\"05S_108E\",\"15N_072E\",\"15N_042E\",\"15N_126E\",\"25N_096E\",\"10N_090E\",\"15N_108E\",\"20N_120E\",\"20N_102E\",\"15N_054E\",\"00N_120E\",\"05N_126E\",\"05N_072E\",\"25N_036E\",\"10N_072E\",\"25N_072E\",\"15N_078E\",\"10N_120E\",\"25N_066E\",\"20N_096E\",\"25N_120E\",\"00N_108E\",\"05S_138E\",\"25N_102E\",\"00N_102E\",\"05N_108E\",\"00N_072E\",\"15N_090E\",\"05N_114E\",\"10S_114E\",\"05S_126E\",\"25N_090E\",\"25N_084E\",\"05S_102E\",\"10N_078E\",\"10N_126E\",\"25N_114E\",\"00N_126E\",\"15N_102E\",\"05S_120E\",\"20N_072E\",\"25N_078E\",\"15N_096E\",\"05N_090E\",\"00N_132E\",\"00N_114E\",\"00N_138E\",\"05S_114E\",\"00N_096E\",\"20N_036E\",\"05N_102E\",\"10N_102E\",\"20N_108E\",\"10N_096E\",\"20N_084E\",\"10N_114E\",\"20N_114E\",\"05N_120E\",\"10S_120E\",\"15N_114E\",\"05N_096E\",\"05S_132E\",\"20N_090E\",\"20N_078E\",\"15N_048E\",\"15N_120E\",\"25N_108E\",\"05S_108E\",\"15N_072E\",\"15N_042E\",\"15N_126E\",\"25N_096E\",\"10N_090E\",\"15N_108E\",\"20N_120E\",\"20N_102E\",\"15N_054E\",\"00N_120E\",\"05N_126E\",\"05N_072E\",\"25N_036E\",\"10N_072E\",\"25N_072E\",\"15N_078E\",\"10N_120E\",\"25N_066E\",\"20N_096E\",\"25N_120E\",\"00N_108E\",\"05S_138E\",\"25N_102E\",\"00N_102E\",\"05N_108E\",\"00N_072E\",\"15N_090E\",\"05N_114E\",\"10S_114E\",\"05S_126E\",\"25N_090E\",\"25N_084E\",\"05S_102E\",\"10N_078E\",\"10N_126E\",\"25N_114E\",\"00N_126E\",\"15N_102E\",\"05S_120E\",\"20N_072E\",\"25N_078E\",\"15N_096E\",\"05N_090E\",\"00N_132E\",\"00N_114E\",\"00N_138E\",\"05S_114E\",\"00N_096E\",\"20N_036E\",\"05N_102E\",\"10N_102E\",\"20N_108E\",\"10N_096E\",\"20N_084E\",\"10N_114E\",\"20N_114E\",\"05N_120E\",\"10S_120E\",\"15N_114E\",\"05N_096E\",\"05S_132E\",\"20N_090E\",\"20N_078E\",\"15N_048E\",\"15N_120E\",\"25N_108E\",\"05S_108E\",\"15N_072E\",\"15N_042E\",\"15N_126E\",\"25N_096E\",\"10N_090E\",\"15N_108E\",\"20N_120E\",\"20N_102E\",\"15N_054E\",\"00N_120E\",\"05N_126E\",\"05N_072E\",\"25N_036E\",\"10N_072E\",\"25N_072E\",\"15N_078E\",\"10N_120E\",\"25N_066E\",\"20N_096E\",\"25N_120E\",\"00N_108E\",\"05S_138E\",\"25N_102E\",\"00N_102E\",\"05N_108E\",\"00N_072E\",\"15N_090E\",\"05N_114E\",\"10S_114E\",\"05S_126E\",\"25N_090E\",\"25N_084E\",\"05S_102E\",\"10N_078E\",\"10N_126E\",\"25N_114E\",\"00N_126E\",\"15N_102E\",\"05S_120E\",\"20N_072E\",\"25N_078E\",\"15N_096E\",\"05N_090E\",\"00N_132E\",\"00N_114E\",\"00N_138E\",\"05S_114E\",\"00N_096E\",\"20N_036E\",\"05N_102E\",\"10N_102E\",\"20N_108E\",\"10N_096E\",\"20N_084E\",\"10N_114E\",\"20N_114E\",\"05N_120E\",\"10S_120E\",\"15N_114E\",\"05N_096E\",\"05S_132E\",\"20N_090E\",\"20N_078E\",\"15N_048E\",\"15N_120E\",\"25N_108E\",\"05S_108E\",\"15N_072E\",\"15N_042E\",\"15N_126E\",\"25N_096E\",\"10N_090E\",\"15N_108E\",\"20N_120E\",\"20N_102E\",\"15N_054E\",\"00N_120E\",\"05N_126E\",\"05N_072E\",\"25N_036E\",\"10N_072E\",\"25N_072E\",\"15N_078E\",\"10N_120E\",\"25N_066E\",\"20N_096E\",\"25N_120E\",\"00N_108E\",\"05S_138E\",\"25N_102E\",\"00N_102E\",\"05N_108E\",\"00N_072E\",\"15N_090E\",\"05N_114E\",\"10S_114E\",\"05S_126E\",\"25N_090E\",\"25N_084E\",\"05S_102E\",\"10N_078E\",\"10N_126E\",\"25N_114E\",\"00N_126E\",\"15N_102E\",\"05S_120E\",\"20N_072E\",\"25N_078E\",\"15N_096E\",\"05N_090E\",\"00N_132E\",\"00N_114E\",\"00N_138E\",\"05S_114E\",\"00N_096E\",\"20N_036E\",\"05N_102E\",\"10N_102E\",\"20N_108E\",\"10N_096E\",\"10N_054W\",\"05N_060W\",\"15N_072W\",\"20N_066W\",\"05N_054W\",\"15N_066W\",\"10S_042E\",\"20S_054E\",\"10N_060W\",\"10N_054W\",\"05N_060W\",\"15N_072W\",\"20N_066W\",\"05N_054W\",\"15N_066W\",\"10S_042E\",\"20S_054E\",\"10N_060W\",\"10N_054W\",\"05N_060W\",\"15N_072W\",\"20N_066W\",\"05N_054W\",\"15N_066W\",\"10S_042E\",\"20S_054E\",\"10N_060W\",\"10N_054W\",\"05N_060W\",\"15N_072W\",\"20N_066W\",\"05N_054W\",\"15N_066W\",\"10S_042E\",\"20S_054E\",\"10N_060W\",\"10S_144E\",\"10S_126E\",\"10S_120E\",\"05S_162E\",\"10S_156E\",\"10S_150E\",\"00N_162E\",\"10S_162E\",\"05S_144E\",\"00N_144E\",\"00N_168E\",\"10N_132E\",\"00N_150E\",\"15N_144E\",\"05N_126E\",\"10N_138E\",\"10N_156E\",\"20N_144E\",\"05S_138E\",\"05S_156E\",\"05S_150E\",\"10S_168E\",\"10N_150E\",\"00N_138E\",\"10S_138E\",\"05N_150E\",\"10S_144E\",\"10S_126E\",\"10S_120E\",\"05S_162E\",\"10S_156E\",\"10S_150E\",\"00N_162E\",\"10S_162E\",\"05S_144E\",\"00N_144E\",\"00N_168E\",\"10N_132E\",\"00N_150E\",\"15N_144E\",\"05N_126E\",\"10N_138E\",\"10N_156E\",\"20N_144E\",\"05S_138E\",\"05S_156E\",\"05S_150E\",\"10S_168E\",\"10N_150E\",\"00N_138E\",\"10S_138E\",\"05N_150E\",\"10S_144E\",\"10S_126E\",\"10S_120E\",\"05S_162E\",\"10S_156E\",\"10S_150E\",\"00N_162E\",\"10S_162E\",\"05S_144E\",\"00N_144E\",\"00N_168E\",\"10N_132E\",\"00N_150E\",\"15N_144E\",\"05N_126E\",\"10N_138E\",\"10N_156E\",\"20N_144E\",\"05S_138E\",\"05S_156E\",\"05S_150E\",\"10S_168E\",\"10N_150E\",\"00N_138E\",\"10S_138E\",\"05N_150E\",\"10S_144E\",\"10S_126E\",\"10S_120E\",\"05S_162E\",\"10S_156E\",\"10S_150E\",\"00N_162E\",\"10S_162E\",\"05S_144E\",\"00N_144E\",\"00N_168E\",\"10N_132E\",\"00N_150E\",\"15N_144E\",\"05N_126E\",\"10N_138E\",\"10N_156E\",\"20N_144E\",\"05S_138E\",\"05S_156E\",\"05S_150E\",\"10S_168E\",\"10N_150E\",\"00N_138E\",\"10S_138E\",\"05N_150E\",\"15S_054E\",\"20N_078W\",\"15S_042E\",\"10S_042E\",\"20S_036E\",\"15S_054E\",\"20N_078W\",\"15S_042E\",\"10S_042E\",\"20S_036E\",\"15S_054E\",\"20N_078W\",\"15S_042E\",\"10S_042E\",\"20S_036E\",\"15S_054E\",\"20N_078W\",\"15S_042E\",\"10S_042E\",\"20S_036E\"],\"x\":[[\"Africa\",\"JC0\"],[\"Africa\",\"JC0\"],[\"Africa\",\"JC0\"],[\"Africa\",\"JC0\"],[\"Africa\",\"JC0\"],[\"Africa\",\"JC0\"],[\"Africa\",\"JC0\"],[\"Africa\",\"JC0\"],[\"Africa\",\"JC0\"],[\"Africa\",\"JC0\"],[\"Africa\",\"JC0\"],[\"Africa\",\"JC0\"],[\"Africa\",\"JC0\"],[\"Africa\",\"JC0\"],[\"Africa\",\"JC0\"],[\"Africa\",\"JC0\"],[\"Africa\",\"JC0\"],[\"Africa\",\"JC0\"],[\"Africa\",\"JC0\"],[\"Africa\",\"JC0\"],[\"Africa\",\"JC0\"],[\"Africa\",\"JC0\"],[\"Africa\",\"JC0\"],[\"Africa\",\"JC0\"],[\"Africa\",\"JC0\"],[\"Africa\",\"JC0\"],[\"Africa\",\"JC0\"],[\"Africa\",\"JC0\"],[\"Africa\",\"JC0\"],[\"Africa\",\"JC0\"],[\"Africa\",\"JC0\"],[\"Africa\",\"JC0\"],[\"Africa\",\"JC0\"],[\"Africa\",\"JC0\"],[\"Africa\",\"JC0\"],[\"Africa\",\"JC0\"],[\"Africa\",\"JC0\"],[\"Africa\",\"JC0\"],[\"Africa\",\"JC0\"],[\"Africa\",\"JC0\"],[\"Africa\",\"JC0\"],[\"Africa\",\"JC0\"],[\"Africa\",\"JC0\"],[\"Africa\",\"JC0\"],[\"Africa\",\"JC0\"],[\"Africa\",\"JC0\"],[\"Africa\",\"JC0\"],[\"Africa\",\"JC0\"],[\"Africa\",\"JC0\"],[\"Africa\",\"JC0\"],[\"Africa\",\"JC0\"],[\"Africa\",\"JC0\"],[\"Africa\",\"JC0\"],[\"Africa\",\"JC0\"],[\"Africa\",\"JC0\"],[\"Africa\",\"JC0\"],[\"Africa\",\"JC0\"],[\"Africa\",\"JC0\"],[\"Africa\",\"JC0\"],[\"Africa\",\"JC0\"],[\"Africa\",\"JC0\"],[\"Africa\",\"JC0\"],[\"Africa\",\"JC0\"],[\"Africa\",\"JC0\"],[\"Africa\",\"JC0\"],[\"Africa\",\"JC0\"],[\"Africa\",\"JC0\"],[\"Africa\",\"JC0\"],[\"Africa\",\"JC0\"],[\"Africa\",\"JC0\"],[\"Africa\",\"JC0\"],[\"Africa\",\"JC0\"],[\"Africa\",\"JC0\"],[\"Africa\",\"JC0\"],[\"Africa\",\"JC0\"],[\"Africa\",\"JC0\"],[\"Africa\",\"JC0\"],[\"Africa\",\"JC0\"],[\"Africa\",\"JC0\"],[\"Africa\",\"JC0\"],[\"Africa\",\"JC0\"],[\"Africa\",\"JC0\"],[\"Africa\",\"JC0\"],[\"Africa\",\"JC0\"],[\"Africa\",\"JC0\"],[\"Africa\",\"JC0\"],[\"Africa\",\"JC0\"],[\"Africa\",\"JC0\"],[\"Africa\",\"JC0\"],[\"Africa\",\"JC0\"],[\"Africa\",\"JC0\"],[\"Africa\",\"JC0\"],[\"Africa\",\"JC0\"],[\"Africa\",\"JC0\"],[\"Africa\",\"JC0\"],[\"Africa\",\"JC10\"],[\"Africa\",\"JC10\"],[\"Africa\",\"JC10\"],[\"Africa\",\"JC10\"],[\"Africa\",\"JC10\"],[\"Africa\",\"JC10\"],[\"Africa\",\"JC10\"],[\"Africa\",\"JC10\"],[\"Africa\",\"JC10\"],[\"Africa\",\"JC10\"],[\"Africa\",\"JC10\"],[\"Africa\",\"JC10\"],[\"Africa\",\"JC10\"],[\"Africa\",\"JC10\"],[\"Africa\",\"JC10\"],[\"Africa\",\"JC10\"],[\"Africa\",\"JC10\"],[\"Africa\",\"JC10\"],[\"Africa\",\"JC10\"],[\"Africa\",\"JC10\"],[\"Africa\",\"JC10\"],[\"Africa\",\"JC10\"],[\"Africa\",\"JC10\"],[\"Africa\",\"JC10\"],[\"Africa\",\"JC10\"],[\"Africa\",\"JC10\"],[\"Africa\",\"JC10\"],[\"Africa\",\"JC10\"],[\"Africa\",\"JC10\"],[\"Africa\",\"JC10\"],[\"Africa\",\"JC10\"],[\"Africa\",\"JC10\"],[\"Africa\",\"JC10\"],[\"Africa\",\"JC10\"],[\"Africa\",\"JC10\"],[\"Africa\",\"JC10\"],[\"Africa\",\"JC10\"],[\"Africa\",\"JC10\"],[\"Africa\",\"JC10\"],[\"Africa\",\"JC10\"],[\"Africa\",\"JC10\"],[\"Africa\",\"JC10\"],[\"Africa\",\"JC10\"],[\"Africa\",\"JC10\"],[\"Africa\",\"JC10\"],[\"Africa\",\"JC10\"],[\"Africa\",\"JC10\"],[\"Africa\",\"JC10\"],[\"Africa\",\"JC10\"],[\"Africa\",\"JC10\"],[\"Africa\",\"JC10\"],[\"Africa\",\"JC10\"],[\"Africa\",\"JC10\"],[\"Africa\",\"JC10\"],[\"Africa\",\"JC10\"],[\"Africa\",\"JC10\"],[\"Africa\",\"JC10\"],[\"Africa\",\"JC10\"],[\"Africa\",\"JC10\"],[\"Africa\",\"JC10\"],[\"Africa\",\"JC10\"],[\"Africa\",\"JC10\"],[\"Africa\",\"JC10\"],[\"Africa\",\"JC10\"],[\"Africa\",\"JC10\"],[\"Africa\",\"JC10\"],[\"Africa\",\"JC10\"],[\"Africa\",\"JC10\"],[\"Africa\",\"JC10\"],[\"Africa\",\"JC10\"],[\"Africa\",\"JC10\"],[\"Africa\",\"JC10\"],[\"Africa\",\"JC10\"],[\"Africa\",\"JC10\"],[\"Africa\",\"JC10\"],[\"Africa\",\"JC10\"],[\"Africa\",\"JC10\"],[\"Africa\",\"JC10\"],[\"Africa\",\"JC10\"],[\"Africa\",\"JC10\"],[\"Africa\",\"JC10\"],[\"Africa\",\"JC10\"],[\"Africa\",\"JC10\"],[\"Africa\",\"JC10\"],[\"Africa\",\"JC10\"],[\"Africa\",\"JC10\"],[\"Africa\",\"JC10\"],[\"Africa\",\"JC10\"],[\"Africa\",\"JC10\"],[\"Africa\",\"JC10\"],[\"Africa\",\"JC10\"],[\"Africa\",\"JC10\"],[\"Africa\",\"JC10\"],[\"Africa\",\"JC10\"],[\"Africa\",\"JC10\"],[\"Africa\",\"JC20\"],[\"Africa\",\"JC20\"],[\"Africa\",\"JC20\"],[\"Africa\",\"JC20\"],[\"Africa\",\"JC20\"],[\"Africa\",\"JC20\"],[\"Africa\",\"JC20\"],[\"Africa\",\"JC20\"],[\"Africa\",\"JC20\"],[\"Africa\",\"JC20\"],[\"Africa\",\"JC20\"],[\"Africa\",\"JC20\"],[\"Africa\",\"JC20\"],[\"Africa\",\"JC20\"],[\"Africa\",\"JC20\"],[\"Africa\",\"JC20\"],[\"Africa\",\"JC20\"],[\"Africa\",\"JC20\"],[\"Africa\",\"JC20\"],[\"Africa\",\"JC20\"],[\"Africa\",\"JC20\"],[\"Africa\",\"JC20\"],[\"Africa\",\"JC20\"],[\"Africa\",\"JC20\"],[\"Africa\",\"JC20\"],[\"Africa\",\"JC20\"],[\"Africa\",\"JC20\"],[\"Africa\",\"JC20\"],[\"Africa\",\"JC20\"],[\"Africa\",\"JC20\"],[\"Africa\",\"JC20\"],[\"Africa\",\"JC20\"],[\"Africa\",\"JC20\"],[\"Africa\",\"JC20\"],[\"Africa\",\"JC20\"],[\"Africa\",\"JC20\"],[\"Africa\",\"JC20\"],[\"Africa\",\"JC20\"],[\"Africa\",\"JC20\"],[\"Africa\",\"JC20\"],[\"Africa\",\"JC20\"],[\"Africa\",\"JC20\"],[\"Africa\",\"JC20\"],[\"Africa\",\"JC20\"],[\"Africa\",\"JC20\"],[\"Africa\",\"JC20\"],[\"Africa\",\"JC20\"],[\"Africa\",\"JC20\"],[\"Africa\",\"JC20\"],[\"Africa\",\"JC20\"],[\"Africa\",\"JC20\"],[\"Africa\",\"JC20\"],[\"Africa\",\"JC20\"],[\"Africa\",\"JC20\"],[\"Africa\",\"JC20\"],[\"Africa\",\"JC20\"],[\"Africa\",\"JC20\"],[\"Africa\",\"JC20\"],[\"Africa\",\"JC20\"],[\"Africa\",\"JC20\"],[\"Africa\",\"JC20\"],[\"Africa\",\"JC20\"],[\"Africa\",\"JC20\"],[\"Africa\",\"JC20\"],[\"Africa\",\"JC20\"],[\"Africa\",\"JC20\"],[\"Africa\",\"JC20\"],[\"Africa\",\"JC20\"],[\"Africa\",\"JC20\"],[\"Africa\",\"JC20\"],[\"Africa\",\"JC20\"],[\"Africa\",\"JC20\"],[\"Africa\",\"JC20\"],[\"Africa\",\"JC20\"],[\"Africa\",\"JC20\"],[\"Africa\",\"JC20\"],[\"Africa\",\"JC20\"],[\"Africa\",\"JC20\"],[\"Africa\",\"JC20\"],[\"Africa\",\"JC20\"],[\"Africa\",\"JC20\"],[\"Africa\",\"JC20\"],[\"Africa\",\"JC20\"],[\"Africa\",\"JC20\"],[\"Africa\",\"JC20\"],[\"Africa\",\"JC20\"],[\"Africa\",\"JC20\"],[\"Africa\",\"JC20\"],[\"Africa\",\"JC20\"],[\"Africa\",\"JC20\"],[\"Africa\",\"JC20\"],[\"Africa\",\"JC20\"],[\"Africa\",\"JC20\"],[\"Africa\",\"JC20\"],[\"Africa\",\"JC20\"],[\"Africa\",\"JC30\"],[\"Africa\",\"JC30\"],[\"Africa\",\"JC30\"],[\"Africa\",\"JC30\"],[\"Africa\",\"JC30\"],[\"Africa\",\"JC30\"],[\"Africa\",\"JC30\"],[\"Africa\",\"JC30\"],[\"Africa\",\"JC30\"],[\"Africa\",\"JC30\"],[\"Africa\",\"JC30\"],[\"Africa\",\"JC30\"],[\"Africa\",\"JC30\"],[\"Africa\",\"JC30\"],[\"Africa\",\"JC30\"],[\"Africa\",\"JC30\"],[\"Africa\",\"JC30\"],[\"Africa\",\"JC30\"],[\"Africa\",\"JC30\"],[\"Africa\",\"JC30\"],[\"Africa\",\"JC30\"],[\"Africa\",\"JC30\"],[\"Africa\",\"JC30\"],[\"Africa\",\"JC30\"],[\"Africa\",\"JC30\"],[\"Africa\",\"JC30\"],[\"Africa\",\"JC30\"],[\"Africa\",\"JC30\"],[\"Africa\",\"JC30\"],[\"Africa\",\"JC30\"],[\"Africa\",\"JC30\"],[\"Africa\",\"JC30\"],[\"Africa\",\"JC30\"],[\"Africa\",\"JC30\"],[\"Africa\",\"JC30\"],[\"Africa\",\"JC30\"],[\"Africa\",\"JC30\"],[\"Africa\",\"JC30\"],[\"Africa\",\"JC30\"],[\"Africa\",\"JC30\"],[\"Africa\",\"JC30\"],[\"Africa\",\"JC30\"],[\"Africa\",\"JC30\"],[\"Africa\",\"JC30\"],[\"Africa\",\"JC30\"],[\"Africa\",\"JC30\"],[\"Africa\",\"JC30\"],[\"Africa\",\"JC30\"],[\"Africa\",\"JC30\"],[\"Africa\",\"JC30\"],[\"Africa\",\"JC30\"],[\"Africa\",\"JC30\"],[\"Africa\",\"JC30\"],[\"Africa\",\"JC30\"],[\"Africa\",\"JC30\"],[\"Africa\",\"JC30\"],[\"Africa\",\"JC30\"],[\"Africa\",\"JC30\"],[\"Africa\",\"JC30\"],[\"Africa\",\"JC30\"],[\"Africa\",\"JC30\"],[\"Africa\",\"JC30\"],[\"Africa\",\"JC30\"],[\"Africa\",\"JC30\"],[\"Africa\",\"JC30\"],[\"Africa\",\"JC30\"],[\"Africa\",\"JC30\"],[\"Africa\",\"JC30\"],[\"Africa\",\"JC30\"],[\"Africa\",\"JC30\"],[\"Africa\",\"JC30\"],[\"Africa\",\"JC30\"],[\"Africa\",\"JC30\"],[\"Africa\",\"JC30\"],[\"Africa\",\"JC30\"],[\"Africa\",\"JC30\"],[\"Africa\",\"JC30\"],[\"Africa\",\"JC30\"],[\"Africa\",\"JC30\"],[\"Africa\",\"JC30\"],[\"Africa\",\"JC30\"],[\"Africa\",\"JC30\"],[\"Africa\",\"JC30\"],[\"Africa\",\"JC30\"],[\"Africa\",\"JC30\"],[\"Africa\",\"JC30\"],[\"Africa\",\"JC30\"],[\"Africa\",\"JC30\"],[\"Africa\",\"JC30\"],[\"Africa\",\"JC30\"],[\"Africa\",\"JC30\"],[\"Africa\",\"JC30\"],[\"Africa\",\"JC30\"],[\"Africa\",\"JC30\"],[\"Africa\",\"JC30\"],[\"Americas\",\"JC0\"],[\"Americas\",\"JC0\"],[\"Americas\",\"JC0\"],[\"Americas\",\"JC0\"],[\"Americas\",\"JC0\"],[\"Americas\",\"JC0\"],[\"Americas\",\"JC0\"],[\"Americas\",\"JC0\"],[\"Americas\",\"JC0\"],[\"Americas\",\"JC0\"],[\"Americas\",\"JC0\"],[\"Americas\",\"JC0\"],[\"Americas\",\"JC0\"],[\"Americas\",\"JC0\"],[\"Americas\",\"JC0\"],[\"Americas\",\"JC0\"],[\"Americas\",\"JC0\"],[\"Americas\",\"JC0\"],[\"Americas\",\"JC0\"],[\"Americas\",\"JC0\"],[\"Americas\",\"JC0\"],[\"Americas\",\"JC0\"],[\"Americas\",\"JC0\"],[\"Americas\",\"JC0\"],[\"Americas\",\"JC0\"],[\"Americas\",\"JC0\"],[\"Americas\",\"JC0\"],[\"Americas\",\"JC0\"],[\"Americas\",\"JC0\"],[\"Americas\",\"JC0\"],[\"Americas\",\"JC0\"],[\"Americas\",\"JC0\"],[\"Americas\",\"JC0\"],[\"Americas\",\"JC0\"],[\"Americas\",\"JC0\"],[\"Americas\",\"JC0\"],[\"Americas\",\"JC0\"],[\"Americas\",\"JC0\"],[\"Americas\",\"JC0\"],[\"Americas\",\"JC0\"],[\"Americas\",\"JC0\"],[\"Americas\",\"JC0\"],[\"Americas\",\"JC0\"],[\"Americas\",\"JC0\"],[\"Americas\",\"JC0\"],[\"Americas\",\"JC0\"],[\"Americas\",\"JC0\"],[\"Americas\",\"JC0\"],[\"Americas\",\"JC0\"],[\"Americas\",\"JC0\"],[\"Americas\",\"JC0\"],[\"Americas\",\"JC0\"],[\"Americas\",\"JC0\"],[\"Americas\",\"JC0\"],[\"Americas\",\"JC0\"],[\"Americas\",\"JC0\"],[\"Americas\",\"JC0\"],[\"Americas\",\"JC0\"],[\"Americas\",\"JC0\"],[\"Americas\",\"JC0\"],[\"Americas\",\"JC0\"],[\"Americas\",\"JC0\"],[\"Americas\",\"JC0\"],[\"Americas\",\"JC0\"],[\"Americas\",\"JC0\"],[\"Americas\",\"JC0\"],[\"Americas\",\"JC0\"],[\"Americas\",\"JC0\"],[\"Americas\",\"JC0\"],[\"Americas\",\"JC0\"],[\"Americas\",\"JC0\"],[\"Americas\",\"JC0\"],[\"Americas\",\"JC0\"],[\"Americas\",\"JC0\"],[\"Americas\",\"JC0\"],[\"Americas\",\"JC0\"],[\"Americas\",\"JC0\"],[\"Americas\",\"JC0\"],[\"Americas\",\"JC0\"],[\"Americas\",\"JC0\"],[\"Americas\",\"JC10\"],[\"Americas\",\"JC10\"],[\"Americas\",\"JC10\"],[\"Americas\",\"JC10\"],[\"Americas\",\"JC10\"],[\"Americas\",\"JC10\"],[\"Americas\",\"JC10\"],[\"Americas\",\"JC10\"],[\"Americas\",\"JC10\"],[\"Americas\",\"JC10\"],[\"Americas\",\"JC10\"],[\"Americas\",\"JC10\"],[\"Americas\",\"JC10\"],[\"Americas\",\"JC10\"],[\"Americas\",\"JC10\"],[\"Americas\",\"JC10\"],[\"Americas\",\"JC10\"],[\"Americas\",\"JC10\"],[\"Americas\",\"JC10\"],[\"Americas\",\"JC10\"],[\"Americas\",\"JC10\"],[\"Americas\",\"JC10\"],[\"Americas\",\"JC10\"],[\"Americas\",\"JC10\"],[\"Americas\",\"JC10\"],[\"Americas\",\"JC10\"],[\"Americas\",\"JC10\"],[\"Americas\",\"JC10\"],[\"Americas\",\"JC10\"],[\"Americas\",\"JC10\"],[\"Americas\",\"JC10\"],[\"Americas\",\"JC10\"],[\"Americas\",\"JC10\"],[\"Americas\",\"JC10\"],[\"Americas\",\"JC10\"],[\"Americas\",\"JC10\"],[\"Americas\",\"JC10\"],[\"Americas\",\"JC10\"],[\"Americas\",\"JC10\"],[\"Americas\",\"JC10\"],[\"Americas\",\"JC10\"],[\"Americas\",\"JC10\"],[\"Americas\",\"JC10\"],[\"Americas\",\"JC10\"],[\"Americas\",\"JC10\"],[\"Americas\",\"JC10\"],[\"Americas\",\"JC10\"],[\"Americas\",\"JC10\"],[\"Americas\",\"JC10\"],[\"Americas\",\"JC10\"],[\"Americas\",\"JC10\"],[\"Americas\",\"JC10\"],[\"Americas\",\"JC10\"],[\"Americas\",\"JC10\"],[\"Americas\",\"JC10\"],[\"Americas\",\"JC10\"],[\"Americas\",\"JC10\"],[\"Americas\",\"JC10\"],[\"Americas\",\"JC10\"],[\"Americas\",\"JC10\"],[\"Americas\",\"JC10\"],[\"Americas\",\"JC10\"],[\"Americas\",\"JC10\"],[\"Americas\",\"JC10\"],[\"Americas\",\"JC10\"],[\"Americas\",\"JC10\"],[\"Americas\",\"JC10\"],[\"Americas\",\"JC10\"],[\"Americas\",\"JC10\"],[\"Americas\",\"JC10\"],[\"Americas\",\"JC10\"],[\"Americas\",\"JC10\"],[\"Americas\",\"JC10\"],[\"Americas\",\"JC10\"],[\"Americas\",\"JC10\"],[\"Americas\",\"JC10\"],[\"Americas\",\"JC10\"],[\"Americas\",\"JC10\"],[\"Americas\",\"JC10\"],[\"Americas\",\"JC10\"],[\"Americas\",\"JC20\"],[\"Americas\",\"JC20\"],[\"Americas\",\"JC20\"],[\"Americas\",\"JC20\"],[\"Americas\",\"JC20\"],[\"Americas\",\"JC20\"],[\"Americas\",\"JC20\"],[\"Americas\",\"JC20\"],[\"Americas\",\"JC20\"],[\"Americas\",\"JC20\"],[\"Americas\",\"JC20\"],[\"Americas\",\"JC20\"],[\"Americas\",\"JC20\"],[\"Americas\",\"JC20\"],[\"Americas\",\"JC20\"],[\"Americas\",\"JC20\"],[\"Americas\",\"JC20\"],[\"Americas\",\"JC20\"],[\"Americas\",\"JC20\"],[\"Americas\",\"JC20\"],[\"Americas\",\"JC20\"],[\"Americas\",\"JC20\"],[\"Americas\",\"JC20\"],[\"Americas\",\"JC20\"],[\"Americas\",\"JC20\"],[\"Americas\",\"JC20\"],[\"Americas\",\"JC20\"],[\"Americas\",\"JC20\"],[\"Americas\",\"JC20\"],[\"Americas\",\"JC20\"],[\"Americas\",\"JC20\"],[\"Americas\",\"JC20\"],[\"Americas\",\"JC20\"],[\"Americas\",\"JC20\"],[\"Americas\",\"JC20\"],[\"Americas\",\"JC20\"],[\"Americas\",\"JC20\"],[\"Americas\",\"JC20\"],[\"Americas\",\"JC20\"],[\"Americas\",\"JC20\"],[\"Americas\",\"JC20\"],[\"Americas\",\"JC20\"],[\"Americas\",\"JC20\"],[\"Americas\",\"JC20\"],[\"Americas\",\"JC20\"],[\"Americas\",\"JC20\"],[\"Americas\",\"JC20\"],[\"Americas\",\"JC20\"],[\"Americas\",\"JC20\"],[\"Americas\",\"JC20\"],[\"Americas\",\"JC20\"],[\"Americas\",\"JC20\"],[\"Americas\",\"JC20\"],[\"Americas\",\"JC20\"],[\"Americas\",\"JC20\"],[\"Americas\",\"JC20\"],[\"Americas\",\"JC20\"],[\"Americas\",\"JC20\"],[\"Americas\",\"JC20\"],[\"Americas\",\"JC20\"],[\"Americas\",\"JC20\"],[\"Americas\",\"JC20\"],[\"Americas\",\"JC20\"],[\"Americas\",\"JC20\"],[\"Americas\",\"JC20\"],[\"Americas\",\"JC20\"],[\"Americas\",\"JC20\"],[\"Americas\",\"JC20\"],[\"Americas\",\"JC20\"],[\"Americas\",\"JC20\"],[\"Americas\",\"JC20\"],[\"Americas\",\"JC20\"],[\"Americas\",\"JC20\"],[\"Americas\",\"JC20\"],[\"Americas\",\"JC20\"],[\"Americas\",\"JC20\"],[\"Americas\",\"JC20\"],[\"Americas\",\"JC20\"],[\"Americas\",\"JC20\"],[\"Americas\",\"JC20\"],[\"Americas\",\"JC30\"],[\"Americas\",\"JC30\"],[\"Americas\",\"JC30\"],[\"Americas\",\"JC30\"],[\"Americas\",\"JC30\"],[\"Americas\",\"JC30\"],[\"Americas\",\"JC30\"],[\"Americas\",\"JC30\"],[\"Americas\",\"JC30\"],[\"Americas\",\"JC30\"],[\"Americas\",\"JC30\"],[\"Americas\",\"JC30\"],[\"Americas\",\"JC30\"],[\"Americas\",\"JC30\"],[\"Americas\",\"JC30\"],[\"Americas\",\"JC30\"],[\"Americas\",\"JC30\"],[\"Americas\",\"JC30\"],[\"Americas\",\"JC30\"],[\"Americas\",\"JC30\"],[\"Americas\",\"JC30\"],[\"Americas\",\"JC30\"],[\"Americas\",\"JC30\"],[\"Americas\",\"JC30\"],[\"Americas\",\"JC30\"],[\"Americas\",\"JC30\"],[\"Americas\",\"JC30\"],[\"Americas\",\"JC30\"],[\"Americas\",\"JC30\"],[\"Americas\",\"JC30\"],[\"Americas\",\"JC30\"],[\"Americas\",\"JC30\"],[\"Americas\",\"JC30\"],[\"Americas\",\"JC30\"],[\"Americas\",\"JC30\"],[\"Americas\",\"JC30\"],[\"Americas\",\"JC30\"],[\"Americas\",\"JC30\"],[\"Americas\",\"JC30\"],[\"Americas\",\"JC30\"],[\"Americas\",\"JC30\"],[\"Americas\",\"JC30\"],[\"Americas\",\"JC30\"],[\"Americas\",\"JC30\"],[\"Americas\",\"JC30\"],[\"Americas\",\"JC30\"],[\"Americas\",\"JC30\"],[\"Americas\",\"JC30\"],[\"Americas\",\"JC30\"],[\"Americas\",\"JC30\"],[\"Americas\",\"JC30\"],[\"Americas\",\"JC30\"],[\"Americas\",\"JC30\"],[\"Americas\",\"JC30\"],[\"Americas\",\"JC30\"],[\"Americas\",\"JC30\"],[\"Americas\",\"JC30\"],[\"Americas\",\"JC30\"],[\"Americas\",\"JC30\"],[\"Americas\",\"JC30\"],[\"Americas\",\"JC30\"],[\"Americas\",\"JC30\"],[\"Americas\",\"JC30\"],[\"Americas\",\"JC30\"],[\"Americas\",\"JC30\"],[\"Americas\",\"JC30\"],[\"Americas\",\"JC30\"],[\"Americas\",\"JC30\"],[\"Americas\",\"JC30\"],[\"Americas\",\"JC30\"],[\"Americas\",\"JC30\"],[\"Americas\",\"JC30\"],[\"Americas\",\"JC30\"],[\"Americas\",\"JC30\"],[\"Americas\",\"JC30\"],[\"Americas\",\"JC30\"],[\"Americas\",\"JC30\"],[\"Americas\",\"JC30\"],[\"Americas\",\"JC30\"],[\"Americas\",\"JC30\"],[\"Asia\",\"JC0\"],[\"Asia\",\"JC0\"],[\"Asia\",\"JC0\"],[\"Asia\",\"JC0\"],[\"Asia\",\"JC0\"],[\"Asia\",\"JC0\"],[\"Asia\",\"JC0\"],[\"Asia\",\"JC0\"],[\"Asia\",\"JC0\"],[\"Asia\",\"JC0\"],[\"Asia\",\"JC0\"],[\"Asia\",\"JC0\"],[\"Asia\",\"JC0\"],[\"Asia\",\"JC0\"],[\"Asia\",\"JC0\"],[\"Asia\",\"JC0\"],[\"Asia\",\"JC0\"],[\"Asia\",\"JC0\"],[\"Asia\",\"JC0\"],[\"Asia\",\"JC0\"],[\"Asia\",\"JC0\"],[\"Asia\",\"JC0\"],[\"Asia\",\"JC0\"],[\"Asia\",\"JC0\"],[\"Asia\",\"JC0\"],[\"Asia\",\"JC0\"],[\"Asia\",\"JC0\"],[\"Asia\",\"JC0\"],[\"Asia\",\"JC0\"],[\"Asia\",\"JC0\"],[\"Asia\",\"JC0\"],[\"Asia\",\"JC0\"],[\"Asia\",\"JC0\"],[\"Asia\",\"JC0\"],[\"Asia\",\"JC0\"],[\"Asia\",\"JC0\"],[\"Asia\",\"JC0\"],[\"Asia\",\"JC0\"],[\"Asia\",\"JC0\"],[\"Asia\",\"JC0\"],[\"Asia\",\"JC0\"],[\"Asia\",\"JC0\"],[\"Asia\",\"JC0\"],[\"Asia\",\"JC0\"],[\"Asia\",\"JC0\"],[\"Asia\",\"JC0\"],[\"Asia\",\"JC0\"],[\"Asia\",\"JC0\"],[\"Asia\",\"JC0\"],[\"Asia\",\"JC0\"],[\"Asia\",\"JC0\"],[\"Asia\",\"JC0\"],[\"Asia\",\"JC0\"],[\"Asia\",\"JC0\"],[\"Asia\",\"JC0\"],[\"Asia\",\"JC0\"],[\"Asia\",\"JC0\"],[\"Asia\",\"JC0\"],[\"Asia\",\"JC0\"],[\"Asia\",\"JC0\"],[\"Asia\",\"JC0\"],[\"Asia\",\"JC0\"],[\"Asia\",\"JC0\"],[\"Asia\",\"JC0\"],[\"Asia\",\"JC0\"],[\"Asia\",\"JC0\"],[\"Asia\",\"JC0\"],[\"Asia\",\"JC10\"],[\"Asia\",\"JC10\"],[\"Asia\",\"JC10\"],[\"Asia\",\"JC10\"],[\"Asia\",\"JC10\"],[\"Asia\",\"JC10\"],[\"Asia\",\"JC10\"],[\"Asia\",\"JC10\"],[\"Asia\",\"JC10\"],[\"Asia\",\"JC10\"],[\"Asia\",\"JC10\"],[\"Asia\",\"JC10\"],[\"Asia\",\"JC10\"],[\"Asia\",\"JC10\"],[\"Asia\",\"JC10\"],[\"Asia\",\"JC10\"],[\"Asia\",\"JC10\"],[\"Asia\",\"JC10\"],[\"Asia\",\"JC10\"],[\"Asia\",\"JC10\"],[\"Asia\",\"JC10\"],[\"Asia\",\"JC10\"],[\"Asia\",\"JC10\"],[\"Asia\",\"JC10\"],[\"Asia\",\"JC10\"],[\"Asia\",\"JC10\"],[\"Asia\",\"JC10\"],[\"Asia\",\"JC10\"],[\"Asia\",\"JC10\"],[\"Asia\",\"JC10\"],[\"Asia\",\"JC10\"],[\"Asia\",\"JC10\"],[\"Asia\",\"JC10\"],[\"Asia\",\"JC10\"],[\"Asia\",\"JC10\"],[\"Asia\",\"JC10\"],[\"Asia\",\"JC10\"],[\"Asia\",\"JC10\"],[\"Asia\",\"JC10\"],[\"Asia\",\"JC10\"],[\"Asia\",\"JC10\"],[\"Asia\",\"JC10\"],[\"Asia\",\"JC10\"],[\"Asia\",\"JC10\"],[\"Asia\",\"JC10\"],[\"Asia\",\"JC10\"],[\"Asia\",\"JC10\"],[\"Asia\",\"JC10\"],[\"Asia\",\"JC10\"],[\"Asia\",\"JC10\"],[\"Asia\",\"JC10\"],[\"Asia\",\"JC10\"],[\"Asia\",\"JC10\"],[\"Asia\",\"JC10\"],[\"Asia\",\"JC10\"],[\"Asia\",\"JC10\"],[\"Asia\",\"JC10\"],[\"Asia\",\"JC10\"],[\"Asia\",\"JC10\"],[\"Asia\",\"JC10\"],[\"Asia\",\"JC10\"],[\"Asia\",\"JC10\"],[\"Asia\",\"JC10\"],[\"Asia\",\"JC10\"],[\"Asia\",\"JC10\"],[\"Asia\",\"JC10\"],[\"Asia\",\"JC10\"],[\"Asia\",\"JC20\"],[\"Asia\",\"JC20\"],[\"Asia\",\"JC20\"],[\"Asia\",\"JC20\"],[\"Asia\",\"JC20\"],[\"Asia\",\"JC20\"],[\"Asia\",\"JC20\"],[\"Asia\",\"JC20\"],[\"Asia\",\"JC20\"],[\"Asia\",\"JC20\"],[\"Asia\",\"JC20\"],[\"Asia\",\"JC20\"],[\"Asia\",\"JC20\"],[\"Asia\",\"JC20\"],[\"Asia\",\"JC20\"],[\"Asia\",\"JC20\"],[\"Asia\",\"JC20\"],[\"Asia\",\"JC20\"],[\"Asia\",\"JC20\"],[\"Asia\",\"JC20\"],[\"Asia\",\"JC20\"],[\"Asia\",\"JC20\"],[\"Asia\",\"JC20\"],[\"Asia\",\"JC20\"],[\"Asia\",\"JC20\"],[\"Asia\",\"JC20\"],[\"Asia\",\"JC20\"],[\"Asia\",\"JC20\"],[\"Asia\",\"JC20\"],[\"Asia\",\"JC20\"],[\"Asia\",\"JC20\"],[\"Asia\",\"JC20\"],[\"Asia\",\"JC20\"],[\"Asia\",\"JC20\"],[\"Asia\",\"JC20\"],[\"Asia\",\"JC20\"],[\"Asia\",\"JC20\"],[\"Asia\",\"JC20\"],[\"Asia\",\"JC20\"],[\"Asia\",\"JC20\"],[\"Asia\",\"JC20\"],[\"Asia\",\"JC20\"],[\"Asia\",\"JC20\"],[\"Asia\",\"JC20\"],[\"Asia\",\"JC20\"],[\"Asia\",\"JC20\"],[\"Asia\",\"JC20\"],[\"Asia\",\"JC20\"],[\"Asia\",\"JC20\"],[\"Asia\",\"JC20\"],[\"Asia\",\"JC20\"],[\"Asia\",\"JC20\"],[\"Asia\",\"JC20\"],[\"Asia\",\"JC20\"],[\"Asia\",\"JC20\"],[\"Asia\",\"JC20\"],[\"Asia\",\"JC20\"],[\"Asia\",\"JC20\"],[\"Asia\",\"JC20\"],[\"Asia\",\"JC20\"],[\"Asia\",\"JC20\"],[\"Asia\",\"JC20\"],[\"Asia\",\"JC20\"],[\"Asia\",\"JC20\"],[\"Asia\",\"JC20\"],[\"Asia\",\"JC20\"],[\"Asia\",\"JC20\"],[\"Asia\",\"JC30\"],[\"Asia\",\"JC30\"],[\"Asia\",\"JC30\"],[\"Asia\",\"JC30\"],[\"Asia\",\"JC30\"],[\"Asia\",\"JC30\"],[\"Asia\",\"JC30\"],[\"Asia\",\"JC30\"],[\"Asia\",\"JC30\"],[\"Asia\",\"JC30\"],[\"Asia\",\"JC30\"],[\"Asia\",\"JC30\"],[\"Asia\",\"JC30\"],[\"Asia\",\"JC30\"],[\"Asia\",\"JC30\"],[\"Asia\",\"JC30\"],[\"Asia\",\"JC30\"],[\"Asia\",\"JC30\"],[\"Asia\",\"JC30\"],[\"Asia\",\"JC30\"],[\"Asia\",\"JC30\"],[\"Asia\",\"JC30\"],[\"Asia\",\"JC30\"],[\"Asia\",\"JC30\"],[\"Asia\",\"JC30\"],[\"Asia\",\"JC30\"],[\"Asia\",\"JC30\"],[\"Asia\",\"JC30\"],[\"Asia\",\"JC30\"],[\"Asia\",\"JC30\"],[\"Asia\",\"JC30\"],[\"Asia\",\"JC30\"],[\"Asia\",\"JC30\"],[\"Asia\",\"JC30\"],[\"Asia\",\"JC30\"],[\"Asia\",\"JC30\"],[\"Asia\",\"JC30\"],[\"Asia\",\"JC30\"],[\"Asia\",\"JC30\"],[\"Asia\",\"JC30\"],[\"Asia\",\"JC30\"],[\"Asia\",\"JC30\"],[\"Asia\",\"JC30\"],[\"Asia\",\"JC30\"],[\"Asia\",\"JC30\"],[\"Asia\",\"JC30\"],[\"Asia\",\"JC30\"],[\"Asia\",\"JC30\"],[\"Asia\",\"JC30\"],[\"Asia\",\"JC30\"],[\"Asia\",\"JC30\"],[\"Asia\",\"JC30\"],[\"Asia\",\"JC30\"],[\"Asia\",\"JC30\"],[\"Asia\",\"JC30\"],[\"Asia\",\"JC30\"],[\"Asia\",\"JC30\"],[\"Asia\",\"JC30\"],[\"Asia\",\"JC30\"],[\"Asia\",\"JC30\"],[\"Asia\",\"JC30\"],[\"Asia\",\"JC30\"],[\"Asia\",\"JC30\"],[\"Asia\",\"JC30\"],[\"Asia\",\"JC30\"],[\"Asia\",\"JC30\"],[\"Asia\",\"JC30\"],[\"Europe\",\"JC0\"],[\"Europe\",\"JC0\"],[\"Europe\",\"JC0\"],[\"Europe\",\"JC0\"],[\"Europe\",\"JC0\"],[\"Europe\",\"JC0\"],[\"Europe\",\"JC0\"],[\"Europe\",\"JC0\"],[\"Europe\",\"JC0\"],[\"Europe\",\"JC10\"],[\"Europe\",\"JC10\"],[\"Europe\",\"JC10\"],[\"Europe\",\"JC10\"],[\"Europe\",\"JC10\"],[\"Europe\",\"JC10\"],[\"Europe\",\"JC10\"],[\"Europe\",\"JC10\"],[\"Europe\",\"JC10\"],[\"Europe\",\"JC20\"],[\"Europe\",\"JC20\"],[\"Europe\",\"JC20\"],[\"Europe\",\"JC20\"],[\"Europe\",\"JC20\"],[\"Europe\",\"JC20\"],[\"Europe\",\"JC20\"],[\"Europe\",\"JC20\"],[\"Europe\",\"JC20\"],[\"Europe\",\"JC30\"],[\"Europe\",\"JC30\"],[\"Europe\",\"JC30\"],[\"Europe\",\"JC30\"],[\"Europe\",\"JC30\"],[\"Europe\",\"JC30\"],[\"Europe\",\"JC30\"],[\"Europe\",\"JC30\"],[\"Europe\",\"JC30\"],[\"Oceania\",\"JC0\"],[\"Oceania\",\"JC0\"],[\"Oceania\",\"JC0\"],[\"Oceania\",\"JC0\"],[\"Oceania\",\"JC0\"],[\"Oceania\",\"JC0\"],[\"Oceania\",\"JC0\"],[\"Oceania\",\"JC0\"],[\"Oceania\",\"JC0\"],[\"Oceania\",\"JC0\"],[\"Oceania\",\"JC0\"],[\"Oceania\",\"JC0\"],[\"Oceania\",\"JC0\"],[\"Oceania\",\"JC0\"],[\"Oceania\",\"JC0\"],[\"Oceania\",\"JC0\"],[\"Oceania\",\"JC0\"],[\"Oceania\",\"JC0\"],[\"Oceania\",\"JC0\"],[\"Oceania\",\"JC0\"],[\"Oceania\",\"JC0\"],[\"Oceania\",\"JC0\"],[\"Oceania\",\"JC0\"],[\"Oceania\",\"JC0\"],[\"Oceania\",\"JC0\"],[\"Oceania\",\"JC0\"],[\"Oceania\",\"JC10\"],[\"Oceania\",\"JC10\"],[\"Oceania\",\"JC10\"],[\"Oceania\",\"JC10\"],[\"Oceania\",\"JC10\"],[\"Oceania\",\"JC10\"],[\"Oceania\",\"JC10\"],[\"Oceania\",\"JC10\"],[\"Oceania\",\"JC10\"],[\"Oceania\",\"JC10\"],[\"Oceania\",\"JC10\"],[\"Oceania\",\"JC10\"],[\"Oceania\",\"JC10\"],[\"Oceania\",\"JC10\"],[\"Oceania\",\"JC10\"],[\"Oceania\",\"JC10\"],[\"Oceania\",\"JC10\"],[\"Oceania\",\"JC10\"],[\"Oceania\",\"JC10\"],[\"Oceania\",\"JC10\"],[\"Oceania\",\"JC10\"],[\"Oceania\",\"JC10\"],[\"Oceania\",\"JC10\"],[\"Oceania\",\"JC10\"],[\"Oceania\",\"JC10\"],[\"Oceania\",\"JC10\"],[\"Oceania\",\"JC20\"],[\"Oceania\",\"JC20\"],[\"Oceania\",\"JC20\"],[\"Oceania\",\"JC20\"],[\"Oceania\",\"JC20\"],[\"Oceania\",\"JC20\"],[\"Oceania\",\"JC20\"],[\"Oceania\",\"JC20\"],[\"Oceania\",\"JC20\"],[\"Oceania\",\"JC20\"],[\"Oceania\",\"JC20\"],[\"Oceania\",\"JC20\"],[\"Oceania\",\"JC20\"],[\"Oceania\",\"JC20\"],[\"Oceania\",\"JC20\"],[\"Oceania\",\"JC20\"],[\"Oceania\",\"JC20\"],[\"Oceania\",\"JC20\"],[\"Oceania\",\"JC20\"],[\"Oceania\",\"JC20\"],[\"Oceania\",\"JC20\"],[\"Oceania\",\"JC20\"],[\"Oceania\",\"JC20\"],[\"Oceania\",\"JC20\"],[\"Oceania\",\"JC20\"],[\"Oceania\",\"JC20\"],[\"Oceania\",\"JC30\"],[\"Oceania\",\"JC30\"],[\"Oceania\",\"JC30\"],[\"Oceania\",\"JC30\"],[\"Oceania\",\"JC30\"],[\"Oceania\",\"JC30\"],[\"Oceania\",\"JC30\"],[\"Oceania\",\"JC30\"],[\"Oceania\",\"JC30\"],[\"Oceania\",\"JC30\"],[\"Oceania\",\"JC30\"],[\"Oceania\",\"JC30\"],[\"Oceania\",\"JC30\"],[\"Oceania\",\"JC30\"],[\"Oceania\",\"JC30\"],[\"Oceania\",\"JC30\"],[\"Oceania\",\"JC30\"],[\"Oceania\",\"JC30\"],[\"Oceania\",\"JC30\"],[\"Oceania\",\"JC30\"],[\"Oceania\",\"JC30\"],[\"Oceania\",\"JC30\"],[\"Oceania\",\"JC30\"],[\"Oceania\",\"JC30\"],[\"Oceania\",\"JC30\"],[\"Oceania\",\"JC30\"],[\"Seven seas (open ocean)\",\"JC0\"],[\"Seven seas (open ocean)\",\"JC0\"],[\"Seven seas (open ocean)\",\"JC0\"],[\"Seven seas (open ocean)\",\"JC0\"],[\"Seven seas (open ocean)\",\"JC0\"],[\"Seven seas (open ocean)\",\"JC10\"],[\"Seven seas (open ocean)\",\"JC10\"],[\"Seven seas (open ocean)\",\"JC10\"],[\"Seven seas (open ocean)\",\"JC10\"],[\"Seven seas (open ocean)\",\"JC10\"],[\"Seven seas (open ocean)\",\"JC20\"],[\"Seven seas (open ocean)\",\"JC20\"],[\"Seven seas (open ocean)\",\"JC20\"],[\"Seven seas (open ocean)\",\"JC20\"],[\"Seven seas (open ocean)\",\"JC20\"],[\"Seven seas (open ocean)\",\"JC30\"],[\"Seven seas (open ocean)\",\"JC30\"],[\"Seven seas (open ocean)\",\"JC30\"],[\"Seven seas (open ocean)\",\"JC30\"],[\"Seven seas (open ocean)\",\"JC30\"]],\"y\":{\"__ndarray__\":\"4lgXt9EAnj9IUPwYc9fqPwAAAAAAAAAAINJvXwfO2T+e76fGSzfnPzAqqRPQRO4/Gy/dJAaB4z9BguLHmLuWP4MvTKYKRtk/foy5awn5wD/QRNjw9ErnPyo6kst/SOM/SL99HThn3D+1FfvL7sntP1HaG3xhMtU/LUMc6+I2Kj+uR+F6FK7nPwAAAAAAAAAAwoanV8oy5j8pXI/C9SisPz2bVZ+rrdQ/sb/snjwslD/TvOMUHcnnP2EyVTAqqVM/93XgnBGl5T8BTYQNT6/uP9nO91PjpcM/hjjWxW00yD+t+lxtxf7KP3S1FfvL7sk/cF8HzhlRwj8vbqMBvAXmP34dOGdEad8/t9EA3gIJ5j8DCYofY+7KP0ku/yH99rU/si5uowG85T8noImw4emlPwAAAAAAAAAAwOyePCzU3j8AAAAAAAAAAD81XrpJDLI/uY0G8BZIkD8eFmpN847bP4Lix5i7luI/7MA5I0p76z+U9gZfmEyFP2WqYFRSJ8A/E2HD0ytleT/D9Shcj8LNP1jKMsSxLt4/2qz6XG3Fvj/mriXkg57FPwAAAAAAAAAA/mX35GGh4D8tQxzr4jY6PzcawFsgQeE/CmgibHh60T8ibHh6pSzlP9jw9EpZhtQ/XdxGA3gL7j8AAAAAAAAAAA8LtaZ5x+k/+aBns+pz4z+u2F92Tx5mP+lILv8h/d4/Qs9m1edq7T8LJCh+jLnTP/Mf0m9fB9o/1xLyQc9m2T94nKIjufy3P3ZxGw3gLdA/XdxGA3gL4D9PHhZqTfPkP7MMcayL2+A/ZohjXdxG1z8fhetRuB7vP11txf6ye+4/V1uxv+ye3D+q8dJNYhDIPwAAAAAAAAAA9wZfmEwV5D/RItv5fmrkPzojSnuDL+I/F7fRAN4C3T+At0CC4seIPx3J5T+k39I/Gw3gLZCgqD+MSuoENBHGP39qvHSTGO4/guLHmLuWkD9lqmBUUifIP7U3+MJkqtA/uycPC7Wm4z9E+u3rwDnDPwAAAAAAAAAA0LNZ9bna6j8AAAAAAAAAAFafq63YX9o/fdCzWfW55j9XW7G/7J7uP6g1zTtO0eM/GQRWDi2yjT9TliGOdXHXP2EyVTAqqTM/LpCg+DHm4j/CFyZTBaPiP9bFbTSAt9A/m1Wfq63Y7T8B3gIJih/bPwAAAAAAAAAA8tJNYhBY6T8AAAAAAAAAACEf9GxWfeY/KjqSy39Ivz93LSEf9GzSP8e6uI0G8IY/PE7RkVz+5z8AAAAAAAAAAL99HThnROM/W0I+6Nms7j+amZmZmZnJP8uhRbbz/dA/AAAAAAAAyD9VwaikTkCTP/5l9+RhodI/5q4l5IOe5z9pb/CFyVThP08eFmpN8+g/VcGopE5Acz8tQxzr4jZKP1D8GHPXEuY/AAAAAAAAAAAAAAAAAAAAAMPTK2UZ4uA/AAAAAAAAAAAAAAAAAAAAAAAAAAAAAAAAt9EA3gIJwj//If32deDiP/FjzF1LyOs/AAAAAAAAAAAQ6bevA+fUPwAAAAAAAAAAp3nHKTqS1z9R2ht8YTLFP4Za07zjFJ0/F0hQ/Bhzxz8AAAAAAAAAADarPldbsdc/AAAAAAAAAAACvAUSFD/iP+XQItv5ftY/cM6I0t7g4T/QRNjw9ErZPxSuR+F6FO4/AAAAAAAAAADTvOMUHcnpP2q8dJMYBOQ/AAAAAAAAAAAFo5I6AU3gP3E9CtejcO0/Ne84RUdy0T8c6+I2GsDbPzqSy39Iv9k/+zpwzojSxj9KDAIrhxbVP32utmJ/2eE/nMQgsHJo5z/TvOMUHcnhP3L5D+m3r98/4zYawFsg7z+M22gAb4HuP34dOGdEad8/MuauJeSDnj8AAAAAAAAAAIzbaABvgeQ/mnecoiO55D84+MJkqmDkP1MFo5I6Ad0/x7q4jQbwRj+LbOf7qfHSP/yp8dJNYlA/eekmMQisjD++nxov3STuPwAAAAAAAAAA6bevA+eMuD9YObTIdr7PP5HtfD81XuQ/8rBQa5p30D8AAAAAAAAAAAyTqYJRSes/AAAAAAAAAAAi/fZ14JxxP+XQItv5fuQ/zczMzMzM7D/DZKpgVFLjP9QrZRniWIc/swxxrIvbuD8AAAAAAAAAANNNYhBYOdA/ApoIG55ewT8BTYQNT6/EP9V46SYxCO4/b4EExY8x0z8AAAAAAAAAABWMSuoENOU/AAAAAAAAAAD0/dR46SbnPy1DHOviNho/ufyH9NvXwT/8qfHSTWKAP3L5D+m3r+k/AAAAAAAAAAC3Yn/ZPXncPwu1pnnHKe4/X5hMFYxK1j+YbhKDwMrBP0+vlGWIY8U/FYxK6gQ0cT/HuriNBvBmP/32deCcEek/ArwFEhQ/5D/8qfHSTWLqPy1DHOviNho/AAAAAAAAAAC8dJMYBFbmPwAAAAAAAAAAAAAAAAAAAAC4HoXrUbjiPwAAAAAAAAAAAAAAAAAAAAAAAAAAAAAAAPyp8dJNYmA/Y3/ZPXlY5j8zMzMzMzPnPwAAAAAAAAAApSxDHOvi3j8AAAAAAAAAABdIUPwYc98/nMQgsHJokT8tQxzr4jY6P5Cg+DHmrtE/AAAAAAAAAAAE54wo7Q3OPwAAAAAAAAAAX5hMFYxK2j+Sy39Iv31NP9nO91Pjpbs/TYQNT6+U4T9B8WPMXUvqPwAAAAAAAAAA24r9Zffk6T+ppE5AE2HlPwAAAAAAAAAAhxbZzvdT4T97gy9MpgruPy1DHOviNjo/yxDHuriN1j/sL7snDwvdPy1DHOviNio/nl4pyxDH2j9ZhjjWxW3kPxsv3SQGgec/ppvEILBy4j/1udqK/WXhP+M2GsBbIO8/1QloImx47j8+eVioNc3fPxkEVg4tso0/AAAAAAAAAADAWyBB8WPkP5XUCWgibOY/Ne84RUdy3T/jpZvEILDePwAAAAAAAAAA4QuTqYJR1T8AAAAAAAAAAGEyVTAqqUM/HHxhMlUw7j8AAAAAAAAAAKYKRiV1Aqo/NKK0N/jCxD8qqRPQRNjkP2EyVTAqqXM/AAAAAAAAAABJLv8h/fbrPwAAAAAAAAAARiV1ApoIaz9bQj7o2aziP5XUCWgibOo//Bhz1xLy4T+U9gZfmEyFPwfwFkhQ/Kg/AAAAAAAAAADwhclUwajEP9nO91Pjpas/9ihcj8L1uD8LJCh+jLntP+LplbIMcdA/AAAAAAAAAAAzxLEubqPhPwAAAAAAAAAAsi5uowG85z8AAAAAAAAAAEa28/3UeLk/eekmMQisfD/i6ZWyDHHqPwAAAAAAAAAA1zTvOEVH1j8Fo5I6AU3sP9Pe4AuTqdo/30+Nl24Ssz8SFD/G3LXEP5T2Bl+YTFU/LUMc6+I2Gj8AkX77OnDoP9CzWfW52uA/OiNKe4Mv6j8AAAAAAAAAAAAAAAAAAAAA6gQ0ETY85T8AAAAAAAAAAAAAAAAAAAAABcWPMXct3T8AAAAAAAAAAAAAAAAAAAAAAAAAAAAAAAD8qfHSTWJQP52AJsKGp+k/Vn2utmJ/4z8AAAAAAAAAAFRSJ6CJsNU/AAAAAAAAAACutmJ/2T3dP9IA3gIJin8/LUMc6+I2Gj9m9+RhodbUPwAAAAAAAAAAppvEILByyD8AAAAAAAAAAIqO5PIf0tM/AAAAAAAAAAA17zhFR3KpP7wFEhQ/xuA/seHplbIM5z8AAAAAAAAAAPcGX5hMFeo/1sVtNIC35D8AAAAAAAAAABUdyeU/pN8/vjCZKhiV7j8tQxzr4jYaP2q8dJMYBNI/FK5H4XoU4D8AAAAAAAAAAO/Jw0Ktado/qRPQRNjw5D+k374OnDPmP3sUrkfheuI/XW3F/rJ74D/0/dR46SbvPy2yne+nxu0/yJi7lpAP2j9n1edqK/aHPwAAAAAAAAAAS8gHPZtV4T+3Yn/ZPXnmP588LNSa5tU/8kHPZtXn4D8AAAAAAAAAAPcGX5hMFdg/AAAAAAAAAAAtQxzr4jYqP2q8dJMYBO4/AAAAAAAAAADPZtXnaiumP4hjXdxGA7g/V1uxv+ye4j8tQxzr4jYqP1K4HoXrUe4/AU2EDU+v7j9mZmZmZmbSP/Xb14FzRu4/JCh+jLlr7z+oV8oyxLHePyxlGeJYF9s/7lpCPujZ2D+6awn5oGfhP8P1KFyPwuU/AAAAAAAAAACcM6K0N/jKP0mdgCbChu8/XW3F/rJ75j90JJf/kH7pP4nS3uALk+M/9dvXgXNG6D8wuycPC7XkPzJ3LSEf9Nw/ryXkg57N6D94CyQofoznPxNhw9MrZe8/AAAAAAAAAAABTYQNT6/kPwn5oGez6t8/z2bV52or0j/sUbgehevjP89m1edqK+Y/ZvfkYaHW6j/pSC7/If3mPzC7Jw8LteY/7C+7Jw8LtT9NhA1Pr5ThP+lILv8h/eI/QYLix5i75D88vVKWIY7nPy9uowG8Be4/LGUZ4lgXzz+bVZ+rrdjnPw8LtaZ5x+k/8rBQa5p37j/FjzF3LSHbPwAAAAAAAAAA6Nms+lxt7z8AAAAAAAAAALbz/dR46eQ/ryXkg57N4D8AAAAAAAAAAFYOLbKd7+E/AAAAAAAAAAAQejarPlfnP0LPZtXnauM/w9MrZRni6j92Tx4Wak3bP7prCfmgZ+c/GJXUCWgi6j+3Yn/ZPXnsPzxO0ZFc/uk/EFg5tMh20j9X7C+7Jw/TP4C3QILix+g/xY8xdy0hbz9ZF7fRAN7kP1r1udqK/e0/oWez6nO16z+lvcEXJlPlPyv2l92Th+U/bcX+snvy7D8+6Nms+lzVP6hXyjLEseY/Ne84RUdy6z96xyk6ksvvP1CNl24Sg9Q/7zhFR3L57T+z6nO1FfvjPzAqqRPQROw/+n5qvHST4D8g0m9fB87RP+kmMQisHO4/exSuR+F67j9wXwfOGVHuP5p3nKIjue4/HhZqTfOO0z99PzVeuknuP1OWIY51ce8/AJF++zpw4D9I4XoUrkfdP83MzMzMzNg/xm00gLdA4j9xPQrXo3DlPwAAAAAAAAAABTQRNjy9wj9JnYAmwobvPzy9UpYhjuU/WmQ730+N6T/D9Shcj8LjP3/7OnDOiOg/TYQNT6+U4z/UK2UZ4ljfP+tztRX7y+g/F0hQ/Bhz5z+cxCCwcmjvPwAAAAAAAAAAHqfoSC7/4z+GONbFbTTgPzsBTYQNT88/rkfhehSu4z+h+DHmriXmP/YoXI/C9eo/RiV1ApoI5z9KDAIrhxbnP4BIv30dOLc/TKYKRiV14D9zaJHtfD/jP0vIBz2bVeU/wTkjSnuD5z90tRX7y+7tP2pN845TdNA/TtGRXP5D6D+wA+eMKO3pP+LplbIMce4/fT81XrpJ3D8AAAAAAAAAACQofoy5a+8/AAAAAAAAAADNzMzMzMzkP0tZhjjWxeE/AAAAAAAAAAAPC7WmecfhPwAAAAAAAAAA2/l+arx05z9FR3L5D+njPyntDb4wmeo/YhBYObTI2j8bL90kBoHnPycxCKwcWuo/IR/0bFZ97D+jI7n8h/TpP6abxCCwctA/0ETY8PRK0T9OYhBYObToP95xio7k8m8/30+Nl24S5T8vbqMBvAXuP4xK6gQ0Eew/UdobfGEy5T9y+Q/pt6/lP4JzRpT2Bu0/R3L5D+m31z9NFYxK6gTmPwKaCBueXus/escpOpLL7z8TYcPTK2XVP5Jc/kP67e0//tR46SYx5D9L6gQ0ETbsP+XyH9JvX+E/IEHxY8xd0z+TGARWDi3uPxQ/xty1hO4/FmpN845T7j9SSZ2AJsLuP4qw4emVstQ/QfFjzF1L7j+BBMWPMXfvP+qVsgxxrOE/Imx4eqUs3z/3Bl+YTBXYP0ymCkYldeI/F7fRAN4C5T8AAAAAAAAAAKhXyjLEsb4/SZ2AJsKG7z9CYOXQItvjP9Xnaiv2l+k/30+Nl24S4z9Ke4MvTKboP4/C9Shcj+I/YVRSJ6CJ4D96xyk6ksvnP4cW2c73U+c/JCh+jLlr7z8AAAAAAAAAALivA+eMKOM//Knx0k1i4D8CK4cW2c7HP4/k8h/Sb+M/1XjpJjEI5j8Xt9EA3gLrP9JvXwfOGec/j+TyH9Jv5z8Xt9EA3gK5P2UZ4lgXt90/gEi/fR044z8zxLEubqPlP6yL22gAb+c/F9nO91Pj7T+DL0ymCkbRPx/0bFZ9rug/mSoYldQJ6j+mm8QgsHLuP0+vlGWIY90/AAAAAAAAAAB+HThnRGnvPwAAAAAAAAAAUI2XbhKD5D/arPpcbcXiPwAAAAAAAAAAwTkjSnuD4T8AAAAAAAAAAOzAOSNKe+c/W7G/7J485D8jSnuDL0zqP9GRXP5D+tk/AG+BBMWP5z++MJkqGJXqPwdfmEwVjOw/XCBB8WPM6T8tsp3vp8bLP6OSOgFNhM0/6bevA+eM6D/FjzF3LSFvP4lBYOXQIuU/5j+k374O7j/n+6nx0k3sP2Dl0CLb+eQ/L90kBoGV5T8OvjCZKhjtP662Yn/ZPdk/FYxK6gQ05T+yne+nxkvrP3rHKTqSy+8/KxiV1Alo1j8noImw4entP7WmeccpOuQ/Njy9UpYh7D9hw9MrZRniPyPb+X5qvNQ/D5wzorQ37j9UdCSX/5DuP/jCZKpgVO4/J8KGp1fK7j+WQ4ts5/vVPwWjkjoBTe4/CmgibHh67z8AkX77OnDiP4EmwoanV+A/Qs9m1edq1z9MpgpGJXXiP11txf6ye+Q/AAAAAAAAAAACmggbnl65P0mdgCbChu8/qFfKMsSx4j+MuWsJ+aDpPw1xrIvbaOI/NKK0N/jC6D+1FfvL7snhP6MBvAUSFOE/KqkT0ETY5j/35GGh1jTnP+jZrPpcbe8/AAAAAAAAAACPwvUoXI/iP8sQx7q4jeA/a5p3nKIjwT/qBDQRNjzjP/kx5q4l5OU/V+wvuycP6z8Spb3BFybnP2UZ4lgXt+c/FNBE2PD0uj/VCWgibHjaPzsBTYQNT+M/w/UoXI/C5T9tVn2utmLnP7n8h/Tb1+0/w/UoXI/C0T/fT42XbhLpPyV1ApoIG+o/xEKtad5x7j8tQxzr4jbePwAAAAAAAAAA1xLyQc9m7z8AAAAAAAAAAHlYqDXNO+Q/BoGVQ4ts4z8AAAAAAAAAACBB8WPMXeE/AAAAAAAAAAB4CyQofoznPyUGgZVDi+Q/FK5H4XoU6j9AE2HD0yvZP9Xnaiv2l+c/2qz6XG3F6j/P91PjpZvsP1RSJ6CJsOk/SL99HThnxD8730+Nl27KP4QNT6+UZeg/kst/SL99bT+4rwPnjCjlP7u4jQbwFu4/DXGsi9to7D+At0CC4sfkPzy9UpYhjuU/EqW9wRcm7T/XNO84RUfaP5OpglFJneQ/yXa+nxov6z+YbhKDwMrvP7Kd76fGS9c/gZVDi2zn7T95WKg1zTvkPy9uowG8Bew/ryXkg57N4j9vEoPAyqHVP3lYqDXNO+4/z/dT46Wb7j8/V1uxv+ziP55eKcsQx+w/l/+Qfvs64D+aCBueXinrP/yp8dJNYkA/Ns07TtGR7D/pt68D54zoP1wgQfFjzO0/ufyH9NvX5z+WIY51cRvjP0i/fR04Z9w/0NVW7C+75z9XW7G/7J7mP0vqBDQRNtw/1lbsL7sn5T90tRX7y+7JP6H4MeauJeo/tTf4wmSq6D8FxY8xdy3rP1fsL7snD+c/OUVHcvkP6T8wuycPC7XoPxNhw9MrZXk/FYxK6gQ06z/ZPXlYqDXvPxQ/xty1hMw/E2HD0ytleT/uWkI+6NnoPwaBlUOLbMc/3+ALk6mC1T/3deCcEaXlPyuHFtnO95M/+n5qvHST6j8kufyH9NvrP/32deCcEe0/Vg4tsp3v6T9tVn2utmLnP7raiv1l9+Y/zojS3uAL7T8AAAAAAAAAAKH4MeauJe4/ZMxdS8gH7z8AAAAAAAAAAA+cM6K0N+g/Tx4Wak3z6D8UrkfhehTgP4v9ZffkYeM/rfpcbcX+5j9SSZ2AJsLsP84ZUdobfOc/TmIQWDm07j+U9gZfmEznP2recYqO5OQ/bcX+snvy2D85tMh2vp/gP2UZ4lgXt+c/s3vysFBr7j8dWmQ730/vP0w3iUFg5eo/DAIrhxbZ7j/ZzvdT46XjPwAAAAAAAOw/Gw3gLZCgqD9q3nGKjuToP4C3QILix+Q/Y+5aQj7o4z8eFmpN847pP1CNl24Sg+I/yeU/pN++7D8/NV66SQzgPwisHFpkO+s//Knx0k1iQD9hVFInoInsP8IXJlMFo+g/5IOezarP7T/kg57Nqs/nP7yWkA96NuM/1sVtNIC30D+uR+F6FK7nPwCRfvs6cOY/pb3BFyZT3T/fT42XbhLlP1XBqKROQJM/bqMBvAUS6j8OLbKd76foPx+F61G4Hus/LSEf9GxW5z9E+u3rwDnpPzC7Jw8Lteg/AAAAAAAAAAC/fR04Z0TrP1HaG3xhMu8/9wZfmEwVzD8AAAAAAAAAAHe+nxov3eg/NxrAWyBBwT+Rfvs6cM7UP2UZ4lgXt+U/taZ5xyk6gj8YJlMFo5LqP/Mf0m9fB+w/gnNGlPYG7T8AAAAAAADqP2aIY13cRuc/CtejcD0K5z/caABvgQTtPwAAAAAAAAAA+u3rwDkj7j8Xt9EA3gLvPwAAAAAAAAAAVOOlm8Qg6D8K16NwPQrpP+cdp+hILt8/jnVxGw3g4z9X7C+7Jw/nP1JJnYAmwuw/gQTFjzF35z8s1JrmHafuP0YldQKaCOc/EOm3rwPn5D9EaW/whcnYP8ZtNIC3QOA/kxgEVg4t6D8aUdobfGHuPzsBTYQNT+8/FNBE2PD06j/ek4eFWtPuP9ejcD0K1+M/L26jAbwF7D/8qfHSTWJQP0w3iUFg5eg/v30dOGdE5T9LWYY41sXjP0LPZtXnauk/i/1l9+Rh4T9oImx4eqXsPxUdyeU/pN8/dk8eFmpN6z/8qfHSTWJAP+/Jw0Ktaew/b/CFyVTB6D8+eVioNc3tP/2H9NvXgec/jnVxGw3g4T8BTYQNT6/EP4v9ZffkYec/t9EA3gIJ5j+1pnnHKTreP/yp8dJNYuQ/FYxK6gQ0cT/Oqs/VVuzpP/p+arx0k+g/mEwVjErq6j9Cz2bV52rnPzlFR3L5D+k/yxDHuriN6D8AAAAAAAAAAHo2qz5XW+s/XrpJDAIr7z9kXdxGA3jLPwAAAAAAAAAAWYY41sVt6D9/arx0kxi0P2uad5yiI9E/qmBUUieg5T/8qfHSTWJwPyNKe4MvTOo/L26jAbwF7D+LbOf7qfHsP7G/7J48LOo/LpCg+DHm5j+JQWDl0CLnPzJ3LSEf9Ow/AAAAAAAAAAD67evAOSPuP5wzorQ3+O4/AAAAAAAAAAC94xQdyeXnP166SQwCK+k/+THmriXk2z/+1HjpJjHkP0w3iUFg5eY/097gC5Op7D+DL0ymCkbnPwdfmEwVjO4/eVioNc075j990LNZ9bnkP/p+arx0k9Q/AiuHFtnO2z/8qfHSTWLoPwWjkjoBTe4/sp3vp8ZL7z8Xt9EA3gLrP2/whclUwe4/klz+Q/rt4z8E54wo7Q3sPwAAAAAAAAAATDeJQWDl6D9Ke4MvTKbmPwpoImx4euM/8BZIUPwY6T/b+X5qvHTfP3/7OnDOiOw/rfpcbcX+3j/UK2UZ4ljrPy1DHOviNjo/ZapgVFIn7D9IUPwYc9foP2kAb4EExe0//fZ14JwR5z+SXP5D+u3fP/YoXI/C9bg/gnNGlPYG5z+P5PIf0m/lP6MBvAUSFN8/zhlR2ht84z+U9gZfmExVPxPyQc9m1ek/gSbChqdX6D8wuycPC7XqP1pkO99Pjec/IbByaJHt6D8nMQisHFroPwAAAAAAAAAAfh04Z0Rp6z9N845TdCTvP/AWSFD8GMs/AAAAAAAAAADQ1VbsL7vnP1g5tMh2vp8/mggbnl4pyz9Wfa62Yn/lP8e6uI0G8FY/xLEubqMB6j8N4C2QoPjrP5VliGNd3Ow/UrgehetR6j/i6ZWyDHHmP1HaG3xhMuc/at5xio7k7D8AAAAAAAAAAOkmMQisHO4/5WGh1jTv7j8AAAAAAAAAABE2PL1Sluc/8BZIUPwY6T9os+pztRXXPxQ/xty1hOQ/097gC5Op5j9/+zpwzojsPwkbnl4py+Y/Lv8h/fZ17j8OT6+UZYjlP0HxY8xdS+Q/qz5XW7G/zD9m9+RhodbUP8IXJlMFo+g/taZ5xyk67j+DL0ymCkbvP+wvuycPC+s/46WbxCCw7j/5MeauJeTjP1D8GHPXEuw/AAAAAAAAAABq3nGKjuToP0oMAiuHFuc/Imx4eqUs4z/rc7UV+8voP/Xb14FzRu4/E2HD0ytl7z8BTYQNT6/kP+xRuB6F6+M/L26jAbwF7j/D0ytlGeLqP08eFmpN8+Q/swxxrIvb4D/vOEVHcvntP30/NV66Se4/nMQgsHJo7z8ep+hILv/jP65H4XoUruM/dLUV+8vu7T8p7Q2+MJnqP5zEILByaOc/07zjFB3J4T+SXP5D+u3tP0HxY8xdS+4/JCh+jLlr7z+4rwPnjCjjP4/k8h/Sb+M/F9nO91Pj7T8jSnuDL0zqPxsv3SQGgec/ppvEILBy4j8noImw4entPwWjkjoBTe4/6Nms+lxt7z+PwvUoXI/iP+oENBE2POM/ufyH9NvX7T8UrkfhehTqP6Tfvg6cM+Y/exSuR+F64j+BlUOLbOftP13cRgN4C+Y/AAAAAAAAAAD8qfHSTWJAP76fGi/dJOo/k6mCUUmd7D+ASL99HTjrPwAAAAAAAAAAjZduEoPA6j8hsHJoke3sP+Olm8QgsOw/AAAAAAAAAAA4+MJkqmDqP9uK/WX35O0/AAAAAAAAAADZPXlYqDXvP8NkqmBUUuM/AAAAAAAAAAAAAAAAAAAAAFYOLbKd7+k/XynLEMe66D/njCjtDb7oPz7o2az6XL0/AAAAAAAAAAAMAiuHFtnuPwAAAAAAAAAAAAAAAAAAAADoaiv2l93nPwAAAAAAAAAA/Knx0k1iQD++nxov3STqPwtGJXUCmuw/CKwcWmQ76z8AAAAAAAAAACPb+X5qvOo/EOm3rwPn7D+eXinLEMfsPwAAAAAAAAAAWYY41sVt6j8X2c73U+PtPwAAAAAAAAAAUdobfGEy7z87AU2EDU/jPwAAAAAAAAAAAAAAAAAAAAAAAAAAAADqP33Qs1n1ueg/BTQRNjy96D9Pr5RliGO9PwAAAAAAAAAA3pOHhVrT7j8AAAAAAAAAAAAAAAAAAAAABaOSOgFN5D8AAAAAAAAAAPyp8dJNYkA/Njy9UpYh6j/6fmq8dJPsP662Yn/ZPes/AAAAAAAAAAASFD/G3LXqPyqpE9BE2Ow/tvP91Hjp7D8AAAAAAAAAAJm7lpAPeuo/BhIUP8bc7T8AAAAAAAAAAF66SQwCK+8/jSjtDb4w4z8AAAAAAAAAAAAAAAAAAAAAsb/snjws6j/0bFZ9rrboP5p3nKIjueg/cT0K16NwvT8AAAAAAAAAAG/whclUwe4/AAAAAAAAAAAAAAAAAAAAAJ+rrdhfduM/AAAAAAAAAAAtQxzr4jY6P67YX3ZPHuo/6bevA+eM7D+RD3o2qz7rPwAAAAAAAAAAxf6ye/Kw6j+eXinLEMfsP1MFo5I6Ae0/AAAAAAAAAAA/xty1hHzqP7n8h/Tb1+0/AAAAAAAAAABN845TdCTvP4JzRpT2BuM/AAAAAAAAAAAAAAAAAAAAAFK4HoXrUeo/TmIQWDm06D8SFD/G3LXoP6OSOgFNhL0/AAAAAAAAAADjpZvEILDuPwAAAAAAAAAAAAAAAAAAAAA9m1Wfq63UPzC7Jw8LteQ/w/UoXI/CzT9PHhZqTfPkPwAAAAAAAAAAdy0hH/Rs0j9NhA1Pr5TjP6d5xyk6ktc/nMQgsHJo5z8AAAAAAAAAALn8h/Tb18E/j8L1KFyP4j8XSFD8GHPfPxsv3SQGgec/AAAAAAAAAABGtvP91Hi5P7UV+8vuyeE/rrZif9k93T+k374OnDPmPwAAAAAAAAAA\",\"dtype\":\"float64\",\"shape\":[1128]}}},\"id\":\"9222868d-d731-43c1-8536-f68267d52493\",\"type\":\"ColumnDataSource\"},{\"attributes\":{\"callback\":null,\"start\":-0.01},\"id\":\"6bf5c5f0-1612-40c8-8d20-b7e89f92aaf3\",\"type\":\"DataRange1d\"},{\"attributes\":{},\"id\":\"3255b2b1-9eca-4628-bee7-e46e8bad576f\",\"type\":\"PanTool\"},{\"attributes\":{},\"id\":\"f5955855-a77a-4b46-814b-39733a8daedf\",\"type\":\"CategoricalTicker\"},{\"attributes\":{\"bottom\":{\"field\":\"q2\"},\"fill_alpha\":{\"value\":0.7},\"fill_color\":{\"value\":\"#67a9cf\"},\"top\":{\"field\":\"q3\"},\"width\":{\"value\":0.7},\"x\":{\"field\":\"x\"}},\"id\":\"812dbe4f-c1e0-4e3e-86de-66d0f3ef6673\",\"type\":\"VBar\"},{\"attributes\":{\"grid_line_color\":{\"value\":null},\"plot\":{\"id\":\"e27467d9-e45b-4972-97dc-b878078d2f97\",\"subtype\":\"Figure\",\"type\":\"Plot\"},\"ticker\":{\"id\":\"7a70435c-d06c-4b70-8eee-88bdbbc62afd\",\"type\":\"CategoricalTicker\"}},\"id\":\"2f15453a-8979-4660-9b9b-d4248fc45cf3\",\"type\":\"Grid\"},{\"attributes\":{\"grid_line_color\":{\"value\":null},\"plot\":{\"id\":\"ad72f4c1-0451-4545-92b0-3da17b359b4f\",\"subtype\":\"Figure\",\"type\":\"Plot\"},\"ticker\":{\"id\":\"f5955855-a77a-4b46-814b-39733a8daedf\",\"type\":\"CategoricalTicker\"}},\"id\":\"730d26d7-92db-46d7-9a4f-79437bd58b56\",\"type\":\"Grid\"},{\"attributes\":{\"line_alpha\":{\"value\":0.1},\"line_color\":{\"value\":\"#1f77b4\"},\"x0\":{\"field\":\"x\"},\"x1\":{\"field\":\"x\"},\"y0\":{\"field\":\"q3\"},\"y1\":{\"field\":\"uw\"}},\"id\":\"fafea44d-7a58-4f76-bb55-00c3be76f80c\",\"type\":\"Segment\"},{\"attributes\":{\"source\":{\"id\":\"fc31d974-36d9-4081-860c-61f2d70f6e25\",\"type\":\"ColumnDataSource\"}},\"id\":\"4d30b845-0136-4fe6-8414-1e85e6ddbf9c\",\"type\":\"CDSView\"},{\"attributes\":{\"axis_label\":\"Jaccard score\",\"formatter\":{\"id\":\"85ec30c3-2c4a-4e87-adec-ee0fabaa68d4\",\"type\":\"BasicTickFormatter\"},\"plot\":{\"id\":\"e27467d9-e45b-4972-97dc-b878078d2f97\",\"subtype\":\"Figure\",\"type\":\"Plot\"},\"ticker\":{\"id\":\"81e6f879-c1aa-4166-aa8c-c31d425ba7c9\",\"type\":\"BasicTicker\"}},\"id\":\"800cb7fe-fd98-47bb-bc2c-98ae3baca851\",\"type\":\"LinearAxis\"},{\"attributes\":{\"line_alpha\":{\"value\":0.1},\"line_color\":{\"value\":\"#1f77b4\"},\"x0\":{\"field\":\"x\"},\"x1\":{\"field\":\"x\"},\"y0\":{\"field\":\"lw\"},\"y1\":{\"field\":\"q1\"}},\"id\":\"ec2bbd5a-c31a-4968-aeb3-ad606b94f6d0\",\"type\":\"Segment\"},{\"attributes\":{},\"id\":\"ebc712e9-910f-4070-9c9a-94223d17abd8\",\"type\":\"CategoricalScale\"},{\"attributes\":{\"source\":{\"id\":\"fc31d974-36d9-4081-860c-61f2d70f6e25\",\"type\":\"ColumnDataSource\"}},\"id\":\"fdfa8179-b80f-4652-a15f-e319bc7277a9\",\"type\":\"CDSView\"},{\"attributes\":{\"bottom_units\":\"screen\",\"fill_alpha\":{\"value\":0.5},\"fill_color\":{\"value\":\"lightgrey\"},\"left_units\":\"screen\",\"level\":\"overlay\",\"line_alpha\":{\"value\":1.0},\"line_color\":{\"value\":\"black\"},\"line_dash\":[4,4],\"line_width\":{\"value\":2},\"plot\":null,\"render_mode\":\"css\",\"right_units\":\"screen\",\"top_units\":\"screen\"},\"id\":\"8d0501b3-5e5f-4b00-a235-d91e7630d79a\",\"type\":\"BoxAnnotation\"},{\"attributes\":{\"active_drag\":\"auto\",\"active_inspect\":\"auto\",\"active_scroll\":\"auto\",\"active_tap\":\"auto\",\"tools\":[{\"id\":\"b02d0f16-3b88-44cb-ab2c-649d5f821f16\",\"type\":\"HoverTool\"},{\"id\":\"348ab57d-3bd7-41a1-8249-c9adb19de302\",\"type\":\"PanTool\"},{\"id\":\"40f5d319-a59b-4167-8b11-7b4d863530c6\",\"type\":\"WheelZoomTool\"},{\"id\":\"a14665f0-60d5-4a63-b627-f942bd19a0cd\",\"type\":\"SaveTool\"},{\"id\":\"6be2f10b-49e5-4915-a5b4-64e65f9005b2\",\"type\":\"ResetTool\"},{\"id\":\"d4c7a6d9-e9ec-4af5-9572-8c21ce9eccb6\",\"type\":\"BoxZoomTool\"}]},\"id\":\"78c33c19-77a2-49e8-bc72-7fb54bfbafa7\",\"type\":\"Toolbar\"},{\"attributes\":{\"fill_alpha\":{\"value\":0.1},\"fill_color\":{\"value\":\"#1f77b4\"},\"line_alpha\":{\"value\":0.1},\"line_color\":{\"value\":\"#1f77b4\"},\"x\":{\"field\":\"x\",\"transform\":{\"id\":\"3e701d87-77eb-449c-84f8-6e89686ad22d\",\"type\":\"Jitter\"}},\"y\":{\"field\":\"y\"}},\"id\":\"408c425c-b70a-47d1-84fe-14bebc84ecf9\",\"type\":\"X\"},{\"attributes\":{},\"id\":\"581fa346-9f44-4b24-b2fc-5fe9455b2532\",\"type\":\"ResetTool\"},{\"attributes\":{\"dimension\":1,\"plot\":{\"id\":\"e27467d9-e45b-4972-97dc-b878078d2f97\",\"subtype\":\"Figure\",\"type\":\"Plot\"},\"ticker\":{\"id\":\"81e6f879-c1aa-4166-aa8c-c31d425ba7c9\",\"type\":\"BasicTicker\"}},\"id\":\"7dd6c772-440e-41dc-a052-5b4fc29f6c12\",\"type\":\"Grid\"},{\"attributes\":{\"range\":{\"id\":\"0f216329-eaaa-4cf2-86dd-7941a60add57\",\"type\":\"FactorRange\"},\"width\":0.6},\"id\":\"3e701d87-77eb-449c-84f8-6e89686ad22d\",\"type\":\"Jitter\"},{\"attributes\":{\"callback\":null,\"tooltips\":[[\"Region/Class\",\"@x\"],[\"Tile\",\"@id\"],[\"JC-Score\",\"@y\"]]},\"id\":\"03cf66a1-257e-459a-82c6-4183ffb880bf\",\"type\":\"HoverTool\"},{\"attributes\":{\"dimension\":1,\"plot\":{\"id\":\"ad72f4c1-0451-4545-92b0-3da17b359b4f\",\"subtype\":\"Figure\",\"type\":\"Plot\"},\"ticker\":{\"id\":\"06393590-403a-47d7-bedf-aea23bec7f5c\",\"type\":\"BasicTicker\"}},\"id\":\"9e331cd4-d1a5-4940-9cbb-820a2e6faabe\",\"type\":\"Grid\"},{\"attributes\":{\"toolbar\":{\"id\":\"50d28f57-871a-4e04-95a5-5237ea8703cb\",\"type\":\"ProxyToolbar\"},\"toolbar_location\":\"above\"},\"id\":\"ce89cd0c-1345-457d-b3f1-3e9c7953fb9c\",\"type\":\"ToolbarBox\"},{\"attributes\":{\"tools\":[{\"id\":\"03cf66a1-257e-459a-82c6-4183ffb880bf\",\"type\":\"HoverTool\"},{\"id\":\"3255b2b1-9eca-4628-bee7-e46e8bad576f\",\"type\":\"PanTool\"},{\"id\":\"b5db6cd7-2bc6-4188-a0ef-638b5b1dd770\",\"type\":\"WheelZoomTool\"},{\"id\":\"eadfb11a-0e84-4ff5-a607-dbcea85fbb2b\",\"type\":\"SaveTool\"},{\"id\":\"581fa346-9f44-4b24-b2fc-5fe9455b2532\",\"type\":\"ResetTool\"},{\"id\":\"e2f7a695-674a-4687-85fc-166ee092464b\",\"type\":\"BoxZoomTool\"},{\"id\":\"b02d0f16-3b88-44cb-ab2c-649d5f821f16\",\"type\":\"HoverTool\"},{\"id\":\"348ab57d-3bd7-41a1-8249-c9adb19de302\",\"type\":\"PanTool\"},{\"id\":\"40f5d319-a59b-4167-8b11-7b4d863530c6\",\"type\":\"WheelZoomTool\"},{\"id\":\"a14665f0-60d5-4a63-b627-f942bd19a0cd\",\"type\":\"SaveTool\"},{\"id\":\"6be2f10b-49e5-4915-a5b4-64e65f9005b2\",\"type\":\"ResetTool\"},{\"id\":\"d4c7a6d9-e9ec-4af5-9572-8c21ce9eccb6\",\"type\":\"BoxZoomTool\"}]},\"id\":\"50d28f57-871a-4e04-95a5-5237ea8703cb\",\"type\":\"ProxyToolbar\"},{\"attributes\":{\"data_source\":{\"id\":\"fc31d974-36d9-4081-860c-61f2d70f6e25\",\"type\":\"ColumnDataSource\"},\"glyph\":{\"id\":\"1c5bcbf3-51f6-4b0f-9de8-add4e9869883\",\"type\":\"Rect\"},\"hover_glyph\":null,\"muted_glyph\":null,\"nonselection_glyph\":{\"id\":\"3455a414-eba9-4886-af01-85f06b0d8a61\",\"type\":\"Rect\"},\"selection_glyph\":null,\"view\":{\"id\":\"5ab14bfb-6c2c-4b0f-86b2-ed44cf45cb2f\",\"type\":\"CDSView\"}},\"id\":\"f7af8595-c203-4c63-b723-9b7fc0e408ec\",\"type\":\"GlyphRenderer\"},{\"attributes\":{},\"id\":\"0832dda5-5562-4092-bca8-43387c23c4ab\",\"type\":\"LinearScale\"},{\"attributes\":{\"axis_label\":\"Region/Class\",\"formatter\":{\"id\":\"c8d416f1-d5b4-4e9b-be14-ec567e89e861\",\"type\":\"CategoricalTickFormatter\"},\"plot\":{\"id\":\"e27467d9-e45b-4972-97dc-b878078d2f97\",\"subtype\":\"Figure\",\"type\":\"Plot\"},\"ticker\":{\"id\":\"7a70435c-d06c-4b70-8eee-88bdbbc62afd\",\"type\":\"CategoricalTicker\"}},\"id\":\"301e1048-99a2-42f7-89a2-5bb8e66c5228\",\"type\":\"CategoricalAxis\"},{\"attributes\":{},\"id\":\"85ec30c3-2c4a-4e87-adec-ee0fabaa68d4\",\"type\":\"BasicTickFormatter\"},{\"attributes\":{\"overlay\":{\"id\":\"25ca16bf-9f17-44b9-967d-e316bf8e001a\",\"type\":\"BoxAnnotation\"}},\"id\":\"e2f7a695-674a-4687-85fc-166ee092464b\",\"type\":\"BoxZoomTool\"},{\"attributes\":{\"callback\":null,\"factors\":[[\"Africa\",\"JC0\"],[\"Africa\",\"JC10\"],[\"Africa\",\"JC20\"],[\"Africa\",\"JC30\"],[\"Americas\",\"JC0\"],[\"Americas\",\"JC10\"],[\"Americas\",\"JC20\"],[\"Americas\",\"JC30\"],[\"Asia\",\"JC0\"],[\"Asia\",\"JC10\"],[\"Asia\",\"JC20\"],[\"Asia\",\"JC30\"],[\"Europe\",\"JC0\"],[\"Europe\",\"JC10\"],[\"Europe\",\"JC20\"],[\"Europe\",\"JC30\"],[\"Oceania\",\"JC0\"],[\"Oceania\",\"JC10\"],[\"Oceania\",\"JC20\"],[\"Oceania\",\"JC30\"],[\"Seven seas (open ocean)\",\"JC0\"],[\"Seven seas (open ocean)\",\"JC10\"],[\"Seven seas (open ocean)\",\"JC20\"],[\"Seven seas (open ocean)\",\"JC30\"]]},\"id\":\"0f216329-eaaa-4cf2-86dd-7941a60add57\",\"type\":\"FactorRange\"},{\"attributes\":{},\"id\":\"40f5d319-a59b-4167-8b11-7b4d863530c6\",\"type\":\"WheelZoomTool\"},{\"attributes\":{},\"id\":\"eadfb11a-0e84-4ff5-a607-dbcea85fbb2b\",\"type\":\"SaveTool\"},{\"attributes\":{\"plot\":null,\"text\":\"Jaccard score per forest cover class\"},\"id\":\"f6a9e2d3-c7f4-4c3b-91c4-94396723a9ac\",\"type\":\"Title\"},{\"attributes\":{\"bottom_units\":\"screen\",\"fill_alpha\":{\"value\":0.5},\"fill_color\":{\"value\":\"lightgrey\"},\"left_units\":\"screen\",\"level\":\"overlay\",\"line_alpha\":{\"value\":1.0},\"line_color\":{\"value\":\"black\"},\"line_dash\":[4,4],\"line_width\":{\"value\":2},\"plot\":null,\"render_mode\":\"css\",\"right_units\":\"screen\",\"top_units\":\"screen\"},\"id\":\"25ca16bf-9f17-44b9-967d-e316bf8e001a\",\"type\":\"BoxAnnotation\"}],\"root_ids\":[\"72c49315-d8f9-40fa-a3c6-4ffc5e6f61bc\"]},\"title\":\"Bokeh Application\",\"version\":\"0.12.13\"}};\n",
       "  var render_items = [{\"docid\":\"cb12436f-5794-42b4-b620-510eef8dd013\",\"elementid\":\"ea879ae2-1820-4c7e-b8d1-8f91f032e497\",\"modelid\":\"72c49315-d8f9-40fa-a3c6-4ffc5e6f61bc\"}];\n",
       "  root.Bokeh.embed.embed_items_notebook(docs_json, render_items);\n",
       "\n",
       "  }\n",
       "  if (root.Bokeh !== undefined) {\n",
       "    embed_document(root);\n",
       "  } else {\n",
       "    var attempts = 0;\n",
       "    var timer = setInterval(function(root) {\n",
       "      if (root.Bokeh !== undefined) {\n",
       "        embed_document(root);\n",
       "        clearInterval(timer);\n",
       "      }\n",
       "      attempts++;\n",
       "      if (attempts > 100) {\n",
       "        console.log(\"Bokeh: ERROR: Unable to run BokehJS code because BokehJS library is missing\")\n",
       "        clearInterval(timer);\n",
       "      }\n",
       "    }, 10, root)\n",
       "  }\n",
       "})(window);"
      ],
      "application/vnd.bokehjs_exec.v0+json": ""
     },
     "metadata": {
      "application/vnd.bokehjs_exec.v0+json": {
       "id": "72c49315-d8f9-40fa-a3c6-4ffc5e6f61bc"
      }
     },
     "output_type": "display_data"
    }
   ],
   "source": [
    "# titel and histogram\n",
    "# scatterplot\n",
    "source = ColumnDataSource({'x': list(zip(melted.region, melted.jc_class)),\n",
    "                           'y': melted.score,\n",
    "                           'id': melted.tile,\n",
    "                           'colors': melted.colors})\n",
    "hover = HoverTool(tooltips=[('Region/Class', '@x'),\n",
    "                            ('Tile', '@id'),\n",
    "                            ('JC-Score', '@y'),])\n",
    "factors = [(reg, cls) \n",
    "           for reg in pd.unique(melted.region) \n",
    "           for cls in pd.unique(melted.jc_class)]\n",
    "\n",
    "scatter = figure(x_range=FactorRange(*factors), plot_width=950, plot_height=600,\n",
    "              tools=[hover, 'pan', 'wheel_zoom', 'save', 'reset', 'box_zoom'],\n",
    "              title=\"Jaccard score per forest cover class\")\n",
    "\n",
    "scatter.x(x=jitter('x', width=0.6, range=scatter.x_range), y='y', color='colors', source=source)\n",
    "\n",
    "scatter.xgrid.grid_line_color = None\n",
    "scatter.xaxis.axis_label = \"Region/Class\"\n",
    "scatter.yaxis.axis_label = \"Jaccard score\"\n",
    "scatter.y_range.start = -0.01\n",
    "\n",
    "# boxplot\n",
    "source = ColumnDataSource({'x': list(zip(box.region, box.index)),\n",
    "                           'q1': box.q1,\n",
    "                           'q2': box.q2,\n",
    "                           'q3': box.q3,\n",
    "                           'iqr': box.iqr,\n",
    "                           'lw': box.min_whisker,\n",
    "                           'uw': box.max_whisker,\n",
    "                           'means': box.means})\n",
    "hover = HoverTool(tooltips=[(\"Region/Class\", \"@x\"),\n",
    "                            (\"Q1\", \"@q1\"),\n",
    "                            (\"Q2\", \"@q2\"),\n",
    "                            (\"Q3\", \"@q3\"),\n",
    "                            (\"IQR\", \"@iqr\"),\n",
    "                            (\"lWhisker\", \"@lw\"),\n",
    "                            (\"uWhisker\", \"@uw\"),\n",
    "                            (\"Mean\", \"@means\"),])\n",
    "\n",
    "plot = figure(x_range=scatter.x_range, y_range=scatter.y_range,\n",
    "              plot_width=950, plot_height=300,\n",
    "              tools=[hover, 'pan', 'wheel_zoom', 'save', 'reset', 'box_zoom'])\n",
    "\n",
    "# box\n",
    "plot.vbar(x='x', width=0.7, bottom='q1', top='q2',\n",
    "          line_color='black', fill_color='#f7f7f7', fill_alpha=0.7, source=source)\n",
    "plot.vbar(x='x', width=0.7, bottom='q2', top='q3',\n",
    "          line_color='black', fill_color='#67a9cf', fill_alpha=0.7, source=source)\n",
    "\n",
    "# whiskers\n",
    "plot.rect(x='x', y='lw', width=0.2, height=0.001,\n",
    "          line_color=\"black\", source=source)\n",
    "plot.rect(x='x', y='uw', width=0.2, height=0.001,\n",
    "          line_color=\"black\", source=source)\n",
    "\n",
    "# stems\n",
    "plot.segment(x0='x', y0='lw', x1='x', y1='q1',\n",
    "             line_color='black', source=source)\n",
    "plot.segment(x0='x', y0='q3', x1='x', y1='uw',\n",
    "             color='black', source=source)\n",
    "\n",
    "# mean cross\n",
    "plot.x(x='x', y='means', color='#ef8a62', size=10, source=source)\n",
    "\n",
    "plot.xgrid.grid_line_color = None\n",
    "plot.xaxis.axis_label = \"Region/Class\"\n",
    "plot.yaxis.axis_label = \"Jaccard score\"\n",
    "plot.y_range.start = -0.01\n",
    "\n",
    "# display plots\n",
    "show(gridplot([[scatter],[plot]]))"
   ]
  },
  {
   "cell_type": "markdown",
   "metadata": {},
   "source": [
    "# Discussion"
   ]
  },
  {
   "cell_type": "markdown",
   "metadata": {},
   "source": [
    "# References\n",
    "\n",
    "[<a id=\"cit-Hansen2013\" href=\"#call-Hansen2013\">1</a>] C. M., V. P., Moore R. <em>et al.</em>, ``_High-Resolution Global Maps of 21st-Century Forest Cover Change_'', Science, vol. 342, number 6160, pp. 850--853, November 2013.\n",
    "\n",
    "[<a id=\"cit-Li2017\" href=\"#call-Li2017\">2</a>] Li Yan, Sulla-Menashe Damien, Motesharrei Safa <em>et al.</em>, ``_Inconsistent estimates of forest cover change in China between 2000 and 2013 from multiple datasets: differences in parameters, spatial resolution, and definitions_'', Scientific Reports, vol. 7, number 8748, pp. , August 2017.\n",
    "\n",
    "[<a id=\"cit-Hansen2013a\" href=\"#call-Hansen2013a\">3</a>] C. M., V. P., Moore R. <em>et al.</em>, ``_Supplementary Materials for: High-Resolution Global Maps of 21st-Century Forest Cover Change_'', Sciene, vol. 342, number 6160, pp. 1--32, November 2013.  [online](http://science.sciencemag.org/content/suppl/2013/11/14/342.6160.850.DC1)\n",
    "\n",
    "[<a id=\"cit-Tropek2014\" href=\"#call-Tropek2014\">4</a>] Tropek Robert, Sedl{\\'{a}}{\\v{c}}ek Ond{\\v{r}}ej, Beck Jan <em>et al.</em>, ``_Comment on High-resolution global maps of 21st-century forest cover change_'', Science, vol. 344, number 981, pp. ,  2014.\n",
    "\n",
    "[<a id=\"cit-Bellot2014\" href=\"#call-Bellot2014\">5</a>] Bellot Franz-Fabian, Bertram Mathias, Navratilb Peter <em>et al.</em>, ``_The high-resolution global map of 21st-century forest cover change from the University of Maryland (Hansen Map) is hugely overestimating deforestation in Indonesia_'', FORCLIME Press release, vol. , number , pp. ,  2014.  [online](http://www.forclime.org/documents/press_release/FORCLIME_Overestimation%20of%20Deforestation.pdf)\n",
    "\n",
    "[<a id=\"cit-Li2017a\" href=\"#call-Li2017a\">6</a>] Li Yan, Sulla-Menashe Damien, Motesharrei Safa <em>et al.</em>, ``_Supplementary Information for Inconsistent estimates of forest cover change in China between 2000 and 2013 from multiple datasets_'', Scientific reports, vol. 7, number 8748, pp. , August 2017.\n",
    "\n"
   ]
  }
 ],
 "metadata": {
  "kernelspec": {
   "display_name": "Python 3",
   "language": "python",
   "name": "python3"
  },
  "language_info": {
   "codemirror_mode": {
    "name": "ipython",
    "version": 3
   },
   "file_extension": ".py",
   "mimetype": "text/x-python",
   "name": "python",
   "nbconvert_exporter": "python",
   "pygments_lexer": "ipython3",
   "version": "3.5.2"
  },
  "latex_envs": {
   "LaTeX_envs_menu_present": true,
   "autocomplete": true,
   "bibliofile": "lit.bib",
   "cite_by": "number",
   "current_citInitial": 1,
   "eqLabelWithNumbers": true,
   "eqNumInitial": 1,
   "hotkeys": {
    "equation": "Ctrl-E",
    "itemize": "Ctrl-I"
   },
   "labels_anchors": false,
   "latex_user_defs": false,
   "report_style_numbering": false,
   "user_envs_cfg": false
  },
  "toc": {
   "nav_menu": {},
   "number_sections": true,
   "sideBar": true,
   "skip_h1_title": false,
   "toc_cell": false,
   "toc_position": {},
   "toc_section_display": "block",
   "toc_window_display": false
  }
 },
 "nbformat": 4,
 "nbformat_minor": 2
}
