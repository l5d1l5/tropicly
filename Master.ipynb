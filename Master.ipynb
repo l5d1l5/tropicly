{
 "cells": [
  {
   "cell_type": "markdown",
   "metadata": {},
   "source": [
    "##### Prerequisites"
   ]
  },
  {
   "cell_type": "markdown",
   "metadata": {},
   "source": [
    "##### Abstract"
   ]
  },
  {
   "cell_type": "markdown",
   "metadata": {},
   "source": [
    "# Introduction"
   ]
  },
  {
   "cell_type": "markdown",
   "metadata": {},
   "source": [
    "# Data and methods"
   ]
  },
  {
   "cell_type": "code",
   "execution_count": 1,
   "metadata": {
    "collapsed": true
   },
   "outputs": [],
   "source": [
    "import os\n",
    "import re\n",
    "import queue\n",
    "import zipfile\n",
    "import logging\n",
    "import threading\n",
    "import multiprocessing\n",
    "\n",
    "import numpy as np\n",
    "import pandas as pd\n",
    "import geopandas as gpd\n",
    "\n",
    "from tropicly import *\n",
    "from tropicly.utils import *\n",
    "from pathlib import Path\n",
    "# from bokeh.transform import jitter\n",
    "# from bokeh.layouts import gridplot\n",
    "from collections import defaultdict\n",
    "from IPython.display import clear_output\n",
    "# from bokeh.models import HoverTool, FactorRange\n",
    "# from bokeh.plotting import output_notebook, show, figure, ColumnDataSource\n",
    "\n",
    "\n",
    "directories = \"\"\"\n",
    "data\n",
    "data.log\n",
    "data.ana\n",
    "data.driv\n",
    "data.proc\n",
    "data.core\n",
    "data.core.ifl\n",
    "data.core.gfc\n",
    "data.core.soil\n",
    "data.core.gl30\n",
    "data.core.esvd\n",
    "data.core.biomass\n",
    "data.auxiliary\n",
    "data.auxiliary.masks\n",
    "\"\"\"\n",
    "\n",
    "for item in directories.split():\n",
    "    path = os.sep.join(item.split('.'))\n",
    "    try:\n",
    "        os.mkdir(path)\n",
    "    except OSError:\n",
    "        pass\n",
    "\n",
    "# Convenient access to data directory, is a namedtuple with folder names as attributes\n",
    "DIRS = get_data_dir(str(Path('data').resolve()))\n",
    "    \n",
    "# init Logging\n",
    "formater = logging.Formatter('%(asctime)s %(levelname)s: %(message)s', '%d/%m/%y %H:%M:%S')\n",
    "handler = logging.FileHandler(str(DIRS.log / 'utils.log'), 'a+')\n",
    "handler.setLevel(logging.DEBUG)\n",
    "handler.setFormatter(formater)\n",
    "\n",
    "# LOGGER.setLevel(logging.DEBUG)\n",
    "# LOGGER.addHandler(handler)\n",
    "\n",
    "# Many functions of the processing pipeline are multi-threaded this attribute controls\n",
    "# max number of threads\n",
    "THREADLIMIT = 12\n",
    "\n",
    "SPOOF_AGENT = {'headers': {'User-Agent': \"Mozilla/5.0 (X11; U; Linux i686) Gecko/20071127 Firefox/2.0.0.11\"}}\n",
    "\n",
    "WGS84 = {'init': 'epsg:4326'}\n",
    "\n",
    "# force bokeh plot output to jupyter notebook\n",
    "# output_notebook()\n",
    "\n",
    "def callback(msg, ratio):\n",
    "    clear_output()\n",
    "    print(msg.format(ratio))"
   ]
  },
  {
   "cell_type": "markdown",
   "metadata": {},
   "source": [
    "## Data"
   ]
  },
  {
   "cell_type": "markdown",
   "metadata": {},
   "source": [
    "### Core data"
   ]
  },
  {
   "cell_type": "markdown",
   "metadata": {},
   "source": [
    "#### Global Forest Change\n",
    "[**Global Forest Change 2000-2012 Version 1.0**](https://earthenginepartners.appspot.com/science-2013-global-forest/download_v1.0.html) (GFC) is the first high resolution dataset that provides a comprehensive view on the annual global forest cover change between 2000 and 2012 \\cite{Hansen2013, Li2017}. The initial GFC dataset released by Hansen et al. is extended by recent releases which encompass the annual forest cover changes between [2000-2013 (Version 1.1)](https://earthenginepartners.appspot.com/science-2013-global-forest/download_v1.1.html), [2000-2014 (Version 1.2)](https://earthenginepartners.appspot.com/science-2013-global-forest/download_v1.2.html), [2000-2015 (Version 1.3)](https://earthenginepartners.appspot.com/science-2013-global-forest/download_v1.3.html) and [2000-2016 (Version 1.4)](https://earthenginepartners.appspot.com/science-2013-global-forest/download_v1.4.html) respectively. All versions of this dataset has in common, that they are derived from growing season imagery captured by the remote sensing satellite Landsat 7 Enhanced Thematic Mapper Plus (ETM+) at a spatial resolution of 30 meters per pixel \\cite{Hansen2013a}. On the satellite imagery a time-series spectral metrics analysis is applied to gather the global forest extent at 2000 as well as the annual forest loss and gain. Hence, GFC comprises three independent data layers  tree cover, annually forest loss and  forest gain divided into 10x10 degree tiles by the geodetic coordinate system *World Geodetic System 1984* (EPSG:4326). Furthermore, across the provided layers the pixel data is coded in unsigned 8 bit integers. Hansen et al. defined trees as all vegetation taller than 5 meters for their study. Forest loss is defined as a stand displacement disturbance leading from a forest state to a non forest-state. To compute this losses \n",
    "\n",
    "[Global Forest Watch](http://www.globalforestwatch.org/) interactive map\n",
    "\n",
    "- Flow general what is gfc then detailed info monitoring method, details of the different layers, how certain is the info\n",
    "- trees defined as all vegetation higher than 5 meters Hansen2013, Hansen2013a\n",
    "- forest loss defined as a stand displacement disturbance (> x% crown cover to 0% crown cover)  Hansen2013, Hansen2013a\n",
    "- monitored by a reference percent tree cover stratum Hansen2013, Hansen2013a\n",
    "- forest degeneration for example selective removals btw. all impacts on forest which are not lead to a non forest state are not considered Hansen2013a\n",
    "- term forest refer to tree cover Hansen2013a\n",
    "- gain is the inverse of loss e.g. the change of a non forest state to forest (crown cover densities >50%)\n",
    "- Forest loss detection is less uncertain then gain detection (loss is more reliable) Li2017\n",
    "- Gain is a more gradual and ecological complex process, signal is more difficult to detect Li2017\n",
    "- Li2017 compares 4 different forest cover change products on their performance to estimate loss and gain patterns in china\n",
    "- at the end show a example picture of the data\n",
    "\n",
    "\n",
    "\\cite{Hansen2013}\n",
    "\\cite{Hansen2013a}\n",
    "\\cite{Tropek2014}\n",
    "\\cite{Bellot2014}\n",
    "\\cite{Li2017}\n",
    "\\cite{Li2017a}"
   ]
  },
  {
   "cell_type": "markdown",
   "metadata": {},
   "source": [
    "![Hansen preview](img/hansen_preview.png)"
   ]
  },
  {
   "cell_type": "code",
   "execution_count": null,
   "metadata": {
    "collapsed": true
   },
   "outputs": [],
   "source": [
    "# data source URL\n",
    "head = 'http://commondatastorage.googleapis.com/earthenginepartners-hansen/GFC2013/'\n",
    "# files to download from source url\n",
    "tails = 'treecover2000.txt gain.txt lossyear.txt'.split()\n",
    "\n",
    "data_urls = []\n",
    "for tail in tails:\n",
    "    content = download(head + tail)\n",
    "    data_urls += content.decode('utf-8').splitlines()\n",
    "\n",
    "threads = []\n",
    "for url in data_urls:\n",
    "    lat_lon = re.search(r'(\\d{2}\\w_\\d{3}\\w)(?=\\.tif)', url).groups()[0]\n",
    "    lat = orientation_to_int(lat_lon.split('_')[0])\n",
    "    if -20 <= lat <= 30:\n",
    "        path = str(DIRS.gfc / url.split('/')[-1])\n",
    "        threads.append(threading.Thread(target=download_worker, args=(url, path)))\n",
    "\n",
    "execute_concurrent(threads, THREADLIMIT, 'Downloaded {} of 100 %', callback=callback)"
   ]
  },
  {
   "cell_type": "markdown",
   "metadata": {},
   "source": [
    "#### GlobalLand30\n",
    "[GlobLand30](http://www.globallandcover.com/GLC30Download/index.aspx) (GL30)"
   ]
  },
  {
   "cell_type": "markdown",
   "metadata": {},
   "source": [
    "![Chen preview](img/chen_preview.png)"
   ]
  },
  {
   "cell_type": "markdown",
   "metadata": {},
   "source": [
    "#### Aboveground live woody biomass density\n",
    "[Aboveground Live Woody Biomass Density](http://data.globalforestwatch.org/datasets/8f93a6f94a414f9588ce4657a39c59ff_1) (LWBD)"
   ]
  },
  {
   "cell_type": "code",
   "execution_count": null,
   "metadata": {
    "collapsed": true
   },
   "outputs": [],
   "source": [
    "url = 'http://data.globalforestwatch.org/datasets/8f93a6f94a414f9588ce4657a39c59ff_1.geojson'\n",
    "path = str(DIRS.masks / 'biomass.geojson')\n",
    "\n",
    "content = download(url)\n",
    "write_binary(content, path)\n",
    "\n",
    "biomass_mask = gpd.read_file(path)\n",
    "to_download = list(biomass_mask.download) + list(biomass_mask.confidence) \n",
    "\n",
    "threads = []\n",
    "for url in to_download:\n",
    "    path = str(DIRS.biomass / url.split('/')[-1])\n",
    "    threads.append(\n",
    "        threading.Thread(target=download_worker, args=(url, path), kwargs=SPOOF_AGENT)\n",
    "    )\n",
    "\n",
    "execute_concurrent(threads, THREADLIMIT, msg='Donwloaded {} % of 100 %', callback=callback)"
   ]
  },
  {
   "cell_type": "markdown",
   "metadata": {},
   "source": [
    "#### Global soil organic carbon map\n",
    "[The Global Soil Organic Carbon Map](http://www.fao.org/world-soil-day/global-soil-organic-carbon-map/en/) (GSOCmap)"
   ]
  },
  {
   "cell_type": "code",
   "execution_count": null,
   "metadata": {
    "collapsed": true
   },
   "outputs": [],
   "source": [
    "# Download broken fix it please\n",
    "url = 'https://unfao-my.sharepoint.com/personal/guillermo_olmedo_fao_org/_layouts/15/guestaccess.aspx?docid=059b0b724d08a42e4931c35cff99a15c1&authkey=AcRgiPkRQvm_kuJb-K0-e2o&e=e70096969c4e4ce084d2ee1d1ca8bc44'\n",
    "\n",
    "content = download(url, **SPOOF_AGENT)\n",
    "write_binary(content, str(DIRS.soil / 'GSOCmap.tif'))"
   ]
  },
  {
   "cell_type": "markdown",
   "metadata": {},
   "source": [
    "#### Ecosystem service valuation database\n",
    "[Ecosystem Service Valuation Database](https://www.es-partnership.org/services/data-knowledge-sharing/ecosystem-service-valuation-database/) (ESVD)"
   ]
  },
  {
   "cell_type": "code",
   "execution_count": null,
   "metadata": {
    "collapsed": true
   },
   "outputs": [],
   "source": [
    "url = 'https://www.es-partnership.org/wp-content/uploads/2016/06/ESVD-TEEB-database.xls'\n",
    "\n",
    "content = download(url, **SPOOF_AGENT)\n",
    "write_binary(content, str(DIRS.esvd / url.split('/')[-1]))"
   ]
  },
  {
   "cell_type": "markdown",
   "metadata": {},
   "source": [
    "#### Intact Forest Landscapes\n",
    "[Intact Forest Landscapes](http://intactforests.org/index.html) (IFL2000)"
   ]
  },
  {
   "cell_type": "code",
   "execution_count": null,
   "metadata": {
    "collapsed": true
   },
   "outputs": [],
   "source": [
    "url = 'http://intactforests.org/shp/IFL_2000.zip'\n",
    "\n",
    "content = download(url, **SPOOF_AGENT)\n",
    "write_binary(content, str(DIRS.ifl / url.split('/')[-1]))\n",
    "\n",
    "zipfile.ZipFile(str(DIRS.ifl / url.split('/')[-1])).extractall(str(DIRS.ifl))\n",
    "os.remove(str(DIRS.ifl / url.split('/')[-1]))"
   ]
  },
  {
   "cell_type": "markdown",
   "metadata": {},
   "source": [
    "### Auxiliary data"
   ]
  },
  {
   "cell_type": "markdown",
   "metadata": {},
   "source": [
    "[Natural Earth Data](http://www.naturalearthdata.com/)"
   ]
  },
  {
   "cell_type": "code",
   "execution_count": null,
   "metadata": {
    "collapsed": true
   },
   "outputs": [],
   "source": [
    "# departement map needed\n",
    "url = 'http://www.naturalearthdata.com/http//www.naturalearthdata.com/download/10m/cultural/ne_10m_populated_places.zip'\n",
    "\n",
    "content = download(url, **SPOOF_AGENT)\n",
    "write_binary(content, str(DIRS.masks / url.split('/')[-1]))\n",
    "\n",
    "zipfile.ZipFile(str(DIRS.masks / url.split('/')[-1])).extractall(str(DIRS.masks))\n",
    "os.remove(str(DIRS.masks / url.split('/')[-1]))\n",
    "\n",
    "url = 'http://www.naturalearthdata.com/http//www.naturalearthdata.com/download/10m/cultural/ne_10m_admin_0_countries.zip'\n",
    "\n",
    "content = download(url, **SPOOF_AGENT)\n",
    "write_binary(content, str(DIRS.masks / url.split('/')[-1]))\n",
    "\n",
    "zipfile.ZipFile(str(DIRS.masks / url.split('/')[-1])).extractall(str(DIRS.masks))\n",
    "os.remove(str(DIRS.masks / url.split('/')[-1]))"
   ]
  },
  {
   "cell_type": "markdown",
   "metadata": {},
   "source": [
    "## Methods"
   ]
  },
  {
   "cell_type": "markdown",
   "metadata": {},
   "source": [
    "### Preprocessing"
   ]
  },
  {
   "cell_type": "markdown",
   "metadata": {},
   "source": [
    "#### Masking"
   ]
  },
  {
   "cell_type": "code",
   "execution_count": null,
   "metadata": {
    "collapsed": true
   },
   "outputs": [],
   "source": [
    "# GFC mask\n",
    "gfc = sorted(DIRS.gfc.glob('*.tif'))\n",
    "\n",
    "data_len = int(len(gfc)/3)\n",
    "\n",
    "kwargs = {\n",
    "    'gain': [i.name for i in gfc[:data_len]],\n",
    "    'loss': [i.name for i in gfc[data_len:2*data_len]],\n",
    "    'cover': [i.name for i in gfc[2*data_len:]],\n",
    "}\n",
    "\n",
    "gfc_mask = tile_index(gfc[:data_len], WGS84, **kwargs)\n",
    "gfc_mask.to_file(str(DIRS.masks / 'gfc_mask.shp'))\n",
    "gfc_mask.head()"
   ]
  },
  {
   "cell_type": "code",
   "execution_count": 2,
   "metadata": {},
   "outputs": [
    {
     "data": {
      "text/html": [
       "<div>\n",
       "<style>\n",
       "    .dataframe thead tr:only-child th {\n",
       "        text-align: right;\n",
       "    }\n",
       "\n",
       "    .dataframe thead th {\n",
       "        text-align: left;\n",
       "    }\n",
       "\n",
       "    .dataframe tbody tr th {\n",
       "        vertical-align: top;\n",
       "    }\n",
       "</style>\n",
       "<table border=\"1\" class=\"dataframe\">\n",
       "  <thead>\n",
       "    <tr style=\"text-align: right;\">\n",
       "      <th></th>\n",
       "      <th>gl30_00</th>\n",
       "      <th>gl30_10</th>\n",
       "      <th>key</th>\n",
       "      <th>geometry</th>\n",
       "    </tr>\n",
       "  </thead>\n",
       "  <tbody>\n",
       "    <tr>\n",
       "      <th>0</th>\n",
       "      <td>n02_15_2000lc030.tif</td>\n",
       "      <td>n02_15_2010lc030.tif</td>\n",
       "      <td>n02_15</td>\n",
       "      <td>POLYGON ((-174.0053601744084 20.00401663536249...</td>\n",
       "    </tr>\n",
       "    <tr>\n",
       "      <th>1</th>\n",
       "      <td>n03_05_2000lc030.tif</td>\n",
       "      <td>n03_05_2010lc030.tif</td>\n",
       "      <td>n03_05</td>\n",
       "      <td>POLYGON ((-168.0054833302891 10.00519024901941...</td>\n",
       "    </tr>\n",
       "    <tr>\n",
       "      <th>2</th>\n",
       "      <td>n03_20_2000lc030.tif</td>\n",
       "      <td>n03_20_2010lc030.tif</td>\n",
       "      <td>n03_20</td>\n",
       "      <td>POLYGON ((-168.0051433812486 25.00312959291788...</td>\n",
       "    </tr>\n",
       "    <tr>\n",
       "      <th>3</th>\n",
       "      <td>n04_00_2000lc030.tif</td>\n",
       "      <td>n04_00_2010lc030.tif</td>\n",
       "      <td>n04_00</td>\n",
       "      <td>POLYGON ((-162.0055192236557 5.005478418984219...</td>\n",
       "    </tr>\n",
       "    <tr>\n",
       "      <th>4</th>\n",
       "      <td>n04_05_2000lc030.tif</td>\n",
       "      <td>n04_05_2010lc030.tif</td>\n",
       "      <td>n04_05</td>\n",
       "      <td>POLYGON ((-162.0054833302891 10.0051902490194,...</td>\n",
       "    </tr>\n",
       "  </tbody>\n",
       "</table>\n",
       "</div>"
      ],
      "text/plain": [
       "                gl30_00               gl30_10     key  \\\n",
       "0  n02_15_2000lc030.tif  n02_15_2010lc030.tif  n02_15   \n",
       "1  n03_05_2000lc030.tif  n03_05_2010lc030.tif  n03_05   \n",
       "2  n03_20_2000lc030.tif  n03_20_2010lc030.tif  n03_20   \n",
       "3  n04_00_2000lc030.tif  n04_00_2010lc030.tif  n04_00   \n",
       "4  n04_05_2000lc030.tif  n04_05_2010lc030.tif  n04_05   \n",
       "\n",
       "                                            geometry  \n",
       "0  POLYGON ((-174.0053601744084 20.00401663536249...  \n",
       "1  POLYGON ((-168.0054833302891 10.00519024901941...  \n",
       "2  POLYGON ((-168.0051433812486 25.00312959291788...  \n",
       "3  POLYGON ((-162.0055192236557 5.005478418984219...  \n",
       "4  POLYGON ((-162.0054833302891 10.0051902490194,...  "
      ]
     },
     "execution_count": 2,
     "metadata": {},
     "output_type": "execute_result"
    }
   ],
   "source": [
    "# GL30 mask\n",
    "gl30 = sorted(DIRS.gl30.glob('*.tif'), key=lambda key: (key.name[7:11], key.name[0:6]))\n",
    "\n",
    "exclude = 'n01_00 s01_00 s01_10 s01_15 s01_20 s60_00 s60_05 s60_10 s60_15 n53_00'.split()\n",
    "gl30 = [item for item in gl30 if item.name[0:6] not in exclude]\n",
    "data_len = int(len(gl30)/2)\n",
    "\n",
    "kwargs = {\n",
    "    'gl30_00': [i.name for i in gl30[:data_len]],\n",
    "    'gl30_10': [i.name for i in gl30[data_len:]],\n",
    "    'key': [i.name[0:6] for i in gl30[:data_len]]\n",
    "}\n",
    "\n",
    "gl30_mask = tile_index(gl30[data_len:], WGS84, **kwargs)\n",
    "gl30_mask.to_file(str(DIRS.masks / 'gl30_mask.shp'))\n",
    "gl30_mask.head()"
   ]
  },
  {
   "cell_type": "code",
   "execution_count": null,
   "metadata": {
    "collapsed": true
   },
   "outputs": [],
   "source": [
    "# Biomass mask\n",
    "biomass = gpd.read_file(str(DIRS.masks / 'biomass.geojson'))\n",
    "biomass_mask = biomass.drop(biomass.columns[[0, 1, 4, 5]], axis=1)\n",
    "biomass_mask.rename(columns={'download': 'biomass'}, inplace=True)\n",
    "\n",
    "for idx, row in biomass_mask.iterrows():\n",
    "    biomass = row.biomass.split('/')[-1]\n",
    "    confidence = row.confidence.split('/')[-1]\n",
    "    \n",
    "    biomass_mask.at[idx, 'biomass'] = biomass\n",
    "    biomass_mask.at[idx, 'confidence'] = confidence\n",
    "\n",
    "biomass_mask.to_file(str(DIRS.masks / 'biomass_mask.shp'))\n",
    "biomass_mask.head()"
   ]
  },
  {
   "cell_type": "markdown",
   "metadata": {},
   "source": [
    "#### Raster alignment"
   ]
  },
  {
   "cell_type": "code",
   "execution_count": null,
   "metadata": {
    "collapsed": true
   },
   "outputs": [],
   "source": [
    "gl30_mask = gpd.read_file(str(DIRS.masks / 'gl30_mask.shp'))\n",
    "gfc_mask = gpd.read_file(str(DIRS.masks / 'gfc_mask.shp'))\n",
    "biomass_mask = gpd.read_file(str(DIRS.masks / 'biomass_mask.shp'))\n",
    "\n",
    "intersect = gpd.overlay(gfc_mask, gl30_mask, how='intersection')\n",
    "intersect = gpd.overlay(intersect, biomass_mask, how='intersection')\n",
    "\n",
    "threads = []\n",
    "for key, values in intersect.groupby(by='key', sort=False):\n",
    "    to_reproject = [\n",
    "        str(DIRS.gl30 / name)\n",
    "        for name in list(*zip(set(values.gl30_10), set(values.gl30_00)))\n",
    "    ]\n",
    "    to_reproject.append(str(DIRS.soil / 'GSOCmapV1.1.tif'))\n",
    "    to_merge = [\n",
    "        [str(DIRS.gfc / name) for name in set(values.cover)],\n",
    "        [str(DIRS.gfc / name) for name in set(values.loss)],\n",
    "        [str(DIRS.gfc / name) for name in set(values.gain)],\n",
    "        [str(DIRS.biomass / name) for name in set(values.biomass)],\n",
    "        [str(DIRS.biomass / name) for name in set(values.confidence)],\n",
    "    ]\n",
    "    generic_name = '{}.tif'.format(key)\n",
    "    \n",
    "    threads.append(\n",
    "        threading.Thread(target=alignment_worker,\n",
    "                         args=(to_reproject, WGS84, to_merge, str(DIRS.proc), generic_name))\n",
    "    )\n",
    "    \n",
    "execute_concurrent(threads, THREADLIMIT, msg='Aligned {} % of 100 %', callback=callback)"
   ]
  },
  {
   "cell_type": "markdown",
   "metadata": {},
   "source": [
    "#### Cropping and masking"
   ]
  },
  {
   "cell_type": "code",
   "execution_count": null,
   "metadata": {
    "collapsed": true
   },
   "outputs": [],
   "source": [
    "files = defaultdict(list)\n",
    "regex = re.compile(r'.*(?P<key>(?:n|s)\\d{2}_\\d{2}).*', re.I)\n",
    "\n",
    "for path in DIRS.proc.glob('*.tif'):\n",
    "    match = regex.match(str(path))\n",
    "    files[match.group('key')].append(path)\n",
    "    files[match.group('key')] = sorted(files[match.group('key')])\n",
    "\n",
    "threads = []\n",
    "features = []\n",
    "polygons = []\n",
    "for key, values in files.items():   \n",
    "    bounds, profile = fetch_metadata(values[0], 'bounds', 'profile')\n",
    "    bounds = round_bounds(bounds)\n",
    "\n",
    "    threads.append(\n",
    "        threading.Thread(target=clip_worker, args=(values, bounds, profile, str(DIRS.proc),))\n",
    "    )\n",
    "    \n",
    "    key = int_to_orient(bounds.left, bounds.top)\n",
    "    feature = dict([dispatch_name('{0[0]}_{0[1]}'.format(item.name.split('_')), key, idx)\n",
    "                    for idx, item in enumerate(values)])\n",
    "    feature['key'] = key\n",
    "    features.append(feature)\n",
    "    polygons.append(polygon_from(bounds))\n",
    "    \n",
    "execute_concurrent(threads, THREADLIMIT, msg='Cropped {} % of 100 %', callback=callback)\n",
    "\n",
    "geometry = gpd.GeoSeries(polygons)\n",
    "df = pd.DataFrame(features)\n",
    "layer = gpd.GeoDataFrame(df, geometry=geometry)\n",
    "layer.crs = WGS84\n",
    "\n",
    "layer.to_file(str(DIRS.masks / 'final_mask.shp'))"
   ]
  },
  {
   "cell_type": "code",
   "execution_count": 7,
   "metadata": {
    "collapsed": true
   },
   "outputs": [],
   "source": [
    "countries = gpd.read_file(str(DIRS.masks / 'ne_10m_admin_0_countries.shp'))\n",
    "tiles = gpd.read_file(str(DIRS.masks / 'final_mask.shp'))\n",
    "tiles.crs = WGS84\n",
    "\n",
    "aoi = countries.cx[:,-23:23]\n",
    "aoi = aoi[['REGION_UN', 'geometry']]\n",
    "continents = aoi.dissolve(by='REGION_UN')\n",
    "\n",
    "layer = gpd.sjoin(tiles, continents, how='left', op='intersects')\n",
    "layer.columns = 'biomass confidence cover gain gl30_00 gl30_10 key loss soil geometry region'.split()\n",
    "layer.to_file(str(DIRS.masks / 'final_region_mask.shp'))"
   ]
  },
  {
   "cell_type": "markdown",
   "metadata": {},
   "source": [
    "#### Class harmonization"
   ]
  },
  {
   "cell_type": "code",
   "execution_count": 3,
   "metadata": {},
   "outputs": [
    {
     "name": "stdout",
     "output_type": "stream",
     "text": [
      "Harmonization 100.0 % of 100 %\n"
     ]
    }
   ],
   "source": [
    "mask = gpd.read_file(str(DIRS.masks / 'final_region_mask.shp'))\n",
    "records = []\n",
    "\n",
    "threads = [\n",
    "    threading.Thread(target=hworker,\n",
    "                     args=(str(DIRS.proc/row.gl30_00), str(DIRS.proc/row.cover), \n",
    "                           records, row.key, row.region))\n",
    "    for idx, row in mask.iterrows()\n",
    "]\n",
    "\n",
    "execute_concurrent(threads, THREADLIMIT, msg='Harmonization {} % of 100 %', callback=callback)\n",
    "\n",
    "df = pd.DataFrame(records)\n",
    "df.to_csv(str(DIRS.ana/'harmonization.csv'), index=False)"
   ]
  },
  {
   "cell_type": "markdown",
   "metadata": {},
   "source": [
    "### Processing"
   ]
  },
  {
   "cell_type": "markdown",
   "metadata": {},
   "source": [
    "#### Deforestation drivers"
   ]
  },
  {
   "cell_type": "code",
   "execution_count": 3,
   "metadata": {},
   "outputs": [
    {
     "name": "stdout",
     "output_type": "stream",
     "text": [
      "Finished 100.0 % of 100 %\n"
     ]
    }
   ],
   "source": [
    "mask = gpd.read_file(str(DIRS.masks/'final_region_mask.shp'))\n",
    "\n",
    "processes = []\n",
    "for idx, row in mask.iterrows():\n",
    "    treecover = str(DIRS.proc/row.cover)\n",
    "    landcover = str(DIRS.proc/row.gl30_10)\n",
    "    loss = str(DIRS.proc/row.loss)\n",
    "    gain = str(DIRS.proc/row.gain)\n",
    "    \n",
    "    name = 'driver_{}.tif'.format(row.key)\n",
    "    path = str(DIRS.driv / name)\n",
    "    \n",
    "    process = multiprocessing.Process(target=cworker, args=(landcover, treecover, gain, loss, path))\n",
    "    processes.append(process)\n",
    "    \n",
    "execute_concurrent(processes, THREADLIMIT, msg='Finished {} % of 100 %', callback=callback)"
   ]
  },
  {
   "cell_type": "code",
   "execution_count": 9,
   "metadata": {
    "collapsed": true
   },
   "outputs": [],
   "source": [
    "# Update mask\n",
    "mask = gpd.read_file(str(DIRS.masks/'final_region_mask.shp'))\n",
    "regex = re.compile(r'.+(?P<key>\\d{2}(?:N|S).\\d{3}(?:W|E))\\..+')\n",
    "\n",
    "records = [\n",
    "    [regex.match(str(item)).group('key'), item.name]\n",
    "    for item in DIRS.driv.glob('driver*.tif')\n",
    "]\n",
    "\n",
    "df = pd.DataFrame(records, columns=['key', 'driver_2'])\n",
    "\n",
    "product = mask.merge(df, on='key')\n",
    "product.to_file(str(DIRS.masks/'final_region_mask.shp'))"
   ]
  },
  {
   "cell_type": "markdown",
   "metadata": {},
   "source": [
    "#### Accuracy assessment"
   ]
  },
  {
   "cell_type": "code",
   "execution_count": 44,
   "metadata": {},
   "outputs": [
    {
     "name": "stdout",
     "output_type": "stream",
     "text": [
      "Frequenc 100.0 % of 100 %\n"
     ]
    }
   ],
   "source": [
    "mask = gpd.read_file(str(DIRS.masks/'final_region_mask.shp'))\n",
    "records = []\n",
    "\n",
    "threads = [\n",
    "    threading.Thread(target=fworker, args=(str(DIRS.driv / row.driver_2), records, row.key, row.region)) \n",
    "    for idx, row in mask.iterrows()\n",
    "]\n",
    "\n",
    "execute_concurrent(threads, THREADLIMIT, msg='Frequenc {} % of 100 %', callback=callback)"
   ]
  },
  {
   "cell_type": "code",
   "execution_count": 45,
   "metadata": {
    "collapsed": true
   },
   "outputs": [],
   "source": [
    "df = pd.DataFrame.from_records(records)\n",
    "df.fillna(0, inplace=True)\n",
    "df['total_px'] = df.apply(lambda row: sum(row[:9]) + sum(row[11:]) , axis=1)\n",
    "df['data_px'] = df.apply(lambda row: sum(row[1:9]) + sum(row[11:13]), axis=1)\n",
    "df['relevant_px'] = df.apply(lambda row: sum(row[2:9]) + sum(row[11:13]), axis=1)\n",
    "\n",
    "df.to_csv(str(DIRS.ana / 'driver.csv'), index=False)"
   ]
  },
  {
   "cell_type": "code",
   "execution_count": 49,
   "metadata": {
    "collapsed": true
   },
   "outputs": [],
   "source": [
    "random = np.random.RandomState(42)\n",
    "mask = gpd.read_file(str(DIRS.masks/'final_region_mask.shp'))\n",
    "\n",
    "tiles = []\n",
    "for region, df in mask.groupby(by='region'):\n",
    "    if region in ('Africa', 'Americas', 'Asia'):\n",
    "        tiles += list(random.choice(df.driver_2, size=10))"
   ]
  },
  {
   "cell_type": "code",
   "execution_count": 56,
   "metadata": {},
   "outputs": [
    {
     "name": "stdout",
     "output_type": "stream",
     "text": [
      "Sampling 100.0 % from 100 %\n"
     ]
    }
   ],
   "source": [
    "records = []\n",
    "\n",
    "processes = [\n",
    "    threading.Thread(target=sworker, args=(str(DIRS.driv/f), records),\n",
    "                            kwargs=({'samples': 200, 'seed': 42}))\n",
    "    for f in tiles\n",
    "]\n",
    "\n",
    "execute_concurrent(processes, THREADLIMIT, msg='Sampling {} % from 100 %', callback=callback)\n",
    "\n",
    "for idx, samples in enumerate(records):\n",
    "    name = 'sample_{}.csv'.format(idx + 1)\n",
    "    df = df.from_dict(samples)\n",
    "    df.to_csv(str(DIRS.ana/name), index=False)"
   ]
  },
  {
   "cell_type": "code",
   "execution_count": 6,
   "metadata": {
    "collapsed": true,
    "scrolled": false
   },
   "outputs": [],
   "source": [
    "reference = []\n",
    "prediction = []\n",
    "\n",
    "for v in DIRS.ana.glob('sample_*.csv'):\n",
    "    df = pd.read_csv(str(v))\n",
    "    prediction += list(df.label)\n",
    "    reference += list(df.validation)\n",
    "\n",
    "cm = ConfusionMatrix.from_lists(reference, prediction)"
   ]
  },
  {
   "cell_type": "code",
   "execution_count": 8,
   "metadata": {},
   "outputs": [
    {
     "name": "stdout",
     "output_type": "stream",
     "text": [
      "[[ 688   38   62   10   15    2    3    5    0  823]\n",
      " [  42  728   56  187   31   12    0   17    2 1075]\n",
      " [  24  167 1117  168   16   10    5    9    4 1520]\n",
      " [  15  176   32 1339   70   21    0   17    0 1670]\n",
      " [   7   12    4   34  324    0    1    2    0  384]\n",
      " [   0    2    3    8    2   42    0    1    0   58]\n",
      " [   2    1    0    3    0    2   18    2    0   28]\n",
      " [   3    3    0    1    1    1    0   50    0   59]\n",
      " [   0    0    0    1    0    0    0    3    5    9]\n",
      " [ 781 1127 1274 1751  459   90   27  106   11 5626]]\n"
     ]
    }
   ],
   "source": [
    "print(cm)"
   ]
  },
  {
   "cell_type": "markdown",
   "metadata": {},
   "source": [
    "# Results"
   ]
  },
  {
   "cell_type": "markdown",
   "metadata": {},
   "source": [
    "## Preprocessing"
   ]
  },
  {
   "cell_type": "markdown",
   "metadata": {},
   "source": [
    "#### Class harmonization"
   ]
  },
  {
   "cell_type": "code",
   "execution_count": 22,
   "metadata": {
    "collapsed": true
   },
   "outputs": [],
   "source": [
    "src = pd.read_csv(str(DIRS.ana / 'harmonization.csv'))\n",
    "\n",
    "# initial data clean up\n",
    "src.rename(columns=lambda x: x.upper() if x[:2] == 'jc' else x, inplace=True)\n",
    "src.dropna(axis=0, how='any', inplace=True)\n",
    "src.columns = 'JC0 JC10 JC20 JC30 tile region'.split()\n",
    "\n",
    "# scatterplot data prep\n",
    "melted = src.melt(id_vars='tile region'.split(), var_name='jc_class', value_name='score')\n",
    "melted['colors'] = '#ffffff'\n",
    "melted.loc[melted['jc_class'] == 'JC0', 'colors'] = '#e66101'\n",
    "melted.loc[melted['jc_class'] == 'JC10', 'colors'] = '#fdb863'\n",
    "melted.loc[melted['jc_class'] == 'JC20', 'colors'] = '#b2abd2'\n",
    "melted.loc[melted['jc_class'] == 'JC30', 'colors'] = '#5e3c99'\n",
    "melted.sort_values(by=['region', 'jc_class'], ascending=[True, True], inplace=True)\n",
    "\n",
    "# boxplot data prep\n",
    "frames = []\n",
    "for key, df in src.groupby('region'):\n",
    "    boxplot = df.quantile(q=(0.25, 0.5, 0.75)).T\n",
    "    boxplot.columns = ['q1', 'q2', 'q3']\n",
    "    boxplot['iqr'] = boxplot.q3 - boxplot.q1\n",
    "    boxplot['tukey_lower_whisker'] = boxplot.q1 - 1.5 * boxplot.iqr\n",
    "    boxplot['tukey_upper_whisker'] = boxplot.q3 + 1.5 * boxplot.iqr\n",
    "    boxplot['q_lower_whisker'] = df.quantile(q=0.025)\n",
    "    boxplot['q_upper_whisker'] = df.quantile(q=0.975)\n",
    "    boxplot['min_whisker'] = df.min()\n",
    "    boxplot['max_whisker'] = df.max()\n",
    "    boxplot['means'] = df.mean()\n",
    "    boxplot['region'] = pd.unique(df.region)[0]\n",
    "\n",
    "    frames.append(boxplot)\n",
    "\n",
    "box = pd.concat(frames)"
   ]
  },
  {
   "cell_type": "code",
   "execution_count": 23,
   "metadata": {},
   "outputs": [
    {
     "data": {
      "text/html": [
       "\n",
       "<div class=\"bk-root\">\n",
       "    <div class=\"bk-plotdiv\" id=\"16044b51-0d8e-4fe5-b409-59ba049114e9\"></div>\n",
       "</div>"
      ]
     },
     "metadata": {},
     "output_type": "display_data"
    },
    {
     "data": {
      "application/javascript": [
       "(function(root) {\n",
       "  function embed_document(root) {\n",
       "    \n",
       "  var docs_json = {\"3972293c-30fa-487e-a9c8-ff49fa1c1527\":{\"roots\":{\"references\":[{\"attributes\":{},\"id\":\"f3a7608d-e0b1-45ff-b9f6-0ea9110179ba\",\"type\":\"BasicTickFormatter\"},{\"attributes\":{\"source\":{\"id\":\"06925a46-c260-4561-9a5f-d441ecef0ef8\",\"type\":\"ColumnDataSource\"}},\"id\":\"5ea6c5c2-99fe-4410-8f48-a255efcb9ff9\",\"type\":\"CDSView\"},{\"attributes\":{\"plot\":null,\"text\":\"\"},\"id\":\"c5dcc05d-10da-4fc0-a958-0978921bfe42\",\"type\":\"Title\"},{\"attributes\":{\"source\":{\"id\":\"06925a46-c260-4561-9a5f-d441ecef0ef8\",\"type\":\"ColumnDataSource\"}},\"id\":\"83ffc08b-d976-4232-a411-b7b5b851eba7\",\"type\":\"CDSView\"},{\"attributes\":{\"plot\":null,\"text\":\"Jaccard score per forest cover class\"},\"id\":\"e9780d05-01fb-4171-9224-7194e9f7d685\",\"type\":\"Title\"},{\"attributes\":{\"tools\":[{\"id\":\"f5d1260b-7b32-46eb-a331-492940ab76c2\",\"type\":\"HoverTool\"},{\"id\":\"a55d0ff2-2c7c-40d6-b44d-dcec00802933\",\"type\":\"PanTool\"},{\"id\":\"4ae7d07e-01c0-4d2b-8682-3d63212c4ae6\",\"type\":\"WheelZoomTool\"},{\"id\":\"d4602d73-1341-428d-9939-40a718c3a4c7\",\"type\":\"SaveTool\"},{\"id\":\"3f2cfc0c-c1d9-4fb1-889b-ac7dae59d92a\",\"type\":\"ResetTool\"},{\"id\":\"e0f71abe-8d52-4852-b84c-28baa31b0657\",\"type\":\"BoxZoomTool\"},{\"id\":\"e3840ea6-8fc2-4826-9e9f-07d901d32a27\",\"type\":\"HoverTool\"},{\"id\":\"60695146-fb6d-40b9-9fb0-198cef1ed44a\",\"type\":\"PanTool\"},{\"id\":\"33f3fed3-255c-4358-b56b-513f477b7ffd\",\"type\":\"WheelZoomTool\"},{\"id\":\"3db2d41c-c85e-4d37-bd1e-df94541adca1\",\"type\":\"SaveTool\"},{\"id\":\"ab6b561f-040d-4ea4-9ab8-988e2a154991\",\"type\":\"ResetTool\"},{\"id\":\"2766f9bc-9d92-42d5-ac0b-33f0254df356\",\"type\":\"BoxZoomTool\"}]},\"id\":\"8d580ec4-7acf-409b-8d67-0b03353c9616\",\"type\":\"ProxyToolbar\"},{\"attributes\":{\"below\":[{\"id\":\"d1236b45-bb5b-4924-a747-ad7a5ac13d40\",\"type\":\"CategoricalAxis\"}],\"left\":[{\"id\":\"b28bb62f-f22c-47d7-b32a-5ffb93b23742\",\"type\":\"LinearAxis\"}],\"plot_width\":950,\"renderers\":[{\"id\":\"d1236b45-bb5b-4924-a747-ad7a5ac13d40\",\"type\":\"CategoricalAxis\"},{\"id\":\"e161df89-15c7-4c98-b2f5-06d25f40b1d4\",\"type\":\"Grid\"},{\"id\":\"b28bb62f-f22c-47d7-b32a-5ffb93b23742\",\"type\":\"LinearAxis\"},{\"id\":\"60848bfc-185d-42bb-bd1e-9f1e46ce9d78\",\"type\":\"Grid\"},{\"id\":\"edc4f9fe-046d-4702-8836-76b955fd625c\",\"type\":\"BoxAnnotation\"},{\"id\":\"be7cdcc6-1192-41b5-8a1c-6896d9e1e692\",\"type\":\"GlyphRenderer\"}],\"title\":{\"id\":\"e9780d05-01fb-4171-9224-7194e9f7d685\",\"type\":\"Title\"},\"toolbar\":{\"id\":\"3d6947a2-b980-4b31-898c-32f1b9e0ba69\",\"type\":\"Toolbar\"},\"toolbar_location\":null,\"x_range\":{\"id\":\"c4c5a8d7-4959-4fde-963f-8ccb722aaa61\",\"type\":\"FactorRange\"},\"x_scale\":{\"id\":\"840d4d74-2b8d-472f-be1f-1076a7df52bd\",\"type\":\"CategoricalScale\"},\"y_range\":{\"id\":\"f5462a0b-3776-4286-93c8-f16556cbcead\",\"type\":\"DataRange1d\"},\"y_scale\":{\"id\":\"6667b1c6-59b2-40b4-975c-5ab7cadfb7d1\",\"type\":\"LinearScale\"}},\"id\":\"0953e14b-8a01-49fa-969c-f0db48e7f564\",\"subtype\":\"Figure\",\"type\":\"Plot\"},{\"attributes\":{\"active_drag\":\"auto\",\"active_inspect\":\"auto\",\"active_scroll\":\"auto\",\"active_tap\":\"auto\",\"tools\":[{\"id\":\"e3840ea6-8fc2-4826-9e9f-07d901d32a27\",\"type\":\"HoverTool\"},{\"id\":\"60695146-fb6d-40b9-9fb0-198cef1ed44a\",\"type\":\"PanTool\"},{\"id\":\"33f3fed3-255c-4358-b56b-513f477b7ffd\",\"type\":\"WheelZoomTool\"},{\"id\":\"3db2d41c-c85e-4d37-bd1e-df94541adca1\",\"type\":\"SaveTool\"},{\"id\":\"ab6b561f-040d-4ea4-9ab8-988e2a154991\",\"type\":\"ResetTool\"},{\"id\":\"2766f9bc-9d92-42d5-ac0b-33f0254df356\",\"type\":\"BoxZoomTool\"}]},\"id\":\"c0f71af9-1941-455a-9132-131c76cf168b\",\"type\":\"Toolbar\"},{\"attributes\":{\"toolbar\":{\"id\":\"8d580ec4-7acf-409b-8d67-0b03353c9616\",\"type\":\"ProxyToolbar\"},\"toolbar_location\":\"above\"},\"id\":\"5ada0528-9211-4442-80bc-27c42f4288b2\",\"type\":\"ToolbarBox\"},{\"attributes\":{\"children\":[{\"id\":\"0953e14b-8a01-49fa-969c-f0db48e7f564\",\"subtype\":\"Figure\",\"type\":\"Plot\"}]},\"id\":\"b9f28e6c-2367-4c2a-a176-ee6f71e0a78d\",\"type\":\"Row\"},{\"attributes\":{\"axis_label\":\"Region/Class\",\"formatter\":{\"id\":\"dbc199cf-d1d5-491e-94a1-aba2f99b5a9f\",\"type\":\"CategoricalTickFormatter\"},\"plot\":{\"id\":\"0953e14b-8a01-49fa-969c-f0db48e7f564\",\"subtype\":\"Figure\",\"type\":\"Plot\"},\"ticker\":{\"id\":\"8a02044a-eedd-4dc7-bc94-2083ac3db60d\",\"type\":\"CategoricalTicker\"}},\"id\":\"d1236b45-bb5b-4924-a747-ad7a5ac13d40\",\"type\":\"CategoricalAxis\"},{\"attributes\":{\"data_source\":{\"id\":\"06925a46-c260-4561-9a5f-d441ecef0ef8\",\"type\":\"ColumnDataSource\"},\"glyph\":{\"id\":\"94a3f4c5-fd58-49c8-894a-ad9303ecc134\",\"type\":\"VBar\"},\"hover_glyph\":null,\"muted_glyph\":null,\"nonselection_glyph\":{\"id\":\"f8fa6d43-85cb-4f3f-92a2-f53532445444\",\"type\":\"VBar\"},\"selection_glyph\":null,\"view\":{\"id\":\"a73c4d29-f2f5-4dca-b9a0-b99389234dfb\",\"type\":\"CDSView\"}},\"id\":\"061d3970-85f4-4fbc-aed9-cb3955dc26fb\",\"type\":\"GlyphRenderer\"},{\"attributes\":{},\"id\":\"dbc199cf-d1d5-491e-94a1-aba2f99b5a9f\",\"type\":\"CategoricalTickFormatter\"},{\"attributes\":{},\"id\":\"d4602d73-1341-428d-9939-40a718c3a4c7\",\"type\":\"SaveTool\"},{\"attributes\":{\"dimension\":1,\"plot\":{\"id\":\"ce13a98b-59d8-48d4-943e-c14ad98cdf33\",\"subtype\":\"Figure\",\"type\":\"Plot\"},\"ticker\":{\"id\":\"4033f0dd-a0ce-40b6-9c9a-f0ca13a687dd\",\"type\":\"BasicTicker\"}},\"id\":\"292b04ea-4e4c-4941-b146-9781f409c163\",\"type\":\"Grid\"},{\"attributes\":{\"overlay\":{\"id\":\"edc4f9fe-046d-4702-8836-76b955fd625c\",\"type\":\"BoxAnnotation\"}},\"id\":\"e0f71abe-8d52-4852-b84c-28baa31b0657\",\"type\":\"BoxZoomTool\"},{\"attributes\":{},\"id\":\"5e36c982-b3a1-4b98-ba9a-f312fdd88c85\",\"type\":\"CategoricalScale\"},{\"attributes\":{\"callback\":null,\"column_names\":[\"colors\",\"y\",\"id\",\"x\"],\"data\":{\"colors\":[\"#e66101\",\"#e66101\",\"#e66101\",\"#e66101\",\"#e66101\",\"#e66101\",\"#e66101\",\"#e66101\",\"#e66101\",\"#e66101\",\"#e66101\",\"#e66101\",\"#e66101\",\"#e66101\",\"#e66101\",\"#e66101\",\"#e66101\",\"#e66101\",\"#e66101\",\"#e66101\",\"#e66101\",\"#e66101\",\"#e66101\",\"#e66101\",\"#e66101\",\"#e66101\",\"#e66101\",\"#e66101\",\"#e66101\",\"#e66101\",\"#e66101\",\"#e66101\",\"#e66101\",\"#e66101\",\"#e66101\",\"#e66101\",\"#e66101\",\"#e66101\",\"#e66101\",\"#e66101\",\"#e66101\",\"#e66101\",\"#e66101\",\"#e66101\",\"#e66101\",\"#e66101\",\"#e66101\",\"#e66101\",\"#e66101\",\"#e66101\",\"#e66101\",\"#e66101\",\"#e66101\",\"#e66101\",\"#e66101\",\"#e66101\",\"#e66101\",\"#e66101\",\"#e66101\",\"#e66101\",\"#e66101\",\"#e66101\",\"#e66101\",\"#e66101\",\"#e66101\",\"#e66101\",\"#e66101\",\"#e66101\",\"#e66101\",\"#e66101\",\"#e66101\",\"#e66101\",\"#e66101\",\"#e66101\",\"#e66101\",\"#e66101\",\"#e66101\",\"#e66101\",\"#e66101\",\"#e66101\",\"#e66101\",\"#e66101\",\"#e66101\",\"#e66101\",\"#e66101\",\"#e66101\",\"#e66101\",\"#e66101\",\"#e66101\",\"#e66101\",\"#e66101\",\"#e66101\",\"#e66101\",\"#e66101\",\"#e66101\",\"#e66101\",\"#e66101\",\"#e66101\",\"#e66101\",\"#fdb863\",\"#fdb863\",\"#fdb863\",\"#fdb863\",\"#fdb863\",\"#fdb863\",\"#fdb863\",\"#fdb863\",\"#fdb863\",\"#fdb863\",\"#fdb863\",\"#fdb863\",\"#fdb863\",\"#fdb863\",\"#fdb863\",\"#fdb863\",\"#fdb863\",\"#fdb863\",\"#fdb863\",\"#fdb863\",\"#fdb863\",\"#fdb863\",\"#fdb863\",\"#fdb863\",\"#fdb863\",\"#fdb863\",\"#fdb863\",\"#fdb863\",\"#fdb863\",\"#fdb863\",\"#fdb863\",\"#fdb863\",\"#fdb863\",\"#fdb863\",\"#fdb863\",\"#fdb863\",\"#fdb863\",\"#fdb863\",\"#fdb863\",\"#fdb863\",\"#fdb863\",\"#fdb863\",\"#fdb863\",\"#fdb863\",\"#fdb863\",\"#fdb863\",\"#fdb863\",\"#fdb863\",\"#fdb863\",\"#fdb863\",\"#fdb863\",\"#fdb863\",\"#fdb863\",\"#fdb863\",\"#fdb863\",\"#fdb863\",\"#fdb863\",\"#fdb863\",\"#fdb863\",\"#fdb863\",\"#fdb863\",\"#fdb863\",\"#fdb863\",\"#fdb863\",\"#fdb863\",\"#fdb863\",\"#fdb863\",\"#fdb863\",\"#fdb863\",\"#fdb863\",\"#fdb863\",\"#fdb863\",\"#fdb863\",\"#fdb863\",\"#fdb863\",\"#fdb863\",\"#fdb863\",\"#fdb863\",\"#fdb863\",\"#fdb863\",\"#fdb863\",\"#fdb863\",\"#fdb863\",\"#fdb863\",\"#fdb863\",\"#fdb863\",\"#fdb863\",\"#fdb863\",\"#fdb863\",\"#fdb863\",\"#fdb863\",\"#fdb863\",\"#fdb863\",\"#fdb863\",\"#fdb863\",\"#fdb863\",\"#fdb863\",\"#fdb863\",\"#fdb863\",\"#b2abd2\",\"#b2abd2\",\"#b2abd2\",\"#b2abd2\",\"#b2abd2\",\"#b2abd2\",\"#b2abd2\",\"#b2abd2\",\"#b2abd2\",\"#b2abd2\",\"#b2abd2\",\"#b2abd2\",\"#b2abd2\",\"#b2abd2\",\"#b2abd2\",\"#b2abd2\",\"#b2abd2\",\"#b2abd2\",\"#b2abd2\",\"#b2abd2\",\"#b2abd2\",\"#b2abd2\",\"#b2abd2\",\"#b2abd2\",\"#b2abd2\",\"#b2abd2\",\"#b2abd2\",\"#b2abd2\",\"#b2abd2\",\"#b2abd2\",\"#b2abd2\",\"#b2abd2\",\"#b2abd2\",\"#b2abd2\",\"#b2abd2\",\"#b2abd2\",\"#b2abd2\",\"#b2abd2\",\"#b2abd2\",\"#b2abd2\",\"#b2abd2\",\"#b2abd2\",\"#b2abd2\",\"#b2abd2\",\"#b2abd2\",\"#b2abd2\",\"#b2abd2\",\"#b2abd2\",\"#b2abd2\",\"#b2abd2\",\"#b2abd2\",\"#b2abd2\",\"#b2abd2\",\"#b2abd2\",\"#b2abd2\",\"#b2abd2\",\"#b2abd2\",\"#b2abd2\",\"#b2abd2\",\"#b2abd2\",\"#b2abd2\",\"#b2abd2\",\"#b2abd2\",\"#b2abd2\",\"#b2abd2\",\"#b2abd2\",\"#b2abd2\",\"#b2abd2\",\"#b2abd2\",\"#b2abd2\",\"#b2abd2\",\"#b2abd2\",\"#b2abd2\",\"#b2abd2\",\"#b2abd2\",\"#b2abd2\",\"#b2abd2\",\"#b2abd2\",\"#b2abd2\",\"#b2abd2\",\"#b2abd2\",\"#b2abd2\",\"#b2abd2\",\"#b2abd2\",\"#b2abd2\",\"#b2abd2\",\"#b2abd2\",\"#b2abd2\",\"#b2abd2\",\"#b2abd2\",\"#b2abd2\",\"#b2abd2\",\"#b2abd2\",\"#b2abd2\",\"#b2abd2\",\"#b2abd2\",\"#b2abd2\",\"#b2abd2\",\"#b2abd2\",\"#5e3c99\",\"#5e3c99\",\"#5e3c99\",\"#5e3c99\",\"#5e3c99\",\"#5e3c99\",\"#5e3c99\",\"#5e3c99\",\"#5e3c99\",\"#5e3c99\",\"#5e3c99\",\"#5e3c99\",\"#5e3c99\",\"#5e3c99\",\"#5e3c99\",\"#5e3c99\",\"#5e3c99\",\"#5e3c99\",\"#5e3c99\",\"#5e3c99\",\"#5e3c99\",\"#5e3c99\",\"#5e3c99\",\"#5e3c99\",\"#5e3c99\",\"#5e3c99\",\"#5e3c99\",\"#5e3c99\",\"#5e3c99\",\"#5e3c99\",\"#5e3c99\",\"#5e3c99\",\"#5e3c99\",\"#5e3c99\",\"#5e3c99\",\"#5e3c99\",\"#5e3c99\",\"#5e3c99\",\"#5e3c99\",\"#5e3c99\",\"#5e3c99\",\"#5e3c99\",\"#5e3c99\",\"#5e3c99\",\"#5e3c99\",\"#5e3c99\",\"#5e3c99\",\"#5e3c99\",\"#5e3c99\",\"#5e3c99\",\"#5e3c99\",\"#5e3c99\",\"#5e3c99\",\"#5e3c99\",\"#5e3c99\",\"#5e3c99\",\"#5e3c99\",\"#5e3c99\",\"#5e3c99\",\"#5e3c99\",\"#5e3c99\",\"#5e3c99\",\"#5e3c99\",\"#5e3c99\",\"#5e3c99\",\"#5e3c99\",\"#5e3c99\",\"#5e3c99\",\"#5e3c99\",\"#5e3c99\",\"#5e3c99\",\"#5e3c99\",\"#5e3c99\",\"#5e3c99\",\"#5e3c99\",\"#5e3c99\",\"#5e3c99\",\"#5e3c99\",\"#5e3c99\",\"#5e3c99\",\"#5e3c99\",\"#5e3c99\",\"#5e3c99\",\"#5e3c99\",\"#5e3c99\",\"#5e3c99\",\"#5e3c99\",\"#5e3c99\",\"#5e3c99\",\"#5e3c99\",\"#5e3c99\",\"#5e3c99\",\"#5e3c99\",\"#5e3c99\",\"#5e3c99\",\"#5e3c99\",\"#5e3c99\",\"#5e3c99\",\"#5e3c99\",\"#e66101\",\"#e66101\",\"#e66101\",\"#e66101\",\"#e66101\",\"#e66101\",\"#e66101\",\"#e66101\",\"#e66101\",\"#e66101\",\"#e66101\",\"#e66101\",\"#e66101\",\"#e66101\",\"#e66101\",\"#e66101\",\"#e66101\",\"#e66101\",\"#e66101\",\"#e66101\",\"#e66101\",\"#e66101\",\"#e66101\",\"#e66101\",\"#e66101\",\"#e66101\",\"#e66101\",\"#e66101\",\"#e66101\",\"#e66101\",\"#e66101\",\"#e66101\",\"#e66101\",\"#e66101\",\"#e66101\",\"#e66101\",\"#e66101\",\"#e66101\",\"#e66101\",\"#e66101\",\"#e66101\",\"#e66101\",\"#e66101\",\"#e66101\",\"#e66101\",\"#e66101\",\"#e66101\",\"#e66101\",\"#e66101\",\"#e66101\",\"#e66101\",\"#e66101\",\"#e66101\",\"#e66101\",\"#e66101\",\"#e66101\",\"#e66101\",\"#e66101\",\"#e66101\",\"#e66101\",\"#e66101\",\"#e66101\",\"#e66101\",\"#e66101\",\"#e66101\",\"#e66101\",\"#e66101\",\"#e66101\",\"#e66101\",\"#e66101\",\"#e66101\",\"#e66101\",\"#e66101\",\"#e66101\",\"#e66101\",\"#e66101\",\"#e66101\",\"#e66101\",\"#e66101\",\"#e66101\",\"#fdb863\",\"#fdb863\",\"#fdb863\",\"#fdb863\",\"#fdb863\",\"#fdb863\",\"#fdb863\",\"#fdb863\",\"#fdb863\",\"#fdb863\",\"#fdb863\",\"#fdb863\",\"#fdb863\",\"#fdb863\",\"#fdb863\",\"#fdb863\",\"#fdb863\",\"#fdb863\",\"#fdb863\",\"#fdb863\",\"#fdb863\",\"#fdb863\",\"#fdb863\",\"#fdb863\",\"#fdb863\",\"#fdb863\",\"#fdb863\",\"#fdb863\",\"#fdb863\",\"#fdb863\",\"#fdb863\",\"#fdb863\",\"#fdb863\",\"#fdb863\",\"#fdb863\",\"#fdb863\",\"#fdb863\",\"#fdb863\",\"#fdb863\",\"#fdb863\",\"#fdb863\",\"#fdb863\",\"#fdb863\",\"#fdb863\",\"#fdb863\",\"#fdb863\",\"#fdb863\",\"#fdb863\",\"#fdb863\",\"#fdb863\",\"#fdb863\",\"#fdb863\",\"#fdb863\",\"#fdb863\",\"#fdb863\",\"#fdb863\",\"#fdb863\",\"#fdb863\",\"#fdb863\",\"#fdb863\",\"#fdb863\",\"#fdb863\",\"#fdb863\",\"#fdb863\",\"#fdb863\",\"#fdb863\",\"#fdb863\",\"#fdb863\",\"#fdb863\",\"#fdb863\",\"#fdb863\",\"#fdb863\",\"#fdb863\",\"#fdb863\",\"#fdb863\",\"#fdb863\",\"#fdb863\",\"#fdb863\",\"#fdb863\",\"#fdb863\",\"#b2abd2\",\"#b2abd2\",\"#b2abd2\",\"#b2abd2\",\"#b2abd2\",\"#b2abd2\",\"#b2abd2\",\"#b2abd2\",\"#b2abd2\",\"#b2abd2\",\"#b2abd2\",\"#b2abd2\",\"#b2abd2\",\"#b2abd2\",\"#b2abd2\",\"#b2abd2\",\"#b2abd2\",\"#b2abd2\",\"#b2abd2\",\"#b2abd2\",\"#b2abd2\",\"#b2abd2\",\"#b2abd2\",\"#b2abd2\",\"#b2abd2\",\"#b2abd2\",\"#b2abd2\",\"#b2abd2\",\"#b2abd2\",\"#b2abd2\",\"#b2abd2\",\"#b2abd2\",\"#b2abd2\",\"#b2abd2\",\"#b2abd2\",\"#b2abd2\",\"#b2abd2\",\"#b2abd2\",\"#b2abd2\",\"#b2abd2\",\"#b2abd2\",\"#b2abd2\",\"#b2abd2\",\"#b2abd2\",\"#b2abd2\",\"#b2abd2\",\"#b2abd2\",\"#b2abd2\",\"#b2abd2\",\"#b2abd2\",\"#b2abd2\",\"#b2abd2\",\"#b2abd2\",\"#b2abd2\",\"#b2abd2\",\"#b2abd2\",\"#b2abd2\",\"#b2abd2\",\"#b2abd2\",\"#b2abd2\",\"#b2abd2\",\"#b2abd2\",\"#b2abd2\",\"#b2abd2\",\"#b2abd2\",\"#b2abd2\",\"#b2abd2\",\"#b2abd2\",\"#b2abd2\",\"#b2abd2\",\"#b2abd2\",\"#b2abd2\",\"#b2abd2\",\"#b2abd2\",\"#b2abd2\",\"#b2abd2\",\"#b2abd2\",\"#b2abd2\",\"#b2abd2\",\"#b2abd2\",\"#5e3c99\",\"#5e3c99\",\"#5e3c99\",\"#5e3c99\",\"#5e3c99\",\"#5e3c99\",\"#5e3c99\",\"#5e3c99\",\"#5e3c99\",\"#5e3c99\",\"#5e3c99\",\"#5e3c99\",\"#5e3c99\",\"#5e3c99\",\"#5e3c99\",\"#5e3c99\",\"#5e3c99\",\"#5e3c99\",\"#5e3c99\",\"#5e3c99\",\"#5e3c99\",\"#5e3c99\",\"#5e3c99\",\"#5e3c99\",\"#5e3c99\",\"#5e3c99\",\"#5e3c99\",\"#5e3c99\",\"#5e3c99\",\"#5e3c99\",\"#5e3c99\",\"#5e3c99\",\"#5e3c99\",\"#5e3c99\",\"#5e3c99\",\"#5e3c99\",\"#5e3c99\",\"#5e3c99\",\"#5e3c99\",\"#5e3c99\",\"#5e3c99\",\"#5e3c99\",\"#5e3c99\",\"#5e3c99\",\"#5e3c99\",\"#5e3c99\",\"#5e3c99\",\"#5e3c99\",\"#5e3c99\",\"#5e3c99\",\"#5e3c99\",\"#5e3c99\",\"#5e3c99\",\"#5e3c99\",\"#5e3c99\",\"#5e3c99\",\"#5e3c99\",\"#5e3c99\",\"#5e3c99\",\"#5e3c99\",\"#5e3c99\",\"#5e3c99\",\"#5e3c99\",\"#5e3c99\",\"#5e3c99\",\"#5e3c99\",\"#5e3c99\",\"#5e3c99\",\"#5e3c99\",\"#5e3c99\",\"#5e3c99\",\"#5e3c99\",\"#5e3c99\",\"#5e3c99\",\"#5e3c99\",\"#5e3c99\",\"#5e3c99\",\"#5e3c99\",\"#5e3c99\",\"#5e3c99\",\"#e66101\",\"#e66101\",\"#e66101\",\"#e66101\",\"#e66101\",\"#e66101\",\"#e66101\",\"#e66101\",\"#e66101\",\"#e66101\",\"#e66101\",\"#e66101\",\"#e66101\",\"#e66101\",\"#e66101\",\"#e66101\",\"#e66101\",\"#e66101\",\"#e66101\",\"#e66101\",\"#e66101\",\"#e66101\",\"#e66101\",\"#e66101\",\"#e66101\",\"#e66101\",\"#e66101\",\"#e66101\",\"#e66101\",\"#e66101\",\"#e66101\",\"#e66101\",\"#e66101\",\"#e66101\",\"#e66101\",\"#e66101\",\"#e66101\",\"#e66101\",\"#e66101\",\"#e66101\",\"#e66101\",\"#e66101\",\"#e66101\",\"#e66101\",\"#e66101\",\"#e66101\",\"#e66101\",\"#e66101\",\"#e66101\",\"#e66101\",\"#e66101\",\"#e66101\",\"#e66101\",\"#e66101\",\"#e66101\",\"#e66101\",\"#e66101\",\"#e66101\",\"#e66101\",\"#e66101\",\"#e66101\",\"#e66101\",\"#e66101\",\"#e66101\",\"#e66101\",\"#e66101\",\"#e66101\",\"#fdb863\",\"#fdb863\",\"#fdb863\",\"#fdb863\",\"#fdb863\",\"#fdb863\",\"#fdb863\",\"#fdb863\",\"#fdb863\",\"#fdb863\",\"#fdb863\",\"#fdb863\",\"#fdb863\",\"#fdb863\",\"#fdb863\",\"#fdb863\",\"#fdb863\",\"#fdb863\",\"#fdb863\",\"#fdb863\",\"#fdb863\",\"#fdb863\",\"#fdb863\",\"#fdb863\",\"#fdb863\",\"#fdb863\",\"#fdb863\",\"#fdb863\",\"#fdb863\",\"#fdb863\",\"#fdb863\",\"#fdb863\",\"#fdb863\",\"#fdb863\",\"#fdb863\",\"#fdb863\",\"#fdb863\",\"#fdb863\",\"#fdb863\",\"#fdb863\",\"#fdb863\",\"#fdb863\",\"#fdb863\",\"#fdb863\",\"#fdb863\",\"#fdb863\",\"#fdb863\",\"#fdb863\",\"#fdb863\",\"#fdb863\",\"#fdb863\",\"#fdb863\",\"#fdb863\",\"#fdb863\",\"#fdb863\",\"#fdb863\",\"#fdb863\",\"#fdb863\",\"#fdb863\",\"#fdb863\",\"#fdb863\",\"#fdb863\",\"#fdb863\",\"#fdb863\",\"#fdb863\",\"#fdb863\",\"#fdb863\",\"#b2abd2\",\"#b2abd2\",\"#b2abd2\",\"#b2abd2\",\"#b2abd2\",\"#b2abd2\",\"#b2abd2\",\"#b2abd2\",\"#b2abd2\",\"#b2abd2\",\"#b2abd2\",\"#b2abd2\",\"#b2abd2\",\"#b2abd2\",\"#b2abd2\",\"#b2abd2\",\"#b2abd2\",\"#b2abd2\",\"#b2abd2\",\"#b2abd2\",\"#b2abd2\",\"#b2abd2\",\"#b2abd2\",\"#b2abd2\",\"#b2abd2\",\"#b2abd2\",\"#b2abd2\",\"#b2abd2\",\"#b2abd2\",\"#b2abd2\",\"#b2abd2\",\"#b2abd2\",\"#b2abd2\",\"#b2abd2\",\"#b2abd2\",\"#b2abd2\",\"#b2abd2\",\"#b2abd2\",\"#b2abd2\",\"#b2abd2\",\"#b2abd2\",\"#b2abd2\",\"#b2abd2\",\"#b2abd2\",\"#b2abd2\",\"#b2abd2\",\"#b2abd2\",\"#b2abd2\",\"#b2abd2\",\"#b2abd2\",\"#b2abd2\",\"#b2abd2\",\"#b2abd2\",\"#b2abd2\",\"#b2abd2\",\"#b2abd2\",\"#b2abd2\",\"#b2abd2\",\"#b2abd2\",\"#b2abd2\",\"#b2abd2\",\"#b2abd2\",\"#b2abd2\",\"#b2abd2\",\"#b2abd2\",\"#b2abd2\",\"#b2abd2\",\"#5e3c99\",\"#5e3c99\",\"#5e3c99\",\"#5e3c99\",\"#5e3c99\",\"#5e3c99\",\"#5e3c99\",\"#5e3c99\",\"#5e3c99\",\"#5e3c99\",\"#5e3c99\",\"#5e3c99\",\"#5e3c99\",\"#5e3c99\",\"#5e3c99\",\"#5e3c99\",\"#5e3c99\",\"#5e3c99\",\"#5e3c99\",\"#5e3c99\",\"#5e3c99\",\"#5e3c99\",\"#5e3c99\",\"#5e3c99\",\"#5e3c99\",\"#5e3c99\",\"#5e3c99\",\"#5e3c99\",\"#5e3c99\",\"#5e3c99\",\"#5e3c99\",\"#5e3c99\",\"#5e3c99\",\"#5e3c99\",\"#5e3c99\",\"#5e3c99\",\"#5e3c99\",\"#5e3c99\",\"#5e3c99\",\"#5e3c99\",\"#5e3c99\",\"#5e3c99\",\"#5e3c99\",\"#5e3c99\",\"#5e3c99\",\"#5e3c99\",\"#5e3c99\",\"#5e3c99\",\"#5e3c99\",\"#5e3c99\",\"#5e3c99\",\"#5e3c99\",\"#5e3c99\",\"#5e3c99\",\"#5e3c99\",\"#5e3c99\",\"#5e3c99\",\"#5e3c99\",\"#5e3c99\",\"#5e3c99\",\"#5e3c99\",\"#5e3c99\",\"#5e3c99\",\"#5e3c99\",\"#5e3c99\",\"#5e3c99\",\"#5e3c99\",\"#e66101\",\"#e66101\",\"#e66101\",\"#e66101\",\"#e66101\",\"#e66101\",\"#e66101\",\"#e66101\",\"#e66101\",\"#fdb863\",\"#fdb863\",\"#fdb863\",\"#fdb863\",\"#fdb863\",\"#fdb863\",\"#fdb863\",\"#fdb863\",\"#fdb863\",\"#b2abd2\",\"#b2abd2\",\"#b2abd2\",\"#b2abd2\",\"#b2abd2\",\"#b2abd2\",\"#b2abd2\",\"#b2abd2\",\"#b2abd2\",\"#5e3c99\",\"#5e3c99\",\"#5e3c99\",\"#5e3c99\",\"#5e3c99\",\"#5e3c99\",\"#5e3c99\",\"#5e3c99\",\"#5e3c99\",\"#e66101\",\"#e66101\",\"#e66101\",\"#e66101\",\"#e66101\",\"#e66101\",\"#e66101\",\"#e66101\",\"#e66101\",\"#e66101\",\"#e66101\",\"#e66101\",\"#e66101\",\"#e66101\",\"#e66101\",\"#e66101\",\"#e66101\",\"#e66101\",\"#e66101\",\"#e66101\",\"#e66101\",\"#e66101\",\"#e66101\",\"#e66101\",\"#e66101\",\"#e66101\",\"#fdb863\",\"#fdb863\",\"#fdb863\",\"#fdb863\",\"#fdb863\",\"#fdb863\",\"#fdb863\",\"#fdb863\",\"#fdb863\",\"#fdb863\",\"#fdb863\",\"#fdb863\",\"#fdb863\",\"#fdb863\",\"#fdb863\",\"#fdb863\",\"#fdb863\",\"#fdb863\",\"#fdb863\",\"#fdb863\",\"#fdb863\",\"#fdb863\",\"#fdb863\",\"#fdb863\",\"#fdb863\",\"#fdb863\",\"#b2abd2\",\"#b2abd2\",\"#b2abd2\",\"#b2abd2\",\"#b2abd2\",\"#b2abd2\",\"#b2abd2\",\"#b2abd2\",\"#b2abd2\",\"#b2abd2\",\"#b2abd2\",\"#b2abd2\",\"#b2abd2\",\"#b2abd2\",\"#b2abd2\",\"#b2abd2\",\"#b2abd2\",\"#b2abd2\",\"#b2abd2\",\"#b2abd2\",\"#b2abd2\",\"#b2abd2\",\"#b2abd2\",\"#b2abd2\",\"#b2abd2\",\"#b2abd2\",\"#5e3c99\",\"#5e3c99\",\"#5e3c99\",\"#5e3c99\",\"#5e3c99\",\"#5e3c99\",\"#5e3c99\",\"#5e3c99\",\"#5e3c99\",\"#5e3c99\",\"#5e3c99\",\"#5e3c99\",\"#5e3c99\",\"#5e3c99\",\"#5e3c99\",\"#5e3c99\",\"#5e3c99\",\"#5e3c99\",\"#5e3c99\",\"#5e3c99\",\"#5e3c99\",\"#5e3c99\",\"#5e3c99\",\"#5e3c99\",\"#5e3c99\",\"#5e3c99\",\"#e66101\",\"#e66101\",\"#e66101\",\"#e66101\",\"#e66101\",\"#fdb863\",\"#fdb863\",\"#fdb863\",\"#fdb863\",\"#fdb863\",\"#b2abd2\",\"#b2abd2\",\"#b2abd2\",\"#b2abd2\",\"#b2abd2\",\"#5e3c99\",\"#5e3c99\",\"#5e3c99\",\"#5e3c99\",\"#5e3c99\"],\"id\":[\"20N_012E\",\"15N_030W\",\"15N_000E\",\"15N_036E\",\"05S_036E\",\"20N_036E\",\"00N_006E\",\"10N_042E\",\"25N_030E\",\"05S_018E\",\"25N_024E\",\"25N_006E\",\"20S_048E\",\"10S_036E\",\"15S_030E\",\"05S_024E\",\"05N_036E\",\"05S_030E\",\"05N_012W\",\"05N_012E\",\"20S_054E\",\"10S_042E\",\"00N_030E\",\"10S_018E\",\"20S_042E\",\"15N_018E\",\"15N_012E\",\"00N_018E\",\"20S_030E\",\"05S_012E\",\"25N_018W\",\"10S_012E\",\"25N_012E\",\"15S_036E\",\"05N_024E\",\"20N_018E\",\"15N_012W\",\"15N_006W\",\"10N_012W\",\"10N_000E\",\"10N_006E\",\"20S_018E\",\"05S_048E\",\"10N_036E\",\"05N_030E\",\"25N_036E\",\"20N_030E\",\"10N_018W\",\"20S_024E\",\"15N_030E\",\"15S_042E\",\"20N_018W\",\"05N_042E\",\"00N_012E\",\"25N_018E\",\"20N_012W\",\"25N_012W\",\"25N_000E\",\"20N_024E\",\"00N_000E\",\"10S_030E\",\"20N_006W\",\"20S_012E\",\"10S_024E\",\"10S_048E\",\"15N_006E\",\"15S_048E\",\"10N_024E\",\"20N_030W\",\"15N_042E\",\"05S_042E\",\"05N_000E\",\"15S_018E\",\"10N_030E\",\"15S_054E\",\"20N_000E\",\"15N_024W\",\"15N_024E\",\"00N_024E\",\"20N_006E\",\"05S_006E\",\"10N_048E\",\"10N_012E\",\"00N_036E\",\"15N_048E\",\"05N_006E\",\"15S_024E\",\"15N_018W\",\"20N_024W\",\"15S_006E\",\"15S_012E\",\"05N_006W\",\"10N_006W\",\"25N_006W\",\"10S_054E\",\"00N_042E\",\"05N_048E\",\"05N_018E\",\"10N_018E\",\"20N_012E\",\"15N_030W\",\"15N_000E\",\"15N_036E\",\"05S_036E\",\"20N_036E\",\"00N_006E\",\"10N_042E\",\"25N_030E\",\"05S_018E\",\"25N_024E\",\"25N_006E\",\"20S_048E\",\"10S_036E\",\"15S_030E\",\"05S_024E\",\"05N_036E\",\"05S_030E\",\"05N_012W\",\"05N_012E\",\"20S_054E\",\"10S_042E\",\"00N_030E\",\"10S_018E\",\"20S_042E\",\"15N_018E\",\"15N_012E\",\"00N_018E\",\"20S_030E\",\"05S_012E\",\"25N_018W\",\"10S_012E\",\"25N_012E\",\"15S_036E\",\"05N_024E\",\"20N_018E\",\"15N_012W\",\"15N_006W\",\"10N_012W\",\"10N_000E\",\"10N_006E\",\"20S_018E\",\"05S_048E\",\"10N_036E\",\"05N_030E\",\"25N_036E\",\"20N_030E\",\"10N_018W\",\"20S_024E\",\"15N_030E\",\"15S_042E\",\"20N_018W\",\"05N_042E\",\"00N_012E\",\"25N_018E\",\"20N_012W\",\"25N_012W\",\"25N_000E\",\"20N_024E\",\"00N_000E\",\"10S_030E\",\"20N_006W\",\"20S_012E\",\"10S_024E\",\"10S_048E\",\"15N_006E\",\"15S_048E\",\"10N_024E\",\"20N_030W\",\"15N_042E\",\"05S_042E\",\"05N_000E\",\"15S_018E\",\"10N_030E\",\"15S_054E\",\"20N_000E\",\"15N_024W\",\"15N_024E\",\"00N_024E\",\"20N_006E\",\"05S_006E\",\"10N_048E\",\"10N_012E\",\"00N_036E\",\"15N_048E\",\"05N_006E\",\"15S_024E\",\"15N_018W\",\"20N_024W\",\"15S_006E\",\"15S_012E\",\"05N_006W\",\"10N_006W\",\"25N_006W\",\"10S_054E\",\"00N_042E\",\"05N_048E\",\"05N_018E\",\"10N_018E\",\"20N_012E\",\"15N_030W\",\"15N_000E\",\"15N_036E\",\"05S_036E\",\"20N_036E\",\"00N_006E\",\"10N_042E\",\"25N_030E\",\"05S_018E\",\"25N_024E\",\"25N_006E\",\"20S_048E\",\"10S_036E\",\"15S_030E\",\"05S_024E\",\"05N_036E\",\"05S_030E\",\"05N_012W\",\"05N_012E\",\"20S_054E\",\"10S_042E\",\"00N_030E\",\"10S_018E\",\"20S_042E\",\"15N_018E\",\"15N_012E\",\"00N_018E\",\"20S_030E\",\"05S_012E\",\"25N_018W\",\"10S_012E\",\"25N_012E\",\"15S_036E\",\"05N_024E\",\"20N_018E\",\"15N_012W\",\"15N_006W\",\"10N_012W\",\"10N_000E\",\"10N_006E\",\"20S_018E\",\"05S_048E\",\"10N_036E\",\"05N_030E\",\"25N_036E\",\"20N_030E\",\"10N_018W\",\"20S_024E\",\"15N_030E\",\"15S_042E\",\"20N_018W\",\"05N_042E\",\"00N_012E\",\"25N_018E\",\"20N_012W\",\"25N_012W\",\"25N_000E\",\"20N_024E\",\"00N_000E\",\"10S_030E\",\"20N_006W\",\"20S_012E\",\"10S_024E\",\"10S_048E\",\"15N_006E\",\"15S_048E\",\"10N_024E\",\"20N_030W\",\"15N_042E\",\"05S_042E\",\"05N_000E\",\"15S_018E\",\"10N_030E\",\"15S_054E\",\"20N_000E\",\"15N_024W\",\"15N_024E\",\"00N_024E\",\"20N_006E\",\"05S_006E\",\"10N_048E\",\"10N_012E\",\"00N_036E\",\"15N_048E\",\"05N_006E\",\"15S_024E\",\"15N_018W\",\"20N_024W\",\"15S_006E\",\"15S_012E\",\"05N_006W\",\"10N_006W\",\"25N_006W\",\"10S_054E\",\"00N_042E\",\"05N_048E\",\"05N_018E\",\"10N_018E\",\"20N_012E\",\"15N_030W\",\"15N_000E\",\"15N_036E\",\"05S_036E\",\"20N_036E\",\"00N_006E\",\"10N_042E\",\"25N_030E\",\"05S_018E\",\"25N_024E\",\"25N_006E\",\"20S_048E\",\"10S_036E\",\"15S_030E\",\"05S_024E\",\"05N_036E\",\"05S_030E\",\"05N_012W\",\"05N_012E\",\"20S_054E\",\"10S_042E\",\"00N_030E\",\"10S_018E\",\"20S_042E\",\"15N_018E\",\"15N_012E\",\"00N_018E\",\"20S_030E\",\"05S_012E\",\"25N_018W\",\"10S_012E\",\"25N_012E\",\"15S_036E\",\"05N_024E\",\"20N_018E\",\"15N_012W\",\"15N_006W\",\"10N_012W\",\"10N_000E\",\"10N_006E\",\"20S_018E\",\"05S_048E\",\"10N_036E\",\"05N_030E\",\"25N_036E\",\"20N_030E\",\"10N_018W\",\"20S_024E\",\"15N_030E\",\"15S_042E\",\"20N_018W\",\"05N_042E\",\"00N_012E\",\"25N_018E\",\"20N_012W\",\"25N_012W\",\"25N_000E\",\"20N_024E\",\"00N_000E\",\"10S_030E\",\"20N_006W\",\"20S_012E\",\"10S_024E\",\"10S_048E\",\"15N_006E\",\"15S_048E\",\"10N_024E\",\"20N_030W\",\"15N_042E\",\"05S_042E\",\"05N_000E\",\"15S_018E\",\"10N_030E\",\"15S_054E\",\"20N_000E\",\"15N_024W\",\"15N_024E\",\"00N_024E\",\"20N_006E\",\"05S_006E\",\"10N_048E\",\"10N_012E\",\"00N_036E\",\"15N_048E\",\"05N_006E\",\"15S_024E\",\"15N_018W\",\"20N_024W\",\"15S_006E\",\"15S_012E\",\"05N_006W\",\"10N_006W\",\"25N_006W\",\"10S_054E\",\"00N_042E\",\"05N_048E\",\"05N_018E\",\"10N_018E\",\"05S_066W\",\"05S_078W\",\"25N_090W\",\"15S_048W\",\"10S_054W\",\"10N_060W\",\"10N_072W\",\"00N_072W\",\"20N_072W\",\"10N_066W\",\"10S_042W\",\"10S_072W\",\"15N_090W\",\"15S_054W\",\"15N_078W\",\"05S_060W\",\"10S_078W\",\"00N_096W\",\"15S_078W\",\"00N_084W\",\"10N_078W\",\"05N_096W\",\"10N_084W\",\"00N_054W\",\"15N_066W\",\"05N_084W\",\"05S_036W\",\"10S_066W\",\"10S_084W\",\"25N_084W\",\"20S_066W\",\"20S_060W\",\"20S_072W\",\"05S_084W\",\"20N_114W\",\"15N_114W\",\"25N_078W\",\"15S_042W\",\"00N_066W\",\"05N_078W\",\"05N_066W\",\"05S_042W\",\"05S_054W\",\"15N_096W\",\"20N_084W\",\"15S_072W\",\"00N_042W\",\"05N_054W\",\"00N_048W\",\"20N_090W\",\"10S_060W\",\"10S_048W\",\"25N_114W\",\"20N_066W\",\"15N_072W\",\"00N_090W\",\"20N_096W\",\"15S_060W\",\"10N_090W\",\"05N_060W\",\"20N_108W\",\"20S_054W\",\"20N_078W\",\"15N_084W\",\"25N_108W\",\"00N_078W\",\"15S_066W\",\"20N_102W\",\"25N_072W\",\"00N_036W\",\"25N_096W\",\"15N_060W\",\"20S_042W\",\"25N_102W\",\"10N_054W\",\"05S_072W\",\"20S_048W\",\"05N_072W\",\"00N_060W\",\"05S_048W\",\"05S_066W\",\"05S_078W\",\"25N_090W\",\"15S_048W\",\"10S_054W\",\"10N_060W\",\"10N_072W\",\"00N_072W\",\"20N_072W\",\"10N_066W\",\"10S_042W\",\"10S_072W\",\"15N_090W\",\"15S_054W\",\"15N_078W\",\"05S_060W\",\"10S_078W\",\"00N_096W\",\"15S_078W\",\"00N_084W\",\"10N_078W\",\"05N_096W\",\"10N_084W\",\"00N_054W\",\"15N_066W\",\"05N_084W\",\"05S_036W\",\"10S_066W\",\"10S_084W\",\"25N_084W\",\"20S_066W\",\"20S_060W\",\"20S_072W\",\"05S_084W\",\"20N_114W\",\"15N_114W\",\"25N_078W\",\"15S_042W\",\"00N_066W\",\"05N_078W\",\"05N_066W\",\"05S_042W\",\"05S_054W\",\"15N_096W\",\"20N_084W\",\"15S_072W\",\"00N_042W\",\"05N_054W\",\"00N_048W\",\"20N_090W\",\"10S_060W\",\"10S_048W\",\"25N_114W\",\"20N_066W\",\"15N_072W\",\"00N_090W\",\"20N_096W\",\"15S_060W\",\"10N_090W\",\"05N_060W\",\"20N_108W\",\"20S_054W\",\"20N_078W\",\"15N_084W\",\"25N_108W\",\"00N_078W\",\"15S_066W\",\"20N_102W\",\"25N_072W\",\"00N_036W\",\"25N_096W\",\"15N_060W\",\"20S_042W\",\"25N_102W\",\"10N_054W\",\"05S_072W\",\"20S_048W\",\"05N_072W\",\"00N_060W\",\"05S_048W\",\"05S_066W\",\"05S_078W\",\"25N_090W\",\"15S_048W\",\"10S_054W\",\"10N_060W\",\"10N_072W\",\"00N_072W\",\"20N_072W\",\"10N_066W\",\"10S_042W\",\"10S_072W\",\"15N_090W\",\"15S_054W\",\"15N_078W\",\"05S_060W\",\"10S_078W\",\"00N_096W\",\"15S_078W\",\"00N_084W\",\"10N_078W\",\"05N_096W\",\"10N_084W\",\"00N_054W\",\"15N_066W\",\"05N_084W\",\"05S_036W\",\"10S_066W\",\"10S_084W\",\"25N_084W\",\"20S_066W\",\"20S_060W\",\"20S_072W\",\"05S_084W\",\"20N_114W\",\"15N_114W\",\"25N_078W\",\"15S_042W\",\"00N_066W\",\"05N_078W\",\"05N_066W\",\"05S_042W\",\"05S_054W\",\"15N_096W\",\"20N_084W\",\"15S_072W\",\"00N_042W\",\"05N_054W\",\"00N_048W\",\"20N_090W\",\"10S_060W\",\"10S_048W\",\"25N_114W\",\"20N_066W\",\"15N_072W\",\"00N_090W\",\"20N_096W\",\"15S_060W\",\"10N_090W\",\"05N_060W\",\"20N_108W\",\"20S_054W\",\"20N_078W\",\"15N_084W\",\"25N_108W\",\"00N_078W\",\"15S_066W\",\"20N_102W\",\"25N_072W\",\"00N_036W\",\"25N_096W\",\"15N_060W\",\"20S_042W\",\"25N_102W\",\"10N_054W\",\"05S_072W\",\"20S_048W\",\"05N_072W\",\"00N_060W\",\"05S_048W\",\"05S_066W\",\"05S_078W\",\"25N_090W\",\"15S_048W\",\"10S_054W\",\"10N_060W\",\"10N_072W\",\"00N_072W\",\"20N_072W\",\"10N_066W\",\"10S_042W\",\"10S_072W\",\"15N_090W\",\"15S_054W\",\"15N_078W\",\"05S_060W\",\"10S_078W\",\"00N_096W\",\"15S_078W\",\"00N_084W\",\"10N_078W\",\"05N_096W\",\"10N_084W\",\"00N_054W\",\"15N_066W\",\"05N_084W\",\"05S_036W\",\"10S_066W\",\"10S_084W\",\"25N_084W\",\"20S_066W\",\"20S_060W\",\"20S_072W\",\"05S_084W\",\"20N_114W\",\"15N_114W\",\"25N_078W\",\"15S_042W\",\"00N_066W\",\"05N_078W\",\"05N_066W\",\"05S_042W\",\"05S_054W\",\"15N_096W\",\"20N_084W\",\"15S_072W\",\"00N_042W\",\"05N_054W\",\"00N_048W\",\"20N_090W\",\"10S_060W\",\"10S_048W\",\"25N_114W\",\"20N_066W\",\"15N_072W\",\"00N_090W\",\"20N_096W\",\"15S_060W\",\"10N_090W\",\"05N_060W\",\"20N_108W\",\"20S_054W\",\"20N_078W\",\"15N_084W\",\"25N_108W\",\"00N_078W\",\"15S_066W\",\"20N_102W\",\"25N_072W\",\"00N_036W\",\"25N_096W\",\"15N_060W\",\"20S_042W\",\"25N_102W\",\"10N_054W\",\"05S_072W\",\"20S_048W\",\"05N_072W\",\"00N_060W\",\"05S_048W\",\"20N_108E\",\"10N_102E\",\"10N_096E\",\"20N_036E\",\"05S_114E\",\"00N_096E\",\"05N_102E\",\"05N_090E\",\"00N_132E\",\"00N_138E\",\"00N_114E\",\"20N_072E\",\"25N_078E\",\"15N_096E\",\"00N_126E\",\"05S_120E\",\"25N_114E\",\"15N_102E\",\"10N_126E\",\"05S_126E\",\"10N_078E\",\"25N_084E\",\"05S_102E\",\"25N_090E\",\"10S_114E\",\"05N_114E\",\"00N_072E\",\"15N_090E\",\"05N_108E\",\"00N_102E\",\"25N_102E\",\"25N_120E\",\"05S_138E\",\"00N_108E\",\"25N_066E\",\"15N_078E\",\"20N_096E\",\"10N_120E\",\"25N_072E\",\"10N_072E\",\"25N_036E\",\"05N_072E\",\"05N_126E\",\"15N_054E\",\"00N_120E\",\"20N_102E\",\"20N_120E\",\"15N_126E\",\"10N_090E\",\"15N_108E\",\"25N_096E\",\"15N_042E\",\"15N_072E\",\"05S_108E\",\"15N_120E\",\"25N_108E\",\"15N_048E\",\"20N_090E\",\"20N_078E\",\"05S_132E\",\"15N_114E\",\"05N_096E\",\"10S_120E\",\"05N_120E\",\"20N_114E\",\"20N_084E\",\"10N_114E\",\"20N_108E\",\"10N_102E\",\"10N_096E\",\"20N_036E\",\"05S_114E\",\"00N_096E\",\"05N_102E\",\"05N_090E\",\"00N_132E\",\"00N_138E\",\"00N_114E\",\"20N_072E\",\"25N_078E\",\"15N_096E\",\"00N_126E\",\"05S_120E\",\"25N_114E\",\"15N_102E\",\"10N_126E\",\"05S_126E\",\"10N_078E\",\"25N_084E\",\"05S_102E\",\"25N_090E\",\"10S_114E\",\"05N_114E\",\"00N_072E\",\"15N_090E\",\"05N_108E\",\"00N_102E\",\"25N_102E\",\"25N_120E\",\"05S_138E\",\"00N_108E\",\"25N_066E\",\"15N_078E\",\"20N_096E\",\"10N_120E\",\"25N_072E\",\"10N_072E\",\"25N_036E\",\"05N_072E\",\"05N_126E\",\"15N_054E\",\"00N_120E\",\"20N_102E\",\"20N_120E\",\"15N_126E\",\"10N_090E\",\"15N_108E\",\"25N_096E\",\"15N_042E\",\"15N_072E\",\"05S_108E\",\"15N_120E\",\"25N_108E\",\"15N_048E\",\"20N_090E\",\"20N_078E\",\"05S_132E\",\"15N_114E\",\"05N_096E\",\"10S_120E\",\"05N_120E\",\"20N_114E\",\"20N_084E\",\"10N_114E\",\"20N_108E\",\"10N_102E\",\"10N_096E\",\"20N_036E\",\"05S_114E\",\"00N_096E\",\"05N_102E\",\"05N_090E\",\"00N_132E\",\"00N_138E\",\"00N_114E\",\"20N_072E\",\"25N_078E\",\"15N_096E\",\"00N_126E\",\"05S_120E\",\"25N_114E\",\"15N_102E\",\"10N_126E\",\"05S_126E\",\"10N_078E\",\"25N_084E\",\"05S_102E\",\"25N_090E\",\"10S_114E\",\"05N_114E\",\"00N_072E\",\"15N_090E\",\"05N_108E\",\"00N_102E\",\"25N_102E\",\"25N_120E\",\"05S_138E\",\"00N_108E\",\"25N_066E\",\"15N_078E\",\"20N_096E\",\"10N_120E\",\"25N_072E\",\"10N_072E\",\"25N_036E\",\"05N_072E\",\"05N_126E\",\"15N_054E\",\"00N_120E\",\"20N_102E\",\"20N_120E\",\"15N_126E\",\"10N_090E\",\"15N_108E\",\"25N_096E\",\"15N_042E\",\"15N_072E\",\"05S_108E\",\"15N_120E\",\"25N_108E\",\"15N_048E\",\"20N_090E\",\"20N_078E\",\"05S_132E\",\"15N_114E\",\"05N_096E\",\"10S_120E\",\"05N_120E\",\"20N_114E\",\"20N_084E\",\"10N_114E\",\"20N_108E\",\"10N_102E\",\"10N_096E\",\"20N_036E\",\"05S_114E\",\"00N_096E\",\"05N_102E\",\"05N_090E\",\"00N_132E\",\"00N_138E\",\"00N_114E\",\"20N_072E\",\"25N_078E\",\"15N_096E\",\"00N_126E\",\"05S_120E\",\"25N_114E\",\"15N_102E\",\"10N_126E\",\"05S_126E\",\"10N_078E\",\"25N_084E\",\"05S_102E\",\"25N_090E\",\"10S_114E\",\"05N_114E\",\"00N_072E\",\"15N_090E\",\"05N_108E\",\"00N_102E\",\"25N_102E\",\"25N_120E\",\"05S_138E\",\"00N_108E\",\"25N_066E\",\"15N_078E\",\"20N_096E\",\"10N_120E\",\"25N_072E\",\"10N_072E\",\"25N_036E\",\"05N_072E\",\"05N_126E\",\"15N_054E\",\"00N_120E\",\"20N_102E\",\"20N_120E\",\"15N_126E\",\"10N_090E\",\"15N_108E\",\"25N_096E\",\"15N_042E\",\"15N_072E\",\"05S_108E\",\"15N_120E\",\"25N_108E\",\"15N_048E\",\"20N_090E\",\"20N_078E\",\"05S_132E\",\"15N_114E\",\"05N_096E\",\"10S_120E\",\"05N_120E\",\"20N_114E\",\"20N_084E\",\"10N_114E\",\"10N_060W\",\"20S_054E\",\"10S_042E\",\"15N_066W\",\"05N_054W\",\"20N_066W\",\"15N_072W\",\"05N_060W\",\"10N_054W\",\"10N_060W\",\"20S_054E\",\"10S_042E\",\"15N_066W\",\"05N_054W\",\"20N_066W\",\"15N_072W\",\"05N_060W\",\"10N_054W\",\"10N_060W\",\"20S_054E\",\"10S_042E\",\"15N_066W\",\"05N_054W\",\"20N_066W\",\"15N_072W\",\"05N_060W\",\"10N_054W\",\"10N_060W\",\"20S_054E\",\"10S_042E\",\"15N_066W\",\"05N_054W\",\"20N_066W\",\"15N_072W\",\"05N_060W\",\"10N_054W\",\"05N_150E\",\"10S_138E\",\"10N_150E\",\"00N_138E\",\"10S_168E\",\"05S_150E\",\"05S_156E\",\"20N_144E\",\"05S_138E\",\"10N_138E\",\"10N_156E\",\"05N_126E\",\"15N_144E\",\"10N_132E\",\"00N_150E\",\"00N_168E\",\"00N_144E\",\"10S_162E\",\"05S_144E\",\"00N_162E\",\"10S_156E\",\"05S_162E\",\"10S_150E\",\"10S_120E\",\"10S_126E\",\"10S_144E\",\"05N_150E\",\"10S_138E\",\"10N_150E\",\"00N_138E\",\"10S_168E\",\"05S_150E\",\"05S_156E\",\"20N_144E\",\"05S_138E\",\"10N_138E\",\"10N_156E\",\"05N_126E\",\"15N_144E\",\"10N_132E\",\"00N_150E\",\"00N_168E\",\"00N_144E\",\"10S_162E\",\"05S_144E\",\"00N_162E\",\"10S_156E\",\"05S_162E\",\"10S_150E\",\"10S_120E\",\"10S_126E\",\"10S_144E\",\"05N_150E\",\"10S_138E\",\"10N_150E\",\"00N_138E\",\"10S_168E\",\"05S_150E\",\"05S_156E\",\"20N_144E\",\"05S_138E\",\"10N_138E\",\"10N_156E\",\"05N_126E\",\"15N_144E\",\"10N_132E\",\"00N_150E\",\"00N_168E\",\"00N_144E\",\"10S_162E\",\"05S_144E\",\"00N_162E\",\"10S_156E\",\"05S_162E\",\"10S_150E\",\"10S_120E\",\"10S_126E\",\"10S_144E\",\"05N_150E\",\"10S_138E\",\"10N_150E\",\"00N_138E\",\"10S_168E\",\"05S_150E\",\"05S_156E\",\"20N_144E\",\"05S_138E\",\"10N_138E\",\"10N_156E\",\"05N_126E\",\"15N_144E\",\"10N_132E\",\"00N_150E\",\"00N_168E\",\"00N_144E\",\"10S_162E\",\"05S_144E\",\"00N_162E\",\"10S_156E\",\"05S_162E\",\"10S_150E\",\"10S_120E\",\"10S_126E\",\"10S_144E\",\"20S_036E\",\"10S_042E\",\"15S_042E\",\"15S_054E\",\"20N_078W\",\"20S_036E\",\"10S_042E\",\"15S_042E\",\"15S_054E\",\"20N_078W\",\"20S_036E\",\"10S_042E\",\"15S_042E\",\"15S_054E\",\"20N_078W\",\"20S_036E\",\"10S_042E\",\"15S_042E\",\"15S_054E\",\"20N_078W\"],\"x\":[[\"Africa\",\"JC0\"],[\"Africa\",\"JC0\"],[\"Africa\",\"JC0\"],[\"Africa\",\"JC0\"],[\"Africa\",\"JC0\"],[\"Africa\",\"JC0\"],[\"Africa\",\"JC0\"],[\"Africa\",\"JC0\"],[\"Africa\",\"JC0\"],[\"Africa\",\"JC0\"],[\"Africa\",\"JC0\"],[\"Africa\",\"JC0\"],[\"Africa\",\"JC0\"],[\"Africa\",\"JC0\"],[\"Africa\",\"JC0\"],[\"Africa\",\"JC0\"],[\"Africa\",\"JC0\"],[\"Africa\",\"JC0\"],[\"Africa\",\"JC0\"],[\"Africa\",\"JC0\"],[\"Africa\",\"JC0\"],[\"Africa\",\"JC0\"],[\"Africa\",\"JC0\"],[\"Africa\",\"JC0\"],[\"Africa\",\"JC0\"],[\"Africa\",\"JC0\"],[\"Africa\",\"JC0\"],[\"Africa\",\"JC0\"],[\"Africa\",\"JC0\"],[\"Africa\",\"JC0\"],[\"Africa\",\"JC0\"],[\"Africa\",\"JC0\"],[\"Africa\",\"JC0\"],[\"Africa\",\"JC0\"],[\"Africa\",\"JC0\"],[\"Africa\",\"JC0\"],[\"Africa\",\"JC0\"],[\"Africa\",\"JC0\"],[\"Africa\",\"JC0\"],[\"Africa\",\"JC0\"],[\"Africa\",\"JC0\"],[\"Africa\",\"JC0\"],[\"Africa\",\"JC0\"],[\"Africa\",\"JC0\"],[\"Africa\",\"JC0\"],[\"Africa\",\"JC0\"],[\"Africa\",\"JC0\"],[\"Africa\",\"JC0\"],[\"Africa\",\"JC0\"],[\"Africa\",\"JC0\"],[\"Africa\",\"JC0\"],[\"Africa\",\"JC0\"],[\"Africa\",\"JC0\"],[\"Africa\",\"JC0\"],[\"Africa\",\"JC0\"],[\"Africa\",\"JC0\"],[\"Africa\",\"JC0\"],[\"Africa\",\"JC0\"],[\"Africa\",\"JC0\"],[\"Africa\",\"JC0\"],[\"Africa\",\"JC0\"],[\"Africa\",\"JC0\"],[\"Africa\",\"JC0\"],[\"Africa\",\"JC0\"],[\"Africa\",\"JC0\"],[\"Africa\",\"JC0\"],[\"Africa\",\"JC0\"],[\"Africa\",\"JC0\"],[\"Africa\",\"JC0\"],[\"Africa\",\"JC0\"],[\"Africa\",\"JC0\"],[\"Africa\",\"JC0\"],[\"Africa\",\"JC0\"],[\"Africa\",\"JC0\"],[\"Africa\",\"JC0\"],[\"Africa\",\"JC0\"],[\"Africa\",\"JC0\"],[\"Africa\",\"JC0\"],[\"Africa\",\"JC0\"],[\"Africa\",\"JC0\"],[\"Africa\",\"JC0\"],[\"Africa\",\"JC0\"],[\"Africa\",\"JC0\"],[\"Africa\",\"JC0\"],[\"Africa\",\"JC0\"],[\"Africa\",\"JC0\"],[\"Africa\",\"JC0\"],[\"Africa\",\"JC0\"],[\"Africa\",\"JC0\"],[\"Africa\",\"JC0\"],[\"Africa\",\"JC0\"],[\"Africa\",\"JC0\"],[\"Africa\",\"JC0\"],[\"Africa\",\"JC0\"],[\"Africa\",\"JC0\"],[\"Africa\",\"JC0\"],[\"Africa\",\"JC0\"],[\"Africa\",\"JC0\"],[\"Africa\",\"JC0\"],[\"Africa\",\"JC10\"],[\"Africa\",\"JC10\"],[\"Africa\",\"JC10\"],[\"Africa\",\"JC10\"],[\"Africa\",\"JC10\"],[\"Africa\",\"JC10\"],[\"Africa\",\"JC10\"],[\"Africa\",\"JC10\"],[\"Africa\",\"JC10\"],[\"Africa\",\"JC10\"],[\"Africa\",\"JC10\"],[\"Africa\",\"JC10\"],[\"Africa\",\"JC10\"],[\"Africa\",\"JC10\"],[\"Africa\",\"JC10\"],[\"Africa\",\"JC10\"],[\"Africa\",\"JC10\"],[\"Africa\",\"JC10\"],[\"Africa\",\"JC10\"],[\"Africa\",\"JC10\"],[\"Africa\",\"JC10\"],[\"Africa\",\"JC10\"],[\"Africa\",\"JC10\"],[\"Africa\",\"JC10\"],[\"Africa\",\"JC10\"],[\"Africa\",\"JC10\"],[\"Africa\",\"JC10\"],[\"Africa\",\"JC10\"],[\"Africa\",\"JC10\"],[\"Africa\",\"JC10\"],[\"Africa\",\"JC10\"],[\"Africa\",\"JC10\"],[\"Africa\",\"JC10\"],[\"Africa\",\"JC10\"],[\"Africa\",\"JC10\"],[\"Africa\",\"JC10\"],[\"Africa\",\"JC10\"],[\"Africa\",\"JC10\"],[\"Africa\",\"JC10\"],[\"Africa\",\"JC10\"],[\"Africa\",\"JC10\"],[\"Africa\",\"JC10\"],[\"Africa\",\"JC10\"],[\"Africa\",\"JC10\"],[\"Africa\",\"JC10\"],[\"Africa\",\"JC10\"],[\"Africa\",\"JC10\"],[\"Africa\",\"JC10\"],[\"Africa\",\"JC10\"],[\"Africa\",\"JC10\"],[\"Africa\",\"JC10\"],[\"Africa\",\"JC10\"],[\"Africa\",\"JC10\"],[\"Africa\",\"JC10\"],[\"Africa\",\"JC10\"],[\"Africa\",\"JC10\"],[\"Africa\",\"JC10\"],[\"Africa\",\"JC10\"],[\"Africa\",\"JC10\"],[\"Africa\",\"JC10\"],[\"Africa\",\"JC10\"],[\"Africa\",\"JC10\"],[\"Africa\",\"JC10\"],[\"Africa\",\"JC10\"],[\"Africa\",\"JC10\"],[\"Africa\",\"JC10\"],[\"Africa\",\"JC10\"],[\"Africa\",\"JC10\"],[\"Africa\",\"JC10\"],[\"Africa\",\"JC10\"],[\"Africa\",\"JC10\"],[\"Africa\",\"JC10\"],[\"Africa\",\"JC10\"],[\"Africa\",\"JC10\"],[\"Africa\",\"JC10\"],[\"Africa\",\"JC10\"],[\"Africa\",\"JC10\"],[\"Africa\",\"JC10\"],[\"Africa\",\"JC10\"],[\"Africa\",\"JC10\"],[\"Africa\",\"JC10\"],[\"Africa\",\"JC10\"],[\"Africa\",\"JC10\"],[\"Africa\",\"JC10\"],[\"Africa\",\"JC10\"],[\"Africa\",\"JC10\"],[\"Africa\",\"JC10\"],[\"Africa\",\"JC10\"],[\"Africa\",\"JC10\"],[\"Africa\",\"JC10\"],[\"Africa\",\"JC10\"],[\"Africa\",\"JC10\"],[\"Africa\",\"JC10\"],[\"Africa\",\"JC10\"],[\"Africa\",\"JC10\"],[\"Africa\",\"JC10\"],[\"Africa\",\"JC10\"],[\"Africa\",\"JC10\"],[\"Africa\",\"JC10\"],[\"Africa\",\"JC20\"],[\"Africa\",\"JC20\"],[\"Africa\",\"JC20\"],[\"Africa\",\"JC20\"],[\"Africa\",\"JC20\"],[\"Africa\",\"JC20\"],[\"Africa\",\"JC20\"],[\"Africa\",\"JC20\"],[\"Africa\",\"JC20\"],[\"Africa\",\"JC20\"],[\"Africa\",\"JC20\"],[\"Africa\",\"JC20\"],[\"Africa\",\"JC20\"],[\"Africa\",\"JC20\"],[\"Africa\",\"JC20\"],[\"Africa\",\"JC20\"],[\"Africa\",\"JC20\"],[\"Africa\",\"JC20\"],[\"Africa\",\"JC20\"],[\"Africa\",\"JC20\"],[\"Africa\",\"JC20\"],[\"Africa\",\"JC20\"],[\"Africa\",\"JC20\"],[\"Africa\",\"JC20\"],[\"Africa\",\"JC20\"],[\"Africa\",\"JC20\"],[\"Africa\",\"JC20\"],[\"Africa\",\"JC20\"],[\"Africa\",\"JC20\"],[\"Africa\",\"JC20\"],[\"Africa\",\"JC20\"],[\"Africa\",\"JC20\"],[\"Africa\",\"JC20\"],[\"Africa\",\"JC20\"],[\"Africa\",\"JC20\"],[\"Africa\",\"JC20\"],[\"Africa\",\"JC20\"],[\"Africa\",\"JC20\"],[\"Africa\",\"JC20\"],[\"Africa\",\"JC20\"],[\"Africa\",\"JC20\"],[\"Africa\",\"JC20\"],[\"Africa\",\"JC20\"],[\"Africa\",\"JC20\"],[\"Africa\",\"JC20\"],[\"Africa\",\"JC20\"],[\"Africa\",\"JC20\"],[\"Africa\",\"JC20\"],[\"Africa\",\"JC20\"],[\"Africa\",\"JC20\"],[\"Africa\",\"JC20\"],[\"Africa\",\"JC20\"],[\"Africa\",\"JC20\"],[\"Africa\",\"JC20\"],[\"Africa\",\"JC20\"],[\"Africa\",\"JC20\"],[\"Africa\",\"JC20\"],[\"Africa\",\"JC20\"],[\"Africa\",\"JC20\"],[\"Africa\",\"JC20\"],[\"Africa\",\"JC20\"],[\"Africa\",\"JC20\"],[\"Africa\",\"JC20\"],[\"Africa\",\"JC20\"],[\"Africa\",\"JC20\"],[\"Africa\",\"JC20\"],[\"Africa\",\"JC20\"],[\"Africa\",\"JC20\"],[\"Africa\",\"JC20\"],[\"Africa\",\"JC20\"],[\"Africa\",\"JC20\"],[\"Africa\",\"JC20\"],[\"Africa\",\"JC20\"],[\"Africa\",\"JC20\"],[\"Africa\",\"JC20\"],[\"Africa\",\"JC20\"],[\"Africa\",\"JC20\"],[\"Africa\",\"JC20\"],[\"Africa\",\"JC20\"],[\"Africa\",\"JC20\"],[\"Africa\",\"JC20\"],[\"Africa\",\"JC20\"],[\"Africa\",\"JC20\"],[\"Africa\",\"JC20\"],[\"Africa\",\"JC20\"],[\"Africa\",\"JC20\"],[\"Africa\",\"JC20\"],[\"Africa\",\"JC20\"],[\"Africa\",\"JC20\"],[\"Africa\",\"JC20\"],[\"Africa\",\"JC20\"],[\"Africa\",\"JC20\"],[\"Africa\",\"JC20\"],[\"Africa\",\"JC20\"],[\"Africa\",\"JC20\"],[\"Africa\",\"JC20\"],[\"Africa\",\"JC20\"],[\"Africa\",\"JC20\"],[\"Africa\",\"JC20\"],[\"Africa\",\"JC30\"],[\"Africa\",\"JC30\"],[\"Africa\",\"JC30\"],[\"Africa\",\"JC30\"],[\"Africa\",\"JC30\"],[\"Africa\",\"JC30\"],[\"Africa\",\"JC30\"],[\"Africa\",\"JC30\"],[\"Africa\",\"JC30\"],[\"Africa\",\"JC30\"],[\"Africa\",\"JC30\"],[\"Africa\",\"JC30\"],[\"Africa\",\"JC30\"],[\"Africa\",\"JC30\"],[\"Africa\",\"JC30\"],[\"Africa\",\"JC30\"],[\"Africa\",\"JC30\"],[\"Africa\",\"JC30\"],[\"Africa\",\"JC30\"],[\"Africa\",\"JC30\"],[\"Africa\",\"JC30\"],[\"Africa\",\"JC30\"],[\"Africa\",\"JC30\"],[\"Africa\",\"JC30\"],[\"Africa\",\"JC30\"],[\"Africa\",\"JC30\"],[\"Africa\",\"JC30\"],[\"Africa\",\"JC30\"],[\"Africa\",\"JC30\"],[\"Africa\",\"JC30\"],[\"Africa\",\"JC30\"],[\"Africa\",\"JC30\"],[\"Africa\",\"JC30\"],[\"Africa\",\"JC30\"],[\"Africa\",\"JC30\"],[\"Africa\",\"JC30\"],[\"Africa\",\"JC30\"],[\"Africa\",\"JC30\"],[\"Africa\",\"JC30\"],[\"Africa\",\"JC30\"],[\"Africa\",\"JC30\"],[\"Africa\",\"JC30\"],[\"Africa\",\"JC30\"],[\"Africa\",\"JC30\"],[\"Africa\",\"JC30\"],[\"Africa\",\"JC30\"],[\"Africa\",\"JC30\"],[\"Africa\",\"JC30\"],[\"Africa\",\"JC30\"],[\"Africa\",\"JC30\"],[\"Africa\",\"JC30\"],[\"Africa\",\"JC30\"],[\"Africa\",\"JC30\"],[\"Africa\",\"JC30\"],[\"Africa\",\"JC30\"],[\"Africa\",\"JC30\"],[\"Africa\",\"JC30\"],[\"Africa\",\"JC30\"],[\"Africa\",\"JC30\"],[\"Africa\",\"JC30\"],[\"Africa\",\"JC30\"],[\"Africa\",\"JC30\"],[\"Africa\",\"JC30\"],[\"Africa\",\"JC30\"],[\"Africa\",\"JC30\"],[\"Africa\",\"JC30\"],[\"Africa\",\"JC30\"],[\"Africa\",\"JC30\"],[\"Africa\",\"JC30\"],[\"Africa\",\"JC30\"],[\"Africa\",\"JC30\"],[\"Africa\",\"JC30\"],[\"Africa\",\"JC30\"],[\"Africa\",\"JC30\"],[\"Africa\",\"JC30\"],[\"Africa\",\"JC30\"],[\"Africa\",\"JC30\"],[\"Africa\",\"JC30\"],[\"Africa\",\"JC30\"],[\"Africa\",\"JC30\"],[\"Africa\",\"JC30\"],[\"Africa\",\"JC30\"],[\"Africa\",\"JC30\"],[\"Africa\",\"JC30\"],[\"Africa\",\"JC30\"],[\"Africa\",\"JC30\"],[\"Africa\",\"JC30\"],[\"Africa\",\"JC30\"],[\"Africa\",\"JC30\"],[\"Africa\",\"JC30\"],[\"Africa\",\"JC30\"],[\"Africa\",\"JC30\"],[\"Africa\",\"JC30\"],[\"Africa\",\"JC30\"],[\"Africa\",\"JC30\"],[\"Africa\",\"JC30\"],[\"Africa\",\"JC30\"],[\"Africa\",\"JC30\"],[\"Africa\",\"JC30\"],[\"Americas\",\"JC0\"],[\"Americas\",\"JC0\"],[\"Americas\",\"JC0\"],[\"Americas\",\"JC0\"],[\"Americas\",\"JC0\"],[\"Americas\",\"JC0\"],[\"Americas\",\"JC0\"],[\"Americas\",\"JC0\"],[\"Americas\",\"JC0\"],[\"Americas\",\"JC0\"],[\"Americas\",\"JC0\"],[\"Americas\",\"JC0\"],[\"Americas\",\"JC0\"],[\"Americas\",\"JC0\"],[\"Americas\",\"JC0\"],[\"Americas\",\"JC0\"],[\"Americas\",\"JC0\"],[\"Americas\",\"JC0\"],[\"Americas\",\"JC0\"],[\"Americas\",\"JC0\"],[\"Americas\",\"JC0\"],[\"Americas\",\"JC0\"],[\"Americas\",\"JC0\"],[\"Americas\",\"JC0\"],[\"Americas\",\"JC0\"],[\"Americas\",\"JC0\"],[\"Americas\",\"JC0\"],[\"Americas\",\"JC0\"],[\"Americas\",\"JC0\"],[\"Americas\",\"JC0\"],[\"Americas\",\"JC0\"],[\"Americas\",\"JC0\"],[\"Americas\",\"JC0\"],[\"Americas\",\"JC0\"],[\"Americas\",\"JC0\"],[\"Americas\",\"JC0\"],[\"Americas\",\"JC0\"],[\"Americas\",\"JC0\"],[\"Americas\",\"JC0\"],[\"Americas\",\"JC0\"],[\"Americas\",\"JC0\"],[\"Americas\",\"JC0\"],[\"Americas\",\"JC0\"],[\"Americas\",\"JC0\"],[\"Americas\",\"JC0\"],[\"Americas\",\"JC0\"],[\"Americas\",\"JC0\"],[\"Americas\",\"JC0\"],[\"Americas\",\"JC0\"],[\"Americas\",\"JC0\"],[\"Americas\",\"JC0\"],[\"Americas\",\"JC0\"],[\"Americas\",\"JC0\"],[\"Americas\",\"JC0\"],[\"Americas\",\"JC0\"],[\"Americas\",\"JC0\"],[\"Americas\",\"JC0\"],[\"Americas\",\"JC0\"],[\"Americas\",\"JC0\"],[\"Americas\",\"JC0\"],[\"Americas\",\"JC0\"],[\"Americas\",\"JC0\"],[\"Americas\",\"JC0\"],[\"Americas\",\"JC0\"],[\"Americas\",\"JC0\"],[\"Americas\",\"JC0\"],[\"Americas\",\"JC0\"],[\"Americas\",\"JC0\"],[\"Americas\",\"JC0\"],[\"Americas\",\"JC0\"],[\"Americas\",\"JC0\"],[\"Americas\",\"JC0\"],[\"Americas\",\"JC0\"],[\"Americas\",\"JC0\"],[\"Americas\",\"JC0\"],[\"Americas\",\"JC0\"],[\"Americas\",\"JC0\"],[\"Americas\",\"JC0\"],[\"Americas\",\"JC0\"],[\"Americas\",\"JC0\"],[\"Americas\",\"JC10\"],[\"Americas\",\"JC10\"],[\"Americas\",\"JC10\"],[\"Americas\",\"JC10\"],[\"Americas\",\"JC10\"],[\"Americas\",\"JC10\"],[\"Americas\",\"JC10\"],[\"Americas\",\"JC10\"],[\"Americas\",\"JC10\"],[\"Americas\",\"JC10\"],[\"Americas\",\"JC10\"],[\"Americas\",\"JC10\"],[\"Americas\",\"JC10\"],[\"Americas\",\"JC10\"],[\"Americas\",\"JC10\"],[\"Americas\",\"JC10\"],[\"Americas\",\"JC10\"],[\"Americas\",\"JC10\"],[\"Americas\",\"JC10\"],[\"Americas\",\"JC10\"],[\"Americas\",\"JC10\"],[\"Americas\",\"JC10\"],[\"Americas\",\"JC10\"],[\"Americas\",\"JC10\"],[\"Americas\",\"JC10\"],[\"Americas\",\"JC10\"],[\"Americas\",\"JC10\"],[\"Americas\",\"JC10\"],[\"Americas\",\"JC10\"],[\"Americas\",\"JC10\"],[\"Americas\",\"JC10\"],[\"Americas\",\"JC10\"],[\"Americas\",\"JC10\"],[\"Americas\",\"JC10\"],[\"Americas\",\"JC10\"],[\"Americas\",\"JC10\"],[\"Americas\",\"JC10\"],[\"Americas\",\"JC10\"],[\"Americas\",\"JC10\"],[\"Americas\",\"JC10\"],[\"Americas\",\"JC10\"],[\"Americas\",\"JC10\"],[\"Americas\",\"JC10\"],[\"Americas\",\"JC10\"],[\"Americas\",\"JC10\"],[\"Americas\",\"JC10\"],[\"Americas\",\"JC10\"],[\"Americas\",\"JC10\"],[\"Americas\",\"JC10\"],[\"Americas\",\"JC10\"],[\"Americas\",\"JC10\"],[\"Americas\",\"JC10\"],[\"Americas\",\"JC10\"],[\"Americas\",\"JC10\"],[\"Americas\",\"JC10\"],[\"Americas\",\"JC10\"],[\"Americas\",\"JC10\"],[\"Americas\",\"JC10\"],[\"Americas\",\"JC10\"],[\"Americas\",\"JC10\"],[\"Americas\",\"JC10\"],[\"Americas\",\"JC10\"],[\"Americas\",\"JC10\"],[\"Americas\",\"JC10\"],[\"Americas\",\"JC10\"],[\"Americas\",\"JC10\"],[\"Americas\",\"JC10\"],[\"Americas\",\"JC10\"],[\"Americas\",\"JC10\"],[\"Americas\",\"JC10\"],[\"Americas\",\"JC10\"],[\"Americas\",\"JC10\"],[\"Americas\",\"JC10\"],[\"Americas\",\"JC10\"],[\"Americas\",\"JC10\"],[\"Americas\",\"JC10\"],[\"Americas\",\"JC10\"],[\"Americas\",\"JC10\"],[\"Americas\",\"JC10\"],[\"Americas\",\"JC10\"],[\"Americas\",\"JC20\"],[\"Americas\",\"JC20\"],[\"Americas\",\"JC20\"],[\"Americas\",\"JC20\"],[\"Americas\",\"JC20\"],[\"Americas\",\"JC20\"],[\"Americas\",\"JC20\"],[\"Americas\",\"JC20\"],[\"Americas\",\"JC20\"],[\"Americas\",\"JC20\"],[\"Americas\",\"JC20\"],[\"Americas\",\"JC20\"],[\"Americas\",\"JC20\"],[\"Americas\",\"JC20\"],[\"Americas\",\"JC20\"],[\"Americas\",\"JC20\"],[\"Americas\",\"JC20\"],[\"Americas\",\"JC20\"],[\"Americas\",\"JC20\"],[\"Americas\",\"JC20\"],[\"Americas\",\"JC20\"],[\"Americas\",\"JC20\"],[\"Americas\",\"JC20\"],[\"Americas\",\"JC20\"],[\"Americas\",\"JC20\"],[\"Americas\",\"JC20\"],[\"Americas\",\"JC20\"],[\"Americas\",\"JC20\"],[\"Americas\",\"JC20\"],[\"Americas\",\"JC20\"],[\"Americas\",\"JC20\"],[\"Americas\",\"JC20\"],[\"Americas\",\"JC20\"],[\"Americas\",\"JC20\"],[\"Americas\",\"JC20\"],[\"Americas\",\"JC20\"],[\"Americas\",\"JC20\"],[\"Americas\",\"JC20\"],[\"Americas\",\"JC20\"],[\"Americas\",\"JC20\"],[\"Americas\",\"JC20\"],[\"Americas\",\"JC20\"],[\"Americas\",\"JC20\"],[\"Americas\",\"JC20\"],[\"Americas\",\"JC20\"],[\"Americas\",\"JC20\"],[\"Americas\",\"JC20\"],[\"Americas\",\"JC20\"],[\"Americas\",\"JC20\"],[\"Americas\",\"JC20\"],[\"Americas\",\"JC20\"],[\"Americas\",\"JC20\"],[\"Americas\",\"JC20\"],[\"Americas\",\"JC20\"],[\"Americas\",\"JC20\"],[\"Americas\",\"JC20\"],[\"Americas\",\"JC20\"],[\"Americas\",\"JC20\"],[\"Americas\",\"JC20\"],[\"Americas\",\"JC20\"],[\"Americas\",\"JC20\"],[\"Americas\",\"JC20\"],[\"Americas\",\"JC20\"],[\"Americas\",\"JC20\"],[\"Americas\",\"JC20\"],[\"Americas\",\"JC20\"],[\"Americas\",\"JC20\"],[\"Americas\",\"JC20\"],[\"Americas\",\"JC20\"],[\"Americas\",\"JC20\"],[\"Americas\",\"JC20\"],[\"Americas\",\"JC20\"],[\"Americas\",\"JC20\"],[\"Americas\",\"JC20\"],[\"Americas\",\"JC20\"],[\"Americas\",\"JC20\"],[\"Americas\",\"JC20\"],[\"Americas\",\"JC20\"],[\"Americas\",\"JC20\"],[\"Americas\",\"JC20\"],[\"Americas\",\"JC30\"],[\"Americas\",\"JC30\"],[\"Americas\",\"JC30\"],[\"Americas\",\"JC30\"],[\"Americas\",\"JC30\"],[\"Americas\",\"JC30\"],[\"Americas\",\"JC30\"],[\"Americas\",\"JC30\"],[\"Americas\",\"JC30\"],[\"Americas\",\"JC30\"],[\"Americas\",\"JC30\"],[\"Americas\",\"JC30\"],[\"Americas\",\"JC30\"],[\"Americas\",\"JC30\"],[\"Americas\",\"JC30\"],[\"Americas\",\"JC30\"],[\"Americas\",\"JC30\"],[\"Americas\",\"JC30\"],[\"Americas\",\"JC30\"],[\"Americas\",\"JC30\"],[\"Americas\",\"JC30\"],[\"Americas\",\"JC30\"],[\"Americas\",\"JC30\"],[\"Americas\",\"JC30\"],[\"Americas\",\"JC30\"],[\"Americas\",\"JC30\"],[\"Americas\",\"JC30\"],[\"Americas\",\"JC30\"],[\"Americas\",\"JC30\"],[\"Americas\",\"JC30\"],[\"Americas\",\"JC30\"],[\"Americas\",\"JC30\"],[\"Americas\",\"JC30\"],[\"Americas\",\"JC30\"],[\"Americas\",\"JC30\"],[\"Americas\",\"JC30\"],[\"Americas\",\"JC30\"],[\"Americas\",\"JC30\"],[\"Americas\",\"JC30\"],[\"Americas\",\"JC30\"],[\"Americas\",\"JC30\"],[\"Americas\",\"JC30\"],[\"Americas\",\"JC30\"],[\"Americas\",\"JC30\"],[\"Americas\",\"JC30\"],[\"Americas\",\"JC30\"],[\"Americas\",\"JC30\"],[\"Americas\",\"JC30\"],[\"Americas\",\"JC30\"],[\"Americas\",\"JC30\"],[\"Americas\",\"JC30\"],[\"Americas\",\"JC30\"],[\"Americas\",\"JC30\"],[\"Americas\",\"JC30\"],[\"Americas\",\"JC30\"],[\"Americas\",\"JC30\"],[\"Americas\",\"JC30\"],[\"Americas\",\"JC30\"],[\"Americas\",\"JC30\"],[\"Americas\",\"JC30\"],[\"Americas\",\"JC30\"],[\"Americas\",\"JC30\"],[\"Americas\",\"JC30\"],[\"Americas\",\"JC30\"],[\"Americas\",\"JC30\"],[\"Americas\",\"JC30\"],[\"Americas\",\"JC30\"],[\"Americas\",\"JC30\"],[\"Americas\",\"JC30\"],[\"Americas\",\"JC30\"],[\"Americas\",\"JC30\"],[\"Americas\",\"JC30\"],[\"Americas\",\"JC30\"],[\"Americas\",\"JC30\"],[\"Americas\",\"JC30\"],[\"Americas\",\"JC30\"],[\"Americas\",\"JC30\"],[\"Americas\",\"JC30\"],[\"Americas\",\"JC30\"],[\"Americas\",\"JC30\"],[\"Asia\",\"JC0\"],[\"Asia\",\"JC0\"],[\"Asia\",\"JC0\"],[\"Asia\",\"JC0\"],[\"Asia\",\"JC0\"],[\"Asia\",\"JC0\"],[\"Asia\",\"JC0\"],[\"Asia\",\"JC0\"],[\"Asia\",\"JC0\"],[\"Asia\",\"JC0\"],[\"Asia\",\"JC0\"],[\"Asia\",\"JC0\"],[\"Asia\",\"JC0\"],[\"Asia\",\"JC0\"],[\"Asia\",\"JC0\"],[\"Asia\",\"JC0\"],[\"Asia\",\"JC0\"],[\"Asia\",\"JC0\"],[\"Asia\",\"JC0\"],[\"Asia\",\"JC0\"],[\"Asia\",\"JC0\"],[\"Asia\",\"JC0\"],[\"Asia\",\"JC0\"],[\"Asia\",\"JC0\"],[\"Asia\",\"JC0\"],[\"Asia\",\"JC0\"],[\"Asia\",\"JC0\"],[\"Asia\",\"JC0\"],[\"Asia\",\"JC0\"],[\"Asia\",\"JC0\"],[\"Asia\",\"JC0\"],[\"Asia\",\"JC0\"],[\"Asia\",\"JC0\"],[\"Asia\",\"JC0\"],[\"Asia\",\"JC0\"],[\"Asia\",\"JC0\"],[\"Asia\",\"JC0\"],[\"Asia\",\"JC0\"],[\"Asia\",\"JC0\"],[\"Asia\",\"JC0\"],[\"Asia\",\"JC0\"],[\"Asia\",\"JC0\"],[\"Asia\",\"JC0\"],[\"Asia\",\"JC0\"],[\"Asia\",\"JC0\"],[\"Asia\",\"JC0\"],[\"Asia\",\"JC0\"],[\"Asia\",\"JC0\"],[\"Asia\",\"JC0\"],[\"Asia\",\"JC0\"],[\"Asia\",\"JC0\"],[\"Asia\",\"JC0\"],[\"Asia\",\"JC0\"],[\"Asia\",\"JC0\"],[\"Asia\",\"JC0\"],[\"Asia\",\"JC0\"],[\"Asia\",\"JC0\"],[\"Asia\",\"JC0\"],[\"Asia\",\"JC0\"],[\"Asia\",\"JC0\"],[\"Asia\",\"JC0\"],[\"Asia\",\"JC0\"],[\"Asia\",\"JC0\"],[\"Asia\",\"JC0\"],[\"Asia\",\"JC0\"],[\"Asia\",\"JC0\"],[\"Asia\",\"JC0\"],[\"Asia\",\"JC10\"],[\"Asia\",\"JC10\"],[\"Asia\",\"JC10\"],[\"Asia\",\"JC10\"],[\"Asia\",\"JC10\"],[\"Asia\",\"JC10\"],[\"Asia\",\"JC10\"],[\"Asia\",\"JC10\"],[\"Asia\",\"JC10\"],[\"Asia\",\"JC10\"],[\"Asia\",\"JC10\"],[\"Asia\",\"JC10\"],[\"Asia\",\"JC10\"],[\"Asia\",\"JC10\"],[\"Asia\",\"JC10\"],[\"Asia\",\"JC10\"],[\"Asia\",\"JC10\"],[\"Asia\",\"JC10\"],[\"Asia\",\"JC10\"],[\"Asia\",\"JC10\"],[\"Asia\",\"JC10\"],[\"Asia\",\"JC10\"],[\"Asia\",\"JC10\"],[\"Asia\",\"JC10\"],[\"Asia\",\"JC10\"],[\"Asia\",\"JC10\"],[\"Asia\",\"JC10\"],[\"Asia\",\"JC10\"],[\"Asia\",\"JC10\"],[\"Asia\",\"JC10\"],[\"Asia\",\"JC10\"],[\"Asia\",\"JC10\"],[\"Asia\",\"JC10\"],[\"Asia\",\"JC10\"],[\"Asia\",\"JC10\"],[\"Asia\",\"JC10\"],[\"Asia\",\"JC10\"],[\"Asia\",\"JC10\"],[\"Asia\",\"JC10\"],[\"Asia\",\"JC10\"],[\"Asia\",\"JC10\"],[\"Asia\",\"JC10\"],[\"Asia\",\"JC10\"],[\"Asia\",\"JC10\"],[\"Asia\",\"JC10\"],[\"Asia\",\"JC10\"],[\"Asia\",\"JC10\"],[\"Asia\",\"JC10\"],[\"Asia\",\"JC10\"],[\"Asia\",\"JC10\"],[\"Asia\",\"JC10\"],[\"Asia\",\"JC10\"],[\"Asia\",\"JC10\"],[\"Asia\",\"JC10\"],[\"Asia\",\"JC10\"],[\"Asia\",\"JC10\"],[\"Asia\",\"JC10\"],[\"Asia\",\"JC10\"],[\"Asia\",\"JC10\"],[\"Asia\",\"JC10\"],[\"Asia\",\"JC10\"],[\"Asia\",\"JC10\"],[\"Asia\",\"JC10\"],[\"Asia\",\"JC10\"],[\"Asia\",\"JC10\"],[\"Asia\",\"JC10\"],[\"Asia\",\"JC10\"],[\"Asia\",\"JC20\"],[\"Asia\",\"JC20\"],[\"Asia\",\"JC20\"],[\"Asia\",\"JC20\"],[\"Asia\",\"JC20\"],[\"Asia\",\"JC20\"],[\"Asia\",\"JC20\"],[\"Asia\",\"JC20\"],[\"Asia\",\"JC20\"],[\"Asia\",\"JC20\"],[\"Asia\",\"JC20\"],[\"Asia\",\"JC20\"],[\"Asia\",\"JC20\"],[\"Asia\",\"JC20\"],[\"Asia\",\"JC20\"],[\"Asia\",\"JC20\"],[\"Asia\",\"JC20\"],[\"Asia\",\"JC20\"],[\"Asia\",\"JC20\"],[\"Asia\",\"JC20\"],[\"Asia\",\"JC20\"],[\"Asia\",\"JC20\"],[\"Asia\",\"JC20\"],[\"Asia\",\"JC20\"],[\"Asia\",\"JC20\"],[\"Asia\",\"JC20\"],[\"Asia\",\"JC20\"],[\"Asia\",\"JC20\"],[\"Asia\",\"JC20\"],[\"Asia\",\"JC20\"],[\"Asia\",\"JC20\"],[\"Asia\",\"JC20\"],[\"Asia\",\"JC20\"],[\"Asia\",\"JC20\"],[\"Asia\",\"JC20\"],[\"Asia\",\"JC20\"],[\"Asia\",\"JC20\"],[\"Asia\",\"JC20\"],[\"Asia\",\"JC20\"],[\"Asia\",\"JC20\"],[\"Asia\",\"JC20\"],[\"Asia\",\"JC20\"],[\"Asia\",\"JC20\"],[\"Asia\",\"JC20\"],[\"Asia\",\"JC20\"],[\"Asia\",\"JC20\"],[\"Asia\",\"JC20\"],[\"Asia\",\"JC20\"],[\"Asia\",\"JC20\"],[\"Asia\",\"JC20\"],[\"Asia\",\"JC20\"],[\"Asia\",\"JC20\"],[\"Asia\",\"JC20\"],[\"Asia\",\"JC20\"],[\"Asia\",\"JC20\"],[\"Asia\",\"JC20\"],[\"Asia\",\"JC20\"],[\"Asia\",\"JC20\"],[\"Asia\",\"JC20\"],[\"Asia\",\"JC20\"],[\"Asia\",\"JC20\"],[\"Asia\",\"JC20\"],[\"Asia\",\"JC20\"],[\"Asia\",\"JC20\"],[\"Asia\",\"JC20\"],[\"Asia\",\"JC20\"],[\"Asia\",\"JC20\"],[\"Asia\",\"JC30\"],[\"Asia\",\"JC30\"],[\"Asia\",\"JC30\"],[\"Asia\",\"JC30\"],[\"Asia\",\"JC30\"],[\"Asia\",\"JC30\"],[\"Asia\",\"JC30\"],[\"Asia\",\"JC30\"],[\"Asia\",\"JC30\"],[\"Asia\",\"JC30\"],[\"Asia\",\"JC30\"],[\"Asia\",\"JC30\"],[\"Asia\",\"JC30\"],[\"Asia\",\"JC30\"],[\"Asia\",\"JC30\"],[\"Asia\",\"JC30\"],[\"Asia\",\"JC30\"],[\"Asia\",\"JC30\"],[\"Asia\",\"JC30\"],[\"Asia\",\"JC30\"],[\"Asia\",\"JC30\"],[\"Asia\",\"JC30\"],[\"Asia\",\"JC30\"],[\"Asia\",\"JC30\"],[\"Asia\",\"JC30\"],[\"Asia\",\"JC30\"],[\"Asia\",\"JC30\"],[\"Asia\",\"JC30\"],[\"Asia\",\"JC30\"],[\"Asia\",\"JC30\"],[\"Asia\",\"JC30\"],[\"Asia\",\"JC30\"],[\"Asia\",\"JC30\"],[\"Asia\",\"JC30\"],[\"Asia\",\"JC30\"],[\"Asia\",\"JC30\"],[\"Asia\",\"JC30\"],[\"Asia\",\"JC30\"],[\"Asia\",\"JC30\"],[\"Asia\",\"JC30\"],[\"Asia\",\"JC30\"],[\"Asia\",\"JC30\"],[\"Asia\",\"JC30\"],[\"Asia\",\"JC30\"],[\"Asia\",\"JC30\"],[\"Asia\",\"JC30\"],[\"Asia\",\"JC30\"],[\"Asia\",\"JC30\"],[\"Asia\",\"JC30\"],[\"Asia\",\"JC30\"],[\"Asia\",\"JC30\"],[\"Asia\",\"JC30\"],[\"Asia\",\"JC30\"],[\"Asia\",\"JC30\"],[\"Asia\",\"JC30\"],[\"Asia\",\"JC30\"],[\"Asia\",\"JC30\"],[\"Asia\",\"JC30\"],[\"Asia\",\"JC30\"],[\"Asia\",\"JC30\"],[\"Asia\",\"JC30\"],[\"Asia\",\"JC30\"],[\"Asia\",\"JC30\"],[\"Asia\",\"JC30\"],[\"Asia\",\"JC30\"],[\"Asia\",\"JC30\"],[\"Asia\",\"JC30\"],[\"Europe\",\"JC0\"],[\"Europe\",\"JC0\"],[\"Europe\",\"JC0\"],[\"Europe\",\"JC0\"],[\"Europe\",\"JC0\"],[\"Europe\",\"JC0\"],[\"Europe\",\"JC0\"],[\"Europe\",\"JC0\"],[\"Europe\",\"JC0\"],[\"Europe\",\"JC10\"],[\"Europe\",\"JC10\"],[\"Europe\",\"JC10\"],[\"Europe\",\"JC10\"],[\"Europe\",\"JC10\"],[\"Europe\",\"JC10\"],[\"Europe\",\"JC10\"],[\"Europe\",\"JC10\"],[\"Europe\",\"JC10\"],[\"Europe\",\"JC20\"],[\"Europe\",\"JC20\"],[\"Europe\",\"JC20\"],[\"Europe\",\"JC20\"],[\"Europe\",\"JC20\"],[\"Europe\",\"JC20\"],[\"Europe\",\"JC20\"],[\"Europe\",\"JC20\"],[\"Europe\",\"JC20\"],[\"Europe\",\"JC30\"],[\"Europe\",\"JC30\"],[\"Europe\",\"JC30\"],[\"Europe\",\"JC30\"],[\"Europe\",\"JC30\"],[\"Europe\",\"JC30\"],[\"Europe\",\"JC30\"],[\"Europe\",\"JC30\"],[\"Europe\",\"JC30\"],[\"Oceania\",\"JC0\"],[\"Oceania\",\"JC0\"],[\"Oceania\",\"JC0\"],[\"Oceania\",\"JC0\"],[\"Oceania\",\"JC0\"],[\"Oceania\",\"JC0\"],[\"Oceania\",\"JC0\"],[\"Oceania\",\"JC0\"],[\"Oceania\",\"JC0\"],[\"Oceania\",\"JC0\"],[\"Oceania\",\"JC0\"],[\"Oceania\",\"JC0\"],[\"Oceania\",\"JC0\"],[\"Oceania\",\"JC0\"],[\"Oceania\",\"JC0\"],[\"Oceania\",\"JC0\"],[\"Oceania\",\"JC0\"],[\"Oceania\",\"JC0\"],[\"Oceania\",\"JC0\"],[\"Oceania\",\"JC0\"],[\"Oceania\",\"JC0\"],[\"Oceania\",\"JC0\"],[\"Oceania\",\"JC0\"],[\"Oceania\",\"JC0\"],[\"Oceania\",\"JC0\"],[\"Oceania\",\"JC0\"],[\"Oceania\",\"JC10\"],[\"Oceania\",\"JC10\"],[\"Oceania\",\"JC10\"],[\"Oceania\",\"JC10\"],[\"Oceania\",\"JC10\"],[\"Oceania\",\"JC10\"],[\"Oceania\",\"JC10\"],[\"Oceania\",\"JC10\"],[\"Oceania\",\"JC10\"],[\"Oceania\",\"JC10\"],[\"Oceania\",\"JC10\"],[\"Oceania\",\"JC10\"],[\"Oceania\",\"JC10\"],[\"Oceania\",\"JC10\"],[\"Oceania\",\"JC10\"],[\"Oceania\",\"JC10\"],[\"Oceania\",\"JC10\"],[\"Oceania\",\"JC10\"],[\"Oceania\",\"JC10\"],[\"Oceania\",\"JC10\"],[\"Oceania\",\"JC10\"],[\"Oceania\",\"JC10\"],[\"Oceania\",\"JC10\"],[\"Oceania\",\"JC10\"],[\"Oceania\",\"JC10\"],[\"Oceania\",\"JC10\"],[\"Oceania\",\"JC20\"],[\"Oceania\",\"JC20\"],[\"Oceania\",\"JC20\"],[\"Oceania\",\"JC20\"],[\"Oceania\",\"JC20\"],[\"Oceania\",\"JC20\"],[\"Oceania\",\"JC20\"],[\"Oceania\",\"JC20\"],[\"Oceania\",\"JC20\"],[\"Oceania\",\"JC20\"],[\"Oceania\",\"JC20\"],[\"Oceania\",\"JC20\"],[\"Oceania\",\"JC20\"],[\"Oceania\",\"JC20\"],[\"Oceania\",\"JC20\"],[\"Oceania\",\"JC20\"],[\"Oceania\",\"JC20\"],[\"Oceania\",\"JC20\"],[\"Oceania\",\"JC20\"],[\"Oceania\",\"JC20\"],[\"Oceania\",\"JC20\"],[\"Oceania\",\"JC20\"],[\"Oceania\",\"JC20\"],[\"Oceania\",\"JC20\"],[\"Oceania\",\"JC20\"],[\"Oceania\",\"JC20\"],[\"Oceania\",\"JC30\"],[\"Oceania\",\"JC30\"],[\"Oceania\",\"JC30\"],[\"Oceania\",\"JC30\"],[\"Oceania\",\"JC30\"],[\"Oceania\",\"JC30\"],[\"Oceania\",\"JC30\"],[\"Oceania\",\"JC30\"],[\"Oceania\",\"JC30\"],[\"Oceania\",\"JC30\"],[\"Oceania\",\"JC30\"],[\"Oceania\",\"JC30\"],[\"Oceania\",\"JC30\"],[\"Oceania\",\"JC30\"],[\"Oceania\",\"JC30\"],[\"Oceania\",\"JC30\"],[\"Oceania\",\"JC30\"],[\"Oceania\",\"JC30\"],[\"Oceania\",\"JC30\"],[\"Oceania\",\"JC30\"],[\"Oceania\",\"JC30\"],[\"Oceania\",\"JC30\"],[\"Oceania\",\"JC30\"],[\"Oceania\",\"JC30\"],[\"Oceania\",\"JC30\"],[\"Oceania\",\"JC30\"],[\"Seven seas (open ocean)\",\"JC0\"],[\"Seven seas (open ocean)\",\"JC0\"],[\"Seven seas (open ocean)\",\"JC0\"],[\"Seven seas (open ocean)\",\"JC0\"],[\"Seven seas (open ocean)\",\"JC0\"],[\"Seven seas (open ocean)\",\"JC10\"],[\"Seven seas (open ocean)\",\"JC10\"],[\"Seven seas (open ocean)\",\"JC10\"],[\"Seven seas (open ocean)\",\"JC10\"],[\"Seven seas (open ocean)\",\"JC10\"],[\"Seven seas (open ocean)\",\"JC20\"],[\"Seven seas (open ocean)\",\"JC20\"],[\"Seven seas (open ocean)\",\"JC20\"],[\"Seven seas (open ocean)\",\"JC20\"],[\"Seven seas (open ocean)\",\"JC20\"],[\"Seven seas (open ocean)\",\"JC30\"],[\"Seven seas (open ocean)\",\"JC30\"],[\"Seven seas (open ocean)\",\"JC30\"],[\"Seven seas (open ocean)\",\"JC30\"],[\"Seven seas (open ocean)\",\"JC30\"]],\"y\":{\"__ndarray__\":\"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\",\"dtype\":\"float64\",\"shape\":[1144]}}},\"id\":\"10d299b9-e18d-44f8-817e-5a174c62c378\",\"type\":\"ColumnDataSource\"},{\"attributes\":{},\"id\":\"a55d0ff2-2c7c-40d6-b44d-dcec00802933\",\"type\":\"PanTool\"},{\"attributes\":{\"grid_line_color\":{\"value\":null},\"plot\":{\"id\":\"0953e14b-8a01-49fa-969c-f0db48e7f564\",\"subtype\":\"Figure\",\"type\":\"Plot\"},\"ticker\":{\"id\":\"8a02044a-eedd-4dc7-bc94-2083ac3db60d\",\"type\":\"CategoricalTicker\"}},\"id\":\"e161df89-15c7-4c98-b2f5-06d25f40b1d4\",\"type\":\"Grid\"},{\"attributes\":{\"source\":{\"id\":\"06925a46-c260-4561-9a5f-d441ecef0ef8\",\"type\":\"ColumnDataSource\"}},\"id\":\"00832c6b-2e04-4608-85ad-b4376b898db2\",\"type\":\"CDSView\"},{\"attributes\":{\"source\":{\"id\":\"06925a46-c260-4561-9a5f-d441ecef0ef8\",\"type\":\"ColumnDataSource\"}},\"id\":\"d6396805-9846-40c4-b07c-adf136822bee\",\"type\":\"CDSView\"},{\"attributes\":{\"fill_alpha\":{\"value\":0.1},\"fill_color\":{\"value\":\"#1f77b4\"},\"height\":{\"units\":\"data\",\"value\":0.001},\"line_alpha\":{\"value\":0.1},\"line_color\":{\"value\":\"#1f77b4\"},\"width\":{\"units\":\"data\",\"value\":0.2},\"x\":{\"field\":\"x\"},\"y\":{\"field\":\"lw\"}},\"id\":\"e9f45498-1622-42c8-9f34-93b8ba4c2100\",\"type\":\"Rect\"},{\"attributes\":{\"children\":[{\"id\":\"b9f28e6c-2367-4c2a-a176-ee6f71e0a78d\",\"type\":\"Row\"},{\"id\":\"b2d74099-c98b-4969-b2a4-94428fd3681a\",\"type\":\"Row\"}]},\"id\":\"800977e3-5987-4cca-9500-118287b3ebec\",\"type\":\"Column\"},{\"attributes\":{\"fill_color\":{\"value\":\"#ef8a62\"},\"line_color\":{\"value\":\"#ef8a62\"},\"size\":{\"units\":\"screen\",\"value\":10},\"x\":{\"field\":\"x\"},\"y\":{\"field\":\"means\"}},\"id\":\"49b13fc0-41b3-4b70-920b-ac25c45ffb1e\",\"type\":\"X\"},{\"attributes\":{\"data_source\":{\"id\":\"06925a46-c260-4561-9a5f-d441ecef0ef8\",\"type\":\"ColumnDataSource\"},\"glyph\":{\"id\":\"35df0509-f05f-4421-bee4-5dfc5a631fb2\",\"type\":\"Segment\"},\"hover_glyph\":null,\"muted_glyph\":null,\"nonselection_glyph\":{\"id\":\"01d28687-8022-487d-aa6a-853191cf0ebe\",\"type\":\"Segment\"},\"selection_glyph\":null,\"view\":{\"id\":\"11e1cd49-8089-48aa-b7c1-3c15f1559cfa\",\"type\":\"CDSView\"}},\"id\":\"26936c51-f2be-4bc5-96bc-ce2c23e6288d\",\"type\":\"GlyphRenderer\"},{\"attributes\":{},\"id\":\"255a3889-a502-4679-ac39-13aa17a1c929\",\"type\":\"BasicTicker\"},{\"attributes\":{},\"id\":\"840d4d74-2b8d-472f-be1f-1076a7df52bd\",\"type\":\"CategoricalScale\"},{\"attributes\":{\"x0\":{\"field\":\"x\"},\"x1\":{\"field\":\"x\"},\"y0\":{\"field\":\"q3\"},\"y1\":{\"field\":\"uw\"}},\"id\":\"e9fe80ea-cf81-40e2-bb93-c7b2bbf0c7f3\",\"type\":\"Segment\"},{\"attributes\":{\"bottom\":{\"field\":\"q2\"},\"fill_alpha\":{\"value\":0.1},\"fill_color\":{\"value\":\"#1f77b4\"},\"line_alpha\":{\"value\":0.1},\"line_color\":{\"value\":\"#1f77b4\"},\"top\":{\"field\":\"q3\"},\"width\":{\"value\":0.7},\"x\":{\"field\":\"x\"}},\"id\":\"e49addce-89d6-452d-b3f6-4ec79473c721\",\"type\":\"VBar\"},{\"attributes\":{},\"id\":\"f7bcc49e-307a-4d6d-8fc2-c6682e601456\",\"type\":\"CategoricalTicker\"},{\"attributes\":{\"fill_color\":{\"value\":\"#1f77b4\"},\"height\":{\"units\":\"data\",\"value\":0.001},\"width\":{\"units\":\"data\",\"value\":0.2},\"x\":{\"field\":\"x\"},\"y\":{\"field\":\"uw\"}},\"id\":\"7a9065d0-26d9-4174-9f68-e96343693fd1\",\"type\":\"Rect\"},{\"attributes\":{\"axis_label\":\"Region/Class\",\"formatter\":{\"id\":\"fefede8e-e6ab-4849-9428-0adb6237b2c1\",\"type\":\"CategoricalTickFormatter\"},\"plot\":{\"id\":\"ce13a98b-59d8-48d4-943e-c14ad98cdf33\",\"subtype\":\"Figure\",\"type\":\"Plot\"},\"ticker\":{\"id\":\"f7bcc49e-307a-4d6d-8fc2-c6682e601456\",\"type\":\"CategoricalTicker\"}},\"id\":\"5db81eb3-992c-43df-94fa-7c4170f0daef\",\"type\":\"CategoricalAxis\"},{\"attributes\":{\"children\":[{\"id\":\"ce13a98b-59d8-48d4-943e-c14ad98cdf33\",\"subtype\":\"Figure\",\"type\":\"Plot\"}]},\"id\":\"b2d74099-c98b-4969-b2a4-94428fd3681a\",\"type\":\"Row\"},{\"attributes\":{\"axis_label\":\"Jaccard score\",\"formatter\":{\"id\":\"ae8a652f-f964-473d-9f5b-108e1234581b\",\"type\":\"BasicTickFormatter\"},\"plot\":{\"id\":\"ce13a98b-59d8-48d4-943e-c14ad98cdf33\",\"subtype\":\"Figure\",\"type\":\"Plot\"},\"ticker\":{\"id\":\"4033f0dd-a0ce-40b6-9c9a-f0ca13a687dd\",\"type\":\"BasicTicker\"}},\"id\":\"c82c725a-5f3c-4a86-8aa8-c3fb77622604\",\"type\":\"LinearAxis\"},{\"attributes\":{\"bottom_units\":\"screen\",\"fill_alpha\":{\"value\":0.5},\"fill_color\":{\"value\":\"lightgrey\"},\"left_units\":\"screen\",\"level\":\"overlay\",\"line_alpha\":{\"value\":1.0},\"line_color\":{\"value\":\"black\"},\"line_dash\":[4,4],\"line_width\":{\"value\":2},\"plot\":null,\"render_mode\":\"css\",\"right_units\":\"screen\",\"top_units\":\"screen\"},\"id\":\"edc4f9fe-046d-4702-8836-76b955fd625c\",\"type\":\"BoxAnnotation\"},{\"attributes\":{\"overlay\":{\"id\":\"ba8acc53-0913-433c-925f-9cf7573baf3a\",\"type\":\"BoxAnnotation\"}},\"id\":\"2766f9bc-9d92-42d5-ac0b-33f0254df356\",\"type\":\"BoxZoomTool\"},{\"attributes\":{},\"id\":\"484c29a1-7885-4ab4-8cc8-69fba89172a5\",\"type\":\"LinearScale\"},{\"attributes\":{\"callback\":null,\"column_names\":[\"iqr\",\"q1\",\"uw\",\"q2\",\"lw\",\"means\",\"q3\",\"x\"],\"data\":{\"iqr\":{\"__ndarray__\":\"Lm6jAbwF4j8HPZtVn6viPzEIrBxaZOM/lrIMcayL4T9KN4lBYOXXPwFvgQTFj9c/cWiR7Xw/1j8OcayL22jXP5zEILByaNE/5FgXt9EA0j/CZKpgVFLTPz4s1JrmHdU/KA8LtaZ50z9Wn6ut2F/SP/SOU3Qkl9M/bFZ9rrZi0z9jEFg5tMjqPwgbnl4py+o/6Pup8dLN6j+uJeSDns3qP44G8BZIUNg/SuoENBE20D+IhVrTvOPUP/gx5q4l5Nc/\",\"dtype\":\"float64\",\"shape\":[24]},\"lw\":[0.0,0.0,0.0,0.0,0.0,0.0,0.0,0.0,0.0,0.0,0.0,0.0,0.5471,0.5818,0.5958,0.5828,0.0,0.0,0.0,0.0,0.0,0.0,0.0,0.0],\"means\":{\"__ndarray__\":\"9C6uRDig1T8kD3wl9IrVPy93npFsBdM/3FVQvTHO0T/iOzHrxRDjP+ZciqvKHuM/iLoPQGoT4z8X8Z2Y9QLjP1/AUmA8ZOQ/3NTKwvMl5D9U+NxVMd7jP7BfNPM+feM/6y1HBDKd6D8gP31A7+/oP41O0kvu7Og/Vn5oSFG26D9KZGUG2fjeP3BjHJeUJN8/r1LASBfh3j+iNsJcgM7ePzqvsUtUb9k/gCvZsRGI2z+jdVQ1QdTZPzYyj/zBwNc/\",\"dtype\":\"float64\",\"shape\":[24]},\"q1\":{\"__ndarray__\":\"ku18PzVemj+Sy39Iv31NPy1DHOviNgo/AAAAAAAAAAD+9nXgnBHbP8sQx7q4jds/z/dT46Wb3D+6SQwCK4fbP8e6uI0G8OE/eOkmMQis4T8ooImw4engP65H4XoUrt8/zhlR2ht84z8yVTAqqRPkP84ZUdobfOM/fPKwUGua4z8AAAAAAAAAAAAAAAAAAAAAAAAAAAAAAAAAAAAAAAAAAJyiI7n8h8w/gnNGlPYG1z8Wak3zjlPQP+PHmLuWkMc/\",\"dtype\":\"float64\",\"shape\":[24]},\"q2\":{\"__ndarray__\":\"oImw4emV0j+q8dJNYhDUP4Za07zjFMU/KH6MuWsJuT+QD3o2qz7lP3o2qz5XW+U/liGOdXEb5T/AyqFFtvPkPyxlGeJYF+c/HVpkO99P5z+WIY51cRvnP5VliGNd3OY/vw6cM6K06T94CyQofozpP2aIY13cRuk/aLPqc7UV6T+X/5B++zrnP2aIY13cRug/ukkMAiuH5j9a07zjFB3mP+LplbIMceA/FR3J5T+k3z+Y3ZOHhVrfPwKaCBueXt0/\",\"dtype\":\"float64\",\"shape\":[24]},\"q3\":{\"__ndarray__\":\"m1Wfq63Y4j/6XG3F/rLiP6K0N/jCZOM/lrIMcayL4T8kl/+QfnvpP+Y/pN++juk/ILByaJFt6T9kXdxGA3jpPxUdyeU/pOo/6pWyDHGs6j+J0t7gC5PqP/a52or9Zeo/YqHWNO847T/dJAaBlUPtP0jhehSuR+0/sp3vp8ZL7T9jEFg5tMjqPwgbnl4py+o/6Pup8dLN6j+uJeSDns3qP+7rwDkjSuM/5q4l5IOe4z/P91PjpZviP/VKWYY41uE/\",\"dtype\":\"float64\",\"shape\":[24]},\"uw\":[0.9479,0.9487,0.948,0.9329999999999999,0.9787,0.9792,0.9796,0.9798,0.9654,0.965,0.9642,0.9634,0.9787,0.9792,0.9796,0.9798,0.9654,0.965,0.9642,0.9634,0.6476,0.6836,0.6914,0.6553],\"x\":[[\"Africa\",\"JC0\"],[\"Africa\",\"JC10\"],[\"Africa\",\"JC20\"],[\"Africa\",\"JC30\"],[\"Americas\",\"JC0\"],[\"Americas\",\"JC10\"],[\"Americas\",\"JC20\"],[\"Americas\",\"JC30\"],[\"Asia\",\"JC0\"],[\"Asia\",\"JC10\"],[\"Asia\",\"JC20\"],[\"Asia\",\"JC30\"],[\"Europe\",\"JC0\"],[\"Europe\",\"JC10\"],[\"Europe\",\"JC20\"],[\"Europe\",\"JC30\"],[\"Oceania\",\"JC0\"],[\"Oceania\",\"JC10\"],[\"Oceania\",\"JC20\"],[\"Oceania\",\"JC30\"],[\"Seven seas (open ocean)\",\"JC0\"],[\"Seven seas (open ocean)\",\"JC10\"],[\"Seven seas (open ocean)\",\"JC20\"],[\"Seven seas (open ocean)\",\"JC30\"]]}},\"id\":\"06925a46-c260-4561-9a5f-d441ecef0ef8\",\"type\":\"ColumnDataSource\"},{\"attributes\":{\"active_drag\":\"auto\",\"active_inspect\":\"auto\",\"active_scroll\":\"auto\",\"active_tap\":\"auto\",\"tools\":[{\"id\":\"f5d1260b-7b32-46eb-a331-492940ab76c2\",\"type\":\"HoverTool\"},{\"id\":\"a55d0ff2-2c7c-40d6-b44d-dcec00802933\",\"type\":\"PanTool\"},{\"id\":\"4ae7d07e-01c0-4d2b-8682-3d63212c4ae6\",\"type\":\"WheelZoomTool\"},{\"id\":\"d4602d73-1341-428d-9939-40a718c3a4c7\",\"type\":\"SaveTool\"},{\"id\":\"3f2cfc0c-c1d9-4fb1-889b-ac7dae59d92a\",\"type\":\"ResetTool\"},{\"id\":\"e0f71abe-8d52-4852-b84c-28baa31b0657\",\"type\":\"BoxZoomTool\"}]},\"id\":\"3d6947a2-b980-4b31-898c-32f1b9e0ba69\",\"type\":\"Toolbar\"},{\"attributes\":{\"below\":[{\"id\":\"5db81eb3-992c-43df-94fa-7c4170f0daef\",\"type\":\"CategoricalAxis\"}],\"left\":[{\"id\":\"c82c725a-5f3c-4a86-8aa8-c3fb77622604\",\"type\":\"LinearAxis\"}],\"plot_height\":300,\"plot_width\":950,\"renderers\":[{\"id\":\"5db81eb3-992c-43df-94fa-7c4170f0daef\",\"type\":\"CategoricalAxis\"},{\"id\":\"1fa9f927-eed7-4295-b026-a0aa5fab012e\",\"type\":\"Grid\"},{\"id\":\"c82c725a-5f3c-4a86-8aa8-c3fb77622604\",\"type\":\"LinearAxis\"},{\"id\":\"292b04ea-4e4c-4941-b146-9781f409c163\",\"type\":\"Grid\"},{\"id\":\"ba8acc53-0913-433c-925f-9cf7573baf3a\",\"type\":\"BoxAnnotation\"},{\"id\":\"061d3970-85f4-4fbc-aed9-cb3955dc26fb\",\"type\":\"GlyphRenderer\"},{\"id\":\"9c6f4b4f-4984-4012-9c2e-09d115263597\",\"type\":\"GlyphRenderer\"},{\"id\":\"e17a3c2a-e74e-461f-b602-40cc64bfe790\",\"type\":\"GlyphRenderer\"},{\"id\":\"b52e48b8-05ec-4df0-96ad-0435e921efe2\",\"type\":\"GlyphRenderer\"},{\"id\":\"26936c51-f2be-4bc5-96bc-ce2c23e6288d\",\"type\":\"GlyphRenderer\"},{\"id\":\"5c7b0d6c-990d-436a-95ac-d6d9d1a0c2fe\",\"type\":\"GlyphRenderer\"},{\"id\":\"7e0efe7b-6c63-480b-b19f-5d0239e3c756\",\"type\":\"GlyphRenderer\"}],\"title\":{\"id\":\"c5dcc05d-10da-4fc0-a958-0978921bfe42\",\"type\":\"Title\"},\"toolbar\":{\"id\":\"c0f71af9-1941-455a-9132-131c76cf168b\",\"type\":\"Toolbar\"},\"toolbar_location\":null,\"x_range\":{\"id\":\"c4c5a8d7-4959-4fde-963f-8ccb722aaa61\",\"type\":\"FactorRange\"},\"x_scale\":{\"id\":\"5e36c982-b3a1-4b98-ba9a-f312fdd88c85\",\"type\":\"CategoricalScale\"},\"y_range\":{\"id\":\"f5462a0b-3776-4286-93c8-f16556cbcead\",\"type\":\"DataRange1d\"},\"y_scale\":{\"id\":\"484c29a1-7885-4ab4-8cc8-69fba89172a5\",\"type\":\"LinearScale\"}},\"id\":\"ce13a98b-59d8-48d4-943e-c14ad98cdf33\",\"subtype\":\"Figure\",\"type\":\"Plot\"},{\"attributes\":{\"fill_color\":{\"value\":\"#1f77b4\"},\"height\":{\"units\":\"data\",\"value\":0.001},\"width\":{\"units\":\"data\",\"value\":0.2},\"x\":{\"field\":\"x\"},\"y\":{\"field\":\"lw\"}},\"id\":\"031ca3cf-d8ee-4a36-951e-e97d6bc698de\",\"type\":\"Rect\"},{\"attributes\":{\"source\":{\"id\":\"06925a46-c260-4561-9a5f-d441ecef0ef8\",\"type\":\"ColumnDataSource\"}},\"id\":\"11e1cd49-8089-48aa-b7c1-3c15f1559cfa\",\"type\":\"CDSView\"},{\"attributes\":{\"source\":{\"id\":\"10d299b9-e18d-44f8-817e-5a174c62c378\",\"type\":\"ColumnDataSource\"}},\"id\":\"7d6ae322-e1a5-41d1-afdf-4e27726f785c\",\"type\":\"CDSView\"},{\"attributes\":{\"data_source\":{\"id\":\"06925a46-c260-4561-9a5f-d441ecef0ef8\",\"type\":\"ColumnDataSource\"},\"glyph\":{\"id\":\"49b13fc0-41b3-4b70-920b-ac25c45ffb1e\",\"type\":\"X\"},\"hover_glyph\":null,\"muted_glyph\":null,\"nonselection_glyph\":{\"id\":\"1db09b29-beb9-4463-95ea-dfcd7418b597\",\"type\":\"X\"},\"selection_glyph\":null,\"view\":{\"id\":\"5ea6c5c2-99fe-4410-8f48-a255efcb9ff9\",\"type\":\"CDSView\"}},\"id\":\"7e0efe7b-6c63-480b-b19f-5d0239e3c756\",\"type\":\"GlyphRenderer\"},{\"attributes\":{\"bottom\":{\"field\":\"q2\"},\"fill_alpha\":{\"value\":0.7},\"fill_color\":{\"value\":\"#67a9cf\"},\"top\":{\"field\":\"q3\"},\"width\":{\"value\":0.7},\"x\":{\"field\":\"x\"}},\"id\":\"3495e96e-42f9-4039-8a5b-3c069f95d635\",\"type\":\"VBar\"},{\"attributes\":{\"source\":{\"id\":\"06925a46-c260-4561-9a5f-d441ecef0ef8\",\"type\":\"ColumnDataSource\"}},\"id\":\"a73c4d29-f2f5-4dca-b9a0-b99389234dfb\",\"type\":\"CDSView\"},{\"attributes\":{\"callback\":null,\"tooltips\":[[\"Region/Class\",\"@x\"],[\"Tile\",\"@id\"],[\"JC-Score\",\"@y\"]]},\"id\":\"f5d1260b-7b32-46eb-a331-492940ab76c2\",\"type\":\"HoverTool\"},{\"attributes\":{\"callback\":null,\"tooltips\":[[\"Region/Class\",\"@x\"],[\"Q1\",\"@q1\"],[\"Q2\",\"@q2\"],[\"Q3\",\"@q3\"],[\"IQR\",\"@iqr\"],[\"lWhisker\",\"@lw\"],[\"uWhisker\",\"@uw\"],[\"Mean\",\"@means\"]]},\"id\":\"e3840ea6-8fc2-4826-9e9f-07d901d32a27\",\"type\":\"HoverTool\"},{\"attributes\":{\"range\":{\"id\":\"c4c5a8d7-4959-4fde-963f-8ccb722aaa61\",\"type\":\"FactorRange\"},\"width\":0.6},\"id\":\"42134c76-5723-4d03-9528-c5d8a6d2630f\",\"type\":\"Jitter\"},{\"attributes\":{\"dimension\":1,\"plot\":{\"id\":\"0953e14b-8a01-49fa-969c-f0db48e7f564\",\"subtype\":\"Figure\",\"type\":\"Plot\"},\"ticker\":{\"id\":\"255a3889-a502-4679-ac39-13aa17a1c929\",\"type\":\"BasicTicker\"}},\"id\":\"60848bfc-185d-42bb-bd1e-9f1e46ce9d78\",\"type\":\"Grid\"},{\"attributes\":{},\"id\":\"8a02044a-eedd-4dc7-bc94-2083ac3db60d\",\"type\":\"CategoricalTicker\"},{\"attributes\":{},\"id\":\"ab6b561f-040d-4ea4-9ab8-988e2a154991\",\"type\":\"ResetTool\"},{\"attributes\":{\"line_alpha\":{\"value\":0.1},\"line_color\":{\"value\":\"#1f77b4\"},\"x0\":{\"field\":\"x\"},\"x1\":{\"field\":\"x\"},\"y0\":{\"field\":\"lw\"},\"y1\":{\"field\":\"q1\"}},\"id\":\"01d28687-8022-487d-aa6a-853191cf0ebe\",\"type\":\"Segment\"},{\"attributes\":{\"fill_alpha\":{\"value\":0.1},\"fill_color\":{\"value\":\"#1f77b4\"},\"line_alpha\":{\"value\":0.1},\"line_color\":{\"value\":\"#1f77b4\"},\"size\":{\"units\":\"screen\",\"value\":10},\"x\":{\"field\":\"x\"},\"y\":{\"field\":\"means\"}},\"id\":\"1db09b29-beb9-4463-95ea-dfcd7418b597\",\"type\":\"X\"},{\"attributes\":{\"x0\":{\"field\":\"x\"},\"x1\":{\"field\":\"x\"},\"y0\":{\"field\":\"lw\"},\"y1\":{\"field\":\"q1\"}},\"id\":\"35df0509-f05f-4421-bee4-5dfc5a631fb2\",\"type\":\"Segment\"},{\"attributes\":{\"line_alpha\":{\"value\":0.1},\"line_color\":{\"value\":\"#1f77b4\"},\"x0\":{\"field\":\"x\"},\"x1\":{\"field\":\"x\"},\"y0\":{\"field\":\"q3\"},\"y1\":{\"field\":\"uw\"}},\"id\":\"80e75e0a-dd19-4db6-b9ff-4a28782def1b\",\"type\":\"Segment\"},{\"attributes\":{\"callback\":null,\"start\":-0.01},\"id\":\"f5462a0b-3776-4286-93c8-f16556cbcead\",\"type\":\"DataRange1d\"},{\"attributes\":{\"grid_line_color\":{\"value\":null},\"plot\":{\"id\":\"ce13a98b-59d8-48d4-943e-c14ad98cdf33\",\"subtype\":\"Figure\",\"type\":\"Plot\"},\"ticker\":{\"id\":\"f7bcc49e-307a-4d6d-8fc2-c6682e601456\",\"type\":\"CategoricalTicker\"}},\"id\":\"1fa9f927-eed7-4295-b026-a0aa5fab012e\",\"type\":\"Grid\"},{\"attributes\":{\"fill_alpha\":{\"value\":0.1},\"fill_color\":{\"value\":\"#1f77b4\"},\"height\":{\"units\":\"data\",\"value\":0.001},\"line_alpha\":{\"value\":0.1},\"line_color\":{\"value\":\"#1f77b4\"},\"width\":{\"units\":\"data\",\"value\":0.2},\"x\":{\"field\":\"x\"},\"y\":{\"field\":\"uw\"}},\"id\":\"dce13060-e643-45dc-8eee-baa7f66c54c1\",\"type\":\"Rect\"},{\"attributes\":{},\"id\":\"6667b1c6-59b2-40b4-975c-5ab7cadfb7d1\",\"type\":\"LinearScale\"},{\"attributes\":{\"data_source\":{\"id\":\"06925a46-c260-4561-9a5f-d441ecef0ef8\",\"type\":\"ColumnDataSource\"},\"glyph\":{\"id\":\"e9fe80ea-cf81-40e2-bb93-c7b2bbf0c7f3\",\"type\":\"Segment\"},\"hover_glyph\":null,\"muted_glyph\":null,\"nonselection_glyph\":{\"id\":\"80e75e0a-dd19-4db6-b9ff-4a28782def1b\",\"type\":\"Segment\"},\"selection_glyph\":null,\"view\":{\"id\":\"00832c6b-2e04-4608-85ad-b4376b898db2\",\"type\":\"CDSView\"}},\"id\":\"5c7b0d6c-990d-436a-95ac-d6d9d1a0c2fe\",\"type\":\"GlyphRenderer\"},{\"attributes\":{\"callback\":null,\"factors\":[[\"Africa\",\"JC0\"],[\"Africa\",\"JC10\"],[\"Africa\",\"JC20\"],[\"Africa\",\"JC30\"],[\"Americas\",\"JC0\"],[\"Americas\",\"JC10\"],[\"Americas\",\"JC20\"],[\"Americas\",\"JC30\"],[\"Asia\",\"JC0\"],[\"Asia\",\"JC10\"],[\"Asia\",\"JC20\"],[\"Asia\",\"JC30\"],[\"Europe\",\"JC0\"],[\"Europe\",\"JC10\"],[\"Europe\",\"JC20\"],[\"Europe\",\"JC30\"],[\"Oceania\",\"JC0\"],[\"Oceania\",\"JC10\"],[\"Oceania\",\"JC20\"],[\"Oceania\",\"JC30\"],[\"Seven seas (open ocean)\",\"JC0\"],[\"Seven seas (open ocean)\",\"JC10\"],[\"Seven seas (open ocean)\",\"JC20\"],[\"Seven seas (open ocean)\",\"JC30\"]]},\"id\":\"c4c5a8d7-4959-4fde-963f-8ccb722aaa61\",\"type\":\"FactorRange\"},{\"attributes\":{\"data_source\":{\"id\":\"10d299b9-e18d-44f8-817e-5a174c62c378\",\"type\":\"ColumnDataSource\"},\"glyph\":{\"id\":\"3e288c05-3fc8-438b-b38b-914fd7b0fe7c\",\"type\":\"X\"},\"hover_glyph\":null,\"muted_glyph\":null,\"nonselection_glyph\":{\"id\":\"49eafef4-2c1b-4330-965c-0c833ecb72b3\",\"type\":\"X\"},\"selection_glyph\":null,\"view\":{\"id\":\"7d6ae322-e1a5-41d1-afdf-4e27726f785c\",\"type\":\"CDSView\"}},\"id\":\"be7cdcc6-1192-41b5-8a1c-6896d9e1e692\",\"type\":\"GlyphRenderer\"},{\"attributes\":{\"data_source\":{\"id\":\"06925a46-c260-4561-9a5f-d441ecef0ef8\",\"type\":\"ColumnDataSource\"},\"glyph\":{\"id\":\"3495e96e-42f9-4039-8a5b-3c069f95d635\",\"type\":\"VBar\"},\"hover_glyph\":null,\"muted_glyph\":null,\"nonselection_glyph\":{\"id\":\"e49addce-89d6-452d-b3f6-4ec79473c721\",\"type\":\"VBar\"},\"selection_glyph\":null,\"view\":{\"id\":\"d6396805-9846-40c4-b07c-adf136822bee\",\"type\":\"CDSView\"}},\"id\":\"9c6f4b4f-4984-4012-9c2e-09d115263597\",\"type\":\"GlyphRenderer\"},{\"attributes\":{},\"id\":\"fefede8e-e6ab-4849-9428-0adb6237b2c1\",\"type\":\"CategoricalTickFormatter\"},{\"attributes\":{},\"id\":\"33f3fed3-255c-4358-b56b-513f477b7ffd\",\"type\":\"WheelZoomTool\"},{\"attributes\":{},\"id\":\"3f2cfc0c-c1d9-4fb1-889b-ac7dae59d92a\",\"type\":\"ResetTool\"},{\"attributes\":{},\"id\":\"3db2d41c-c85e-4d37-bd1e-df94541adca1\",\"type\":\"SaveTool\"},{\"attributes\":{\"axis_label\":\"Jaccard score\",\"formatter\":{\"id\":\"f3a7608d-e0b1-45ff-b9f6-0ea9110179ba\",\"type\":\"BasicTickFormatter\"},\"plot\":{\"id\":\"0953e14b-8a01-49fa-969c-f0db48e7f564\",\"subtype\":\"Figure\",\"type\":\"Plot\"},\"ticker\":{\"id\":\"255a3889-a502-4679-ac39-13aa17a1c929\",\"type\":\"BasicTicker\"}},\"id\":\"b28bb62f-f22c-47d7-b32a-5ffb93b23742\",\"type\":\"LinearAxis\"},{\"attributes\":{\"children\":[{\"id\":\"5ada0528-9211-4442-80bc-27c42f4288b2\",\"type\":\"ToolbarBox\"},{\"id\":\"800977e3-5987-4cca-9500-118287b3ebec\",\"type\":\"Column\"}]},\"id\":\"90a724e1-6d75-46c9-84c0-c1d3f194b26c\",\"type\":\"Column\"},{\"attributes\":{\"fill_alpha\":{\"value\":0.1},\"fill_color\":{\"value\":\"#1f77b4\"},\"line_alpha\":{\"value\":0.1},\"line_color\":{\"value\":\"#1f77b4\"},\"x\":{\"field\":\"x\",\"transform\":{\"id\":\"42134c76-5723-4d03-9528-c5d8a6d2630f\",\"type\":\"Jitter\"}},\"y\":{\"field\":\"y\"}},\"id\":\"49eafef4-2c1b-4330-965c-0c833ecb72b3\",\"type\":\"X\"},{\"attributes\":{\"bottom_units\":\"screen\",\"fill_alpha\":{\"value\":0.5},\"fill_color\":{\"value\":\"lightgrey\"},\"left_units\":\"screen\",\"level\":\"overlay\",\"line_alpha\":{\"value\":1.0},\"line_color\":{\"value\":\"black\"},\"line_dash\":[4,4],\"line_width\":{\"value\":2},\"plot\":null,\"render_mode\":\"css\",\"right_units\":\"screen\",\"top_units\":\"screen\"},\"id\":\"ba8acc53-0913-433c-925f-9cf7573baf3a\",\"type\":\"BoxAnnotation\"},{\"attributes\":{},\"id\":\"60695146-fb6d-40b9-9fb0-198cef1ed44a\",\"type\":\"PanTool\"},{\"attributes\":{\"bottom\":{\"field\":\"q1\"},\"fill_alpha\":{\"value\":0.1},\"fill_color\":{\"value\":\"#1f77b4\"},\"line_alpha\":{\"value\":0.1},\"line_color\":{\"value\":\"#1f77b4\"},\"top\":{\"field\":\"q2\"},\"width\":{\"value\":0.7},\"x\":{\"field\":\"x\"}},\"id\":\"f8fa6d43-85cb-4f3f-92a2-f53532445444\",\"type\":\"VBar\"},{\"attributes\":{\"source\":{\"id\":\"06925a46-c260-4561-9a5f-d441ecef0ef8\",\"type\":\"ColumnDataSource\"}},\"id\":\"8fa8a6d9-6ec4-4f12-a05f-5b687b84727c\",\"type\":\"CDSView\"},{\"attributes\":{\"data_source\":{\"id\":\"06925a46-c260-4561-9a5f-d441ecef0ef8\",\"type\":\"ColumnDataSource\"},\"glyph\":{\"id\":\"031ca3cf-d8ee-4a36-951e-e97d6bc698de\",\"type\":\"Rect\"},\"hover_glyph\":null,\"muted_glyph\":null,\"nonselection_glyph\":{\"id\":\"e9f45498-1622-42c8-9f34-93b8ba4c2100\",\"type\":\"Rect\"},\"selection_glyph\":null,\"view\":{\"id\":\"83ffc08b-d976-4232-a411-b7b5b851eba7\",\"type\":\"CDSView\"}},\"id\":\"e17a3c2a-e74e-461f-b602-40cc64bfe790\",\"type\":\"GlyphRenderer\"},{\"attributes\":{\"fill_color\":{\"field\":\"colors\"},\"line_color\":{\"field\":\"colors\"},\"x\":{\"field\":\"x\",\"transform\":{\"id\":\"42134c76-5723-4d03-9528-c5d8a6d2630f\",\"type\":\"Jitter\"}},\"y\":{\"field\":\"y\"}},\"id\":\"3e288c05-3fc8-438b-b38b-914fd7b0fe7c\",\"type\":\"X\"},{\"attributes\":{},\"id\":\"ae8a652f-f964-473d-9f5b-108e1234581b\",\"type\":\"BasicTickFormatter\"},{\"attributes\":{},\"id\":\"4ae7d07e-01c0-4d2b-8682-3d63212c4ae6\",\"type\":\"WheelZoomTool\"},{\"attributes\":{\"data_source\":{\"id\":\"06925a46-c260-4561-9a5f-d441ecef0ef8\",\"type\":\"ColumnDataSource\"},\"glyph\":{\"id\":\"7a9065d0-26d9-4174-9f68-e96343693fd1\",\"type\":\"Rect\"},\"hover_glyph\":null,\"muted_glyph\":null,\"nonselection_glyph\":{\"id\":\"dce13060-e643-45dc-8eee-baa7f66c54c1\",\"type\":\"Rect\"},\"selection_glyph\":null,\"view\":{\"id\":\"8fa8a6d9-6ec4-4f12-a05f-5b687b84727c\",\"type\":\"CDSView\"}},\"id\":\"b52e48b8-05ec-4df0-96ad-0435e921efe2\",\"type\":\"GlyphRenderer\"},{\"attributes\":{\"bottom\":{\"field\":\"q1\"},\"fill_alpha\":{\"value\":0.7},\"fill_color\":{\"value\":\"#f7f7f7\"},\"top\":{\"field\":\"q2\"},\"width\":{\"value\":0.7},\"x\":{\"field\":\"x\"}},\"id\":\"94a3f4c5-fd58-49c8-894a-ad9303ecc134\",\"type\":\"VBar\"},{\"attributes\":{},\"id\":\"4033f0dd-a0ce-40b6-9c9a-f0ca13a687dd\",\"type\":\"BasicTicker\"}],\"root_ids\":[\"90a724e1-6d75-46c9-84c0-c1d3f194b26c\"]},\"title\":\"Bokeh Application\",\"version\":\"0.12.13\"}};\n",
       "  var render_items = [{\"docid\":\"3972293c-30fa-487e-a9c8-ff49fa1c1527\",\"elementid\":\"16044b51-0d8e-4fe5-b409-59ba049114e9\",\"modelid\":\"90a724e1-6d75-46c9-84c0-c1d3f194b26c\"}];\n",
       "  root.Bokeh.embed.embed_items_notebook(docs_json, render_items);\n",
       "\n",
       "  }\n",
       "  if (root.Bokeh !== undefined) {\n",
       "    embed_document(root);\n",
       "  } else {\n",
       "    var attempts = 0;\n",
       "    var timer = setInterval(function(root) {\n",
       "      if (root.Bokeh !== undefined) {\n",
       "        embed_document(root);\n",
       "        clearInterval(timer);\n",
       "      }\n",
       "      attempts++;\n",
       "      if (attempts > 100) {\n",
       "        console.log(\"Bokeh: ERROR: Unable to run BokehJS code because BokehJS library is missing\")\n",
       "        clearInterval(timer);\n",
       "      }\n",
       "    }, 10, root)\n",
       "  }\n",
       "})(window);"
      ],
      "application/vnd.bokehjs_exec.v0+json": ""
     },
     "metadata": {
      "application/vnd.bokehjs_exec.v0+json": {
       "id": "90a724e1-6d75-46c9-84c0-c1d3f194b26c"
      }
     },
     "output_type": "display_data"
    }
   ],
   "source": [
    "# titel and histogram\n",
    "# scatterplot\n",
    "source = ColumnDataSource({'x': list(zip(melted.region, melted.jc_class)),\n",
    "                           'y': melted.score,\n",
    "                           'id': melted.tile,\n",
    "                           'colors': melted.colors})\n",
    "hover = HoverTool(tooltips=[('Region/Class', '@x'),\n",
    "                            ('Tile', '@id'),\n",
    "                            ('JC-Score', '@y'),])\n",
    "factors = [(reg, cls) \n",
    "           for reg in pd.unique(melted.region) \n",
    "           for cls in pd.unique(melted.jc_class)]\n",
    "\n",
    "scatter = figure(x_range=FactorRange(*factors), plot_width=950, plot_height=600,\n",
    "              tools=[hover, 'pan', 'wheel_zoom', 'save', 'reset', 'box_zoom'],\n",
    "              title=\"Jaccard score per forest cover class\")\n",
    "\n",
    "scatter.x(x=jitter('x', width=0.6, range=scatter.x_range), y='y', color='colors', source=source)\n",
    "\n",
    "scatter.xgrid.grid_line_color = None\n",
    "scatter.xaxis.axis_label = \"Region/Class\"\n",
    "scatter.yaxis.axis_label = \"Jaccard score\"\n",
    "scatter.y_range.start = -0.01\n",
    "\n",
    "# boxplot\n",
    "source = ColumnDataSource({'x': list(zip(box.region, box.index)),\n",
    "                           'q1': box.q1,\n",
    "                           'q2': box.q2,\n",
    "                           'q3': box.q3,\n",
    "                           'iqr': box.iqr,\n",
    "                           'lw': box.min_whisker,\n",
    "                           'uw': box.max_whisker,\n",
    "                           'means': box.means})\n",
    "hover = HoverTool(tooltips=[(\"Region/Class\", \"@x\"),\n",
    "                            (\"Q1\", \"@q1\"),\n",
    "                            (\"Q2\", \"@q2\"),\n",
    "                            (\"Q3\", \"@q3\"),\n",
    "                            (\"IQR\", \"@iqr\"),\n",
    "                            (\"lWhisker\", \"@lw\"),\n",
    "                            (\"uWhisker\", \"@uw\"),\n",
    "                            (\"Mean\", \"@means\"),])\n",
    "\n",
    "plot = figure(x_range=scatter.x_range, y_range=scatter.y_range,\n",
    "              plot_width=950, plot_height=300,\n",
    "              tools=[hover, 'pan', 'wheel_zoom', 'save', 'reset', 'box_zoom'])\n",
    "\n",
    "# box\n",
    "plot.vbar(x='x', width=0.7, bottom='q1', top='q2',\n",
    "          line_color='black', fill_color='#f7f7f7', fill_alpha=0.7, source=source)\n",
    "plot.vbar(x='x', width=0.7, bottom='q2', top='q3',\n",
    "          line_color='black', fill_color='#67a9cf', fill_alpha=0.7, source=source)\n",
    "\n",
    "# whiskers\n",
    "plot.rect(x='x', y='lw', width=0.2, height=0.001,\n",
    "          line_color=\"black\", source=source)\n",
    "plot.rect(x='x', y='uw', width=0.2, height=0.001,\n",
    "          line_color=\"black\", source=source)\n",
    "\n",
    "# stems\n",
    "plot.segment(x0='x', y0='lw', x1='x', y1='q1',\n",
    "             line_color='black', source=source)\n",
    "plot.segment(x0='x', y0='q3', x1='x', y1='uw',\n",
    "             color='black', source=source)\n",
    "\n",
    "# mean cross\n",
    "plot.x(x='x', y='means', color='#ef8a62', size=10, source=source)\n",
    "\n",
    "plot.xgrid.grid_line_color = None\n",
    "plot.xaxis.axis_label = \"Region/Class\"\n",
    "plot.yaxis.axis_label = \"Jaccard score\"\n",
    "plot.y_range.start = -0.01\n",
    "\n",
    "# display plots\n",
    "show(gridplot([[scatter],[plot]]))"
   ]
  },
  {
   "cell_type": "markdown",
   "metadata": {},
   "source": [
    "# Discussion"
   ]
  },
  {
   "cell_type": "markdown",
   "metadata": {},
   "source": [
    "# References\n",
    "\n",
    "[<a id=\"cit-Hansen2013\" href=\"#call-Hansen2013\">1</a>] C. M., V. P., Moore R. <em>et al.</em>, ``_High-Resolution Global Maps of 21st-Century Forest Cover Change_'', Science, vol. 342, number 6160, pp. 850--853, November 2013.\n",
    "\n",
    "[<a id=\"cit-Li2017\" href=\"#call-Li2017\">2</a>] Li Yan, Sulla-Menashe Damien, Motesharrei Safa <em>et al.</em>, ``_Inconsistent estimates of forest cover change in China between 2000 and 2013 from multiple datasets: differences in parameters, spatial resolution, and definitions_'', Scientific Reports, vol. 7, number 8748, pp. , August 2017.\n",
    "\n",
    "[<a id=\"cit-Hansen2013a\" href=\"#call-Hansen2013a\">3</a>] C. M., V. P., Moore R. <em>et al.</em>, ``_Supplementary Materials for: High-Resolution Global Maps of 21st-Century Forest Cover Change_'', Sciene, vol. 342, number 6160, pp. 1--32, November 2013.  [online](http://science.sciencemag.org/content/suppl/2013/11/14/342.6160.850.DC1)\n",
    "\n",
    "[<a id=\"cit-Tropek2014\" href=\"#call-Tropek2014\">4</a>] Tropek Robert, Sedl{\\'{a}}{\\v{c}}ek Ond{\\v{r}}ej, Beck Jan <em>et al.</em>, ``_Comment on High-resolution global maps of 21st-century forest cover change_'', Science, vol. 344, number 981, pp. ,  2014.\n",
    "\n",
    "[<a id=\"cit-Bellot2014\" href=\"#call-Bellot2014\">5</a>] Bellot Franz-Fabian, Bertram Mathias, Navratilb Peter <em>et al.</em>, ``_The high-resolution global map of 21st-century forest cover change from the University of Maryland (Hansen Map) is hugely overestimating deforestation in Indonesia_'', FORCLIME Press release, vol. , number , pp. ,  2014.  [online](http://www.forclime.org/documents/press_release/FORCLIME_Overestimation%20of%20Deforestation.pdf)\n",
    "\n",
    "[<a id=\"cit-Li2017a\" href=\"#call-Li2017a\">6</a>] Li Yan, Sulla-Menashe Damien, Motesharrei Safa <em>et al.</em>, ``_Supplementary Information for Inconsistent estimates of forest cover change in China between 2000 and 2013 from multiple datasets_'', Scientific reports, vol. 7, number 8748, pp. , August 2017.\n",
    "\n"
   ]
  }
 ],
 "metadata": {
  "kernelspec": {
   "display_name": "Python 3",
   "language": "python",
   "name": "python3"
  },
  "language_info": {
   "codemirror_mode": {
    "name": "ipython",
    "version": 3
   },
   "file_extension": ".py",
   "mimetype": "text/x-python",
   "name": "python",
   "nbconvert_exporter": "python",
   "pygments_lexer": "ipython3",
   "version": "3.5.2"
  },
  "latex_envs": {
   "LaTeX_envs_menu_present": true,
   "autocomplete": true,
   "bibliofile": "lit.bib",
   "cite_by": "number",
   "current_citInitial": 1,
   "eqLabelWithNumbers": true,
   "eqNumInitial": 1,
   "hotkeys": {
    "equation": "Ctrl-E",
    "itemize": "Ctrl-I"
   },
   "labels_anchors": false,
   "latex_user_defs": false,
   "report_style_numbering": false,
   "user_envs_cfg": false
  },
  "toc": {
   "nav_menu": {},
   "number_sections": true,
   "sideBar": true,
   "skip_h1_title": false,
   "toc_cell": false,
   "toc_position": {},
   "toc_section_display": "block",
   "toc_window_display": false
  }
 },
 "nbformat": 4,
 "nbformat_minor": 2
}
