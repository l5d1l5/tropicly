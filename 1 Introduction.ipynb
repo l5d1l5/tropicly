{
 "cells": [
  {
   "cell_type": "markdown",
   "metadata": {},
   "source": [
    "# Introduction\n",
    "This notebook serves as a short briefing how you should use the following notebooks and which requirements the machine where you execute this notebooks should fulfill. Moreover, a short overview on the content of each proceeding notebook is provided.\n",
    "\n",
    "The whole processing pipeline over the entire notebooks represent the approach to process the data which is discussed in my master thesis. Furthermore, the explanations and descriptions in each notebook are equal to the content of my master thesis particularly the sections Data and Methodology as well as Results. Indeed the following notebooks are my master thesis, so that you have the choice between passively reading a book alike document or interactively discovering my evolved approach and exploring the results by yourself.\n",
    "\n",
    "- explain notebooks sorted in increasing order (numbers)\n",
    "- follow this numbers and they ordered accordingly to master thesis sections\n",
    "- warn don't use a arbitrary order cause execution will fail\n",
    "- requirements fast web access, fast machine, python version, os independent, required libraries \n",
    "- latter link each notebook and shortly describe the content of it \n",
    "\n",
    "## Requirements\n",
    "As first you have to ensure that a instance of *Python 3.5* is installed on your machine. As next, the processing pipeline of this project requires several packages which are not provided by the standard library. Therefore, these packages must be installed which is most convenient with `pip install <package-name>`. Hence, you must install the following packages:\n",
    "- **geopandas**\n",
    "- **rasterio**\n",
    "- **fiona**\n",
    "- **shapely**\n",
    "- **pyproj**\n",
    "- **gdal**"
   ]
  }
 ],
 "metadata": {
  "kernelspec": {
   "display_name": "Python 3",
   "language": "python",
   "name": "python3"
  },
  "language_info": {
   "codemirror_mode": {
    "name": "ipython",
    "version": 3
   },
   "file_extension": ".py",
   "mimetype": "text/x-python",
   "name": "python",
   "nbconvert_exporter": "python",
   "pygments_lexer": "ipython3",
   "version": "3.5.2"
  },
  "toc": {
   "nav_menu": {},
   "number_sections": true,
   "sideBar": true,
   "skip_h1_title": false,
   "toc_cell": false,
   "toc_position": {},
   "toc_section_display": "block",
   "toc_window_display": false
  }
 },
 "nbformat": 4,
 "nbformat_minor": 2
}
