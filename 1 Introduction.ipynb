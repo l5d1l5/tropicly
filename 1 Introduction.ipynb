{
 "cells": [
  {
   "cell_type": "markdown",
   "metadata": {},
   "source": [
    "# Introduction\n",
    "This notebook serves as a short briefing how you should use the following notebooks and which [prerequisites](#Prerequisites) the machine where you execute this notebooks should fulfill. Moreover, a short overview of the content of each proceeding notebook is provided.\n",
    "\n",
    "The whole processing pipeline over the entire notebooks represent the approach to process the data which is discussed in my master thesis. Furthermore, the explanations and descriptions in each notebook are equal to the content of my master thesis particularly the sections Data and Methodology as well as Results. Indeed the following notebooks are my master thesis, so that you have the choice between passively reading a book alike document or interactively discovering my evolved approach and exploring the results by yourself.\n",
    "\n",
    "You should read as well as execute the notebooks labeled by increasing numbers in the suggested order. If you refuse to follow this suggestion, I can not ensure that the processing pipeline executes in the supposed manner. Commonly, you must execute the code cells top-down in each notebook but the proper usage is described in each notebook. Eventually, the entire processing pipeline encompass the following notebooks:\n",
    "\n",
    "[**2 Data acquisition**](2 Data acquisition.ipynb) provides the download of several datasets  which are required for the processing pipeline. Furthermore, this notebook offer a comprehensive explanation on each dataset and points out the pivotal roll in the processing pipeline. After, you successfully accomplished this section, your local machine stores the necessary data properly prepared for the further processing and you may proceed with the next section. \n",
    "\n",
    "[**3 Preprocessing**](3 Preprocessing.ipynb) <font style=\"color:red;\">**work in progress**</font> this section comprises my approach in order to prepare the downloaded data for the processing. During, this notebook data is reprojected, merges selected and so on... <- finish code and summarize \n",
    "\n",
    "[**4 Processing**]() <font style=\"color:red;\">**Not done yet**</font>\n",
    "\n",
    "[**5 Analysis**]() <font style=\"color:red;\">**Not done yet**</font>\n",
    "\n",
    "[**6 Results**]() <font style=\"color:red;\">**Not done yet**</font>\n",
    "\n",
    "## Prerequisites\n",
    "<font style=\"color:red;\">**improve explanation include sys libraries like gdal etc.**</font>\n",
    "For convenience these *Jupyter* notebooks uses several extensions from the repository [*nbextensions*](https://github.com/ipython-contrib/jupyter_contrib_nbextensions/) on *Github*. Please, follow carefully the provided installation instructions, and subsequently activate the support of *LaTeX* environments for *Jupyter* and the table of contents extension in the *nbextensions* configuration overview. Further, it should be mentioned that the *LaTeX* environment support for *Jupyter* requires a pre-installed *LaTeX* runtime environment. Hence, you must install your preferred *LaTeX* runtime, if you want to have a  convenient formatted bibliography in each notebook.   \n",
    "\n",
    "In order to attain a successful execution of the processing pipeline you must ensure that a installation of  *Python 3.5* or later is available on your local machine. Indeed, the entire code of this processing pipeline is written OS independent in order to execute it similarly on *Linux*, *Windows* or *MacOS*, so you must not care about compatibility issues. As next, the processing pipeline of this project requires several packages which are not provided by the standard library. Therefore, these packages must be installed which is most convenient with the provided [*requirements.txt*](requirements.txt) file and the command `pip install -r <path-to-requirements-file>`. Eventually, you must install the following packages by yourself if you decline to use the requirements file:\n",
    "- **geopandas**\n",
    "- **rasterio**\n",
    "- **fiona**\n",
    "- **shapely**\n",
    "- **pyproj**\n",
    "- **gdal**\n",
    "- **matplotlib**\n",
    "- **numpy**\n",
    "- **ipyleaflet**\n",
    "- **pandas**\n",
    "\n",
    "<font style=\"color:red;\">**Provide time duration required on a example machine mention hardware specification of example machine! Update size download in case the section acquisition is ready and total processing space**</font>\n",
    "After, you successfully installed the required software, I want to mention some hardware prerequisites. Your local machine needs a fast access to the web as well as a lot of hard disk space because around **...** GB of data will be downloaded from the following notebooks and the output of the data processing consumes another **...** GB. Furthermore, your computer should have at least 8 GB RAM and a modern multi-core CPU would be helpful too.  As an example the following Laptop needs around ... for the entire processing pipeline:\n",
    "- Samsung RF511\n",
    "- Intel Core i5-2410M CPU 2.30 GHz\n",
    "- 8 GB RAM\n",
    "- Samsung SSD 750 EVO"
   ]
  }
 ],
 "metadata": {
  "kernelspec": {
   "display_name": "Python 3",
   "language": "python",
   "name": "python3"
  },
  "language_info": {
   "codemirror_mode": {
    "name": "ipython",
    "version": 3
   },
   "file_extension": ".py",
   "mimetype": "text/x-python",
   "name": "python",
   "nbconvert_exporter": "python",
   "pygments_lexer": "ipython3",
   "version": "3.5.2"
  },
  "latex_envs": {
   "LaTeX_envs_menu_present": true,
   "autocomplete": true,
   "bibliofile": "lit.bib",
   "cite_by": "number",
   "current_citInitial": 1,
   "eqLabelWithNumbers": true,
   "eqNumInitial": 1,
   "hotkeys": {
    "equation": "Ctrl-E",
    "itemize": "Ctrl-I"
   },
   "labels_anchors": false,
   "latex_user_defs": false,
   "report_style_numbering": false,
   "user_envs_cfg": false
  },
  "toc": {
   "nav_menu": {},
   "number_sections": true,
   "sideBar": true,
   "skip_h1_title": false,
   "toc_cell": false,
   "toc_position": {},
   "toc_section_display": "block",
   "toc_window_display": false
  }
 },
 "nbformat": 4,
 "nbformat_minor": 2
}
